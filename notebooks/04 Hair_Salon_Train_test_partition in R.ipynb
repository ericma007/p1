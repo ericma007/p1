{
 "cells": [
  {
   "cell_type": "markdown",
   "metadata": {},
   "source": [
    "# Subsetting the dataset into Test and Train"
   ]
  },
  {
   "cell_type": "code",
   "execution_count": 4,
   "metadata": {},
   "outputs": [
    {
     "name": "stderr",
     "output_type": "stream",
     "text": [
      "Loading required package: DBI\n",
      "Loading required package: RSQLite\n",
      "\n",
      "Attaching package: 'dplyr'\n",
      "\n",
      "The following objects are masked from 'package:stats':\n",
      "\n",
      "    filter, lag\n",
      "\n",
      "The following objects are masked from 'package:base':\n",
      "\n",
      "    intersect, setdiff, setequal, union\n",
      "\n",
      "Loading required package: imbalance\n",
      "Loading required package: ROSE\n",
      "Loaded ROSE 0.0-3\n",
      "\n"
     ]
    }
   ],
   "source": [
    "if(!require(DBI)){install.packages(\"DBI\"); require(DBI)}\n",
    "if(!require(RSQLite)){install.packages(\"RSQLite\"); require(RSQLite)}\n",
    "library(dplyr)\n",
    "library(stringr)\n",
    "if(!require(imbalance)){install.packages(\"imbalance\");require(imbalance)}\n",
    "if(!require(ROSE)){install.packages(\"ROSE\");require(ROSE)}"
   ]
  },
  {
   "cell_type": "code",
   "execution_count": 5,
   "metadata": {},
   "outputs": [],
   "source": [
    "DATA_PATH = \"C:/Users/moshe/Documents/projectML/p1/data/raw/\"\n",
    "DB_FILE = paste0(DATA_PATH,\"/hairsalon.db\") \n",
    "#### Read function to import data from the SQL to a  dataframe.\n",
    "readSQL <- function(query, db=DB_FILE) {\n",
    "    require(DBI)\n",
    "    require(RSQLite)\n",
    "    con <- dbConnect(SQLite(), DB_FILE)\n",
    "    df <- dbGetQuery(con, query)\n",
    "    return(df)\n",
    "}\n",
    "writeSQL <- function(df,tablename,db=DB_FILE) {\n",
    "    require(DBI)\n",
    "    require(RSQLite)\n",
    "    con <- dbConnect(SQLite(), DB_FILE)\n",
    "    found <- dbExistsTable(con, tablename)\n",
    "    if (found) {\n",
    "        dbRemoveTable(con, tablename)\n",
    "    }\n",
    "    dbWriteTable(con,tablename,df)\n",
    "}"
   ]
  },
  {
   "cell_type": "code",
   "execution_count": 6,
   "metadata": {},
   "outputs": [
    {
     "data": {
      "text/html": [
       "'\"noshowflag\",\"firstapp\",\"multipleappt\",\"previousnoshow\",\"svcavg\",\"lastsvcavg\",\"x0_wkday_1.0_hour_10.0\",\"x0_wkday_1.0_hour_8.0\",\"x0_wkday_3.0_hour_14.0\",\"x0_wkday_4.0_hour_10.0\",\"x0_wkday_4.0_hour_9.0\",\"x0_wkday_5.0_hour_14.0\",\"x1_COLOR\",\"x1_STYLE\",\"x2_CBAL\",\"x2_CDPB\",\"x2_CHLPL\",\"x2_CON\",\"x2_FRI\",\"x2_SBD\",\"x2_SHCW\",\"x3_BECKY\",\"x3_KELLY\",\"x3_SINEAD\",\"x4_JJ\",\"x4_KELLY\",\"x5_lastappt31-45\",\"x7_last60dlatecancel-1\",\"x8_last60regcancel-0\",\"x9_10.0\",\"x9_12.0\",\"x10_5.0\",\"x10_6.0\",\"x11_2.0\",\"x11_3.0\",\"x13_1.0\",\"x13_5.0\",\"last60dbillamt01\",\"last60dcolor01\",\"last60dproduct01\"'"
      ],
      "text/latex": [
       "'\"noshowflag\",\"firstapp\",\"multipleappt\",\"previousnoshow\",\"svcavg\",\"lastsvcavg\",\"x0\\_wkday\\_1.0\\_hour\\_10.0\",\"x0\\_wkday\\_1.0\\_hour\\_8.0\",\"x0\\_wkday\\_3.0\\_hour\\_14.0\",\"x0\\_wkday\\_4.0\\_hour\\_10.0\",\"x0\\_wkday\\_4.0\\_hour\\_9.0\",\"x0\\_wkday\\_5.0\\_hour\\_14.0\",\"x1\\_COLOR\",\"x1\\_STYLE\",\"x2\\_CBAL\",\"x2\\_CDPB\",\"x2\\_CHLPL\",\"x2\\_CON\",\"x2\\_FRI\",\"x2\\_SBD\",\"x2\\_SHCW\",\"x3\\_BECKY\",\"x3\\_KELLY\",\"x3\\_SINEAD\",\"x4\\_JJ\",\"x4\\_KELLY\",\"x5\\_lastappt31-45\",\"x7\\_last60dlatecancel-1\",\"x8\\_last60regcancel-0\",\"x9\\_10.0\",\"x9\\_12.0\",\"x10\\_5.0\",\"x10\\_6.0\",\"x11\\_2.0\",\"x11\\_3.0\",\"x13\\_1.0\",\"x13\\_5.0\",\"last60dbillamt01\",\"last60dcolor01\",\"last60dproduct01\"'"
      ],
      "text/markdown": [
       "'\"noshowflag\",\"firstapp\",\"multipleappt\",\"previousnoshow\",\"svcavg\",\"lastsvcavg\",\"x0_wkday_1.0_hour_10.0\",\"x0_wkday_1.0_hour_8.0\",\"x0_wkday_3.0_hour_14.0\",\"x0_wkday_4.0_hour_10.0\",\"x0_wkday_4.0_hour_9.0\",\"x0_wkday_5.0_hour_14.0\",\"x1_COLOR\",\"x1_STYLE\",\"x2_CBAL\",\"x2_CDPB\",\"x2_CHLPL\",\"x2_CON\",\"x2_FRI\",\"x2_SBD\",\"x2_SHCW\",\"x3_BECKY\",\"x3_KELLY\",\"x3_SINEAD\",\"x4_JJ\",\"x4_KELLY\",\"x5_lastappt31-45\",\"x7_last60dlatecancel-1\",\"x8_last60regcancel-0\",\"x9_10.0\",\"x9_12.0\",\"x10_5.0\",\"x10_6.0\",\"x11_2.0\",\"x11_3.0\",\"x13_1.0\",\"x13_5.0\",\"last60dbillamt01\",\"last60dcolor01\",\"last60dproduct01\"'"
      ],
      "text/plain": [
       "[1] \"\\\"noshowflag\\\",\\\"firstapp\\\",\\\"multipleappt\\\",\\\"previousnoshow\\\",\\\"svcavg\\\",\\\"lastsvcavg\\\",\\\"x0_wkday_1.0_hour_10.0\\\",\\\"x0_wkday_1.0_hour_8.0\\\",\\\"x0_wkday_3.0_hour_14.0\\\",\\\"x0_wkday_4.0_hour_10.0\\\",\\\"x0_wkday_4.0_hour_9.0\\\",\\\"x0_wkday_5.0_hour_14.0\\\",\\\"x1_COLOR\\\",\\\"x1_STYLE\\\",\\\"x2_CBAL\\\",\\\"x2_CDPB\\\",\\\"x2_CHLPL\\\",\\\"x2_CON\\\",\\\"x2_FRI\\\",\\\"x2_SBD\\\",\\\"x2_SHCW\\\",\\\"x3_BECKY\\\",\\\"x3_KELLY\\\",\\\"x3_SINEAD\\\",\\\"x4_JJ\\\",\\\"x4_KELLY\\\",\\\"x5_lastappt31-45\\\",\\\"x7_last60dlatecancel-1\\\",\\\"x8_last60regcancel-0\\\",\\\"x9_10.0\\\",\\\"x9_12.0\\\",\\\"x10_5.0\\\",\\\"x10_6.0\\\",\\\"x11_2.0\\\",\\\"x11_3.0\\\",\\\"x13_1.0\\\",\\\"x13_5.0\\\",\\\"last60dbillamt01\\\",\\\"last60dcolor01\\\",\\\"last60dproduct01\\\"\""
      ]
     },
     "metadata": {},
     "output_type": "display_data"
    }
   ],
   "source": [
    "filepath <- \"C:/Users/moshe/Documents/projectML/p1/data/interim/selectedfeatures.csv\"\n",
    "l <- read.csv(file=filepath,header = T)\n",
    "l <- paste(l[['Variable']],collapse = \"\\\",\\\"\")\n",
    "l <-paste(\"\\\"noshowflag\",l,sep=\"\\\",\\\"\",collapse=\"\")\n",
    "selectedfeatures <- paste(l,\"\\\"\",sep=\"\")\n",
    "selectedfeatures"
   ]
  },
  {
   "cell_type": "code",
   "execution_count": 7,
   "metadata": {},
   "outputs": [
    {
     "data": {
      "text/html": [
       "<span style=white-space:pre-wrap>'SELECT  \"noshowflag\",\"firstapp\",\"multipleappt\",\"previousnoshow\",\"svcavg\",\"lastsvcavg\",\"x0_wkday_1.0_hour_10.0\",\"x0_wkday_1.0_hour_8.0\",\"x0_wkday_3.0_hour_14.0\",\"x0_wkday_4.0_hour_10.0\",\"x0_wkday_4.0_hour_9.0\",\"x0_wkday_5.0_hour_14.0\",\"x1_COLOR\",\"x1_STYLE\",\"x2_CBAL\",\"x2_CDPB\",\"x2_CHLPL\",\"x2_CON\",\"x2_FRI\",\"x2_SBD\",\"x2_SHCW\",\"x3_BECKY\",\"x3_KELLY\",\"x3_SINEAD\",\"x4_JJ\",\"x4_KELLY\",\"x5_lastappt31-45\",\"x7_last60dlatecancel-1\",\"x8_last60regcancel-0\",\"x9_10.0\",\"x9_12.0\",\"x10_5.0\",\"x10_6.0\",\"x11_2.0\",\"x11_3.0\",\"x13_1.0\",\"x13_5.0\",\"last60dbillamt01\",\"last60dcolor01\",\"last60dproduct01\"  FROM finalbooking'</span>"
      ],
      "text/latex": [
       "'SELECT  \"noshowflag\",\"firstapp\",\"multipleappt\",\"previousnoshow\",\"svcavg\",\"lastsvcavg\",\"x0\\_wkday\\_1.0\\_hour\\_10.0\",\"x0\\_wkday\\_1.0\\_hour\\_8.0\",\"x0\\_wkday\\_3.0\\_hour\\_14.0\",\"x0\\_wkday\\_4.0\\_hour\\_10.0\",\"x0\\_wkday\\_4.0\\_hour\\_9.0\",\"x0\\_wkday\\_5.0\\_hour\\_14.0\",\"x1\\_COLOR\",\"x1\\_STYLE\",\"x2\\_CBAL\",\"x2\\_CDPB\",\"x2\\_CHLPL\",\"x2\\_CON\",\"x2\\_FRI\",\"x2\\_SBD\",\"x2\\_SHCW\",\"x3\\_BECKY\",\"x3\\_KELLY\",\"x3\\_SINEAD\",\"x4\\_JJ\",\"x4\\_KELLY\",\"x5\\_lastappt31-45\",\"x7\\_last60dlatecancel-1\",\"x8\\_last60regcancel-0\",\"x9\\_10.0\",\"x9\\_12.0\",\"x10\\_5.0\",\"x10\\_6.0\",\"x11\\_2.0\",\"x11\\_3.0\",\"x13\\_1.0\",\"x13\\_5.0\",\"last60dbillamt01\",\"last60dcolor01\",\"last60dproduct01\"  FROM finalbooking'"
      ],
      "text/markdown": [
       "<span style=white-space:pre-wrap>'SELECT  \"noshowflag\",\"firstapp\",\"multipleappt\",\"previousnoshow\",\"svcavg\",\"lastsvcavg\",\"x0_wkday_1.0_hour_10.0\",\"x0_wkday_1.0_hour_8.0\",\"x0_wkday_3.0_hour_14.0\",\"x0_wkday_4.0_hour_10.0\",\"x0_wkday_4.0_hour_9.0\",\"x0_wkday_5.0_hour_14.0\",\"x1_COLOR\",\"x1_STYLE\",\"x2_CBAL\",\"x2_CDPB\",\"x2_CHLPL\",\"x2_CON\",\"x2_FRI\",\"x2_SBD\",\"x2_SHCW\",\"x3_BECKY\",\"x3_KELLY\",\"x3_SINEAD\",\"x4_JJ\",\"x4_KELLY\",\"x5_lastappt31-45\",\"x7_last60dlatecancel-1\",\"x8_last60regcancel-0\",\"x9_10.0\",\"x9_12.0\",\"x10_5.0\",\"x10_6.0\",\"x11_2.0\",\"x11_3.0\",\"x13_1.0\",\"x13_5.0\",\"last60dbillamt01\",\"last60dcolor01\",\"last60dproduct01\"  FROM finalbooking'</span>"
      ],
      "text/plain": [
       "[1] \"SELECT  \\\"noshowflag\\\",\\\"firstapp\\\",\\\"multipleappt\\\",\\\"previousnoshow\\\",\\\"svcavg\\\",\\\"lastsvcavg\\\",\\\"x0_wkday_1.0_hour_10.0\\\",\\\"x0_wkday_1.0_hour_8.0\\\",\\\"x0_wkday_3.0_hour_14.0\\\",\\\"x0_wkday_4.0_hour_10.0\\\",\\\"x0_wkday_4.0_hour_9.0\\\",\\\"x0_wkday_5.0_hour_14.0\\\",\\\"x1_COLOR\\\",\\\"x1_STYLE\\\",\\\"x2_CBAL\\\",\\\"x2_CDPB\\\",\\\"x2_CHLPL\\\",\\\"x2_CON\\\",\\\"x2_FRI\\\",\\\"x2_SBD\\\",\\\"x2_SHCW\\\",\\\"x3_BECKY\\\",\\\"x3_KELLY\\\",\\\"x3_SINEAD\\\",\\\"x4_JJ\\\",\\\"x4_KELLY\\\",\\\"x5_lastappt31-45\\\",\\\"x7_last60dlatecancel-1\\\",\\\"x8_last60regcancel-0\\\",\\\"x9_10.0\\\",\\\"x9_12.0\\\",\\\"x10_5.0\\\",\\\"x10_6.0\\\",\\\"x11_2.0\\\",\\\"x11_3.0\\\",\\\"x13_1.0\\\",\\\"x13_5.0\\\",\\\"last60dbillamt01\\\",\\\"last60dcolor01\\\",\\\"last60dproduct01\\\"  FROM finalbooking\""
      ]
     },
     "metadata": {},
     "output_type": "display_data"
    },
    {
     "data": {
      "text/html": [
       "<table>\n",
       "<thead><tr><th scope=col>noshowflag</th><th scope=col>firstapp</th><th scope=col>multipleappt</th><th scope=col>previousnoshow</th><th scope=col>svcavg</th><th scope=col>lastsvcavg</th><th scope=col>x0_wkday_1.0_hour_10.0</th><th scope=col>x0_wkday_1.0_hour_8.0</th><th scope=col>x0_wkday_3.0_hour_14.0</th><th scope=col>x0_wkday_4.0_hour_10.0</th><th scope=col>...</th><th scope=col>x9_12.0</th><th scope=col>x10_5.0</th><th scope=col>x10_6.0</th><th scope=col>x11_2.0</th><th scope=col>x11_3.0</th><th scope=col>x13_1.0</th><th scope=col>x13_5.0</th><th scope=col>last60dbillamt01</th><th scope=col>last60dcolor01</th><th scope=col>last60dproduct01</th></tr></thead>\n",
       "<tbody>\n",
       "\t<tr><td>1        </td><td>1        </td><td>0        </td><td>0        </td><td>-19.02128</td><td>0        </td><td>0        </td><td>0        </td><td>0        </td><td>0        </td><td>...      </td><td>0        </td><td>0        </td><td>0        </td><td>0        </td><td>0        </td><td>0        </td><td>0        </td><td>0        </td><td>0        </td><td>0        </td></tr>\n",
       "\t<tr><td>1        </td><td>1        </td><td>0        </td><td>0        </td><td> 44.71925</td><td>0        </td><td>0        </td><td>0        </td><td>0        </td><td>0        </td><td>...      </td><td>0        </td><td>0        </td><td>0        </td><td>0        </td><td>0        </td><td>0        </td><td>0        </td><td>0        </td><td>0        </td><td>0        </td></tr>\n",
       "\t<tr><td>0        </td><td>1        </td><td>0        </td><td>0        </td><td> 77.45883</td><td>0        </td><td>0        </td><td>0        </td><td>1        </td><td>0        </td><td>...      </td><td>0        </td><td>0        </td><td>0        </td><td>0        </td><td>0        </td><td>0        </td><td>0        </td><td>0        </td><td>0        </td><td>0        </td></tr>\n",
       "\t<tr><td>0        </td><td>1        </td><td>0        </td><td>0        </td><td> 77.45883</td><td>0        </td><td>0        </td><td>0        </td><td>0        </td><td>0        </td><td>...      </td><td>0        </td><td>0        </td><td>0        </td><td>0        </td><td>0        </td><td>0        </td><td>0        </td><td>0        </td><td>0        </td><td>0        </td></tr>\n",
       "\t<tr><td>0        </td><td>1        </td><td>0        </td><td>0        </td><td> 44.71925</td><td>0        </td><td>0        </td><td>0        </td><td>0        </td><td>0        </td><td>...      </td><td>0        </td><td>0        </td><td>0        </td><td>0        </td><td>0        </td><td>0        </td><td>0        </td><td>0        </td><td>0        </td><td>0        </td></tr>\n",
       "\t<tr><td>0        </td><td>1        </td><td>1        </td><td>0        </td><td> 44.71925</td><td>0        </td><td>0        </td><td>0        </td><td>0        </td><td>0        </td><td>...      </td><td>1        </td><td>0        </td><td>0        </td><td>0        </td><td>0        </td><td>0        </td><td>0        </td><td>0        </td><td>0        </td><td>0        </td></tr>\n",
       "</tbody>\n",
       "</table>\n"
      ],
      "text/latex": [
       "\\begin{tabular}{r|llllllllllllllllllllllllllllllllllllllll}\n",
       " noshowflag & firstapp & multipleappt & previousnoshow & svcavg & lastsvcavg & x0\\_wkday\\_1.0\\_hour\\_10.0 & x0\\_wkday\\_1.0\\_hour\\_8.0 & x0\\_wkday\\_3.0\\_hour\\_14.0 & x0\\_wkday\\_4.0\\_hour\\_10.0 & ... & x9\\_12.0 & x10\\_5.0 & x10\\_6.0 & x11\\_2.0 & x11\\_3.0 & x13\\_1.0 & x13\\_5.0 & last60dbillamt01 & last60dcolor01 & last60dproduct01\\\\\n",
       "\\hline\n",
       "\t 1         & 1         & 0         & 0         & -19.02128 & 0         & 0         & 0         & 0         & 0         & ...       & 0         & 0         & 0         & 0         & 0         & 0         & 0         & 0         & 0         & 0        \\\\\n",
       "\t 1         & 1         & 0         & 0         &  44.71925 & 0         & 0         & 0         & 0         & 0         & ...       & 0         & 0         & 0         & 0         & 0         & 0         & 0         & 0         & 0         & 0        \\\\\n",
       "\t 0         & 1         & 0         & 0         &  77.45883 & 0         & 0         & 0         & 1         & 0         & ...       & 0         & 0         & 0         & 0         & 0         & 0         & 0         & 0         & 0         & 0        \\\\\n",
       "\t 0         & 1         & 0         & 0         &  77.45883 & 0         & 0         & 0         & 0         & 0         & ...       & 0         & 0         & 0         & 0         & 0         & 0         & 0         & 0         & 0         & 0        \\\\\n",
       "\t 0         & 1         & 0         & 0         &  44.71925 & 0         & 0         & 0         & 0         & 0         & ...       & 0         & 0         & 0         & 0         & 0         & 0         & 0         & 0         & 0         & 0        \\\\\n",
       "\t 0         & 1         & 1         & 0         &  44.71925 & 0         & 0         & 0         & 0         & 0         & ...       & 1         & 0         & 0         & 0         & 0         & 0         & 0         & 0         & 0         & 0        \\\\\n",
       "\\end{tabular}\n"
      ],
      "text/markdown": [
       "\n",
       "| noshowflag | firstapp | multipleappt | previousnoshow | svcavg | lastsvcavg | x0_wkday_1.0_hour_10.0 | x0_wkday_1.0_hour_8.0 | x0_wkday_3.0_hour_14.0 | x0_wkday_4.0_hour_10.0 | ... | x9_12.0 | x10_5.0 | x10_6.0 | x11_2.0 | x11_3.0 | x13_1.0 | x13_5.0 | last60dbillamt01 | last60dcolor01 | last60dproduct01 |\n",
       "|---|---|---|---|---|---|---|---|---|---|---|---|---|---|---|---|---|---|---|---|---|\n",
       "| 1         | 1         | 0         | 0         | -19.02128 | 0         | 0         | 0         | 0         | 0         | ...       | 0         | 0         | 0         | 0         | 0         | 0         | 0         | 0         | 0         | 0         |\n",
       "| 1         | 1         | 0         | 0         |  44.71925 | 0         | 0         | 0         | 0         | 0         | ...       | 0         | 0         | 0         | 0         | 0         | 0         | 0         | 0         | 0         | 0         |\n",
       "| 0         | 1         | 0         | 0         |  77.45883 | 0         | 0         | 0         | 1         | 0         | ...       | 0         | 0         | 0         | 0         | 0         | 0         | 0         | 0         | 0         | 0         |\n",
       "| 0         | 1         | 0         | 0         |  77.45883 | 0         | 0         | 0         | 0         | 0         | ...       | 0         | 0         | 0         | 0         | 0         | 0         | 0         | 0         | 0         | 0         |\n",
       "| 0         | 1         | 0         | 0         |  44.71925 | 0         | 0         | 0         | 0         | 0         | ...       | 0         | 0         | 0         | 0         | 0         | 0         | 0         | 0         | 0         | 0         |\n",
       "| 0         | 1         | 1         | 0         |  44.71925 | 0         | 0         | 0         | 0         | 0         | ...       | 1         | 0         | 0         | 0         | 0         | 0         | 0         | 0         | 0         | 0         |\n",
       "\n"
      ],
      "text/plain": [
       "  noshowflag firstapp multipleappt previousnoshow svcavg    lastsvcavg\n",
       "1 1          1        0            0              -19.02128 0         \n",
       "2 1          1        0            0               44.71925 0         \n",
       "3 0          1        0            0               77.45883 0         \n",
       "4 0          1        0            0               77.45883 0         \n",
       "5 0          1        0            0               44.71925 0         \n",
       "6 0          1        1            0               44.71925 0         \n",
       "  x0_wkday_1.0_hour_10.0 x0_wkday_1.0_hour_8.0 x0_wkday_3.0_hour_14.0\n",
       "1 0                      0                     0                     \n",
       "2 0                      0                     0                     \n",
       "3 0                      0                     1                     \n",
       "4 0                      0                     0                     \n",
       "5 0                      0                     0                     \n",
       "6 0                      0                     0                     \n",
       "  x0_wkday_4.0_hour_10.0 ... x9_12.0 x10_5.0 x10_6.0 x11_2.0 x11_3.0 x13_1.0\n",
       "1 0                      ... 0       0       0       0       0       0      \n",
       "2 0                      ... 0       0       0       0       0       0      \n",
       "3 0                      ... 0       0       0       0       0       0      \n",
       "4 0                      ... 0       0       0       0       0       0      \n",
       "5 0                      ... 0       0       0       0       0       0      \n",
       "6 0                      ... 1       0       0       0       0       0      \n",
       "  x13_5.0 last60dbillamt01 last60dcolor01 last60dproduct01\n",
       "1 0       0                0              0               \n",
       "2 0       0                0              0               \n",
       "3 0       0                0              0               \n",
       "4 0       0                0              0               \n",
       "5 0       0                0              0               \n",
       "6 0       0                0              0               "
      ]
     },
     "metadata": {},
     "output_type": "display_data"
    }
   ],
   "source": [
    "query <-  paste('SELECT ',selectedfeatures,' FROM finalbooking')\n",
    "query\n",
    "data = readSQL(query)\n",
    "head(data)\n",
    "#typeof(data)"
   ]
  },
  {
   "cell_type": "code",
   "execution_count": 8,
   "metadata": {},
   "outputs": [
    {
     "data": {
      "text/html": [
       "<ol class=list-inline>\n",
       "\t<li>'noshowflag'</li>\n",
       "\t<li>'firstapp'</li>\n",
       "\t<li>'multipleappt'</li>\n",
       "\t<li>'previousnoshow'</li>\n",
       "\t<li>'svcavg'</li>\n",
       "\t<li>'lastsvcavg'</li>\n",
       "\t<li>'x0_wkday_1.0_hour_10.0'</li>\n",
       "\t<li>'x0_wkday_1.0_hour_8.0'</li>\n",
       "\t<li>'x0_wkday_3.0_hour_14.0'</li>\n",
       "\t<li>'x0_wkday_4.0_hour_10.0'</li>\n",
       "\t<li>'x0_wkday_4.0_hour_9.0'</li>\n",
       "\t<li>'x0_wkday_5.0_hour_14.0'</li>\n",
       "\t<li>'x1_COLOR'</li>\n",
       "\t<li>'x1_STYLE'</li>\n",
       "\t<li>'x2_CBAL'</li>\n",
       "\t<li>'x2_CDPB'</li>\n",
       "\t<li>'x2_CHLPL'</li>\n",
       "\t<li>'x2_CON'</li>\n",
       "\t<li>'x2_FRI'</li>\n",
       "\t<li>'x2_SBD'</li>\n",
       "\t<li>'x2_SHCW'</li>\n",
       "\t<li>'x3_BECKY'</li>\n",
       "\t<li>'x3_KELLY'</li>\n",
       "\t<li>'x3_SINEAD'</li>\n",
       "\t<li>'x4_JJ'</li>\n",
       "\t<li>'x4_KELLY'</li>\n",
       "\t<li>'x5_lastappt31-45'</li>\n",
       "\t<li>'x7_last60dlatecancel-1'</li>\n",
       "\t<li>'x8_last60regcancel-0'</li>\n",
       "\t<li>'x9_10.0'</li>\n",
       "\t<li>'x9_12.0'</li>\n",
       "\t<li>'x10_5.0'</li>\n",
       "\t<li>'x10_6.0'</li>\n",
       "\t<li>'x11_2.0'</li>\n",
       "\t<li>'x11_3.0'</li>\n",
       "\t<li>'x13_1.0'</li>\n",
       "\t<li>'x13_5.0'</li>\n",
       "\t<li>'last60dbillamt01'</li>\n",
       "\t<li>'last60dcolor01'</li>\n",
       "\t<li>'last60dproduct01'</li>\n",
       "</ol>\n"
      ],
      "text/latex": [
       "\\begin{enumerate*}\n",
       "\\item 'noshowflag'\n",
       "\\item 'firstapp'\n",
       "\\item 'multipleappt'\n",
       "\\item 'previousnoshow'\n",
       "\\item 'svcavg'\n",
       "\\item 'lastsvcavg'\n",
       "\\item 'x0\\_wkday\\_1.0\\_hour\\_10.0'\n",
       "\\item 'x0\\_wkday\\_1.0\\_hour\\_8.0'\n",
       "\\item 'x0\\_wkday\\_3.0\\_hour\\_14.0'\n",
       "\\item 'x0\\_wkday\\_4.0\\_hour\\_10.0'\n",
       "\\item 'x0\\_wkday\\_4.0\\_hour\\_9.0'\n",
       "\\item 'x0\\_wkday\\_5.0\\_hour\\_14.0'\n",
       "\\item 'x1\\_COLOR'\n",
       "\\item 'x1\\_STYLE'\n",
       "\\item 'x2\\_CBAL'\n",
       "\\item 'x2\\_CDPB'\n",
       "\\item 'x2\\_CHLPL'\n",
       "\\item 'x2\\_CON'\n",
       "\\item 'x2\\_FRI'\n",
       "\\item 'x2\\_SBD'\n",
       "\\item 'x2\\_SHCW'\n",
       "\\item 'x3\\_BECKY'\n",
       "\\item 'x3\\_KELLY'\n",
       "\\item 'x3\\_SINEAD'\n",
       "\\item 'x4\\_JJ'\n",
       "\\item 'x4\\_KELLY'\n",
       "\\item 'x5\\_lastappt31-45'\n",
       "\\item 'x7\\_last60dlatecancel-1'\n",
       "\\item 'x8\\_last60regcancel-0'\n",
       "\\item 'x9\\_10.0'\n",
       "\\item 'x9\\_12.0'\n",
       "\\item 'x10\\_5.0'\n",
       "\\item 'x10\\_6.0'\n",
       "\\item 'x11\\_2.0'\n",
       "\\item 'x11\\_3.0'\n",
       "\\item 'x13\\_1.0'\n",
       "\\item 'x13\\_5.0'\n",
       "\\item 'last60dbillamt01'\n",
       "\\item 'last60dcolor01'\n",
       "\\item 'last60dproduct01'\n",
       "\\end{enumerate*}\n"
      ],
      "text/markdown": [
       "1. 'noshowflag'\n",
       "2. 'firstapp'\n",
       "3. 'multipleappt'\n",
       "4. 'previousnoshow'\n",
       "5. 'svcavg'\n",
       "6. 'lastsvcavg'\n",
       "7. 'x0_wkday_1.0_hour_10.0'\n",
       "8. 'x0_wkday_1.0_hour_8.0'\n",
       "9. 'x0_wkday_3.0_hour_14.0'\n",
       "10. 'x0_wkday_4.0_hour_10.0'\n",
       "11. 'x0_wkday_4.0_hour_9.0'\n",
       "12. 'x0_wkday_5.0_hour_14.0'\n",
       "13. 'x1_COLOR'\n",
       "14. 'x1_STYLE'\n",
       "15. 'x2_CBAL'\n",
       "16. 'x2_CDPB'\n",
       "17. 'x2_CHLPL'\n",
       "18. 'x2_CON'\n",
       "19. 'x2_FRI'\n",
       "20. 'x2_SBD'\n",
       "21. 'x2_SHCW'\n",
       "22. 'x3_BECKY'\n",
       "23. 'x3_KELLY'\n",
       "24. 'x3_SINEAD'\n",
       "25. 'x4_JJ'\n",
       "26. 'x4_KELLY'\n",
       "27. 'x5_lastappt31-45'\n",
       "28. 'x7_last60dlatecancel-1'\n",
       "29. 'x8_last60regcancel-0'\n",
       "30. 'x9_10.0'\n",
       "31. 'x9_12.0'\n",
       "32. 'x10_5.0'\n",
       "33. 'x10_6.0'\n",
       "34. 'x11_2.0'\n",
       "35. 'x11_3.0'\n",
       "36. 'x13_1.0'\n",
       "37. 'x13_5.0'\n",
       "38. 'last60dbillamt01'\n",
       "39. 'last60dcolor01'\n",
       "40. 'last60dproduct01'\n",
       "\n",
       "\n"
      ],
      "text/plain": [
       " [1] \"noshowflag\"             \"firstapp\"               \"multipleappt\"          \n",
       " [4] \"previousnoshow\"         \"svcavg\"                 \"lastsvcavg\"            \n",
       " [7] \"x0_wkday_1.0_hour_10.0\" \"x0_wkday_1.0_hour_8.0\"  \"x0_wkday_3.0_hour_14.0\"\n",
       "[10] \"x0_wkday_4.0_hour_10.0\" \"x0_wkday_4.0_hour_9.0\"  \"x0_wkday_5.0_hour_14.0\"\n",
       "[13] \"x1_COLOR\"               \"x1_STYLE\"               \"x2_CBAL\"               \n",
       "[16] \"x2_CDPB\"                \"x2_CHLPL\"               \"x2_CON\"                \n",
       "[19] \"x2_FRI\"                 \"x2_SBD\"                 \"x2_SHCW\"               \n",
       "[22] \"x3_BECKY\"               \"x3_KELLY\"               \"x3_SINEAD\"             \n",
       "[25] \"x4_JJ\"                  \"x4_KELLY\"               \"x5_lastappt31-45\"      \n",
       "[28] \"x7_last60dlatecancel-1\" \"x8_last60regcancel-0\"   \"x9_10.0\"               \n",
       "[31] \"x9_12.0\"                \"x10_5.0\"                \"x10_6.0\"               \n",
       "[34] \"x11_2.0\"                \"x11_3.0\"                \"x13_1.0\"               \n",
       "[37] \"x13_5.0\"                \"last60dbillamt01\"       \"last60dcolor01\"        \n",
       "[40] \"last60dproduct01\"      "
      ]
     },
     "metadata": {},
     "output_type": "display_data"
    }
   ],
   "source": [
    "cols.to.factor <- sapply( data, function(col) length(unique(col)) < 10 )\n",
    "data[ cols.to.factor] <- lapply(data[cols.to.factor] , factor)                        \n",
    "names(data)"
   ]
  },
  {
   "cell_type": "code",
   "execution_count": 9,
   "metadata": {
    "scrolled": true
   },
   "outputs": [
    {
     "name": "stderr",
     "output_type": "stream",
     "text": [
      "Warning message:\n",
      "\"funs() is soft deprecated as of dplyr 0.8.0\n",
      "please use list() instead\n",
      "\n",
      "# Before:\n",
      "funs(name = f(.)\n",
      "\n",
      "# After: \n",
      "list(name = ~f(.))\n",
      "\u001b[90mThis warning is displayed once per session.\u001b[39m\""
     ]
    },
    {
     "data": {
      "text/html": [
       "<ol class=list-inline>\n",
       "\t<li>'noshowflag'</li>\n",
       "\t<li>'firstapp'</li>\n",
       "\t<li>'multipleappt'</li>\n",
       "\t<li>'previousnoshow'</li>\n",
       "\t<li>'svcavg'</li>\n",
       "\t<li>'lastsvcavg'</li>\n",
       "\t<li>'x0_wkday_1_0_hour_10_0'</li>\n",
       "\t<li>'x0_wkday_1_0_hour_8_0'</li>\n",
       "\t<li>'x0_wkday_3_0_hour_14_0'</li>\n",
       "\t<li>'x0_wkday_4_0_hour_10_0'</li>\n",
       "\t<li>'x0_wkday_4_0_hour_9_0'</li>\n",
       "\t<li>'x0_wkday_5_0_hour_14_0'</li>\n",
       "\t<li>'x1_COLOR'</li>\n",
       "\t<li>'x1_STYLE'</li>\n",
       "\t<li>'x2_CBAL'</li>\n",
       "\t<li>'x2_CDPB'</li>\n",
       "\t<li>'x2_CHLPL'</li>\n",
       "\t<li>'x2_CON'</li>\n",
       "\t<li>'x2_FRI'</li>\n",
       "\t<li>'x2_SBD'</li>\n",
       "\t<li>'x2_SHCW'</li>\n",
       "\t<li>'x3_BECKY'</li>\n",
       "\t<li>'x3_KELLY'</li>\n",
       "\t<li>'x3_SINEAD'</li>\n",
       "\t<li>'x4_JJ'</li>\n",
       "\t<li>'x4_KELLY'</li>\n",
       "\t<li>'x5_lastappt31_45'</li>\n",
       "\t<li>'x7_last60dlatecancel_1'</li>\n",
       "\t<li>'x8_last60regcancel_0'</li>\n",
       "\t<li>'x9_10_0'</li>\n",
       "\t<li>'x9_12_0'</li>\n",
       "\t<li>'x10_5_0'</li>\n",
       "\t<li>'x10_6_0'</li>\n",
       "\t<li>'x11_2_0'</li>\n",
       "\t<li>'x11_3_0'</li>\n",
       "\t<li>'x13_1_0'</li>\n",
       "\t<li>'x13_5_0'</li>\n",
       "\t<li>'last60dbillamt01'</li>\n",
       "\t<li>'last60dcolor01'</li>\n",
       "\t<li>'last60dproduct01'</li>\n",
       "</ol>\n"
      ],
      "text/latex": [
       "\\begin{enumerate*}\n",
       "\\item 'noshowflag'\n",
       "\\item 'firstapp'\n",
       "\\item 'multipleappt'\n",
       "\\item 'previousnoshow'\n",
       "\\item 'svcavg'\n",
       "\\item 'lastsvcavg'\n",
       "\\item 'x0\\_wkday\\_1\\_0\\_hour\\_10\\_0'\n",
       "\\item 'x0\\_wkday\\_1\\_0\\_hour\\_8\\_0'\n",
       "\\item 'x0\\_wkday\\_3\\_0\\_hour\\_14\\_0'\n",
       "\\item 'x0\\_wkday\\_4\\_0\\_hour\\_10\\_0'\n",
       "\\item 'x0\\_wkday\\_4\\_0\\_hour\\_9\\_0'\n",
       "\\item 'x0\\_wkday\\_5\\_0\\_hour\\_14\\_0'\n",
       "\\item 'x1\\_COLOR'\n",
       "\\item 'x1\\_STYLE'\n",
       "\\item 'x2\\_CBAL'\n",
       "\\item 'x2\\_CDPB'\n",
       "\\item 'x2\\_CHLPL'\n",
       "\\item 'x2\\_CON'\n",
       "\\item 'x2\\_FRI'\n",
       "\\item 'x2\\_SBD'\n",
       "\\item 'x2\\_SHCW'\n",
       "\\item 'x3\\_BECKY'\n",
       "\\item 'x3\\_KELLY'\n",
       "\\item 'x3\\_SINEAD'\n",
       "\\item 'x4\\_JJ'\n",
       "\\item 'x4\\_KELLY'\n",
       "\\item 'x5\\_lastappt31\\_45'\n",
       "\\item 'x7\\_last60dlatecancel\\_1'\n",
       "\\item 'x8\\_last60regcancel\\_0'\n",
       "\\item 'x9\\_10\\_0'\n",
       "\\item 'x9\\_12\\_0'\n",
       "\\item 'x10\\_5\\_0'\n",
       "\\item 'x10\\_6\\_0'\n",
       "\\item 'x11\\_2\\_0'\n",
       "\\item 'x11\\_3\\_0'\n",
       "\\item 'x13\\_1\\_0'\n",
       "\\item 'x13\\_5\\_0'\n",
       "\\item 'last60dbillamt01'\n",
       "\\item 'last60dcolor01'\n",
       "\\item 'last60dproduct01'\n",
       "\\end{enumerate*}\n"
      ],
      "text/markdown": [
       "1. 'noshowflag'\n",
       "2. 'firstapp'\n",
       "3. 'multipleappt'\n",
       "4. 'previousnoshow'\n",
       "5. 'svcavg'\n",
       "6. 'lastsvcavg'\n",
       "7. 'x0_wkday_1_0_hour_10_0'\n",
       "8. 'x0_wkday_1_0_hour_8_0'\n",
       "9. 'x0_wkday_3_0_hour_14_0'\n",
       "10. 'x0_wkday_4_0_hour_10_0'\n",
       "11. 'x0_wkday_4_0_hour_9_0'\n",
       "12. 'x0_wkday_5_0_hour_14_0'\n",
       "13. 'x1_COLOR'\n",
       "14. 'x1_STYLE'\n",
       "15. 'x2_CBAL'\n",
       "16. 'x2_CDPB'\n",
       "17. 'x2_CHLPL'\n",
       "18. 'x2_CON'\n",
       "19. 'x2_FRI'\n",
       "20. 'x2_SBD'\n",
       "21. 'x2_SHCW'\n",
       "22. 'x3_BECKY'\n",
       "23. 'x3_KELLY'\n",
       "24. 'x3_SINEAD'\n",
       "25. 'x4_JJ'\n",
       "26. 'x4_KELLY'\n",
       "27. 'x5_lastappt31_45'\n",
       "28. 'x7_last60dlatecancel_1'\n",
       "29. 'x8_last60regcancel_0'\n",
       "30. 'x9_10_0'\n",
       "31. 'x9_12_0'\n",
       "32. 'x10_5_0'\n",
       "33. 'x10_6_0'\n",
       "34. 'x11_2_0'\n",
       "35. 'x11_3_0'\n",
       "36. 'x13_1_0'\n",
       "37. 'x13_5_0'\n",
       "38. 'last60dbillamt01'\n",
       "39. 'last60dcolor01'\n",
       "40. 'last60dproduct01'\n",
       "\n",
       "\n"
      ],
      "text/plain": [
       " [1] \"noshowflag\"             \"firstapp\"               \"multipleappt\"          \n",
       " [4] \"previousnoshow\"         \"svcavg\"                 \"lastsvcavg\"            \n",
       " [7] \"x0_wkday_1_0_hour_10_0\" \"x0_wkday_1_0_hour_8_0\"  \"x0_wkday_3_0_hour_14_0\"\n",
       "[10] \"x0_wkday_4_0_hour_10_0\" \"x0_wkday_4_0_hour_9_0\"  \"x0_wkday_5_0_hour_14_0\"\n",
       "[13] \"x1_COLOR\"               \"x1_STYLE\"               \"x2_CBAL\"               \n",
       "[16] \"x2_CDPB\"                \"x2_CHLPL\"               \"x2_CON\"                \n",
       "[19] \"x2_FRI\"                 \"x2_SBD\"                 \"x2_SHCW\"               \n",
       "[22] \"x3_BECKY\"               \"x3_KELLY\"               \"x3_SINEAD\"             \n",
       "[25] \"x4_JJ\"                  \"x4_KELLY\"               \"x5_lastappt31_45\"      \n",
       "[28] \"x7_last60dlatecancel_1\" \"x8_last60regcancel_0\"   \"x9_10_0\"               \n",
       "[31] \"x9_12_0\"                \"x10_5_0\"                \"x10_6_0\"               \n",
       "[34] \"x11_2_0\"                \"x11_3_0\"                \"x13_1_0\"               \n",
       "[37] \"x13_5_0\"                \"last60dbillamt01\"       \"last60dcolor01\"        \n",
       "[40] \"last60dproduct01\"      "
      ]
     },
     "metadata": {},
     "output_type": "display_data"
    }
   ],
   "source": [
    "data <- data %>% rename_at(vars(contains(\".\")), funs(str_replace_all(., \"\\\\.\",\"_\")))\n",
    "data <- data %>% rename_at(vars(contains(\"-\")), funs(str_replace_all(., \"-\",\"_\")))\n",
    "colnames(data)"
   ]
  },
  {
   "cell_type": "code",
   "execution_count": 10,
   "metadata": {},
   "outputs": [
    {
     "data": {
      "text/plain": [
       " noshowflag firstapp multipleappt previousnoshow     svcavg      \n",
       " 0:1655     0:876    0:1360       0:1619         Min.   :-43.12  \n",
       " 1: 138     1:917    1: 433       1: 174         1st Qu.: 44.72  \n",
       "                                                 Median : 63.01  \n",
       "                                                 Mean   : 65.45  \n",
       "                                                 3rd Qu.: 77.46  \n",
       "                                                 Max.   :270.00  \n",
       "   lastsvcavg     x0_wkday_1_0_hour_10_0 x0_wkday_1_0_hour_8_0\n",
       " Min.   :-19.02   0:1737                 0:1786               \n",
       " 1st Qu.:  0.00   1:  56                 1:   7               \n",
       " Median :  0.00                                               \n",
       " Mean   : 30.38                                               \n",
       " 3rd Qu.: 44.72                                               \n",
       " Max.   :244.47                                               \n",
       " x0_wkday_3_0_hour_14_0 x0_wkday_4_0_hour_10_0 x0_wkday_4_0_hour_9_0\n",
       " 0:1755                 0:1757                 0:1758               \n",
       " 1:  38                 1:  36                 1:  35               \n",
       "                                                                    \n",
       "                                                                    \n",
       "                                                                    \n",
       "                                                                    \n",
       " x0_wkday_5_0_hour_14_0 x1_COLOR x1_STYLE x2_CBAL  x2_CDPB  x2_CHLPL x2_CON  \n",
       " 0:1745                 0:1491   0: 370   0:1773   0:1784   0:1754   0:1737  \n",
       " 1:  48                 1: 302   1:1423   1:  20   1:   9   1:  39   1:  56  \n",
       "                                                                             \n",
       "                                                                             \n",
       "                                                                             \n",
       "                                                                             \n",
       " x2_FRI   x2_SBD   x2_SHCW  x3_BECKY x3_KELLY x3_SINEAD x4_JJ    x4_KELLY\n",
       " 0:1789   0:1499   0:1119   0:1395   0:1514   0:1614    0:1425   0:1740  \n",
       " 1:   4   1: 294   1: 674   1: 398   1: 279   1: 179    1: 368   1:  53  \n",
       "                                                                         \n",
       "                                                                         \n",
       "                                                                         \n",
       "                                                                         \n",
       " x5_lastappt31_45 x7_last60dlatecancel_1 x8_last60regcancel_0 x9_10_0  x9_12_0 \n",
       " 0:1563           0:1752                 0: 132               0:1571   0:1596  \n",
       " 1: 230           1:  41                 1:1661               1: 222   1: 197  \n",
       "                                                                               \n",
       "                                                                               \n",
       "                                                                               \n",
       "                                                                               \n",
       " x10_5_0  x10_6_0  x11_2_0  x11_3_0  x13_1_0  x13_5_0  last60dbillamt01\n",
       " 0:1438   0:1741   0:1654   0:1605   0:1634   0:1370   Min.   :0.0000  \n",
       " 1: 355   1:  52   1: 139   1: 188   1: 159   1: 423   1st Qu.:0.0000  \n",
       "                                                       Median :0.0000  \n",
       "                                                       Mean   :0.1813  \n",
       "                                                       3rd Qu.:0.3210  \n",
       "                                                       Max.   :1.0000  \n",
       " last60dcolor01    last60dproduct01 \n",
       " Min.   :0.00000   Min.   :0.00000  \n",
       " 1st Qu.:0.00000   1st Qu.:0.00000  \n",
       " Median :0.00000   Median :0.00000  \n",
       " Mean   :0.04657   Mean   :0.01038  \n",
       " 3rd Qu.:0.00000   3rd Qu.:0.00000  \n",
       " Max.   :0.59309   Max.   :0.59836  "
      ]
     },
     "metadata": {},
     "output_type": "display_data"
    }
   ],
   "source": [
    "summary(data)"
   ]
  },
  {
   "cell_type": "code",
   "execution_count": 11,
   "metadata": {},
   "outputs": [
    {
     "name": "stderr",
     "output_type": "stream",
     "text": [
      "Loading required package: tableone\n"
     ]
    }
   ],
   "source": [
    "if(!require(tableone)){install.packages(\"tableone\");require(tableone)}"
   ]
  },
  {
   "cell_type": "code",
   "execution_count": 12,
   "metadata": {},
   "outputs": [
    {
     "data": {
      "text/plain": [
       "                                \n",
       "                                 Overall      \n",
       "  n                               1793        \n",
       "  firstapp = 1 (%)                 917 (51.1) \n",
       "  multipleappt = 1 (%)             433 (24.1) \n",
       "  previousnoshow = 1 (%)           174 ( 9.7) \n",
       "  svcavg (mean (SD))             65.45 (36.71)\n",
       "  lastsvcavg (mean (SD))         30.38 (40.67)\n",
       "  x0_wkday_1_0_hour_10_0 = 1 (%)    56 ( 3.1) \n",
       "  x0_wkday_1_0_hour_8_0 = 1 (%)      7 ( 0.4) \n",
       "  x0_wkday_3_0_hour_14_0 = 1 (%)    38 ( 2.1) \n",
       "  x0_wkday_4_0_hour_10_0 = 1 (%)    36 ( 2.0) \n",
       "  x0_wkday_4_0_hour_9_0 = 1 (%)     35 ( 2.0) \n",
       "  x0_wkday_5_0_hour_14_0 = 1 (%)    48 ( 2.7) \n",
       "  x1_COLOR = 1 (%)                 302 (16.8) \n",
       "  x1_STYLE = 1 (%)                1423 (79.4) \n",
       "  x2_CBAL = 1 (%)                   20 ( 1.1) \n",
       "  x2_CDPB = 1 (%)                    9 ( 0.5) \n",
       "  x2_CHLPL = 1 (%)                  39 ( 2.2) \n",
       "  x2_CON = 1 (%)                    56 ( 3.1) \n",
       "  x2_FRI = 1 (%)                     4 ( 0.2) \n",
       "  x2_SBD = 1 (%)                   294 (16.4) \n",
       "  x2_SHCW = 1 (%)                  674 (37.6) \n",
       "  x3_BECKY = 1 (%)                 398 (22.2) \n",
       "  x3_KELLY = 1 (%)                 279 (15.6) \n",
       "  x3_SINEAD = 1 (%)                179 (10.0) \n",
       "  x4_JJ = 1 (%)                    368 (20.5) \n",
       "  x4_KELLY = 1 (%)                  53 ( 3.0) \n",
       "  x5_lastappt31_45 = 1 (%)         230 (12.8) \n",
       "  x7_last60dlatecancel_1 = 1 (%)    41 ( 2.3) \n",
       "  x8_last60regcancel_0 = 1 (%)    1661 (92.6) \n",
       "  x9_10_0 = 1 (%)                  222 (12.4) \n",
       "  x9_12_0 = 1 (%)                  197 (11.0) \n",
       "  x10_5_0 = 1 (%)                  355 (19.8) \n",
       "  x10_6_0 = 1 (%)                   52 ( 2.9) \n",
       "  x11_2_0 = 1 (%)                  139 ( 7.8) \n",
       "  x11_3_0 = 1 (%)                  188 (10.5) \n",
       "  x13_1_0 = 1 (%)                  159 ( 8.9) \n",
       "  x13_5_0 = 1 (%)                  423 (23.6) \n",
       "  last60dbillamt01 (mean (SD))    0.18 (0.25) \n",
       "  last60dcolor01 (mean (SD))      0.05 (0.12) \n",
       "  last60dproduct01 (mean (SD))    0.01 (0.05) "
      ]
     },
     "metadata": {},
     "output_type": "display_data"
    }
   ],
   "source": [
    "vn <- setdiff(names(data),\"noshowflag\")\n",
    "\n",
    "CreateTableOne(data = data,vars = vn,includeNA = T)"
   ]
  },
  {
   "cell_type": "code",
   "execution_count": 13,
   "metadata": {},
   "outputs": [
    {
     "name": "stderr",
     "output_type": "stream",
     "text": [
      "Loading required package: mechkar\n",
      "Loading required package: car\n",
      "Loading required package: carData\n",
      "\n",
      "Attaching package: 'car'\n",
      "\n",
      "The following object is masked from 'package:dplyr':\n",
      "\n",
      "    recode\n",
      "\n",
      "Loading required package: Hmisc\n",
      "Loading required package: lattice\n",
      "Loading required package: survival\n",
      "Loading required package: Formula\n",
      "Loading required package: ggplot2\n",
      "\n",
      "Attaching package: 'Hmisc'\n",
      "\n",
      "The following objects are masked from 'package:dplyr':\n",
      "\n",
      "    src, summarize\n",
      "\n",
      "The following objects are masked from 'package:base':\n",
      "\n",
      "    format.pval, units\n",
      "\n",
      "Loading required package: sqldf\n",
      "Loading required package: gsubfn\n",
      "Loading required package: proto\n",
      "Loading required package: pROC\n",
      "Type 'citation(\"pROC\")' for a citation.\n",
      "\n",
      "Attaching package: 'pROC'\n",
      "\n",
      "The following objects are masked from 'package:stats':\n",
      "\n",
      "    cov, smooth, var\n",
      "\n",
      "Loading required package: ResourceSelection\n",
      "ResourceSelection 0.3-4 \t 2019-01-08\n",
      "Loading required package: sjstats\n",
      "\n",
      "Attaching package: 'sjstats'\n",
      "\n",
      "The following object is masked from 'package:Hmisc':\n",
      "\n",
      "    deff\n",
      "\n",
      "Loading required package: sjmisc\n",
      "Learn more about sjmisc with 'browseVignettes(\"sjmisc\")'.\n",
      "\n",
      "Attaching package: 'sjmisc'\n",
      "\n",
      "The following object is masked from 'package:Hmisc':\n",
      "\n",
      "    %nin%\n",
      "\n",
      "Loading required package: InformationValue\n",
      "Loading required package: gmodels\n",
      "\n",
      "Attaching package: 'gmodels'\n",
      "\n",
      "The following object is masked from 'package:pROC':\n",
      "\n",
      "    ci\n",
      "\n",
      "Loading required package: tibble\n",
      "\n",
      "Attaching package: 'tibble'\n",
      "\n",
      "The following object is masked from 'package:sjmisc':\n",
      "\n",
      "    add_case\n",
      "\n",
      "Loading required package: dtplyr\n",
      "Loading required package: dbplyr\n",
      "\n",
      "Attaching package: 'dbplyr'\n",
      "\n",
      "The following objects are masked from 'package:dplyr':\n",
      "\n",
      "    ident, sql\n",
      "\n",
      "Loading required package: givitiR\n",
      "\n",
      "Attaching package: 'givitiR'\n",
      "\n",
      "The following object is masked from 'package:car':\n",
      "\n",
      "    logit\n",
      "\n",
      "Loading required package: mice\n",
      "\n",
      "Attaching package: 'mice'\n",
      "\n",
      "The following objects are masked from 'package:base':\n",
      "\n",
      "    cbind, rbind\n",
      "\n"
     ]
    }
   ],
   "source": [
    "#library(devtools)\n",
    "#install_github(\"karpatit/mechkar\")\n",
    "if(!require(mechkar)){install.packages(\"mechkar\"); require(mechkar)}"
   ]
  },
  {
   "cell_type": "code",
   "execution_count": 14,
   "metadata": {},
   "outputs": [
    {
     "name": "stdout",
     "output_type": "stream",
     "text": [
      "  |======================================================================| 100%"
     ]
    },
    {
     "name": "stderr",
     "output_type": "stream",
     "text": [
      "Coefficient covariances computed by hccm()\n",
      "Coefficient covariances computed by hccm()\n",
      "Coefficient covariances computed by hccm()\n"
     ]
    },
    {
     "data": {
      "text/html": [
       "<table>\n",
       "<thead><tr><th scope=col>V1</th><th scope=col>V2</th><th scope=col>Pop</th><th scope=col>0</th><th scope=col>1</th><th scope=col>pval</th></tr></thead>\n",
       "<tbody>\n",
       "\t<tr><td>Individuals           </td><td>n                     </td><td>1793                  </td><td>1655                  </td><td>138                   </td><td>NA                    </td></tr>\n",
       "\t<tr><td>firstapp              </td><td>1                     </td><td>917 (51.1%)           </td><td>853 (51.5%)           </td><td>64 (46.4%)            </td><td>0.281                 </td></tr>\n",
       "\t<tr><td>multipleappt          </td><td>1                     </td><td>433 (24.1%)           </td><td>431 (26.0%)           </td><td>2 (1.4%)              </td><td>0                     </td></tr>\n",
       "\t<tr><td>previousnoshow        </td><td>1                     </td><td>174 (9.7%)            </td><td>150 (9.1%)            </td><td>24 (17.4%)            </td><td>0.002                 </td></tr>\n",
       "\t<tr><td>svcavg                </td><td>Mean (SD)             </td><td>65.4 (36.7)           </td><td>66.7 (34.7)           </td><td>50.5 (53.4)           </td><td>NA                    </td></tr>\n",
       "\t<tr><td>svcavg                </td><td>Median (IQR)          </td><td>63.0 (44.7-77.5)      </td><td>70.2 (44.7-77.5)      </td><td>44.7 (21.9-77.5)      </td><td>0.001                 </td></tr>\n",
       "\t<tr><td>lastsvcavg            </td><td>Mean (SD)             </td><td>30.4 (40.7)           </td><td>30.3 (40.5)           </td><td>30.8 (42.6)           </td><td>NA                    </td></tr>\n",
       "\t<tr><td>lastsvcavg            </td><td>Median (IQR)          </td><td>0.0 (0.0-44.7)        </td><td>0.0 (0.0-44.7)        </td><td>0.0 (0.0-44.7)        </td><td>0.911                 </td></tr>\n",
       "\t<tr><td>x0_wkday_1_0_hour_10_0</td><td>1                     </td><td>56 (3.1%)             </td><td>45 (2.7%)             </td><td>11 (8.0%)             </td><td>0.002                 </td></tr>\n",
       "\t<tr><td>x0_wkday_1_0_hour_8_0 </td><td>1                     </td><td>7 (0.4%)              </td><td>4 (0.2%)              </td><td>3 (2.2%)              </td><td>0                     </td></tr>\n",
       "\t<tr><td>x0_wkday_3_0_hour_14_0</td><td>1                     </td><td>38 (2.1%)             </td><td>32 (1.9%)             </td><td>6 (4.3%)              </td><td>0.113                 </td></tr>\n",
       "\t<tr><td>x0_wkday_4_0_hour_10_0</td><td>1                     </td><td>36 (2.0%)             </td><td>30 (1.8%)             </td><td>6 (4.3%)              </td><td>0.085                 </td></tr>\n",
       "\t<tr><td>x0_wkday_4_0_hour_9_0 </td><td>1                     </td><td>35 (2.0%)             </td><td>28 (1.7%)             </td><td>7 (5.1%)              </td><td>0.015                 </td></tr>\n",
       "\t<tr><td>x0_wkday_5_0_hour_14_0</td><td>1                     </td><td>48 (2.7%)             </td><td>48 (2.9%)             </td><td>0 (0.0%)              </td><td>0.047                 </td></tr>\n",
       "\t<tr><td>x1_COLOR              </td><td>1                     </td><td>302 (16.8%)           </td><td>277 (16.7%)           </td><td>25 (18.1%)            </td><td>0.766                 </td></tr>\n",
       "\t<tr><td>x1_STYLE              </td><td>1                     </td><td>1,423 (79.4%)         </td><td>1,341 (81.0%)         </td><td>82 (59.4%)            </td><td>0                     </td></tr>\n",
       "\t<tr><td>x2_CBAL               </td><td>1                     </td><td>20 (1.1%)             </td><td>13 (0.8%)             </td><td>7 (5.1%)              </td><td>0                     </td></tr>\n",
       "\t<tr><td>x2_CDPB               </td><td>1                     </td><td>9 (0.5%)              </td><td>5 (0.3%)              </td><td>4 (2.9%)              </td><td>0                     </td></tr>\n",
       "\t<tr><td>x2_CHLPL              </td><td>1                     </td><td>39 (2.2%)             </td><td>36 (2.2%)             </td><td>3 (2.2%)              </td><td>0.999                 </td></tr>\n",
       "\t<tr><td>x2_CON                </td><td>1                     </td><td>56 (3.1%)             </td><td>26 (1.6%)             </td><td>30 (21.7%)            </td><td>0                     </td></tr>\n",
       "\t<tr><td>x2_FRI                </td><td>1                     </td><td>4 (0.2%)              </td><td>0 (0.0%)              </td><td>4 (2.9%)              </td><td>0                     </td></tr>\n",
       "\t<tr><td>x2_SBD                </td><td>1                     </td><td>294 (16.4%)           </td><td>267 (16.1%)           </td><td>27 (19.6%)            </td><td>0.354                 </td></tr>\n",
       "\t<tr><td>x2_SHCW               </td><td>1                     </td><td>674 (37.6%)           </td><td>649 (39.2%)           </td><td>25 (18.1%)            </td><td>0                     </td></tr>\n",
       "\t<tr><td>x3_BECKY              </td><td>1                     </td><td>398 (22.2%)           </td><td>368 (22.2%)           </td><td>30 (21.7%)            </td><td>0.977                 </td></tr>\n",
       "\t<tr><td>x3_KELLY              </td><td>1                     </td><td>279 (15.6%)           </td><td>250 (15.1%)           </td><td>29 (21.0%)            </td><td>0.086                 </td></tr>\n",
       "\t<tr><td>x3_SINEAD             </td><td>1                     </td><td>179 (10.0%)           </td><td>170 (10.3%)           </td><td>9 (6.5%)              </td><td>0.206                 </td></tr>\n",
       "\t<tr><td>x4_JJ                 </td><td>1                     </td><td>368 (20.5%)           </td><td>332 (20.1%)           </td><td>36 (26.1%)            </td><td>0.115                 </td></tr>\n",
       "\t<tr><td>x4_KELLY              </td><td>1                     </td><td>53 (3.0%)             </td><td>45 (2.7%)             </td><td>8 (5.8%)              </td><td>0.074                 </td></tr>\n",
       "\t<tr><td>x5_lastappt31_45      </td><td>1                     </td><td>230 (12.8%)           </td><td>218 (13.2%)           </td><td>12 (8.7%)             </td><td>0.168                 </td></tr>\n",
       "\t<tr><td>x7_last60dlatecancel_1</td><td>1                     </td><td>41 (2.3%)             </td><td>35 (2.1%)             </td><td>6 (4.3%)              </td><td>0.165                 </td></tr>\n",
       "\t<tr><td>x8_last60regcancel_0  </td><td>1                     </td><td>1,661 (92.6%)         </td><td>1,538 (92.9%)         </td><td>123 (89.1%)           </td><td>0.141                 </td></tr>\n",
       "\t<tr><td>x9_10_0               </td><td>1                     </td><td>222 (12.4%)           </td><td>196 (11.8%)           </td><td>26 (18.8%)            </td><td>0.024                 </td></tr>\n",
       "\t<tr><td>x9_12_0               </td><td>1                     </td><td>197 (11.0%)           </td><td>177 (10.7%)           </td><td>20 (14.5%)            </td><td>0.219                 </td></tr>\n",
       "\t<tr><td>x10_5_0               </td><td>1                     </td><td>355 (19.8%)           </td><td>335 (20.2%)           </td><td>20 (14.5%)            </td><td>0.129                 </td></tr>\n",
       "\t<tr><td>x10_6_0               </td><td>1                     </td><td>52 (2.9%)             </td><td>41 (2.5%)             </td><td>11 (8.0%)             </td><td>0.001                 </td></tr>\n",
       "\t<tr><td>x11_2_0               </td><td>1                     </td><td>139 (7.8%)            </td><td>120 (7.3%)            </td><td>19 (13.8%)            </td><td>0.01                  </td></tr>\n",
       "\t<tr><td>x11_3_0               </td><td>1                     </td><td>188 (10.5%)           </td><td>181 (10.9%)           </td><td>7 (5.1%)              </td><td>0.044                 </td></tr>\n",
       "\t<tr><td>x13_1_0               </td><td>1                     </td><td>159 (8.9%)            </td><td>144 (8.7%)            </td><td>15 (10.9%)            </td><td>0.481                 </td></tr>\n",
       "\t<tr><td>x13_5_0               </td><td>1                     </td><td>423 (23.6%)           </td><td>385 (23.3%)           </td><td>38 (27.5%)            </td><td>0.302                 </td></tr>\n",
       "\t<tr><td>last60dbillamt01      </td><td>Mean (SD)             </td><td>0.2 (0.2)             </td><td>0.2 (0.3)             </td><td>0.2 (0.2)             </td><td>NA                    </td></tr>\n",
       "\t<tr><td>last60dbillamt01      </td><td>Median (IQR)          </td><td>0.0 (0.0-0.3)         </td><td>0.0 (0.0-0.3)         </td><td>0.0 (0.0-0.3)         </td><td>0.846                 </td></tr>\n",
       "\t<tr><td>last60dcolor01        </td><td>Mean (SD)             </td><td>0.0 (0.1)             </td><td>0.0 (0.1)             </td><td>0.0 (0.1)             </td><td>NA                    </td></tr>\n",
       "\t<tr><td>last60dcolor01        </td><td>Median (IQR)          </td><td>0.0 (0.0-0.0)         </td><td>0.0 (0.0-0.0)         </td><td>0.0 (0.0-0.0)         </td><td>0.062                 </td></tr>\n",
       "\t<tr><td>last60dproduct01      </td><td>Mean (SD)             </td><td>0.0 (0.1)             </td><td>0.0 (0.1)             </td><td>0.0 (0.1)             </td><td>NA                    </td></tr>\n",
       "\t<tr><td>last60dproduct01      </td><td>Median (IQR)          </td><td>0.0 (0.0-0.0)         </td><td>0.0 (0.0-0.0)         </td><td>0.0 (0.0-0.0)         </td><td>0.634                 </td></tr>\n",
       "</tbody>\n",
       "</table>\n"
      ],
      "text/latex": [
       "\\begin{tabular}{r|llllll}\n",
       " V1 & V2 & Pop & 0 & 1 & pval\\\\\n",
       "\\hline\n",
       "\t Individuals            & n                      & 1793                   & 1655                   & 138                    & NA                    \\\\\n",
       "\t firstapp               & 1                      & 917 (51.1\\%)          & 853 (51.5\\%)          & 64 (46.4\\%)           & 0.281                 \\\\\n",
       "\t multipleappt           & 1                      & 433 (24.1\\%)          & 431 (26.0\\%)          & 2 (1.4\\%)             & 0                     \\\\\n",
       "\t previousnoshow         & 1                      & 174 (9.7\\%)           & 150 (9.1\\%)           & 24 (17.4\\%)           & 0.002                 \\\\\n",
       "\t svcavg                 & Mean (SD)              & 65.4 (36.7)            & 66.7 (34.7)            & 50.5 (53.4)            & NA                    \\\\\n",
       "\t svcavg                 & Median (IQR)           & 63.0 (44.7-77.5)       & 70.2 (44.7-77.5)       & 44.7 (21.9-77.5)       & 0.001                 \\\\\n",
       "\t lastsvcavg             & Mean (SD)              & 30.4 (40.7)            & 30.3 (40.5)            & 30.8 (42.6)            & NA                    \\\\\n",
       "\t lastsvcavg             & Median (IQR)           & 0.0 (0.0-44.7)         & 0.0 (0.0-44.7)         & 0.0 (0.0-44.7)         & 0.911                 \\\\\n",
       "\t x0\\_wkday\\_1\\_0\\_hour\\_10\\_0 & 1                                  & 56 (3.1\\%)                        & 45 (2.7\\%)                        & 11 (8.0\\%)                        & 0.002                             \\\\\n",
       "\t x0\\_wkday\\_1\\_0\\_hour\\_8\\_0  & 1                                  & 7 (0.4\\%)                         & 4 (0.2\\%)                         & 3 (2.2\\%)                         & 0                                 \\\\\n",
       "\t x0\\_wkday\\_3\\_0\\_hour\\_14\\_0 & 1                                  & 38 (2.1\\%)                        & 32 (1.9\\%)                        & 6 (4.3\\%)                         & 0.113                             \\\\\n",
       "\t x0\\_wkday\\_4\\_0\\_hour\\_10\\_0 & 1                                  & 36 (2.0\\%)                        & 30 (1.8\\%)                        & 6 (4.3\\%)                         & 0.085                             \\\\\n",
       "\t x0\\_wkday\\_4\\_0\\_hour\\_9\\_0  & 1                                  & 35 (2.0\\%)                        & 28 (1.7\\%)                        & 7 (5.1\\%)                         & 0.015                             \\\\\n",
       "\t x0\\_wkday\\_5\\_0\\_hour\\_14\\_0 & 1                                  & 48 (2.7\\%)                        & 48 (2.9\\%)                        & 0 (0.0\\%)                         & 0.047                             \\\\\n",
       "\t x1\\_COLOR               & 1                        & 302 (16.8\\%)            & 277 (16.7\\%)            & 25 (18.1\\%)             & 0.766                   \\\\\n",
       "\t x1\\_STYLE               & 1                        & 1,423 (79.4\\%)          & 1,341 (81.0\\%)          & 82 (59.4\\%)             & 0                       \\\\\n",
       "\t x2\\_CBAL                & 1                        & 20 (1.1\\%)              & 13 (0.8\\%)              & 7 (5.1\\%)               & 0                       \\\\\n",
       "\t x2\\_CDPB                & 1                        & 9 (0.5\\%)               & 5 (0.3\\%)               & 4 (2.9\\%)               & 0                       \\\\\n",
       "\t x2\\_CHLPL               & 1                        & 39 (2.2\\%)              & 36 (2.2\\%)              & 3 (2.2\\%)               & 0.999                   \\\\\n",
       "\t x2\\_CON                 & 1                        & 56 (3.1\\%)              & 26 (1.6\\%)              & 30 (21.7\\%)             & 0                       \\\\\n",
       "\t x2\\_FRI                 & 1                        & 4 (0.2\\%)               & 0 (0.0\\%)               & 4 (2.9\\%)               & 0                       \\\\\n",
       "\t x2\\_SBD                 & 1                        & 294 (16.4\\%)            & 267 (16.1\\%)            & 27 (19.6\\%)             & 0.354                   \\\\\n",
       "\t x2\\_SHCW                & 1                        & 674 (37.6\\%)            & 649 (39.2\\%)            & 25 (18.1\\%)             & 0                       \\\\\n",
       "\t x3\\_BECKY               & 1                        & 398 (22.2\\%)            & 368 (22.2\\%)            & 30 (21.7\\%)             & 0.977                   \\\\\n",
       "\t x3\\_KELLY               & 1                        & 279 (15.6\\%)            & 250 (15.1\\%)            & 29 (21.0\\%)             & 0.086                   \\\\\n",
       "\t x3\\_SINEAD              & 1                        & 179 (10.0\\%)            & 170 (10.3\\%)            & 9 (6.5\\%)               & 0.206                   \\\\\n",
       "\t x4\\_JJ                  & 1                        & 368 (20.5\\%)            & 332 (20.1\\%)            & 36 (26.1\\%)             & 0.115                   \\\\\n",
       "\t x4\\_KELLY               & 1                        & 53 (3.0\\%)              & 45 (2.7\\%)              & 8 (5.8\\%)               & 0.074                   \\\\\n",
       "\t x5\\_lastappt31\\_45       & 1                          & 230 (12.8\\%)              & 218 (13.2\\%)              & 12 (8.7\\%)                & 0.168                     \\\\\n",
       "\t x7\\_last60dlatecancel\\_1 & 1                          & 41 (2.3\\%)                & 35 (2.1\\%)                & 6 (4.3\\%)                 & 0.165                     \\\\\n",
       "\t x8\\_last60regcancel\\_0   & 1                          & 1,661 (92.6\\%)            & 1,538 (92.9\\%)            & 123 (89.1\\%)              & 0.141                     \\\\\n",
       "\t x9\\_10\\_0                & 1                          & 222 (12.4\\%)              & 196 (11.8\\%)              & 26 (18.8\\%)               & 0.024                     \\\\\n",
       "\t x9\\_12\\_0                & 1                          & 197 (11.0\\%)              & 177 (10.7\\%)              & 20 (14.5\\%)               & 0.219                     \\\\\n",
       "\t x10\\_5\\_0                & 1                          & 355 (19.8\\%)              & 335 (20.2\\%)              & 20 (14.5\\%)               & 0.129                     \\\\\n",
       "\t x10\\_6\\_0                & 1                          & 52 (2.9\\%)                & 41 (2.5\\%)                & 11 (8.0\\%)                & 0.001                     \\\\\n",
       "\t x11\\_2\\_0                & 1                          & 139 (7.8\\%)               & 120 (7.3\\%)               & 19 (13.8\\%)               & 0.01                      \\\\\n",
       "\t x11\\_3\\_0                & 1                          & 188 (10.5\\%)              & 181 (10.9\\%)              & 7 (5.1\\%)                 & 0.044                     \\\\\n",
       "\t x13\\_1\\_0                & 1                          & 159 (8.9\\%)               & 144 (8.7\\%)               & 15 (10.9\\%)               & 0.481                     \\\\\n",
       "\t x13\\_5\\_0                & 1                          & 423 (23.6\\%)              & 385 (23.3\\%)              & 38 (27.5\\%)               & 0.302                     \\\\\n",
       "\t last60dbillamt01       & Mean (SD)              & 0.2 (0.2)              & 0.2 (0.3)              & 0.2 (0.2)              & NA                    \\\\\n",
       "\t last60dbillamt01       & Median (IQR)           & 0.0 (0.0-0.3)          & 0.0 (0.0-0.3)          & 0.0 (0.0-0.3)          & 0.846                 \\\\\n",
       "\t last60dcolor01         & Mean (SD)              & 0.0 (0.1)              & 0.0 (0.1)              & 0.0 (0.1)              & NA                    \\\\\n",
       "\t last60dcolor01         & Median (IQR)           & 0.0 (0.0-0.0)          & 0.0 (0.0-0.0)          & 0.0 (0.0-0.0)          & 0.062                 \\\\\n",
       "\t last60dproduct01       & Mean (SD)              & 0.0 (0.1)              & 0.0 (0.1)              & 0.0 (0.1)              & NA                    \\\\\n",
       "\t last60dproduct01       & Median (IQR)           & 0.0 (0.0-0.0)          & 0.0 (0.0-0.0)          & 0.0 (0.0-0.0)          & 0.634                 \\\\\n",
       "\\end{tabular}\n"
      ],
      "text/markdown": [
       "\n",
       "| V1 | V2 | Pop | 0 | 1 | pval |\n",
       "|---|---|---|---|---|---|\n",
       "| Individuals            | n                      | 1793                   | 1655                   | 138                    | NA                     |\n",
       "| firstapp               | 1                      | 917 (51.1%)            | 853 (51.5%)            | 64 (46.4%)             | 0.281                  |\n",
       "| multipleappt           | 1                      | 433 (24.1%)            | 431 (26.0%)            | 2 (1.4%)               | 0                      |\n",
       "| previousnoshow         | 1                      | 174 (9.7%)             | 150 (9.1%)             | 24 (17.4%)             | 0.002                  |\n",
       "| svcavg                 | Mean (SD)              | 65.4 (36.7)            | 66.7 (34.7)            | 50.5 (53.4)            | NA                     |\n",
       "| svcavg                 | Median (IQR)           | 63.0 (44.7-77.5)       | 70.2 (44.7-77.5)       | 44.7 (21.9-77.5)       | 0.001                  |\n",
       "| lastsvcavg             | Mean (SD)              | 30.4 (40.7)            | 30.3 (40.5)            | 30.8 (42.6)            | NA                     |\n",
       "| lastsvcavg             | Median (IQR)           | 0.0 (0.0-44.7)         | 0.0 (0.0-44.7)         | 0.0 (0.0-44.7)         | 0.911                  |\n",
       "| x0_wkday_1_0_hour_10_0 | 1                      | 56 (3.1%)              | 45 (2.7%)              | 11 (8.0%)              | 0.002                  |\n",
       "| x0_wkday_1_0_hour_8_0  | 1                      | 7 (0.4%)               | 4 (0.2%)               | 3 (2.2%)               | 0                      |\n",
       "| x0_wkday_3_0_hour_14_0 | 1                      | 38 (2.1%)              | 32 (1.9%)              | 6 (4.3%)               | 0.113                  |\n",
       "| x0_wkday_4_0_hour_10_0 | 1                      | 36 (2.0%)              | 30 (1.8%)              | 6 (4.3%)               | 0.085                  |\n",
       "| x0_wkday_4_0_hour_9_0  | 1                      | 35 (2.0%)              | 28 (1.7%)              | 7 (5.1%)               | 0.015                  |\n",
       "| x0_wkday_5_0_hour_14_0 | 1                      | 48 (2.7%)              | 48 (2.9%)              | 0 (0.0%)               | 0.047                  |\n",
       "| x1_COLOR               | 1                      | 302 (16.8%)            | 277 (16.7%)            | 25 (18.1%)             | 0.766                  |\n",
       "| x1_STYLE               | 1                      | 1,423 (79.4%)          | 1,341 (81.0%)          | 82 (59.4%)             | 0                      |\n",
       "| x2_CBAL                | 1                      | 20 (1.1%)              | 13 (0.8%)              | 7 (5.1%)               | 0                      |\n",
       "| x2_CDPB                | 1                      | 9 (0.5%)               | 5 (0.3%)               | 4 (2.9%)               | 0                      |\n",
       "| x2_CHLPL               | 1                      | 39 (2.2%)              | 36 (2.2%)              | 3 (2.2%)               | 0.999                  |\n",
       "| x2_CON                 | 1                      | 56 (3.1%)              | 26 (1.6%)              | 30 (21.7%)             | 0                      |\n",
       "| x2_FRI                 | 1                      | 4 (0.2%)               | 0 (0.0%)               | 4 (2.9%)               | 0                      |\n",
       "| x2_SBD                 | 1                      | 294 (16.4%)            | 267 (16.1%)            | 27 (19.6%)             | 0.354                  |\n",
       "| x2_SHCW                | 1                      | 674 (37.6%)            | 649 (39.2%)            | 25 (18.1%)             | 0                      |\n",
       "| x3_BECKY               | 1                      | 398 (22.2%)            | 368 (22.2%)            | 30 (21.7%)             | 0.977                  |\n",
       "| x3_KELLY               | 1                      | 279 (15.6%)            | 250 (15.1%)            | 29 (21.0%)             | 0.086                  |\n",
       "| x3_SINEAD              | 1                      | 179 (10.0%)            | 170 (10.3%)            | 9 (6.5%)               | 0.206                  |\n",
       "| x4_JJ                  | 1                      | 368 (20.5%)            | 332 (20.1%)            | 36 (26.1%)             | 0.115                  |\n",
       "| x4_KELLY               | 1                      | 53 (3.0%)              | 45 (2.7%)              | 8 (5.8%)               | 0.074                  |\n",
       "| x5_lastappt31_45       | 1                      | 230 (12.8%)            | 218 (13.2%)            | 12 (8.7%)              | 0.168                  |\n",
       "| x7_last60dlatecancel_1 | 1                      | 41 (2.3%)              | 35 (2.1%)              | 6 (4.3%)               | 0.165                  |\n",
       "| x8_last60regcancel_0   | 1                      | 1,661 (92.6%)          | 1,538 (92.9%)          | 123 (89.1%)            | 0.141                  |\n",
       "| x9_10_0                | 1                      | 222 (12.4%)            | 196 (11.8%)            | 26 (18.8%)             | 0.024                  |\n",
       "| x9_12_0                | 1                      | 197 (11.0%)            | 177 (10.7%)            | 20 (14.5%)             | 0.219                  |\n",
       "| x10_5_0                | 1                      | 355 (19.8%)            | 335 (20.2%)            | 20 (14.5%)             | 0.129                  |\n",
       "| x10_6_0                | 1                      | 52 (2.9%)              | 41 (2.5%)              | 11 (8.0%)              | 0.001                  |\n",
       "| x11_2_0                | 1                      | 139 (7.8%)             | 120 (7.3%)             | 19 (13.8%)             | 0.01                   |\n",
       "| x11_3_0                | 1                      | 188 (10.5%)            | 181 (10.9%)            | 7 (5.1%)               | 0.044                  |\n",
       "| x13_1_0                | 1                      | 159 (8.9%)             | 144 (8.7%)             | 15 (10.9%)             | 0.481                  |\n",
       "| x13_5_0                | 1                      | 423 (23.6%)            | 385 (23.3%)            | 38 (27.5%)             | 0.302                  |\n",
       "| last60dbillamt01       | Mean (SD)              | 0.2 (0.2)              | 0.2 (0.3)              | 0.2 (0.2)              | NA                     |\n",
       "| last60dbillamt01       | Median (IQR)           | 0.0 (0.0-0.3)          | 0.0 (0.0-0.3)          | 0.0 (0.0-0.3)          | 0.846                  |\n",
       "| last60dcolor01         | Mean (SD)              | 0.0 (0.1)              | 0.0 (0.1)              | 0.0 (0.1)              | NA                     |\n",
       "| last60dcolor01         | Median (IQR)           | 0.0 (0.0-0.0)          | 0.0 (0.0-0.0)          | 0.0 (0.0-0.0)          | 0.062                  |\n",
       "| last60dproduct01       | Mean (SD)              | 0.0 (0.1)              | 0.0 (0.1)              | 0.0 (0.1)              | NA                     |\n",
       "| last60dproduct01       | Median (IQR)           | 0.0 (0.0-0.0)          | 0.0 (0.0-0.0)          | 0.0 (0.0-0.0)          | 0.634                  |\n",
       "\n"
      ],
      "text/plain": [
       "   V1                     V2           Pop              0               \n",
       "1  Individuals            n            1793             1655            \n",
       "2  firstapp               1            917 (51.1%)      853 (51.5%)     \n",
       "3  multipleappt           1            433 (24.1%)      431 (26.0%)     \n",
       "4  previousnoshow         1            174 (9.7%)       150 (9.1%)      \n",
       "5  svcavg                 Mean (SD)    65.4 (36.7)      66.7 (34.7)     \n",
       "6  svcavg                 Median (IQR) 63.0 (44.7-77.5) 70.2 (44.7-77.5)\n",
       "7  lastsvcavg             Mean (SD)    30.4 (40.7)      30.3 (40.5)     \n",
       "8  lastsvcavg             Median (IQR) 0.0 (0.0-44.7)   0.0 (0.0-44.7)  \n",
       "9  x0_wkday_1_0_hour_10_0 1            56 (3.1%)        45 (2.7%)       \n",
       "10 x0_wkday_1_0_hour_8_0  1            7 (0.4%)         4 (0.2%)        \n",
       "11 x0_wkday_3_0_hour_14_0 1            38 (2.1%)        32 (1.9%)       \n",
       "12 x0_wkday_4_0_hour_10_0 1            36 (2.0%)        30 (1.8%)       \n",
       "13 x0_wkday_4_0_hour_9_0  1            35 (2.0%)        28 (1.7%)       \n",
       "14 x0_wkday_5_0_hour_14_0 1            48 (2.7%)        48 (2.9%)       \n",
       "15 x1_COLOR               1            302 (16.8%)      277 (16.7%)     \n",
       "16 x1_STYLE               1            1,423 (79.4%)    1,341 (81.0%)   \n",
       "17 x2_CBAL                1            20 (1.1%)        13 (0.8%)       \n",
       "18 x2_CDPB                1            9 (0.5%)         5 (0.3%)        \n",
       "19 x2_CHLPL               1            39 (2.2%)        36 (2.2%)       \n",
       "20 x2_CON                 1            56 (3.1%)        26 (1.6%)       \n",
       "21 x2_FRI                 1            4 (0.2%)         0 (0.0%)        \n",
       "22 x2_SBD                 1            294 (16.4%)      267 (16.1%)     \n",
       "23 x2_SHCW                1            674 (37.6%)      649 (39.2%)     \n",
       "24 x3_BECKY               1            398 (22.2%)      368 (22.2%)     \n",
       "25 x3_KELLY               1            279 (15.6%)      250 (15.1%)     \n",
       "26 x3_SINEAD              1            179 (10.0%)      170 (10.3%)     \n",
       "27 x4_JJ                  1            368 (20.5%)      332 (20.1%)     \n",
       "28 x4_KELLY               1            53 (3.0%)        45 (2.7%)       \n",
       "29 x5_lastappt31_45       1            230 (12.8%)      218 (13.2%)     \n",
       "30 x7_last60dlatecancel_1 1            41 (2.3%)        35 (2.1%)       \n",
       "31 x8_last60regcancel_0   1            1,661 (92.6%)    1,538 (92.9%)   \n",
       "32 x9_10_0                1            222 (12.4%)      196 (11.8%)     \n",
       "33 x9_12_0                1            197 (11.0%)      177 (10.7%)     \n",
       "34 x10_5_0                1            355 (19.8%)      335 (20.2%)     \n",
       "35 x10_6_0                1            52 (2.9%)        41 (2.5%)       \n",
       "36 x11_2_0                1            139 (7.8%)       120 (7.3%)      \n",
       "37 x11_3_0                1            188 (10.5%)      181 (10.9%)     \n",
       "38 x13_1_0                1            159 (8.9%)       144 (8.7%)      \n",
       "39 x13_5_0                1            423 (23.6%)      385 (23.3%)     \n",
       "40 last60dbillamt01       Mean (SD)    0.2 (0.2)        0.2 (0.3)       \n",
       "41 last60dbillamt01       Median (IQR) 0.0 (0.0-0.3)    0.0 (0.0-0.3)   \n",
       "42 last60dcolor01         Mean (SD)    0.0 (0.1)        0.0 (0.1)       \n",
       "43 last60dcolor01         Median (IQR) 0.0 (0.0-0.0)    0.0 (0.0-0.0)   \n",
       "44 last60dproduct01       Mean (SD)    0.0 (0.1)        0.0 (0.1)       \n",
       "45 last60dproduct01       Median (IQR) 0.0 (0.0-0.0)    0.0 (0.0-0.0)   \n",
       "   1                pval \n",
       "1  138              NA   \n",
       "2  64 (46.4%)       0.281\n",
       "3  2 (1.4%)         0    \n",
       "4  24 (17.4%)       0.002\n",
       "5  50.5 (53.4)      NA   \n",
       "6  44.7 (21.9-77.5) 0.001\n",
       "7  30.8 (42.6)      NA   \n",
       "8  0.0 (0.0-44.7)   0.911\n",
       "9  11 (8.0%)        0.002\n",
       "10 3 (2.2%)         0    \n",
       "11 6 (4.3%)         0.113\n",
       "12 6 (4.3%)         0.085\n",
       "13 7 (5.1%)         0.015\n",
       "14 0 (0.0%)         0.047\n",
       "15 25 (18.1%)       0.766\n",
       "16 82 (59.4%)       0    \n",
       "17 7 (5.1%)         0    \n",
       "18 4 (2.9%)         0    \n",
       "19 3 (2.2%)         0.999\n",
       "20 30 (21.7%)       0    \n",
       "21 4 (2.9%)         0    \n",
       "22 27 (19.6%)       0.354\n",
       "23 25 (18.1%)       0    \n",
       "24 30 (21.7%)       0.977\n",
       "25 29 (21.0%)       0.086\n",
       "26 9 (6.5%)         0.206\n",
       "27 36 (26.1%)       0.115\n",
       "28 8 (5.8%)         0.074\n",
       "29 12 (8.7%)        0.168\n",
       "30 6 (4.3%)         0.165\n",
       "31 123 (89.1%)      0.141\n",
       "32 26 (18.8%)       0.024\n",
       "33 20 (14.5%)       0.219\n",
       "34 20 (14.5%)       0.129\n",
       "35 11 (8.0%)        0.001\n",
       "36 19 (13.8%)       0.01 \n",
       "37 7 (5.1%)         0.044\n",
       "38 15 (10.9%)       0.481\n",
       "39 38 (27.5%)       0.302\n",
       "40 0.2 (0.2)        NA   \n",
       "41 0.0 (0.0-0.3)    0.846\n",
       "42 0.0 (0.1)        NA   \n",
       "43 0.0 (0.0-0.0)    0.062\n",
       "44 0.0 (0.1)        NA   \n",
       "45 0.0 (0.0-0.0)    0.634"
      ]
     },
     "metadata": {},
     "output_type": "display_data"
    }
   ],
   "source": [
    "Table1(data = data,x = vn,y = \"noshowflag\")"
   ]
  },
  {
   "cell_type": "code",
   "execution_count": 15,
   "metadata": {},
   "outputs": [],
   "source": [
    "############### TRAIN_TEST #######################\n",
    "train_test <- function(data=NULL,train_name=NULL,test_name=NULL,prop=NULL,seed=123,tableone=False)\n",
    "{\n",
    "  checkTrainTest <- function(train=NULL,test=NULL) {\n",
    "     train[[\"traintest_ind_\"]] <- 1\n",
    "     test[[\"traintest_ind_\"]] <- 2\n",
    "     data <- rbind(train, test)\n",
    "     tab <- Table1(data=data, y=\"traintest_ind_\",x=names(train),messages = F)\n",
    "     vars <- subset(tab, pval < 0.05)$V1\n",
    "     if (length(vars)==1) {\n",
    "        message(\"You got a perfectly balanced training and test datasets\")\n",
    "        message(\" \")\n",
    "     } else {\n",
    "        message(\"WARNING: The following variables are not balanced between the training and test datasets:\")\n",
    "       for (v in vars) { message(paste(\"*\",v)) }\n",
    "          message(\"You can try to change the seed value until you get a balanced partition.\")\n",
    "          message(\"Alternatively, you can ommit this warning and exclude those variables from your model\")\n",
    "          message(\" \")\n",
    "       }\n",
    "       return(tab)\n",
    "  }\n",
    "  ## set the seed to make your partition reproductible\n",
    "  set.seed(seed)\n",
    "  smp_size <- floor(prop * nrow(data))\n",
    "  train_ind <- sample(seq_len(nrow(data)), size = smp_size)\n",
    "  assign(train_name, data[train_ind, ], envir=globalenv())\n",
    "  assign(test_name, data[-train_ind, ], envir=globalenv())\n",
    "  tab = checkTrainTest(get(train_name),get(test_name))\n",
    "  message(paste(\"Dataset partitioned into:\"))\n",
    "  message(paste(\" + Train dataset:\", train_name))\n",
    "  message(paste(\" + Test dataset:\", test_name))\n",
    "  if(tableone==TRUE) {\n",
    "     return(tab)\n",
    "  } \n",
    "}"
   ]
  },
  {
   "cell_type": "code",
   "execution_count": 16,
   "metadata": {},
   "outputs": [
    {
     "data": {
      "text/plain": [
       "\n",
       "   0    1 \n",
       "1655  138 "
      ]
     },
     "metadata": {},
     "output_type": "display_data"
    },
    {
     "data": {
      "text/plain": [
       "\n",
       "        0         1 \n",
       "92.303402  7.696598 "
      ]
     },
     "metadata": {},
     "output_type": "display_data"
    }
   ],
   "source": [
    "table(data$noshowflag)\n",
    "table(data$noshowflag)/nrow(data)*100"
   ]
  },
  {
   "cell_type": "markdown",
   "metadata": {},
   "source": [
    "## resampling original dataset"
   ]
  },
  {
   "cell_type": "code",
   "execution_count": 17,
   "metadata": {},
   "outputs": [
    {
     "data": {
      "text/html": [
       "1793"
      ],
      "text/latex": [
       "1793"
      ],
      "text/markdown": [
       "1793"
      ],
      "text/plain": [
       "[1] 1793"
      ]
     },
     "metadata": {},
     "output_type": "display_data"
    }
   ],
   "source": [
    "#resample data\n",
    "set.seed(42)\n",
    "rows <- sample(nrow(data))\n",
    "data <- data[rows, ]\n",
    "nrow(data)"
   ]
  },
  {
   "cell_type": "markdown",
   "metadata": {},
   "source": [
    "## Selecting test from  original dataset"
   ]
  },
  {
   "cell_type": "code",
   "execution_count": 18,
   "metadata": {},
   "outputs": [
    {
     "name": "stdout",
     "output_type": "stream",
     "text": [
      "  |======================================================================| 100%"
     ]
    },
    {
     "name": "stderr",
     "output_type": "stream",
     "text": [
      "Coefficient covariances computed by hccm()\n",
      "Coefficient covariances computed by hccm()\n",
      "You got a perfectly balanced training and test datasets\n",
      " \n",
      "Dataset partitioned into:\n",
      " + Train dataset: train\n",
      " + Test dataset: test\n"
     ]
    }
   ],
   "source": [
    "#1000000000\n",
    "tab1 <- train_test(data = data, train_name = \"train\", test_name = \"test\",prop = 0.75, seed = 1000000000, tableone=T)"
   ]
  },
  {
   "cell_type": "code",
   "execution_count": 19,
   "metadata": {},
   "outputs": [
    {
     "data": {
      "text/html": [
       "'train 1344 test 449'"
      ],
      "text/latex": [
       "'train 1344 test 449'"
      ],
      "text/markdown": [
       "'train 1344 test 449'"
      ],
      "text/plain": [
       "[1] \"train 1344 test 449\""
      ]
     },
     "metadata": {},
     "output_type": "display_data"
    },
    {
     "name": "stdout",
     "output_type": "stream",
     "text": [
      "[1] \"*****train*****\"\n"
     ]
    },
    {
     "data": {
      "text/plain": [
       "\n",
       "   0    1 \n",
       "1244  100 "
      ]
     },
     "metadata": {},
     "output_type": "display_data"
    },
    {
     "data": {
      "text/plain": [
       "\n",
       "        0         1 \n",
       "92.559524  7.440476 "
      ]
     },
     "metadata": {},
     "output_type": "display_data"
    },
    {
     "name": "stdout",
     "output_type": "stream",
     "text": [
      "[1] \"******************\"\n",
      "[1] \"*****test*****\"\n"
     ]
    },
    {
     "data": {
      "text/plain": [
       "\n",
       "  0   1 \n",
       "411  38 "
      ]
     },
     "metadata": {},
     "output_type": "display_data"
    },
    {
     "data": {
      "text/plain": [
       "\n",
       "        0         1 \n",
       "91.536748  8.463252 "
      ]
     },
     "metadata": {},
     "output_type": "display_data"
    },
    {
     "name": "stdout",
     "output_type": "stream",
     "text": [
      "[1] \"******************\"\n"
     ]
    }
   ],
   "source": [
    "size <- paste('train',nrow(train),'test',nrow(test))\n",
    "size\n",
    "print('*****train*****')\n",
    "table(train$noshowflag)\n",
    "table(train$noshowflag)/nrow(train)*100\n",
    "print('******************')\n",
    "print('*****test*****')\n",
    "table(test$noshowflag)\n",
    "table(test$noshowflag)/nrow(test)*100\n",
    "print('******************')"
   ]
  },
  {
   "cell_type": "code",
   "execution_count": 20,
   "metadata": {},
   "outputs": [
    {
     "name": "stderr",
     "output_type": "stream",
     "text": [
      "randomForest 4.6-14\n",
      "Type rfNews() to see new features/changes/bug fixes.\n",
      "\n",
      "Attaching package: 'randomForest'\n",
      "\n",
      "The following object is masked from 'package:ggplot2':\n",
      "\n",
      "    margin\n",
      "\n",
      "The following object is masked from 'package:dplyr':\n",
      "\n",
      "    combine\n",
      "\n"
     ]
    }
   ],
   "source": [
    "library(randomForest)"
   ]
  },
  {
   "cell_type": "code",
   "execution_count": 21,
   "metadata": {},
   "outputs": [
    {
     "data": {
      "text/html": [
       "0.614771417595083"
      ],
      "text/latex": [
       "0.614771417595083"
      ],
      "text/markdown": [
       "0.614771417595083"
      ],
      "text/plain": [
       "Area under the curve: 0.6148"
      ]
     },
     "metadata": {},
     "output_type": "display_data"
    }
   ],
   "source": [
    "set.seed(10000)\n",
    "mod1 <- randomForest(noshowflag ~., data=train)\n",
    "auc1 <- pROC::auc(test$noshowflag, factor(predict(mod1,newdata=test),levels=sort(unique(predict(mod1,newdata=test))),ordered=TRUE))\n",
    "auc1"
   ]
  },
  {
   "cell_type": "code",
   "execution_count": 22,
   "metadata": {},
   "outputs": [
    {
     "data": {
      "text/html": [
       "<table>\n",
       "<thead><tr><th scope=col>numPositive</th><th scope=col>numNegative</th><th scope=col>nInstances</th></tr></thead>\n",
       "<tbody>\n",
       "\t<tr><td>100 </td><td>1244</td><td>1144</td></tr>\n",
       "</tbody>\n",
       "</table>\n"
      ],
      "text/latex": [
       "\\begin{tabular}{lll}\n",
       " numPositive & numNegative & nInstances\\\\\n",
       "\\hline\n",
       "\t 100  & 1244 & 1144\\\\\n",
       "\\end{tabular}\n"
      ],
      "text/markdown": [
       "\n",
       "| numPositive | numNegative | nInstances |\n",
       "|---|---|---|\n",
       "| 100  | 1244 | 1144 |\n",
       "\n"
      ],
      "text/plain": [
       "     numPositive numNegative nInstances\n",
       "[1,] 100         1244        1144      "
      ]
     },
     "metadata": {},
     "output_type": "display_data"
    }
   ],
   "source": [
    "numPositive <- length(which(train$noshowflag == 1))\n",
    "numNegative <- length(which(train$noshowflag == 0))\n",
    "nInstances <- numNegative - numPositive\n",
    "cbind(numPositive=numPositive,numNegative=numNegative,nInstances=nInstances)"
   ]
  },
  {
   "cell_type": "markdown",
   "metadata": {},
   "source": [
    "## oversampling generating"
   ]
  },
  {
   "cell_type": "code",
   "execution_count": 23,
   "metadata": {},
   "outputs": [
    {
     "data": {
      "text/plain": [
       "\n",
       "   0    1 \n",
       "1244 1244 "
      ]
     },
     "metadata": {},
     "output_type": "display_data"
    },
    {
     "data": {
      "text/plain": [
       "\n",
       " 0  1 \n",
       "50 50 "
      ]
     },
     "metadata": {},
     "output_type": "display_data"
    },
    {
     "data": {
      "text/html": [
       "0.673037520809323"
      ],
      "text/latex": [
       "0.673037520809323"
      ],
      "text/markdown": [
       "0.673037520809323"
      ],
      "text/plain": [
       "Area under the curve: 0.673"
      ]
     },
     "metadata": {},
     "output_type": "display_data"
    }
   ],
   "source": [
    "#over sampling\n",
    "data_balanced_over <- ovun.sample(noshowflag ~ ., data = train, method = \"over\",seed=100,N=numNegative*2)$data\n",
    "table(data_balanced_over$noshowflag)\n",
    "table(data_balanced_over$noshowflag)/nrow(data_balanced_over)*100\n",
    "set.seed(10000)\n",
    "mod1 <- randomForest(noshowflag ~., data=data_balanced_over)\n",
    "auc1 <- pROC::auc(test$noshowflag, factor(predict(mod1,newdata=test),levels=sort(unique(predict(mod1,newdata=test))),ordered=TRUE))\n",
    "auc1"
   ]
  },
  {
   "cell_type": "markdown",
   "metadata": {},
   "source": [
    "## undersampling generating"
   ]
  },
  {
   "cell_type": "code",
   "execution_count": 24,
   "metadata": {},
   "outputs": [
    {
     "data": {
      "text/plain": [
       "\n",
       "  0   1 \n",
       "100 100 "
      ]
     },
     "metadata": {},
     "output_type": "display_data"
    },
    {
     "data": {
      "text/plain": [
       "\n",
       " 0  1 \n",
       "50 50 "
      ]
     },
     "metadata": {},
     "output_type": "display_data"
    },
    {
     "data": {
      "text/html": [
       "0.677327442694327"
      ],
      "text/latex": [
       "0.677327442694327"
      ],
      "text/markdown": [
       "0.677327442694327"
      ],
      "text/plain": [
       "Area under the curve: 0.6773"
      ]
     },
     "metadata": {},
     "output_type": "display_data"
    }
   ],
   "source": [
    "#under sampling\n",
    "data_balanced_under <- ovun.sample(noshowflag ~ ., data = train, method = \"under\",seed=100,N=numPositive*2)$data\n",
    "table(data_balanced_under$noshowflag)\n",
    "table(data_balanced_under$noshowflag)/nrow(data_balanced_under)*100\n",
    "set.seed(10000)\n",
    "mod1 <- randomForest(noshowflag ~., data=data_balanced_under)\n",
    "auc1 <- pROC::auc(test$noshowflag, factor(predict(mod1,newdata=test),levels=sort(unique(predict(mod1,newdata=test))),ordered=TRUE))\n",
    "auc1"
   ]
  },
  {
   "cell_type": "markdown",
   "metadata": {},
   "source": [
    "## over under sampling generating"
   ]
  },
  {
   "cell_type": "code",
   "execution_count": 25,
   "metadata": {},
   "outputs": [
    {
     "data": {
      "text/plain": [
       "\n",
       "   0    1 \n",
       "1195 1224 "
      ]
     },
     "metadata": {},
     "output_type": "display_data"
    },
    {
     "data": {
      "text/plain": [
       "\n",
       "       0        1 \n",
       "49.40058 50.59942 "
      ]
     },
     "metadata": {},
     "output_type": "display_data"
    },
    {
     "data": {
      "text/html": [
       "0.703995389934691"
      ],
      "text/latex": [
       "0.703995389934691"
      ],
      "text/markdown": [
       "0.703995389934691"
      ],
      "text/plain": [
       "Area under the curve: 0.704"
      ]
     },
     "metadata": {},
     "output_type": "display_data"
    }
   ],
   "source": [
    "#overunder sampling\n",
    "totalrow <-round(nrow(train)*1.8)\n",
    "data_balanced_overunder <- ovun.sample(noshowflag ~ ., data = train, method = \"both\",seed=100,p=0.5,N=totalrow)$data\n",
    "table(data_balanced_overunder$noshowflag)\n",
    "table(data_balanced_overunder$noshowflag)/nrow(data_balanced_overunder)*100\n",
    "set.seed(10000)\n",
    "mod1 <- randomForest(noshowflag ~., data=data_balanced_overunder)\n",
    "auc1 <- pROC::auc(test$noshowflag, factor(predict(mod1,newdata=test),levels=sort(unique(predict(mod1,newdata=test))),ordered=TRUE))\n",
    "auc1"
   ]
  },
  {
   "cell_type": "markdown",
   "metadata": {},
   "source": [
    "## training generating a more balanced dataset using ROSE\n"
   ]
  },
  {
   "cell_type": "code",
   "execution_count": 26,
   "metadata": {},
   "outputs": [
    {
     "data": {
      "text/plain": [
       "\n",
       "   0    1 \n",
       "1222 1197 "
      ]
     },
     "metadata": {},
     "output_type": "display_data"
    },
    {
     "data": {
      "text/plain": [
       "\n",
       "       0        1 \n",
       "50.51674 49.48326 "
      ]
     },
     "metadata": {},
     "output_type": "display_data"
    },
    {
     "data": {
      "text/html": [
       "0.705436035343834"
      ],
      "text/latex": [
       "0.705436035343834"
      ],
      "text/markdown": [
       "0.705436035343834"
      ],
      "text/plain": [
       "Area under the curve: 0.7054"
      ]
     },
     "metadata": {},
     "output_type": "display_data"
    }
   ],
   "source": [
    "if(!require(imbalance)){install.packages(\"imbalance\");require(imbalance)}\n",
    "### ROSE = Random Over-Sampling Examples\n",
    "if(!require(ROSE)){install.packages(\"ROSE\");require(ROSE)}\n",
    "totalrow <-round(nrow(train)*1.8)\n",
    "data.rose <- ROSE(noshowflag ~ ., data = train, p=0.5, N=totalrow, seed = 70000)$data\n",
    "table(data.rose$noshowflag)\n",
    "table(data.rose$noshowflag)/nrow(data.rose)*100\n",
    "set.seed(10000)\n",
    "mod1 <- randomForest(noshowflag ~., data=data.rose)\n",
    "auc1 <- pROC::auc(test$noshowflag, factor(predict(mod1,newdata=test),levels=sort(unique(predict(mod1,newdata=test))),ordered=TRUE))\n",
    "auc1"
   ]
  },
  {
   "cell_type": "markdown",
   "metadata": {},
   "source": [
    "### Probability Density Function Estimation Based Oversampling"
   ]
  },
  {
   "cell_type": "code",
   "execution_count": 27,
   "metadata": {},
   "outputs": [
    {
     "name": "stdout",
     "output_type": "stream",
     "text": [
      "Error in solve.default(covariance) : \n",
      "  Lapack routine dgesv: system is exactly singular: U[2,2] = 0\n"
     ]
    },
    {
     "ename": "ERROR",
     "evalue": "Error in pdfos(dataset = train2, numInstances = 1000, classAttr = \"noshowflag\"): Not a valid method for this dataset. Variance of the positive class is not an invertible matrix\n",
     "output_type": "error",
     "traceback": [
      "Error in pdfos(dataset = train2, numInstances = 1000, classAttr = \"noshowflag\"): Not a valid method for this dataset. Variance of the positive class is not an invertible matrix\nTraceback:\n",
      "1. pdfos(dataset = train2, numInstances = 1000, classAttr = \"noshowflag\")",
      "2. stop(paste(\"Not a valid method for this dataset.\", \"Variance of the positive class is not an invertible matrix\"))"
     ]
    }
   ],
   "source": [
    "train2<-data.frame(train)\n",
    "indx <- sapply(train, is.factor)    \n",
    "train2[indx] <- lapply( train2[indx], function(x) as.numeric(as.character(x)))\n",
    "#lapply(train2,class)\n",
    "newsamples <- pdfos(dataset=train2, numInstances = 1000,classAttr = \"noshowflag\")"
   ]
  },
  {
   "cell_type": "markdown",
   "metadata": {},
   "source": [
    "## Train dev dataset obtained from rose "
   ]
  },
  {
   "cell_type": "code",
   "execution_count": 28,
   "metadata": {},
   "outputs": [
    {
     "name": "stdout",
     "output_type": "stream",
     "text": [
      "  |======================================================================| 100%"
     ]
    },
    {
     "name": "stderr",
     "output_type": "stream",
     "text": [
      "Coefficient covariances computed by hccm()\n",
      "Coefficient covariances computed by hccm()\n",
      "Coefficient covariances computed by hccm()\n",
      "You got a perfectly balanced training and test datasets\n",
      " \n",
      "Dataset partitioned into:\n",
      " + Train dataset: train2\n",
      " + Test dataset: dev\n"
     ]
    }
   ],
   "source": [
    "#100000\n",
    "tab2 <- train_test(data = data.rose, train_name = \"train2\", test_name = \"dev\",prop = 0.8, seed = 100000, tableone=T)"
   ]
  },
  {
   "cell_type": "code",
   "execution_count": 29,
   "metadata": {},
   "outputs": [
    {
     "data": {
      "text/html": [
       "'train 1935 dev 484'"
      ],
      "text/latex": [
       "'train 1935 dev 484'"
      ],
      "text/markdown": [
       "'train 1935 dev 484'"
      ],
      "text/plain": [
       "[1] \"train 1935 dev 484\""
      ]
     },
     "metadata": {},
     "output_type": "display_data"
    },
    {
     "data": {
      "text/plain": [
       "\n",
       "  0   1 \n",
       "981 954 "
      ]
     },
     "metadata": {},
     "output_type": "display_data"
    },
    {
     "data": {
      "text/plain": [
       "\n",
       "       0        1 \n",
       "50.69767 49.30233 "
      ]
     },
     "metadata": {},
     "output_type": "display_data"
    },
    {
     "data": {
      "text/plain": [
       "\n",
       "  0   1 \n",
       "241 243 "
      ]
     },
     "metadata": {},
     "output_type": "display_data"
    },
    {
     "data": {
      "text/plain": [
       "\n",
       "       0        1 \n",
       "49.79339 50.20661 "
      ]
     },
     "metadata": {},
     "output_type": "display_data"
    }
   ],
   "source": [
    "size <- paste('train',nrow(train2),'dev',nrow(dev))\n",
    "size\n",
    "table(train2$noshowflag)\n",
    "table(train2$noshowflag)/nrow(train2)*100\n",
    "table(dev$noshowflag)\n",
    "table(dev$noshowflag)/nrow(dev)*100"
   ]
  },
  {
   "cell_type": "code",
   "execution_count": 32,
   "metadata": {},
   "outputs": [],
   "source": [
    "set.seed(42)\n",
    "rows <- sample(nrow(data.rose))\n",
    "data.rose <- data.rose[rows, ]"
   ]
  },
  {
   "cell_type": "code",
   "execution_count": 33,
   "metadata": {},
   "outputs": [],
   "source": [
    "writeSQL(data.rose,'rfulltrain')\n",
    "writeSQL(train2,'rtrain') \n",
    "writeSQL(dev,'rdev') \n",
    "writeSQL(test,'rtest')"
   ]
  },
  {
   "cell_type": "code",
   "execution_count": null,
   "metadata": {},
   "outputs": [],
   "source": []
  }
 ],
 "metadata": {
  "kernelspec": {
   "display_name": "R",
   "language": "R",
   "name": "ir"
  },
  "language_info": {
   "codemirror_mode": "r",
   "file_extension": ".r",
   "mimetype": "text/x-r-source",
   "name": "R",
   "pygments_lexer": "r",
   "version": "3.5.3"
  }
 },
 "nbformat": 4,
 "nbformat_minor": 2
}
