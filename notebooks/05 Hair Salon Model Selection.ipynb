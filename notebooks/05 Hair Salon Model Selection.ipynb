{
 "cells": [
  {
   "cell_type": "markdown",
   "metadata": {},
   "source": [
    "# Model Selection"
   ]
  },
  {
   "cell_type": "code",
   "execution_count": 48,
   "metadata": {},
   "outputs": [],
   "source": [
    "import numpy as np\n",
    "import pandas as pd\n",
    "import matplotlib.pyplot as plt\n",
    "import seaborn as sns\n",
    "import sqlite3 as sql3\n",
    "import random\n",
    "\n",
    "random.seed(1000)\n",
    "np.random.seed(1000)\n",
    "\n",
    "sns.set(style=\"darkgrid\")\n",
    "ROOT_PATH=\"C:/Users/moshe/Documents/projectML/p1\"\n",
    "DATA_PATH = \"%s/data/raw\" % ROOT_PATH\n",
    "DB_FILE = \"%s/hairsalon.db\" % DATA_PATH\n",
    "def readSQL(query):\n",
    "    import pandas as pd\n",
    "    import sqlite3 as sql3\n",
    "    db = sql3.connect(DB_FILE)\n",
    "    df = pd.read_sql_query(query, db)\n",
    "    db.close()\n",
    "    return(df)\n",
    "\n",
    "db=sql3.connect(DB_FILE)"
   ]
  },
  {
   "cell_type": "code",
   "execution_count": 49,
   "metadata": {},
   "outputs": [
    {
     "name": "stdout",
     "output_type": "stream",
     "text": [
      "[1935, 484, 2419]\n"
     ]
    }
   ],
   "source": [
    "def readXy(query):\n",
    "    df=readSQL(query)\n",
    "    for c in df.columns:\n",
    "        if df[c].nunique() < 14:\n",
    "            df[c] = df[c].astype('category')\n",
    "    df=df.reindex(np.random.permutation(df.index)).reset_index(drop=True)\n",
    "    X=df.loc[:,df.columns[1:]]\n",
    "    y=df['noshowflag']\n",
    "    return X,y\n",
    "\n",
    "query=\"\"\"select * from rtest\"\"\"\n",
    "Xtest,ytest=readXy(query)\n",
    "query=\"\"\"select * from rtrain\"\"\"\n",
    "Xtrain,ytrain=readXy(query)\n",
    "query=\"\"\"select * from rdev\"\"\"\n",
    "Xdev,ydev=readXy(query)\n",
    "Xftrain=pd.concat([Xtrain,Xdev])\n",
    "yftrain=pd.concat([ytrain,ydev])\n",
    "print([len(Xtrain),len(Xdev),len(Xftrain)])\n",
    "Xftrain=Xftrain.reset_index(drop=True)\n",
    "yftrain=yftrain.reset_index(drop=True)\n",
    "test_fold1=np.full(len(Xtrain),-1)\n",
    "test_fold2=np.full(len(Xdev),0)\n",
    "test_fold=np.append(test_fold1,test_fold2)"
   ]
  },
  {
   "cell_type": "markdown",
   "metadata": {},
   "source": [
    "## Applying Lasso and Ridge Logistic Regression"
   ]
  },
  {
   "cell_type": "code",
   "execution_count": 50,
   "metadata": {},
   "outputs": [
    {
     "name": "stderr",
     "output_type": "stream",
     "text": [
      "C:\\Users\\moshe\\Anaconda3\\lib\\site-packages\\sklearn\\linear_model\\logistic.py:433: FutureWarning: Default solver will be changed to 'lbfgs' in 0.22. Specify a solver to silence this warning.\n",
      "  FutureWarning)\n"
     ]
    },
    {
     "data": {
      "text/plain": [
       "LogisticRegression(C=1.0, class_weight=None, dual=False, fit_intercept=True,\n",
       "          intercept_scaling=1, max_iter=100, multi_class='warn',\n",
       "          n_jobs=None, penalty='l1', random_state=10, solver='warn',\n",
       "          tol=0.0001, verbose=0, warm_start=False)"
      ]
     },
     "execution_count": 50,
     "metadata": {},
     "output_type": "execute_result"
    }
   ],
   "source": [
    "from sklearn.linear_model import LogisticRegression\n",
    "modellasso = LogisticRegression(penalty='l1',random_state=10)\n",
    "modellasso.fit(Xtrain,ytrain)"
   ]
  },
  {
   "cell_type": "code",
   "execution_count": 51,
   "metadata": {},
   "outputs": [
    {
     "name": "stdout",
     "output_type": "stream",
     "text": [
      "Accuracy - Train: 0.8155038759689922, Dev: 0.8264462809917356\n"
     ]
    }
   ],
   "source": [
    "print(\"Accuracy - Train: %s, Dev: %s\" % (modellasso.score(Xtrain,ytrain), modellasso.score(Xdev,ydev)))"
   ]
  },
  {
   "cell_type": "code",
   "execution_count": 52,
   "metadata": {},
   "outputs": [
    {
     "name": "stderr",
     "output_type": "stream",
     "text": [
      "C:\\Users\\moshe\\Anaconda3\\lib\\site-packages\\sklearn\\linear_model\\logistic.py:433: FutureWarning: Default solver will be changed to 'lbfgs' in 0.22. Specify a solver to silence this warning.\n",
      "  FutureWarning)\n"
     ]
    },
    {
     "data": {
      "text/plain": [
       "LogisticRegression(C=1.0, class_weight=None, dual=False, fit_intercept=True,\n",
       "          intercept_scaling=1, max_iter=100, multi_class='warn',\n",
       "          n_jobs=None, penalty='l2', random_state=10, solver='warn',\n",
       "          tol=0.0001, verbose=0, warm_start=False)"
      ]
     },
     "execution_count": 52,
     "metadata": {},
     "output_type": "execute_result"
    }
   ],
   "source": [
    "from sklearn.linear_model import LogisticRegression\n",
    "modelridge = LogisticRegression(penalty='l2',random_state=10)\n",
    "modelridge.fit(Xtrain,ytrain)"
   ]
  },
  {
   "cell_type": "code",
   "execution_count": 53,
   "metadata": {},
   "outputs": [
    {
     "name": "stdout",
     "output_type": "stream",
     "text": [
      "Accuracy - Train: 0.81343669250646, Dev: 0.8202479338842975\n"
     ]
    }
   ],
   "source": [
    "print(\"Accuracy - Train: %s, Dev: %s\" % (modelridge.score(Xtrain,ytrain), modelridge.score(Xdev,ydev)))"
   ]
  },
  {
   "cell_type": "markdown",
   "metadata": {},
   "source": [
    "## Applying Random Forest"
   ]
  },
  {
   "cell_type": "code",
   "execution_count": 54,
   "metadata": {},
   "outputs": [
    {
     "name": "stderr",
     "output_type": "stream",
     "text": [
      "C:\\Users\\moshe\\Anaconda3\\lib\\site-packages\\sklearn\\ensemble\\forest.py:246: FutureWarning: The default value of n_estimators will change from 10 in version 0.20 to 100 in 0.22.\n",
      "  \"10 in version 0.20 to 100 in 0.22.\", FutureWarning)\n"
     ]
    }
   ],
   "source": [
    "from sklearn.ensemble import RandomForestClassifier\n",
    "rfc=RandomForestClassifier(random_state=10,n_estimators=100,max_depth=2)\n",
    "rfmod = RandomForestClassifier().fit(Xtrain, ytrain)\n"
   ]
  },
  {
   "cell_type": "code",
   "execution_count": 55,
   "metadata": {},
   "outputs": [
    {
     "name": "stdout",
     "output_type": "stream",
     "text": [
      "Accuracy - Train: 0.9963824289405685, Dev: 0.8987603305785123\n"
     ]
    }
   ],
   "source": [
    "print(\"Accuracy - Train: %s, Dev: %s\" % (rfmod.score(Xtrain,ytrain), rfmod.score(Xdev,ydev)))"
   ]
  },
  {
   "cell_type": "markdown",
   "metadata": {},
   "source": [
    "## Applying XgB"
   ]
  },
  {
   "cell_type": "code",
   "execution_count": 56,
   "metadata": {},
   "outputs": [],
   "source": [
    "import xgboost as xgb\n",
    "\n",
    "classifier=xgb.XGBClassifier(random_state=100)\n",
    "Xtrainnum=Xtrain.copy()\n",
    "columnstoconvert=Xtrainnum.loc[:,Xtrainnum.dtypes=='category'].columns\n",
    "Xtrainnum[columnstoconvert]=Xtrainnum[columnstoconvert].astype(int)\n",
    "ytrainnum=ytrain.copy().astype(int)\n",
    "xgbmod=classifier.fit(Xtrainnum,ytrainnum)\n",
    "Xdevnum=Xdev.copy()\n",
    "columnstoconvert=Xdevnum.loc[:,Xdevnum.dtypes=='category'].columns\n",
    "Xdevnum[columnstoconvert]=Xdevnum[columnstoconvert].astype(int)\n",
    "ydevnum=ydev.copy().astype(int)\n",
    "ypred=xgbmod.predict(Xdevnum)"
   ]
  },
  {
   "cell_type": "code",
   "execution_count": 57,
   "metadata": {},
   "outputs": [
    {
     "name": "stdout",
     "output_type": "stream",
     "text": [
      "Accuracy - Train: 0.8837209302325582, Dev: 0.8409090909090909\n"
     ]
    }
   ],
   "source": [
    "from sklearn.metrics import accuracy_score\n",
    "\n",
    "print(\"Accuracy - Train: %s, Dev: %s\" % (accuracy_score(ytrainnum,xgbmod.predict(Xtrainnum))\n",
    "                                        ,accuracy_score(ydevnum,ypred)))"
   ]
  },
  {
   "cell_type": "markdown",
   "metadata": {},
   "source": [
    "## Applying SVM Classifier"
   ]
  },
  {
   "cell_type": "code",
   "execution_count": 58,
   "metadata": {},
   "outputs": [],
   "source": [
    "from sklearn.svm import SVC\n",
    "svmmod = SVC(C=0.01,gamma='auto',probability=True,random_state=100).fit(Xtrain, ytrain)"
   ]
  },
  {
   "cell_type": "code",
   "execution_count": 59,
   "metadata": {},
   "outputs": [
    {
     "name": "stdout",
     "output_type": "stream",
     "text": [
      "Accuracy - Train: 0.5069767441860465, Dev: 0.49793388429752067\n"
     ]
    }
   ],
   "source": [
    "print(\"Accuracy - Train: %s, Dev: %s\" % (svmmod.score(Xtrain,ytrain), svmmod.score(Xdev,ydev)))"
   ]
  },
  {
   "cell_type": "markdown",
   "metadata": {},
   "source": [
    "## Applying Adaboost"
   ]
  },
  {
   "cell_type": "code",
   "execution_count": 60,
   "metadata": {},
   "outputs": [],
   "source": [
    "from sklearn.ensemble import AdaBoostClassifier\n",
    "adamod=AdaBoostClassifier(random_state=1000).fit(Xtrain,ytrain)\n"
   ]
  },
  {
   "cell_type": "code",
   "execution_count": 61,
   "metadata": {},
   "outputs": [
    {
     "name": "stdout",
     "output_type": "stream",
     "text": [
      "Accuracy - Train: 0.8444444444444444, Dev: 0.8264462809917356\n"
     ]
    }
   ],
   "source": [
    "print(\"Accuracy - Train: %s, Dev: %s\" % (adamod.score(Xtrain,ytrain), adamod.score(Xdev,ydev)))"
   ]
  },
  {
   "cell_type": "markdown",
   "metadata": {},
   "source": [
    "## Applying GradientBoosting"
   ]
  },
  {
   "cell_type": "code",
   "execution_count": 62,
   "metadata": {},
   "outputs": [],
   "source": [
    "from sklearn.ensemble import GradientBoostingClassifier\n",
    "gbmod = GradientBoostingClassifier(random_state=1000).fit(Xtrain, ytrain)\n"
   ]
  },
  {
   "cell_type": "code",
   "execution_count": 63,
   "metadata": {},
   "outputs": [
    {
     "name": "stdout",
     "output_type": "stream",
     "text": [
      "Accuracy - Train: 0.903359173126615, Dev: 0.8698347107438017\n"
     ]
    }
   ],
   "source": [
    "print(\"Accuracy - Train: %s, Dev: %s\" % (gbmod.score(Xtrain,ytrain), gbmod.score(Xdev,ydev)))"
   ]
  },
  {
   "cell_type": "code",
   "execution_count": 64,
   "metadata": {},
   "outputs": [
    {
     "data": {
      "image/png": "[encoded data removed]",
      "text/plain": [
       "<Figure size 576x576 with 1 Axes>"
      ]
     },
     "metadata": {},
     "output_type": "display_data"
    }
   ],
   "source": [
    "from sklearn.metrics import roc_curve, auc\n",
    "pred1 = modellasso.predict_proba(Xdev)\n",
    "fpr1, tpr1, thresholds = roc_curve(ydev.values, pred1[:,1],pos_label='1')\n",
    "\n",
    "pred2 = modelridge.predict_proba(Xdev)\n",
    "fpr2, tpr2, thresholds = roc_curve(ydev.values, pred2[:,1],pos_label='1')\n",
    "\n",
    "#random forest\n",
    "pred3=rfmod.predict_proba(Xdev)\n",
    "fpr3, tpr3, thresholds = roc_curve(ydev.values, pred3[:,1],pos_label='1')\n",
    "\n",
    "#xgb\n",
    "pred4=xgbmod.predict_proba(Xdevnum)\n",
    "fpr4, tpr4, thresholds = roc_curve(ydevnum.values, pred4[:,1],pos_label=1)\n",
    "\n",
    "#SVM\n",
    "pred5=svmmod.predict_proba(Xdevnum)\n",
    "fpr5, tpr5, thresholds = roc_curve(ydev.values, pred5[:,1],pos_label='1')\n",
    "\n",
    "#adaboost\n",
    "pred6=adamod.predict_proba(Xdevnum)\n",
    "fpr6, tpr6, thresholds = roc_curve(ydev.values, pred6[:,1],pos_label='1')\n",
    "\n",
    "#gradient boosting\n",
    "pred7=gbmod.predict_proba(Xdevnum)\n",
    "fpr7, tpr7, thresholds = roc_curve(ydev.values, pred7[:,1],pos_label='1')\n",
    "\n",
    "\n",
    "import matplotlib.pyplot as plt\n",
    "roc_auc1 = auc(fpr1, tpr1)\n",
    "roc_auc2 = auc(fpr2, tpr2)\n",
    "roc_auc3 = auc(fpr3, tpr3)\n",
    "roc_auc4 = auc(fpr4, tpr4)\n",
    "roc_auc5 = auc(fpr5, tpr5)\n",
    "roc_auc6 = auc(fpr6, tpr6)\n",
    "roc_auc7 = auc(fpr7, tpr7)\n",
    "\n",
    "\n",
    "x=np.linspace(0,1)\n",
    "y=x\n",
    "\n",
    "fig, ax = plt.subplots(figsize=(8, 8))\n",
    "\n",
    "\n",
    "plt.title(\"ROC curve - model comparison\",fontsize='xx-large')\n",
    "plt.xlabel(\"FPR\",fontsize='x-large')\n",
    "plt.ylabel(\"TPR\",rotation=0,fontsize='x-large')\n",
    "plt.plot(x,y,linestyle='--')\n",
    "plt.plot(fpr3, tpr3, lw=2, label='Random Forest (AUC = %0.3f)' %roc_auc3)\n",
    "plt.plot(fpr7, tpr7, lw=1, label='Gradient boosting (AUC = %0.3f)' %roc_auc7)\n",
    "plt.plot(fpr4, tpr4, lw=1, label='Xgb (AUC = %0.3f)' %roc_auc4)\n",
    "plt.plot(fpr6, tpr6, lw=1, label='Adaboost (AUC = %0.3f)' %roc_auc6)\n",
    "plt.plot(fpr1, tpr1, lw=1, label='Logistic Regression l1 (AUC = %0.3f)' %roc_auc1)\n",
    "plt.plot(fpr2, tpr2, lw=1, label='Logistic Regression l2 (AUC = %0.3f)' %roc_auc2)\n",
    "plt.plot(fpr5, tpr5, lw=1, label='SVM Classifier (AUC = %0.3f)' %roc_auc5)\n",
    "plt.legend(loc='best',fontsize='large',framealpha=1,fancybox=True,edgecolor='Black',facecolor='White')\n",
    "plt.show()"
   ]
  },
  {
   "cell_type": "code",
   "execution_count": null,
   "metadata": {},
   "outputs": [],
   "source": []
  },
  {
   "cell_type": "code",
   "execution_count": null,
   "metadata": {},
   "outputs": [],
   "source": []
  }
 ],
 "metadata": {
  "kernelspec": {
   "display_name": "Python 3",
   "language": "python",
   "name": "python3"
  },
  "language_info": {
   "codemirror_mode": {
    "name": "ipython",
    "version": 3
   },
   "file_extension": ".py",
   "mimetype": "text/x-python",
   "name": "python",
   "nbconvert_exporter": "python",
   "pygments_lexer": "ipython3",
   "version": "3.6.8"
  }
 },
 "nbformat": 4,
 "nbformat_minor": 2
}
