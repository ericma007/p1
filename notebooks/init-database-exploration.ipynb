{
 "cells": [
  {
   "cell_type": "markdown",
   "metadata": {},
   "source": [
    "# Hairsalon  Database\n",
    "\n",
    "\n",
    "## About this notebook\n",
    "\n",
    "This notebook was created to help with the initial analysis of the hair salon database. Its purpose is to select the model predictors from the hairsalon database and to engineer additional predictors.\n"
   ]
  },
  {
   "cell_type": "code",
   "execution_count": 83,
   "metadata": {},
   "outputs": [],
   "source": [
    "import numpy as np\n",
    "import datetime as dt\n",
    "import pandas as pd\n",
    "import workdays as wd  #packahe used to calculate diff business days\n",
    "import matplotlib.pyplot as plt\n",
    "import matplotlib.dates\n",
    "import seaborn as sns\n",
    "import math\n",
    "sns.set(style=\"darkgrid\")\n",
    "ROOT_PATH=\"C:/Users/moshe/Documents/projectML/p1\"\n",
    "DATA_PATH = \"%s/data/raw\" % ROOT_PATH\n",
    "DB_FILE = \"%s/hairsalon.db\" % DATA_PATH\n",
    "import sqlite3 as sql3\n",
    "db=sql3.connect(DB_FILE)"
   ]
  },
  {
   "cell_type": "code",
   "execution_count": 84,
   "metadata": {},
   "outputs": [],
   "source": [
    "##############################################################################\n",
    "##########                DATABASE FUNCTIONS                     #############\n",
    "##############################################################################\n",
    "\n",
    "#### List the name of the tables on the database \n",
    "def listTables():\n",
    "    import sqlite3 as sql3\n",
    "    db = sql3.connect(DB_FILE)\n",
    "    cur = db.cursor()\n",
    "    cur.execute(\"SELECT name FROM sqlite_master WHERE type='table';\")\n",
    "    res = cur.fetchall()\n",
    "    cur.close()\n",
    "    db.close()\n",
    "    return(res)\n",
    "\n",
    "#### Read function to import data from the SQL to a pandas dataframe.\n",
    "def readSQL(query):\n",
    "    import pandas as pd\n",
    "    import sqlite3 as sql3\n",
    "    db = sql3.connect(DB_FILE)\n",
    "    df = pd.read_sql_query(query, db)\n",
    "    db.close()\n",
    "    return(df)\n",
    "\n",
    "#### Write a pandas dataframe into an SQL table. Use overwrite=True if you want to delete \n",
    "#### first a pre-existent table with the same name. Use append=True if you want to append\n",
    "#### the data in the dataframe to a pre-existent table.\n",
    "def writeSQL(df,tablename,overwrite=False, append=False):\n",
    "    import pandas as pd\n",
    "    import sqlite3 as sql\n",
    "    db = sql.connect(DB_FILE)\n",
    "    if (overwrite):\n",
    "        action = \"replace\"\n",
    "    elif (append):\n",
    "        action = \"append\"\n",
    "    else: \n",
    "        action = \"fail\"\n",
    "    df.to_sql(tablename, db, if_exists=action)\n",
    "    db.close()\n",
    "\n",
    "#### Generate a view based on the provided SQL query\n",
    "def createView(viewname, vquery):\n",
    "    import sqlite3 as sql3\n",
    "    db = sql3.connect(DB_FILE)\n",
    "    query=\"\"\"SELECT * FROM sqlite_master WHERE type='view'\"\"\"\n",
    "    listview=readSQL(query)\n",
    "    df=listview[listview['name']==viewname]\n",
    "    if len(df)==1:\n",
    "        query='drop view {}'.format(viewname)\n",
    "        execquery(query)\n",
    "    view = 'CREATE VIEW {} AS {}'.format(viewname,vquery)\n",
    "    cur = db.cursor()\n",
    "    cur.execute(view)\n",
    "    cur.close()\n",
    "    db.close()\n",
    "\n",
    "def execquery (query):\n",
    "    import sqlite3 as sql3\n",
    "    db = sql3.connect(DB_FILE)\n",
    "    cur = db.cursor()\n",
    "    cur.execute(query)\n",
    "    cur.close()\n",
    "    db.close()\n",
    "     "
   ]
  },
  {
   "cell_type": "markdown",
   "metadata": {},
   "source": [
    "<h1> import from csv data into sqltables  </h1>"
   ]
  },
  {
   "cell_type": "code",
   "execution_count": 85,
   "metadata": {},
   "outputs": [],
   "source": [
    "import pandas as pd\n",
    "file_tuple=(\"Client Cancellations0\",\"Future Bookings (All Clients)0\",\"No-Show Report0\",\n",
    "            \"Product Listing (Retail)0\",\"Receipt Transactions0\",\"Service Listing0\")\n",
    "table_tuple=(\"cancellation\",\"futurebooking\",\"noshow\",\"product\",\"receipt\",\"service\")\n",
    "tableiter=iter(table_tuple)\n",
    "\n",
    "#loop over csv files and crate a correpsonding table for each file \n",
    "for f in file_tuple:\n",
    "    file=f'{DATA_PATH}/{f}.csv'\n",
    "    df=pd.read_csv(file)\n",
    "    #rename columns remove spaces and lower allcharacters\n",
    "    df.rename(columns=lambda x:x.replace(\" \",\"\"),inplace=True)\n",
    "    df.rename(columns=lambda x:x.lower(),inplace=True)\n",
    "    df.to_sql(next(tableiter),db,if_exists='replace',index=False)\n",
    "    db.commit()"
   ]
  },
  {
   "cell_type": "markdown",
   "metadata": {},
   "source": [
    "<h2> exploring tables by various queries"
   ]
  },
  {
   "cell_type": "code",
   "execution_count": 86,
   "metadata": {},
   "outputs": [
    {
     "data": {
      "text/html": [
       "<div>\n",
       "<style scoped>\n",
       "    .dataframe tbody tr th:only-of-type {\n",
       "        vertical-align: middle;\n",
       "    }\n",
       "\n",
       "    .dataframe tbody tr th {\n",
       "        vertical-align: top;\n",
       "    }\n",
       "\n",
       "    .dataframe thead th {\n",
       "        text-align: right;\n",
       "    }\n",
       "</style>\n",
       "<table border=\"1\" class=\"dataframe\">\n",
       "  <thead>\n",
       "    <tr style=\"text-align: right;\">\n",
       "      <th></th>\n",
       "      <th>canceldate</th>\n",
       "      <th>code</th>\n",
       "      <th>service</th>\n",
       "      <th>staff</th>\n",
       "      <th>bookingdate</th>\n",
       "      <th>canceledby</th>\n",
       "      <th>days</th>\n",
       "    </tr>\n",
       "  </thead>\n",
       "  <tbody>\n",
       "    <tr>\n",
       "      <th>0</th>\n",
       "      <td>05/22/2018</td>\n",
       "      <td>MASA01</td>\n",
       "      <td>CFC</td>\n",
       "      <td>JOANNE</td>\n",
       "      <td>05/24/2018</td>\n",
       "      <td>ADMIN</td>\n",
       "      <td>2.0</td>\n",
       "    </tr>\n",
       "    <tr>\n",
       "      <th>1</th>\n",
       "      <td>06/27/2018</td>\n",
       "      <td>MASA01</td>\n",
       "      <td>CBAL</td>\n",
       "      <td>KELLY</td>\n",
       "      <td>06/27/2018</td>\n",
       "      <td>ADMIN</td>\n",
       "      <td>0.0</td>\n",
       "    </tr>\n",
       "    <tr>\n",
       "      <th>2</th>\n",
       "      <td>07/03/2018</td>\n",
       "      <td>MASA01</td>\n",
       "      <td>SHCM</td>\n",
       "      <td>BECKY</td>\n",
       "      <td>07/10/2018</td>\n",
       "      <td>BECKY</td>\n",
       "      <td>7.0</td>\n",
       "    </tr>\n",
       "    <tr>\n",
       "      <th>3</th>\n",
       "      <td>07/10/2018</td>\n",
       "      <td>MASA01</td>\n",
       "      <td>SHCC</td>\n",
       "      <td>JJ</td>\n",
       "      <td>07/11/2018</td>\n",
       "      <td>KELLY</td>\n",
       "      <td>1.0</td>\n",
       "    </tr>\n",
       "    <tr>\n",
       "      <th>4</th>\n",
       "      <td>07/24/2018</td>\n",
       "      <td>TRUA01</td>\n",
       "      <td>SHCM</td>\n",
       "      <td>KELLY</td>\n",
       "      <td>07/24/2018</td>\n",
       "      <td>TANYA</td>\n",
       "      <td>0.0</td>\n",
       "    </tr>\n",
       "  </tbody>\n",
       "</table>\n",
       "</div>"
      ],
      "text/plain": [
       "   canceldate    code service   staff bookingdate canceledby  days\n",
       "0  05/22/2018  MASA01     CFC  JOANNE  05/24/2018      ADMIN   2.0\n",
       "1  06/27/2018  MASA01    CBAL   KELLY  06/27/2018      ADMIN   0.0\n",
       "2  07/03/2018  MASA01    SHCM   BECKY  07/10/2018      BECKY   7.0\n",
       "3  07/10/2018  MASA01    SHCC      JJ  07/11/2018      KELLY   1.0\n",
       "4  07/24/2018  TRUA01    SHCM   KELLY  07/24/2018      TANYA   0.0"
      ]
     },
     "execution_count": 86,
     "metadata": {},
     "output_type": "execute_result"
    }
   ],
   "source": [
    "cancellations = readSQL('''SELECT * FROM cancellation''')\n",
    "cancellations.head()"
   ]
  },
  {
   "cell_type": "code",
   "execution_count": 87,
   "metadata": {},
   "outputs": [
    {
     "data": {
      "text/html": [
       "<div>\n",
       "<style scoped>\n",
       "    .dataframe tbody tr th:only-of-type {\n",
       "        vertical-align: middle;\n",
       "    }\n",
       "\n",
       "    .dataframe tbody tr th {\n",
       "        vertical-align: top;\n",
       "    }\n",
       "\n",
       "    .dataframe thead th {\n",
       "        text-align: right;\n",
       "    }\n",
       "</style>\n",
       "<table border=\"1\" class=\"dataframe\">\n",
       "  <thead>\n",
       "    <tr style=\"text-align: right;\">\n",
       "      <th></th>\n",
       "      <th>code</th>\n",
       "      <th>staff</th>\n",
       "      <th>service</th>\n",
       "      <th>date</th>\n",
       "      <th>time</th>\n",
       "      <th>timeint</th>\n",
       "    </tr>\n",
       "  </thead>\n",
       "  <tbody>\n",
       "    <tr>\n",
       "      <th>0</th>\n",
       "      <td>JUNJ01</td>\n",
       "      <td>JJ</td>\n",
       "      <td>CON</td>\n",
       "      <td>03/14/2018</td>\n",
       "      <td>3:50:00 PM</td>\n",
       "      <td>950</td>\n",
       "    </tr>\n",
       "    <tr>\n",
       "      <th>1</th>\n",
       "      <td>NORJ01</td>\n",
       "      <td>JJ</td>\n",
       "      <td>SHCM</td>\n",
       "      <td>03/14/2018</td>\n",
       "      <td>4:00:00 PM</td>\n",
       "      <td>960</td>\n",
       "    </tr>\n",
       "    <tr>\n",
       "      <th>2</th>\n",
       "      <td>CORS01</td>\n",
       "      <td>JJ</td>\n",
       "      <td>SHCW</td>\n",
       "      <td>03/15/2018</td>\n",
       "      <td>2:10:00 PM</td>\n",
       "      <td>850</td>\n",
       "    </tr>\n",
       "    <tr>\n",
       "      <th>3</th>\n",
       "      <td>KERT01</td>\n",
       "      <td>JJ</td>\n",
       "      <td>SHCW</td>\n",
       "      <td>03/15/2018</td>\n",
       "      <td>10:00:00 AM</td>\n",
       "      <td>600</td>\n",
       "    </tr>\n",
       "    <tr>\n",
       "      <th>4</th>\n",
       "      <td>LEHJ01</td>\n",
       "      <td>JJ</td>\n",
       "      <td>SHCM</td>\n",
       "      <td>03/15/2018</td>\n",
       "      <td>6:00:00 PM</td>\n",
       "      <td>1080</td>\n",
       "    </tr>\n",
       "  </tbody>\n",
       "</table>\n",
       "</div>"
      ],
      "text/plain": [
       "     code staff service        date         time  timeint\n",
       "0  JUNJ01    JJ     CON  03/14/2018   3:50:00 PM      950\n",
       "1  NORJ01    JJ    SHCM  03/14/2018   4:00:00 PM      960\n",
       "2  CORS01    JJ    SHCW  03/15/2018   2:10:00 PM      850\n",
       "3  KERT01    JJ    SHCW  03/15/2018  10:00:00 AM      600\n",
       "4  LEHJ01    JJ    SHCM  03/15/2018   6:00:00 PM     1080"
      ]
     },
     "execution_count": 87,
     "metadata": {},
     "output_type": "execute_result"
    }
   ],
   "source": [
    "futurebookings=readSQL('''SELECT * FROM futurebooking''')\n",
    "futurebookings.head()"
   ]
  },
  {
   "cell_type": "code",
   "execution_count": 88,
   "metadata": {},
   "outputs": [
    {
     "data": {
      "text/html": [
       "<div>\n",
       "<style scoped>\n",
       "    .dataframe tbody tr th:only-of-type {\n",
       "        vertical-align: middle;\n",
       "    }\n",
       "\n",
       "    .dataframe tbody tr th {\n",
       "        vertical-align: top;\n",
       "    }\n",
       "\n",
       "    .dataframe thead th {\n",
       "        text-align: right;\n",
       "    }\n",
       "</style>\n",
       "<table border=\"1\" class=\"dataframe\">\n",
       "  <thead>\n",
       "    <tr style=\"text-align: right;\">\n",
       "      <th></th>\n",
       "      <th>receipt</th>\n",
       "      <th>date</th>\n",
       "      <th>description</th>\n",
       "      <th>client</th>\n",
       "      <th>staff</th>\n",
       "      <th>quantity</th>\n",
       "      <th>amount</th>\n",
       "      <th>gst</th>\n",
       "      <th>pst</th>\n",
       "    </tr>\n",
       "  </thead>\n",
       "  <tbody>\n",
       "    <tr>\n",
       "      <th>0</th>\n",
       "      <td>10</td>\n",
       "      <td>03/15/2018</td>\n",
       "      <td>Women's hair cut</td>\n",
       "      <td>KERT01</td>\n",
       "      <td>JJ</td>\n",
       "      <td>1</td>\n",
       "      <td>82.0</td>\n",
       "      <td>4.10</td>\n",
       "      <td>6.56</td>\n",
       "    </tr>\n",
       "    <tr>\n",
       "      <th>1</th>\n",
       "      <td>100</td>\n",
       "      <td>04/05/2018</td>\n",
       "      <td>Women's hair cut</td>\n",
       "      <td>COOM01</td>\n",
       "      <td>SINEAD</td>\n",
       "      <td>1</td>\n",
       "      <td>70.0</td>\n",
       "      <td>3.50</td>\n",
       "      <td>5.60</td>\n",
       "    </tr>\n",
       "    <tr>\n",
       "      <th>2</th>\n",
       "      <td>1000</td>\n",
       "      <td>06/09/2018</td>\n",
       "      <td>Consultation</td>\n",
       "      <td>PEDM01</td>\n",
       "      <td>JJ</td>\n",
       "      <td>1</td>\n",
       "      <td>0.0</td>\n",
       "      <td>0.00</td>\n",
       "      <td>0.00</td>\n",
       "    </tr>\n",
       "    <tr>\n",
       "      <th>3</th>\n",
       "      <td>1001</td>\n",
       "      <td>06/09/2018</td>\n",
       "      <td>Women's hair cut</td>\n",
       "      <td>BAIS01</td>\n",
       "      <td>KELLY</td>\n",
       "      <td>1</td>\n",
       "      <td>55.0</td>\n",
       "      <td>2.75</td>\n",
       "      <td>4.40</td>\n",
       "    </tr>\n",
       "    <tr>\n",
       "      <th>4</th>\n",
       "      <td>1003</td>\n",
       "      <td>06/09/2018</td>\n",
       "      <td>Women's hair cut</td>\n",
       "      <td>FRAL01</td>\n",
       "      <td>KELLY</td>\n",
       "      <td>1</td>\n",
       "      <td>65.0</td>\n",
       "      <td>3.25</td>\n",
       "      <td>5.20</td>\n",
       "    </tr>\n",
       "  </tbody>\n",
       "</table>\n",
       "</div>"
      ],
      "text/plain": [
       "   receipt        date       description  client   staff  quantity  amount  \\\n",
       "0       10  03/15/2018  Women's hair cut  KERT01      JJ         1    82.0   \n",
       "1      100  04/05/2018  Women's hair cut  COOM01  SINEAD         1    70.0   \n",
       "2     1000  06/09/2018      Consultation  PEDM01      JJ         1     0.0   \n",
       "3     1001  06/09/2018  Women's hair cut  BAIS01   KELLY         1    55.0   \n",
       "4     1003  06/09/2018  Women's hair cut  FRAL01   KELLY         1    65.0   \n",
       "\n",
       "    gst   pst  \n",
       "0  4.10  6.56  \n",
       "1  3.50  5.60  \n",
       "2  0.00  0.00  \n",
       "3  2.75  4.40  \n",
       "4  3.25  5.20  "
      ]
     },
     "execution_count": 88,
     "metadata": {},
     "output_type": "execute_result"
    }
   ],
   "source": [
    "receipts=readSQL('''SELECT * FROM receipt''')\n",
    "receipts.head()"
   ]
  },
  {
   "cell_type": "code",
   "execution_count": 89,
   "metadata": {},
   "outputs": [
    {
     "data": {
      "text/html": [
       "<div>\n",
       "<style scoped>\n",
       "    .dataframe tbody tr th:only-of-type {\n",
       "        vertical-align: middle;\n",
       "    }\n",
       "\n",
       "    .dataframe tbody tr th {\n",
       "        vertical-align: top;\n",
       "    }\n",
       "\n",
       "    .dataframe thead th {\n",
       "        text-align: right;\n",
       "    }\n",
       "</style>\n",
       "<table border=\"1\" class=\"dataframe\">\n",
       "  <thead>\n",
       "    <tr style=\"text-align: right;\">\n",
       "      <th></th>\n",
       "      <th>date</th>\n",
       "      <th>code</th>\n",
       "      <th>service</th>\n",
       "      <th>staff</th>\n",
       "    </tr>\n",
       "  </thead>\n",
       "  <tbody>\n",
       "    <tr>\n",
       "      <th>0</th>\n",
       "      <td>04/13/2018</td>\n",
       "      <td>None</td>\n",
       "      <td>SHCW</td>\n",
       "      <td>JJ</td>\n",
       "    </tr>\n",
       "    <tr>\n",
       "      <th>1</th>\n",
       "      <td>07/27/2018</td>\n",
       "      <td>AMAB01</td>\n",
       "      <td>SHCM</td>\n",
       "      <td>KELLY</td>\n",
       "    </tr>\n",
       "    <tr>\n",
       "      <th>2</th>\n",
       "      <td>06/07/2018</td>\n",
       "      <td>APPS01</td>\n",
       "      <td>SBD</td>\n",
       "      <td>KELLY</td>\n",
       "    </tr>\n",
       "    <tr>\n",
       "      <th>3</th>\n",
       "      <td>06/05/2018</td>\n",
       "      <td>ASIS01</td>\n",
       "      <td>SHCW</td>\n",
       "      <td>KELLY</td>\n",
       "    </tr>\n",
       "    <tr>\n",
       "      <th>4</th>\n",
       "      <td>05/31/2018</td>\n",
       "      <td>BISD01</td>\n",
       "      <td>CON</td>\n",
       "      <td>SINEAD</td>\n",
       "    </tr>\n",
       "  </tbody>\n",
       "</table>\n",
       "</div>"
      ],
      "text/plain": [
       "         date    code service   staff\n",
       "0  04/13/2018    None    SHCW      JJ\n",
       "1  07/27/2018  AMAB01    SHCM   KELLY\n",
       "2  06/07/2018  APPS01     SBD   KELLY\n",
       "3  06/05/2018  ASIS01    SHCW   KELLY\n",
       "4  05/31/2018  BISD01     CON  SINEAD"
      ]
     },
     "execution_count": 89,
     "metadata": {},
     "output_type": "execute_result"
    }
   ],
   "source": [
    "noshows=readSQL('''SELECT * FROM noshow''')\n",
    "noshows.head()"
   ]
  },
  {
   "cell_type": "code",
   "execution_count": 90,
   "metadata": {},
   "outputs": [
    {
     "data": {
      "text/html": [
       "<div>\n",
       "<style scoped>\n",
       "    .dataframe tbody tr th:only-of-type {\n",
       "        vertical-align: middle;\n",
       "    }\n",
       "\n",
       "    .dataframe tbody tr th {\n",
       "        vertical-align: top;\n",
       "    }\n",
       "\n",
       "    .dataframe thead th {\n",
       "        text-align: right;\n",
       "    }\n",
       "</style>\n",
       "<table border=\"1\" class=\"dataframe\">\n",
       "  <thead>\n",
       "    <tr style=\"text-align: right;\">\n",
       "      <th></th>\n",
       "      <th>isactive</th>\n",
       "      <th>code</th>\n",
       "      <th>description</th>\n",
       "      <th>supplier</th>\n",
       "      <th>brand</th>\n",
       "      <th>category</th>\n",
       "      <th>price</th>\n",
       "      <th>onhand</th>\n",
       "      <th>minimum</th>\n",
       "      <th>maximum</th>\n",
       "      <th>cost</th>\n",
       "      <th>cog</th>\n",
       "      <th>ytd</th>\n",
       "      <th>package</th>\n",
       "    </tr>\n",
       "  </thead>\n",
       "  <tbody>\n",
       "    <tr>\n",
       "      <th>0</th>\n",
       "      <td>1</td>\n",
       "      <td>AGBALANCE335M</td>\n",
       "      <td>AG balance 355ml</td>\n",
       "      <td>VENUS</td>\n",
       "      <td>AG</td>\n",
       "      <td>RETAIL</td>\n",
       "      <td>30.0</td>\n",
       "      <td>2</td>\n",
       "      <td>2</td>\n",
       "      <td>2</td>\n",
       "      <td>0.0</td>\n",
       "      <td>0.0</td>\n",
       "      <td>27.0</td>\n",
       "      <td>0</td>\n",
       "    </tr>\n",
       "    <tr>\n",
       "      <th>1</th>\n",
       "      <td>1</td>\n",
       "      <td>AGBOOST355ML</td>\n",
       "      <td>AG Boost 355ml</td>\n",
       "      <td>VENUS</td>\n",
       "      <td>AG</td>\n",
       "      <td>RETAIL</td>\n",
       "      <td>30.0</td>\n",
       "      <td>3</td>\n",
       "      <td>2</td>\n",
       "      <td>2</td>\n",
       "      <td>18.0</td>\n",
       "      <td>54.0</td>\n",
       "      <td>0.0</td>\n",
       "      <td>0</td>\n",
       "    </tr>\n",
       "    <tr>\n",
       "      <th>2</th>\n",
       "      <td>1</td>\n",
       "      <td>AGCLOUD107ML</td>\n",
       "      <td>AG Cloud 107ml</td>\n",
       "      <td>VENUS</td>\n",
       "      <td>AG</td>\n",
       "      <td>RETAIL</td>\n",
       "      <td>26.0</td>\n",
       "      <td>4</td>\n",
       "      <td>2</td>\n",
       "      <td>2</td>\n",
       "      <td>15.6</td>\n",
       "      <td>62.4</td>\n",
       "      <td>23.4</td>\n",
       "      <td>0</td>\n",
       "    </tr>\n",
       "    <tr>\n",
       "      <th>3</th>\n",
       "      <td>1</td>\n",
       "      <td>AGDRYLIFT44ML</td>\n",
       "      <td>AG Dry Lift 44ml</td>\n",
       "      <td>VENUS</td>\n",
       "      <td>AG</td>\n",
       "      <td>RETAIL</td>\n",
       "      <td>24.0</td>\n",
       "      <td>1</td>\n",
       "      <td>2</td>\n",
       "      <td>2</td>\n",
       "      <td>14.4</td>\n",
       "      <td>14.4</td>\n",
       "      <td>43.2</td>\n",
       "      <td>0</td>\n",
       "    </tr>\n",
       "    <tr>\n",
       "      <th>4</th>\n",
       "      <td>1</td>\n",
       "      <td>AGREMEDY148ML</td>\n",
       "      <td>AG Remedy 148ml</td>\n",
       "      <td>VENUS</td>\n",
       "      <td>AG</td>\n",
       "      <td>RETAIL</td>\n",
       "      <td>26.0</td>\n",
       "      <td>3</td>\n",
       "      <td>2</td>\n",
       "      <td>2</td>\n",
       "      <td>15.6</td>\n",
       "      <td>46.8</td>\n",
       "      <td>0.0</td>\n",
       "      <td>0</td>\n",
       "    </tr>\n",
       "  </tbody>\n",
       "</table>\n",
       "</div>"
      ],
      "text/plain": [
       "   isactive           code       description supplier brand category  price  \\\n",
       "0         1  AGBALANCE335M  AG balance 355ml    VENUS    AG   RETAIL   30.0   \n",
       "1         1   AGBOOST355ML    AG Boost 355ml    VENUS    AG   RETAIL   30.0   \n",
       "2         1   AGCLOUD107ML    AG Cloud 107ml    VENUS    AG   RETAIL   26.0   \n",
       "3         1  AGDRYLIFT44ML  AG Dry Lift 44ml    VENUS    AG   RETAIL   24.0   \n",
       "4         1  AGREMEDY148ML   AG Remedy 148ml    VENUS    AG   RETAIL   26.0   \n",
       "\n",
       "   onhand  minimum  maximum  cost   cog   ytd  package  \n",
       "0       2        2        2   0.0   0.0  27.0        0  \n",
       "1       3        2        2  18.0  54.0   0.0        0  \n",
       "2       4        2        2  15.6  62.4  23.4        0  \n",
       "3       1        2        2  14.4  14.4  43.2        0  \n",
       "4       3        2        2  15.6  46.8   0.0        0  "
      ]
     },
     "execution_count": 90,
     "metadata": {},
     "output_type": "execute_result"
    }
   ],
   "source": [
    "products=readSQL('''SELECT * FROM product''')\n",
    "products.head()"
   ]
  },
  {
   "cell_type": "code",
   "execution_count": 91,
   "metadata": {},
   "outputs": [
    {
     "data": {
      "text/html": [
       "<div>\n",
       "<style scoped>\n",
       "    .dataframe tbody tr th:only-of-type {\n",
       "        vertical-align: middle;\n",
       "    }\n",
       "\n",
       "    .dataframe tbody tr th {\n",
       "        vertical-align: top;\n",
       "    }\n",
       "\n",
       "    .dataframe thead th {\n",
       "        text-align: right;\n",
       "    }\n",
       "</style>\n",
       "<table border=\"1\" class=\"dataframe\">\n",
       "  <thead>\n",
       "    <tr style=\"text-align: right;\">\n",
       "      <th></th>\n",
       "      <th>isactive</th>\n",
       "      <th>code</th>\n",
       "      <th>desc</th>\n",
       "      <th>cate</th>\n",
       "      <th>price</th>\n",
       "      <th>cost</th>\n",
       "    </tr>\n",
       "  </thead>\n",
       "  <tbody>\n",
       "    <tr>\n",
       "      <th>0</th>\n",
       "      <td>1</td>\n",
       "      <td>CAL</td>\n",
       "      <td>accent lights</td>\n",
       "      <td>COLOR</td>\n",
       "      <td>0</td>\n",
       "      <td>10</td>\n",
       "    </tr>\n",
       "    <tr>\n",
       "      <th>1</th>\n",
       "      <td>1</td>\n",
       "      <td>CALC</td>\n",
       "      <td>Accent lights and color</td>\n",
       "      <td>COLOR</td>\n",
       "      <td>0</td>\n",
       "      <td>10</td>\n",
       "    </tr>\n",
       "    <tr>\n",
       "      <th>2</th>\n",
       "      <td>1</td>\n",
       "      <td>CAS</td>\n",
       "      <td>Color additional service</td>\n",
       "      <td>COLOR</td>\n",
       "      <td>0</td>\n",
       "      <td>10</td>\n",
       "    </tr>\n",
       "    <tr>\n",
       "      <th>3</th>\n",
       "      <td>1</td>\n",
       "      <td>CBAL</td>\n",
       "      <td>Balayage</td>\n",
       "      <td>COLOR</td>\n",
       "      <td>0</td>\n",
       "      <td>10</td>\n",
       "    </tr>\n",
       "    <tr>\n",
       "      <th>4</th>\n",
       "      <td>1</td>\n",
       "      <td>CCAMO</td>\n",
       "      <td>Men's camo color</td>\n",
       "      <td>COLOR</td>\n",
       "      <td>45</td>\n",
       "      <td>5</td>\n",
       "    </tr>\n",
       "  </tbody>\n",
       "</table>\n",
       "</div>"
      ],
      "text/plain": [
       "   isactive   code                      desc   cate  price  cost\n",
       "0         1    CAL             accent lights  COLOR      0    10\n",
       "1         1   CALC   Accent lights and color  COLOR      0    10\n",
       "2         1    CAS  Color additional service  COLOR      0    10\n",
       "3         1   CBAL                  Balayage  COLOR      0    10\n",
       "4         1  CCAMO          Men's camo color  COLOR     45     5"
      ]
     },
     "execution_count": 91,
     "metadata": {},
     "output_type": "execute_result"
    }
   ],
   "source": [
    "services=readSQL('''SELECT * FROM service''')\n",
    "services.head()"
   ]
  },
  {
   "cell_type": "code",
   "execution_count": 92,
   "metadata": {},
   "outputs": [],
   "source": [
    "#SQLITE DB date and time are saved as text values - the code below updates the format in the DB\n",
    "#converts format date MM/DD/YYYY =>ISO FORMAT 8601 YYYY-DD-MM\n",
    "#converts format date 3:50:0 PM =>ISO FORMAT HH:MM:SS\n",
    "import datetime as dt\n",
    "cancellations['canceldate']=pd.to_datetime(cancellations['canceldate'],format=\"%m/%d/%Y\")\n",
    "cancellations['canceldate'] = cancellations['canceldate'].apply(lambda x: dt.datetime.strftime(x, '%Y-%m-%d'))\n",
    "cancellations['bookingdate']=pd.to_datetime(cancellations['bookingdate'],format=\"%m/%d/%Y\")\n",
    "cancellations['bookingdate'] = cancellations['bookingdate'].apply(lambda x: dt.datetime.strftime(x, '%Y-%m-%d'))\n",
    "cancellations.to_sql('cancellation',db,if_exists='replace',index=False)\n",
    "\n",
    "futurebookings['date']=pd.to_datetime(futurebookings['date'],format=\"%m/%d/%Y\")\n",
    "futurebookings['date'] = futurebookings['date'].apply(lambda x: dt.datetime.strftime(x, '%Y-%m-%d'))\n",
    "futurebookings['time']=pd.to_datetime(futurebookings['time'],infer_datetime_format=True)\n",
    "futurebookings['time'] = futurebookings['time'].apply(lambda x: dt.datetime.strftime(x, '%H:%M:%S'))\n",
    "futurebookings.to_sql('futurebooking',db,if_exists='replace',index=False)\n",
    "\n",
    "receipts['date']=pd.to_datetime(receipts['date'],format=\"%m/%d/%Y\")\n",
    "receipts['date'] = receipts['date'].apply(lambda x: dt.datetime.strftime(x, '%Y-%m-%d'))\n",
    "receipts.to_sql('receipt',db,if_exists='replace',index=False)\n",
    "\n",
    "#converts format date MM/DD/YY =>ISO FORMAT 8601 YYYY-DD-MM\n",
    "noshows['date']=pd.to_datetime(noshows['date'],format=\"%m/%d/%Y\")\n",
    "noshows['date'] = noshows['date'].apply(lambda x: dt.datetime.strftime(x, '%Y-%m-%d'))\n",
    "noshows.to_sql('noshow',db,if_exists='replace',index=False)"
   ]
  },
  {
   "cell_type": "code",
   "execution_count": 93,
   "metadata": {},
   "outputs": [
    {
     "data": {
      "text/html": [
       "<div>\n",
       "<style scoped>\n",
       "    .dataframe tbody tr th:only-of-type {\n",
       "        vertical-align: middle;\n",
       "    }\n",
       "\n",
       "    .dataframe tbody tr th {\n",
       "        vertical-align: top;\n",
       "    }\n",
       "\n",
       "    .dataframe thead th {\n",
       "        text-align: right;\n",
       "    }\n",
       "</style>\n",
       "<table border=\"1\" class=\"dataframe\">\n",
       "  <thead>\n",
       "    <tr style=\"text-align: right;\">\n",
       "      <th></th>\n",
       "      <th>MIN(canceldate)</th>\n",
       "      <th>MAX(canceldate)</th>\n",
       "      <th>MIN(bookingdate)</th>\n",
       "      <th>Max (bookingdate)</th>\n",
       "      <th>min(days)</th>\n",
       "      <th>max(days)</th>\n",
       "      <th>count(*)</th>\n",
       "    </tr>\n",
       "  </thead>\n",
       "  <tbody>\n",
       "    <tr>\n",
       "      <th>0</th>\n",
       "      <td>2018-03-27</td>\n",
       "      <td>2018-07-28</td>\n",
       "      <td>2018-03-29</td>\n",
       "      <td>2018-09-21</td>\n",
       "      <td>-37.0</td>\n",
       "      <td>66.0</td>\n",
       "      <td>243</td>\n",
       "    </tr>\n",
       "  </tbody>\n",
       "</table>\n",
       "</div>"
      ],
      "text/plain": [
       "  MIN(canceldate) MAX(canceldate) MIN(bookingdate) Max (bookingdate)  \\\n",
       "0      2018-03-27      2018-07-28       2018-03-29        2018-09-21   \n",
       "\n",
       "   min(days)  max(days)  count(*)  \n",
       "0      -37.0       66.0       243  "
      ]
     },
     "execution_count": 93,
     "metadata": {},
     "output_type": "execute_result"
    }
   ],
   "source": [
    "query = \"\"\"SELECT MIN(canceldate), MAX(canceldate), MIN(bookingdate), Max (bookingdate),min(days),max(days),count(*)\n",
    "         FROM cancellation\"\"\"\n",
    "resquery = readSQL(query)\n",
    "resquery"
   ]
  },
  {
   "cell_type": "code",
   "execution_count": 94,
   "metadata": {},
   "outputs": [
    {
     "data": {
      "text/html": [
       "<div>\n",
       "<style scoped>\n",
       "    .dataframe tbody tr th:only-of-type {\n",
       "        vertical-align: middle;\n",
       "    }\n",
       "\n",
       "    .dataframe tbody tr th {\n",
       "        vertical-align: top;\n",
       "    }\n",
       "\n",
       "    .dataframe thead th {\n",
       "        text-align: right;\n",
       "    }\n",
       "</style>\n",
       "<table border=\"1\" class=\"dataframe\">\n",
       "  <thead>\n",
       "    <tr style=\"text-align: right;\">\n",
       "      <th></th>\n",
       "      <th>MIN(date)</th>\n",
       "      <th>MAX(date)</th>\n",
       "      <th>count(*)</th>\n",
       "    </tr>\n",
       "  </thead>\n",
       "  <tbody>\n",
       "    <tr>\n",
       "      <th>0</th>\n",
       "      <td>2018-03-14</td>\n",
       "      <td>2018-07-29</td>\n",
       "      <td>60</td>\n",
       "    </tr>\n",
       "  </tbody>\n",
       "</table>\n",
       "</div>"
      ],
      "text/plain": [
       "    MIN(date)   MAX(date)  count(*)\n",
       "0  2018-03-14  2018-07-29        60"
      ]
     },
     "execution_count": 94,
     "metadata": {},
     "output_type": "execute_result"
    }
   ],
   "source": [
    "query = \"\"\"SELECT MIN(date), MAX(date), count(*)\n",
    "         FROM noshow\"\"\"\n",
    "resquery = readSQL(query)\n",
    "resquery"
   ]
  },
  {
   "cell_type": "code",
   "execution_count": 95,
   "metadata": {},
   "outputs": [
    {
     "data": {
      "text/html": [
       "<div>\n",
       "<style scoped>\n",
       "    .dataframe tbody tr th:only-of-type {\n",
       "        vertical-align: middle;\n",
       "    }\n",
       "\n",
       "    .dataframe tbody tr th {\n",
       "        vertical-align: top;\n",
       "    }\n",
       "\n",
       "    .dataframe thead th {\n",
       "        text-align: right;\n",
       "    }\n",
       "</style>\n",
       "<table border=\"1\" class=\"dataframe\">\n",
       "  <thead>\n",
       "    <tr style=\"text-align: right;\">\n",
       "      <th></th>\n",
       "      <th>MIN(date)</th>\n",
       "      <th>MAX(date)</th>\n",
       "      <th>Min(Time)</th>\n",
       "      <th>Max(time)</th>\n",
       "      <th>count(*)</th>\n",
       "    </tr>\n",
       "  </thead>\n",
       "  <tbody>\n",
       "    <tr>\n",
       "      <th>0</th>\n",
       "      <td>2018-03-14</td>\n",
       "      <td>2019-02-15</td>\n",
       "      <td>08:00:00</td>\n",
       "      <td>19:30:00</td>\n",
       "      <td>1906</td>\n",
       "    </tr>\n",
       "  </tbody>\n",
       "</table>\n",
       "</div>"
      ],
      "text/plain": [
       "    MIN(date)   MAX(date) Min(Time) Max(time)  count(*)\n",
       "0  2018-03-14  2019-02-15  08:00:00  19:30:00      1906"
      ]
     },
     "execution_count": 95,
     "metadata": {},
     "output_type": "execute_result"
    }
   ],
   "source": [
    "query = \"\"\"SELECT MIN(date), MAX(date), Min(Time),Max(time), count(*)\n",
    "         FROM futurebooking\"\"\"\n",
    "resquery = readSQL(query)\n",
    "resquery"
   ]
  },
  {
   "cell_type": "code",
   "execution_count": 96,
   "metadata": {},
   "outputs": [
    {
     "data": {
      "text/html": [
       "<div>\n",
       "<style scoped>\n",
       "    .dataframe tbody tr th:only-of-type {\n",
       "        vertical-align: middle;\n",
       "    }\n",
       "\n",
       "    .dataframe tbody tr th {\n",
       "        vertical-align: top;\n",
       "    }\n",
       "\n",
       "    .dataframe thead th {\n",
       "        text-align: right;\n",
       "    }\n",
       "</style>\n",
       "<table border=\"1\" class=\"dataframe\">\n",
       "  <thead>\n",
       "    <tr style=\"text-align: right;\">\n",
       "      <th></th>\n",
       "      <th>MIN(date)</th>\n",
       "      <th>MAX(date)</th>\n",
       "      <th>MIN(amount)</th>\n",
       "      <th>MAX(amount)</th>\n",
       "      <th>count(*)</th>\n",
       "    </tr>\n",
       "  </thead>\n",
       "  <tbody>\n",
       "    <tr>\n",
       "      <th>0</th>\n",
       "      <td>2018-03-15</td>\n",
       "      <td>2018-07-29</td>\n",
       "      <td>-52.0</td>\n",
       "      <td>300.0</td>\n",
       "      <td>1934</td>\n",
       "    </tr>\n",
       "  </tbody>\n",
       "</table>\n",
       "</div>"
      ],
      "text/plain": [
       "    MIN(date)   MAX(date)  MIN(amount)  MAX(amount)  count(*)\n",
       "0  2018-03-15  2018-07-29        -52.0        300.0      1934"
      ]
     },
     "execution_count": 96,
     "metadata": {},
     "output_type": "execute_result"
    }
   ],
   "source": [
    "query = \"\"\"SELECT MIN(date), MAX(date),MIN(amount),MAX(amount), count(*)\n",
    "         FROM receipt \"\"\"\n",
    "resquery = readSQL(query)\n",
    "resquery"
   ]
  },
  {
   "cell_type": "code",
   "execution_count": 97,
   "metadata": {},
   "outputs": [
    {
     "data": {
      "text/html": [
       "<div>\n",
       "<style scoped>\n",
       "    .dataframe tbody tr th:only-of-type {\n",
       "        vertical-align: middle;\n",
       "    }\n",
       "\n",
       "    .dataframe tbody tr th {\n",
       "        vertical-align: top;\n",
       "    }\n",
       "\n",
       "    .dataframe thead th {\n",
       "        text-align: right;\n",
       "    }\n",
       "</style>\n",
       "<table border=\"1\" class=\"dataframe\">\n",
       "  <thead>\n",
       "    <tr style=\"text-align: right;\">\n",
       "      <th></th>\n",
       "      <th>count(*)</th>\n",
       "      <th>count(distinct receipt)</th>\n",
       "    </tr>\n",
       "  </thead>\n",
       "  <tbody>\n",
       "    <tr>\n",
       "      <th>0</th>\n",
       "      <td>1934</td>\n",
       "      <td>1436</td>\n",
       "    </tr>\n",
       "  </tbody>\n",
       "</table>\n",
       "</div>"
      ],
      "text/plain": [
       "   count(*)  count(distinct receipt)\n",
       "0      1934                     1436"
      ]
     },
     "execution_count": 97,
     "metadata": {},
     "output_type": "execute_result"
    }
   ],
   "source": [
    "#A receipt can count several sub-receipts for different services or products\n",
    "query = \"\"\"SELECT count(*), count(distinct receipt) \n",
    "         FROM receipt \"\"\"\n",
    "resquery = readSQL(query)\n",
    "resquery"
   ]
  },
  {
   "cell_type": "code",
   "execution_count": 98,
   "metadata": {},
   "outputs": [
    {
     "data": {
      "text/html": [
       "<div>\n",
       "<style scoped>\n",
       "    .dataframe tbody tr th:only-of-type {\n",
       "        vertical-align: middle;\n",
       "    }\n",
       "\n",
       "    .dataframe tbody tr th {\n",
       "        vertical-align: top;\n",
       "    }\n",
       "\n",
       "    .dataframe thead th {\n",
       "        text-align: right;\n",
       "    }\n",
       "</style>\n",
       "<table border=\"1\" class=\"dataframe\">\n",
       "  <thead>\n",
       "    <tr style=\"text-align: right;\">\n",
       "      <th></th>\n",
       "      <th>receipts</th>\n",
       "      <th>nbsubreceipts</th>\n",
       "    </tr>\n",
       "  </thead>\n",
       "  <tbody>\n",
       "    <tr>\n",
       "      <th>0</th>\n",
       "      <td>1047</td>\n",
       "      <td>1</td>\n",
       "    </tr>\n",
       "    <tr>\n",
       "      <th>1</th>\n",
       "      <td>309</td>\n",
       "      <td>2</td>\n",
       "    </tr>\n",
       "    <tr>\n",
       "      <th>2</th>\n",
       "      <td>57</td>\n",
       "      <td>3</td>\n",
       "    </tr>\n",
       "    <tr>\n",
       "      <th>3</th>\n",
       "      <td>18</td>\n",
       "      <td>4</td>\n",
       "    </tr>\n",
       "    <tr>\n",
       "      <th>4</th>\n",
       "      <td>4</td>\n",
       "      <td>5</td>\n",
       "    </tr>\n",
       "    <tr>\n",
       "      <th>5</th>\n",
       "      <td>1</td>\n",
       "      <td>6</td>\n",
       "    </tr>\n",
       "  </tbody>\n",
       "</table>\n",
       "</div>"
      ],
      "text/plain": [
       "   receipts  nbsubreceipts\n",
       "0      1047              1\n",
       "1       309              2\n",
       "2        57              3\n",
       "3        18              4\n",
       "4         4              5\n",
       "5         1              6"
      ]
     },
     "execution_count": 98,
     "metadata": {},
     "output_type": "execute_result"
    }
   ],
   "source": [
    "#nb of sub-receipts vary from one to six\n",
    "query = \"\"\"\n",
    "SELECT count(*) receipts, subreceiptcnt nbsubreceipts FROM\n",
    "(SELECT count(*) subreceiptcnt, receipt \n",
    "         FROM receipt group by receipt)\n",
    "group by subreceiptcnt\"\"\"\n",
    "resquery = readSQL(query)\n",
    "resquery"
   ]
  },
  {
   "cell_type": "code",
   "execution_count": 99,
   "metadata": {},
   "outputs": [
    {
     "data": {
      "text/html": [
       "<div>\n",
       "<style scoped>\n",
       "    .dataframe tbody tr th:only-of-type {\n",
       "        vertical-align: middle;\n",
       "    }\n",
       "\n",
       "    .dataframe tbody tr th {\n",
       "        vertical-align: top;\n",
       "    }\n",
       "\n",
       "    .dataframe thead th {\n",
       "        text-align: right;\n",
       "    }\n",
       "</style>\n",
       "<table border=\"1\" class=\"dataframe\">\n",
       "  <thead>\n",
       "    <tr style=\"text-align: right;\">\n",
       "      <th></th>\n",
       "      <th>count(*)</th>\n",
       "    </tr>\n",
       "  </thead>\n",
       "  <tbody>\n",
       "    <tr>\n",
       "      <th>0</th>\n",
       "      <td>1906</td>\n",
       "    </tr>\n",
       "  </tbody>\n",
       "</table>\n",
       "</div>"
      ],
      "text/plain": [
       "   count(*)\n",
       "0      1906"
      ]
     },
     "execution_count": 99,
     "metadata": {},
     "output_type": "execute_result"
    }
   ],
   "source": [
    "#All services listed in futurebooking are services defined in service table [same number of rows]\n",
    "query= \"\"\"select count(*) from futurebooking fb\n",
    "        inner join service s on fb.service=s.code\"\"\"\n",
    "resquery = readSQL(query)\n",
    "resquery"
   ]
  },
  {
   "cell_type": "code",
   "execution_count": 100,
   "metadata": {},
   "outputs": [
    {
     "data": {
      "text/html": [
       "<div>\n",
       "<style scoped>\n",
       "    .dataframe tbody tr th:only-of-type {\n",
       "        vertical-align: middle;\n",
       "    }\n",
       "\n",
       "    .dataframe tbody tr th {\n",
       "        vertical-align: top;\n",
       "    }\n",
       "\n",
       "    .dataframe thead th {\n",
       "        text-align: right;\n",
       "    }\n",
       "</style>\n",
       "<table border=\"1\" class=\"dataframe\">\n",
       "  <thead>\n",
       "    <tr style=\"text-align: right;\">\n",
       "      <th></th>\n",
       "      <th>count(*)</th>\n",
       "    </tr>\n",
       "  </thead>\n",
       "  <tbody>\n",
       "    <tr>\n",
       "      <th>0</th>\n",
       "      <td>1758</td>\n",
       "    </tr>\n",
       "  </tbody>\n",
       "</table>\n",
       "</div>"
      ],
      "text/plain": [
       "   count(*)\n",
       "0      1758"
      ]
     },
     "execution_count": 100,
     "metadata": {},
     "output_type": "execute_result"
    }
   ],
   "source": [
    "#part of the receipts are for services\n",
    "query= \"\"\"select count(*) from receipt r\n",
    "        inner join service s on r.description=s.desc\n",
    "        WHERE r.description is NOT NULL\n",
    "        \"\"\"\n",
    "resquery = readSQL(query)\n",
    "resquery"
   ]
  },
  {
   "cell_type": "code",
   "execution_count": 101,
   "metadata": {},
   "outputs": [
    {
     "data": {
      "text/html": [
       "<div>\n",
       "<style scoped>\n",
       "    .dataframe tbody tr th:only-of-type {\n",
       "        vertical-align: middle;\n",
       "    }\n",
       "\n",
       "    .dataframe tbody tr th {\n",
       "        vertical-align: top;\n",
       "    }\n",
       "\n",
       "    .dataframe thead th {\n",
       "        text-align: right;\n",
       "    }\n",
       "</style>\n",
       "<table border=\"1\" class=\"dataframe\">\n",
       "  <thead>\n",
       "    <tr style=\"text-align: right;\">\n",
       "      <th></th>\n",
       "      <th>count(*)</th>\n",
       "    </tr>\n",
       "  </thead>\n",
       "  <tbody>\n",
       "    <tr>\n",
       "      <th>0</th>\n",
       "      <td>173</td>\n",
       "    </tr>\n",
       "  </tbody>\n",
       "</table>\n",
       "</div>"
      ],
      "text/plain": [
       "   count(*)\n",
       "0       173"
      ]
     },
     "execution_count": 101,
     "metadata": {},
     "output_type": "execute_result"
    }
   ],
   "source": [
    "#part of the receipts are for products\n",
    "query= \"\"\"select count(*) from receipt r\n",
    "        inner join product p on r.description=p.description WHERE r.description is NOT NULL\"\"\"\n",
    "resquery = readSQL(query)\n",
    "resquery"
   ]
  },
  {
   "cell_type": "code",
   "execution_count": 102,
   "metadata": {},
   "outputs": [
    {
     "data": {
      "text/html": [
       "<div>\n",
       "<style scoped>\n",
       "    .dataframe tbody tr th:only-of-type {\n",
       "        vertical-align: middle;\n",
       "    }\n",
       "\n",
       "    .dataframe tbody tr th {\n",
       "        vertical-align: top;\n",
       "    }\n",
       "\n",
       "    .dataframe thead th {\n",
       "        text-align: right;\n",
       "    }\n",
       "</style>\n",
       "<table border=\"1\" class=\"dataframe\">\n",
       "  <thead>\n",
       "    <tr style=\"text-align: right;\">\n",
       "      <th></th>\n",
       "      <th>count(*)</th>\n",
       "    </tr>\n",
       "  </thead>\n",
       "  <tbody>\n",
       "    <tr>\n",
       "      <th>0</th>\n",
       "      <td>3</td>\n",
       "    </tr>\n",
       "  </tbody>\n",
       "</table>\n",
       "</div>"
      ],
      "text/plain": [
       "   count(*)\n",
       "0         3"
      ]
     },
     "execution_count": 102,
     "metadata": {},
     "output_type": "execute_result"
    }
   ],
   "source": [
    "#part of the receipts are not indicated with services or services\n",
    "query= \"\"\"select count(*) from receipt r \n",
    "        left join product p on r.description=p.description \n",
    "        left join service s on r.description=s.desc\n",
    "        where p.description is NULL and s.desc is NULL\"\"\"\n",
    "resquery = readSQL(query)\n",
    "resquery"
   ]
  },
  {
   "cell_type": "code",
   "execution_count": 103,
   "metadata": {},
   "outputs": [],
   "source": [
    "query=\"\"\"select fb.*, s.desc description, s.cate category from futurebooking fb \n",
    "inner join service s on fb.service=s.code \"\"\"\n",
    "createView('vfb0',query)"
   ]
  },
  {
   "cell_type": "code",
   "execution_count": 104,
   "metadata": {},
   "outputs": [
    {
     "data": {
      "text/plain": [
       "(59, 4)"
      ]
     },
     "execution_count": 104,
     "metadata": {},
     "output_type": "execute_result"
    }
   ],
   "source": [
    "#noshows  linked to a booking\n",
    "query=\"\"\"select n.* from noshow n\n",
    "    inner join futurebooking fb  \n",
    "    on n.date=fb.date and n.code=fb.code and n.service=fb.service and n.staff=fb.staff\"\"\"\n",
    "resquery=readSQL(query)\n",
    "resquery.shape"
   ]
  },
  {
   "cell_type": "code",
   "execution_count": 105,
   "metadata": {},
   "outputs": [
    {
     "data": {
      "text/html": [
       "<div>\n",
       "<style scoped>\n",
       "    .dataframe tbody tr th:only-of-type {\n",
       "        vertical-align: middle;\n",
       "    }\n",
       "\n",
       "    .dataframe tbody tr th {\n",
       "        vertical-align: top;\n",
       "    }\n",
       "\n",
       "    .dataframe thead th {\n",
       "        text-align: right;\n",
       "    }\n",
       "</style>\n",
       "<table border=\"1\" class=\"dataframe\">\n",
       "  <thead>\n",
       "    <tr style=\"text-align: right;\">\n",
       "      <th></th>\n",
       "      <th>code</th>\n",
       "      <th>staff</th>\n",
       "      <th>service</th>\n",
       "      <th>date</th>\n",
       "      <th>time</th>\n",
       "      <th>timeint</th>\n",
       "    </tr>\n",
       "  </thead>\n",
       "  <tbody>\n",
       "    <tr>\n",
       "      <th>0</th>\n",
       "      <td>None</td>\n",
       "      <td>JJ</td>\n",
       "      <td>SHCW</td>\n",
       "      <td>2018-04-13</td>\n",
       "      <td>18:00:00</td>\n",
       "      <td>1080</td>\n",
       "    </tr>\n",
       "  </tbody>\n",
       "</table>\n",
       "</div>"
      ],
      "text/plain": [
       "   code staff service        date      time  timeint\n",
       "0  None    JJ    SHCW  2018-04-13  18:00:00     1080"
      ]
     },
     "execution_count": 105,
     "metadata": {},
     "output_type": "execute_result"
    }
   ],
   "source": [
    "#there is a missing customer we will need to remove it since we cannot determine its noshow indicator, its receipt, etc.. \n",
    "#since we cannot link it with table receipt noshow and cancellation \n",
    "query=\"\"\"select * from futurebooking fb  \n",
    "    where code is null \"\"\"\n",
    "resquery=readSQL(query)\n",
    "resquery"
   ]
  },
  {
   "cell_type": "markdown",
   "metadata": {},
   "source": [
    "#Verifying that there is not twice the same appointment by the same person on the same day for the same service "
   ]
  },
  {
   "cell_type": "code",
   "execution_count": 106,
   "metadata": {},
   "outputs": [
    {
     "data": {
      "text/html": [
       "<div>\n",
       "<style scoped>\n",
       "    .dataframe tbody tr th:only-of-type {\n",
       "        vertical-align: middle;\n",
       "    }\n",
       "\n",
       "    .dataframe tbody tr th {\n",
       "        vertical-align: top;\n",
       "    }\n",
       "\n",
       "    .dataframe thead th {\n",
       "        text-align: right;\n",
       "    }\n",
       "</style>\n",
       "<table border=\"1\" class=\"dataframe\">\n",
       "  <thead>\n",
       "    <tr style=\"text-align: right;\">\n",
       "      <th></th>\n",
       "      <th>count(*)</th>\n",
       "      <th>date</th>\n",
       "      <th>code</th>\n",
       "      <th>service</th>\n",
       "      <th>staff</th>\n",
       "    </tr>\n",
       "  </thead>\n",
       "  <tbody>\n",
       "  </tbody>\n",
       "</table>\n",
       "</div>"
      ],
      "text/plain": [
       "Empty DataFrame\n",
       "Columns: [count(*), date, code, service, staff]\n",
       "Index: []"
      ]
     },
     "execution_count": 106,
     "metadata": {},
     "output_type": "execute_result"
    }
   ],
   "source": [
    "query=\"\"\"select count(*), fb.date,fb.code,fb.service,fb.staff from futurebooking fb \n",
    "      group by fb.date,fb.code,fb.service,fb.staff\n",
    "      having count(*)>1\"\"\"\n",
    "resquery=readSQL(query)\n",
    "resquery.head()"
   ]
  },
  {
   "cell_type": "markdown",
   "metadata": {},
   "source": [
    "Appointments were cancelled and booked on the same day by a customer \n",
    "A diffferent staff was assgined or maybe different service \n",
    "we might not take them into account as late cancellation\n",
    "We need to understand the cause we will further investigate \n",
    "some appointments for the same person were cancelled twice or even 4 times !"
   ]
  },
  {
   "cell_type": "code",
   "execution_count": 107,
   "metadata": {},
   "outputs": [
    {
     "data": {
      "text/html": [
       "<div>\n",
       "<style scoped>\n",
       "    .dataframe tbody tr th:only-of-type {\n",
       "        vertical-align: middle;\n",
       "    }\n",
       "\n",
       "    .dataframe tbody tr th {\n",
       "        vertical-align: top;\n",
       "    }\n",
       "\n",
       "    .dataframe thead th {\n",
       "        text-align: right;\n",
       "    }\n",
       "</style>\n",
       "<table border=\"1\" class=\"dataframe\">\n",
       "  <thead>\n",
       "    <tr style=\"text-align: right;\">\n",
       "      <th></th>\n",
       "      <th>code</th>\n",
       "      <th>staff</th>\n",
       "      <th>service</th>\n",
       "      <th>date</th>\n",
       "    </tr>\n",
       "  </thead>\n",
       "  <tbody>\n",
       "    <tr>\n",
       "      <th>0</th>\n",
       "      <td>SARA01</td>\n",
       "      <td>JJ</td>\n",
       "      <td>SHCM</td>\n",
       "      <td>2018-04-04</td>\n",
       "    </tr>\n",
       "    <tr>\n",
       "      <th>1</th>\n",
       "      <td>HUDM01</td>\n",
       "      <td>JJ</td>\n",
       "      <td>CHLFH</td>\n",
       "      <td>2018-04-08</td>\n",
       "    </tr>\n",
       "    <tr>\n",
       "      <th>2</th>\n",
       "      <td>STEM01</td>\n",
       "      <td>BECKY</td>\n",
       "      <td>SHCW</td>\n",
       "      <td>2018-04-21</td>\n",
       "    </tr>\n",
       "    <tr>\n",
       "      <th>3</th>\n",
       "      <td>BUSM01</td>\n",
       "      <td>SINEAD</td>\n",
       "      <td>SHCW</td>\n",
       "      <td>2018-04-26</td>\n",
       "    </tr>\n",
       "    <tr>\n",
       "      <th>4</th>\n",
       "      <td>MOIB01</td>\n",
       "      <td>SINEAD</td>\n",
       "      <td>SHCW</td>\n",
       "      <td>2018-04-26</td>\n",
       "    </tr>\n",
       "  </tbody>\n",
       "</table>\n",
       "</div>"
      ],
      "text/plain": [
       "     code   staff service        date\n",
       "0  SARA01      JJ    SHCM  2018-04-04\n",
       "1  HUDM01      JJ   CHLFH  2018-04-08\n",
       "2  STEM01   BECKY    SHCW  2018-04-21\n",
       "3  BUSM01  SINEAD    SHCW  2018-04-26\n",
       "4  MOIB01  SINEAD    SHCW  2018-04-26"
      ]
     },
     "execution_count": 107,
     "metadata": {},
     "output_type": "execute_result"
    }
   ],
   "source": [
    "query=\"\"\"select fb.code, fb.staff,fb.service, fb.date from futurebooking fb inner join cancellation c\n",
    "where fb.date=c.bookingdate and fb.code=c.code \"\"\"\n",
    "resquery=readSQL(query)\n",
    "resquery.head()"
   ]
  },
  {
   "cell_type": "code",
   "execution_count": 108,
   "metadata": {},
   "outputs": [
    {
     "data": {
      "text/html": [
       "<div>\n",
       "<style scoped>\n",
       "    .dataframe tbody tr th:only-of-type {\n",
       "        vertical-align: middle;\n",
       "    }\n",
       "\n",
       "    .dataframe tbody tr th {\n",
       "        vertical-align: top;\n",
       "    }\n",
       "\n",
       "    .dataframe thead th {\n",
       "        text-align: right;\n",
       "    }\n",
       "</style>\n",
       "<table border=\"1\" class=\"dataframe\">\n",
       "  <thead>\n",
       "    <tr style=\"text-align: right;\">\n",
       "      <th></th>\n",
       "      <th>count(*)</th>\n",
       "    </tr>\n",
       "  </thead>\n",
       "  <tbody>\n",
       "    <tr>\n",
       "      <th>0</th>\n",
       "      <td>0</td>\n",
       "    </tr>\n",
       "  </tbody>\n",
       "</table>\n",
       "</div>"
      ],
      "text/plain": [
       "   count(*)\n",
       "0         0"
      ]
     },
     "execution_count": 108,
     "metadata": {},
     "output_type": "execute_result"
    }
   ],
   "source": [
    "#All services defined in table cancellation are defined in table services\n",
    "query=\"\"\"select  count(*) from vcancellation c where description is NULL\"\"\"\n",
    "resquery=readSQL(query)\n",
    "resquery"
   ]
  },
  {
   "cell_type": "code",
   "execution_count": 109,
   "metadata": {},
   "outputs": [],
   "source": [
    "query=\"\"\"select c.*, s.desc description, s.cate category from cancellation c \n",
    "inner join service s on c.service=s.code \"\"\"\n",
    "createView('vcancellation',query)"
   ]
  },
  {
   "cell_type": "code",
   "execution_count": 110,
   "metadata": {},
   "outputs": [
    {
     "data": {
      "text/html": [
       "<div>\n",
       "<style scoped>\n",
       "    .dataframe tbody tr th:only-of-type {\n",
       "        vertical-align: middle;\n",
       "    }\n",
       "\n",
       "    .dataframe tbody tr th {\n",
       "        vertical-align: top;\n",
       "    }\n",
       "\n",
       "    .dataframe thead th {\n",
       "        text-align: right;\n",
       "    }\n",
       "</style>\n",
       "<table border=\"1\" class=\"dataframe\">\n",
       "  <thead>\n",
       "    <tr style=\"text-align: right;\">\n",
       "      <th></th>\n",
       "      <th>count(*)</th>\n",
       "    </tr>\n",
       "  </thead>\n",
       "  <tbody>\n",
       "    <tr>\n",
       "      <th>0</th>\n",
       "      <td>0</td>\n",
       "    </tr>\n",
       "  </tbody>\n",
       "</table>\n",
       "</div>"
      ],
      "text/plain": [
       "   count(*)\n",
       "0         0"
      ]
     },
     "execution_count": 110,
     "metadata": {},
     "output_type": "execute_result"
    }
   ],
   "source": [
    "#All services defined in table futurebookings are defined in table services\n",
    "query=\"\"\"select  count(*) from vfb0 c where description is NULL\"\"\"\n",
    "resquery=readSQL(query)\n",
    "resquery"
   ]
  },
  {
   "cell_type": "code",
   "execution_count": 111,
   "metadata": {},
   "outputs": [
    {
     "data": {
      "text/html": [
       "<div>\n",
       "<style scoped>\n",
       "    .dataframe tbody tr th:only-of-type {\n",
       "        vertical-align: middle;\n",
       "    }\n",
       "\n",
       "    .dataframe tbody tr th {\n",
       "        vertical-align: top;\n",
       "    }\n",
       "\n",
       "    .dataframe thead th {\n",
       "        text-align: right;\n",
       "    }\n",
       "</style>\n",
       "<table border=\"1\" class=\"dataframe\">\n",
       "  <thead>\n",
       "    <tr style=\"text-align: right;\">\n",
       "      <th></th>\n",
       "      <th>receipt</th>\n",
       "      <th>date</th>\n",
       "      <th>description</th>\n",
       "      <th>client</th>\n",
       "      <th>staff</th>\n",
       "      <th>quantity</th>\n",
       "      <th>amount</th>\n",
       "      <th>gst</th>\n",
       "      <th>pst</th>\n",
       "      <th>service</th>\n",
       "      <th>type</th>\n",
       "      <th>category</th>\n",
       "    </tr>\n",
       "  </thead>\n",
       "  <tbody>\n",
       "    <tr>\n",
       "      <th>0</th>\n",
       "      <td>10</td>\n",
       "      <td>2018-03-15</td>\n",
       "      <td>Women's hair cut</td>\n",
       "      <td>KERT01</td>\n",
       "      <td>JJ</td>\n",
       "      <td>1</td>\n",
       "      <td>82.0</td>\n",
       "      <td>4.10</td>\n",
       "      <td>6.56</td>\n",
       "      <td>SHCW</td>\n",
       "      <td>S</td>\n",
       "      <td>STYLE</td>\n",
       "    </tr>\n",
       "    <tr>\n",
       "      <th>1</th>\n",
       "      <td>100</td>\n",
       "      <td>2018-04-05</td>\n",
       "      <td>Women's hair cut</td>\n",
       "      <td>COOM01</td>\n",
       "      <td>SINEAD</td>\n",
       "      <td>1</td>\n",
       "      <td>70.0</td>\n",
       "      <td>3.50</td>\n",
       "      <td>5.60</td>\n",
       "      <td>SHCW</td>\n",
       "      <td>S</td>\n",
       "      <td>STYLE</td>\n",
       "    </tr>\n",
       "    <tr>\n",
       "      <th>2</th>\n",
       "      <td>1000</td>\n",
       "      <td>2018-06-09</td>\n",
       "      <td>Consultation</td>\n",
       "      <td>PEDM01</td>\n",
       "      <td>JJ</td>\n",
       "      <td>1</td>\n",
       "      <td>0.0</td>\n",
       "      <td>0.00</td>\n",
       "      <td>0.00</td>\n",
       "      <td>CON</td>\n",
       "      <td>S</td>\n",
       "      <td>MISC</td>\n",
       "    </tr>\n",
       "    <tr>\n",
       "      <th>3</th>\n",
       "      <td>1001</td>\n",
       "      <td>2018-06-09</td>\n",
       "      <td>Women's hair cut</td>\n",
       "      <td>BAIS01</td>\n",
       "      <td>KELLY</td>\n",
       "      <td>1</td>\n",
       "      <td>55.0</td>\n",
       "      <td>2.75</td>\n",
       "      <td>4.40</td>\n",
       "      <td>SHCW</td>\n",
       "      <td>S</td>\n",
       "      <td>STYLE</td>\n",
       "    </tr>\n",
       "    <tr>\n",
       "      <th>4</th>\n",
       "      <td>1003</td>\n",
       "      <td>2018-06-09</td>\n",
       "      <td>Women's hair cut</td>\n",
       "      <td>FRAL01</td>\n",
       "      <td>KELLY</td>\n",
       "      <td>1</td>\n",
       "      <td>65.0</td>\n",
       "      <td>3.25</td>\n",
       "      <td>5.20</td>\n",
       "      <td>SHCW</td>\n",
       "      <td>S</td>\n",
       "      <td>STYLE</td>\n",
       "    </tr>\n",
       "  </tbody>\n",
       "</table>\n",
       "</div>"
      ],
      "text/plain": [
       "   receipt        date       description  client   staff  quantity  amount  \\\n",
       "0       10  2018-03-15  Women's hair cut  KERT01      JJ         1    82.0   \n",
       "1      100  2018-04-05  Women's hair cut  COOM01  SINEAD         1    70.0   \n",
       "2     1000  2018-06-09      Consultation  PEDM01      JJ         1     0.0   \n",
       "3     1001  2018-06-09  Women's hair cut  BAIS01   KELLY         1    55.0   \n",
       "4     1003  2018-06-09  Women's hair cut  FRAL01   KELLY         1    65.0   \n",
       "\n",
       "    gst   pst service type category  \n",
       "0  4.10  6.56    SHCW    S    STYLE  \n",
       "1  3.50  5.60    SHCW    S    STYLE  \n",
       "2  0.00  0.00     CON    S     MISC  \n",
       "3  2.75  4.40    SHCW    S    STYLE  \n",
       "4  3.25  5.20    SHCW    S    STYLE  "
      ]
     },
     "execution_count": 111,
     "metadata": {},
     "output_type": "execute_result"
    }
   ],
   "source": [
    "#create extended view of receipt \n",
    "query=\"\"\"select r.*,s.code service, 'S' type, s.cate category \n",
    "            from receipt r inner join service s on r.description=s.desc\n",
    "            where r.client <>'WALK-IN'\n",
    "union all\n",
    "            select r.*,p.code service, 'P' type, p.category category \n",
    "            from receipt r inner join product p on r.description=p.description\n",
    "            where r.client <>'WALK-IN'\n",
    "union all\n",
    "            select r.*, NULL service, NULL type, NULL category\n",
    "            from receipt r\n",
    "            left join service s on r.description=s.desc\n",
    "            left join product p on r.description=p.description \n",
    "            where s.desc IS NULL and p.description IS NULL and r.client <>'WALK-IN'\"\"\"\n",
    "createView('vreceipt',query)\n",
    "resquery=readSQL(\"\"\"select * from vreceipt\"\"\")\n",
    "resquery.head()"
   ]
  },
  {
   "cell_type": "code",
   "execution_count": 112,
   "metadata": {},
   "outputs": [
    {
     "name": "stdout",
     "output_type": "stream",
     "text": [
      "cancellation 243\n",
      "futurebooking 1906\n",
      "noshow 60\n",
      "receipt 1934\n"
     ]
    }
   ],
   "source": [
    "cancellation=readSQL(\"\"\"select * from cancellation\"\"\")\n",
    "print('cancellation', len(cancellation))\n",
    "futurebooking=readSQL(\"\"\"select * from futurebooking\"\"\")\n",
    "print('futurebooking',len(futurebooking))\n",
    "noshow=readSQL(\"\"\"select * from noshow\"\"\")\n",
    "print('noshow',len(noshow))\n",
    "receipt=readSQL(\"\"\"select * from receipt\"\"\")\n",
    "receipt.head()\n",
    "print('receipt',len(receipt))"
   ]
  },
  {
   "cell_type": "code",
   "execution_count": 113,
   "metadata": {},
   "outputs": [
    {
     "data": {
      "text/plain": [
       "(1906, 8)"
      ]
     },
     "execution_count": 113,
     "metadata": {},
     "output_type": "execute_result"
    }
   ],
   "source": [
    "query=\"\"\"select * from vfb0\"\"\"\n",
    "vfb0=readSQL(query)\n",
    "vfb0.shape"
   ]
  },
  {
   "cell_type": "code",
   "execution_count": 114,
   "metadata": {},
   "outputs": [
    {
     "name": "stdout",
     "output_type": "stream",
     "text": [
      "vfb0 1906\n"
     ]
    },
    {
     "data": {
      "text/plain": [
       "Index(['client', 'staff', 'service', 'date', 'time', 'timeint', 'description',\n",
       "       'category'],\n",
       "      dtype='object')"
      ]
     },
     "execution_count": 114,
     "metadata": {},
     "output_type": "execute_result"
    }
   ],
   "source": [
    "vfb0.rename(columns={'code':'client'},inplace=True)\n",
    "print('vfb0', len(vfb0))\n",
    "vfb0.columns"
   ]
  },
  {
   "cell_type": "code",
   "execution_count": 115,
   "metadata": {},
   "outputs": [
    {
     "name": "stdout",
     "output_type": "stream",
     "text": [
      "vcancellation 243\n"
     ]
    },
    {
     "data": {
      "text/plain": [
       "Index(['canceldate', 'code', 'service', 'staff', 'bookingdate', 'canceledby',\n",
       "       'days', 'description', 'category'],\n",
       "      dtype='object')"
      ]
     },
     "execution_count": 115,
     "metadata": {},
     "output_type": "execute_result"
    }
   ],
   "source": [
    "vcancellation=readSQL(\"\"\"select * from vcancellation\"\"\")\n",
    "print('vcancellation', len(vcancellation))\n",
    "vcancellation.columns"
   ]
  },
  {
   "cell_type": "code",
   "execution_count": 116,
   "metadata": {},
   "outputs": [
    {
     "data": {
      "text/plain": [
       "Index(['canceldate', 'client', 'service', 'staff', 'date', 'canceledby',\n",
       "       'days', 'description', 'category'],\n",
       "      dtype='object')"
      ]
     },
     "execution_count": 116,
     "metadata": {},
     "output_type": "execute_result"
    }
   ],
   "source": [
    "vcancellation.rename(columns={'bookingdate':'date','code':'client'},inplace=True)\n",
    "vcancellation.columns"
   ]
  },
  {
   "cell_type": "code",
   "execution_count": 117,
   "metadata": {},
   "outputs": [
    {
     "data": {
      "text/plain": [
       "1934"
      ]
     },
     "execution_count": 117,
     "metadata": {},
     "output_type": "execute_result"
    }
   ],
   "source": [
    "vreceipt=readSQL(\"\"\"select * from vreceipt \"\"\")\n",
    "len(vreceipt)"
   ]
  },
  {
   "cell_type": "code",
   "execution_count": 118,
   "metadata": {},
   "outputs": [
    {
     "data": {
      "text/plain": [
       "Index(['receipt', 'date', 'description', 'client', 'staff', 'quantity',\n",
       "       'amount', 'gst', 'pst', 'service', 'type', 'category'],\n",
       "      dtype='object')"
      ]
     },
     "execution_count": 118,
     "metadata": {},
     "output_type": "execute_result"
    }
   ],
   "source": [
    "vreceipt.columns"
   ]
  },
  {
   "cell_type": "code",
   "execution_count": 119,
   "metadata": {},
   "outputs": [
    {
     "data": {
      "text/plain": [
       "Index(['date', 'client', 'service', 'staff'], dtype='object')"
      ]
     },
     "execution_count": 119,
     "metadata": {},
     "output_type": "execute_result"
    }
   ],
   "source": [
    "noshow.rename(columns={'code':'client'},inplace=True)\n",
    "noshow.columns"
   ]
  },
  {
   "cell_type": "code",
   "execution_count": 120,
   "metadata": {},
   "outputs": [
    {
     "data": {
      "text/plain": [
       "canceldate     0\n",
       "client         0\n",
       "service        0\n",
       "staff          0\n",
       "date           0\n",
       "canceledby     0\n",
       "days           2\n",
       "description    0\n",
       "category       0\n",
       "dtype: int64"
      ]
     },
     "execution_count": 120,
     "metadata": {},
     "output_type": "execute_result"
    }
   ],
   "source": [
    "vcancellation.isna().sum()"
   ]
  },
  {
   "cell_type": "code",
   "execution_count": 121,
   "metadata": {},
   "outputs": [
    {
     "data": {
      "text/plain": [
       "client         1\n",
       "staff          0\n",
       "service        0\n",
       "date           0\n",
       "time           0\n",
       "timeint        0\n",
       "description    0\n",
       "category       0\n",
       "dtype: int64"
      ]
     },
     "execution_count": 121,
     "metadata": {},
     "output_type": "execute_result"
    }
   ],
   "source": [
    "#future booking and past non cancelled bookings\n",
    "vfb0.isna().sum()"
   ]
  },
  {
   "cell_type": "code",
   "execution_count": 122,
   "metadata": {},
   "outputs": [
    {
     "data": {
      "text/plain": [
       "date       0\n",
       "client     1\n",
       "service    0\n",
       "staff      0\n",
       "dtype: int64"
      ]
     },
     "execution_count": 122,
     "metadata": {},
     "output_type": "execute_result"
    }
   ],
   "source": [
    "noshow.isna().sum()"
   ]
  },
  {
   "cell_type": "code",
   "execution_count": 123,
   "metadata": {},
   "outputs": [
    {
     "data": {
      "text/plain": [
       "receipt        0\n",
       "date           0\n",
       "description    3\n",
       "client         0\n",
       "staff          0\n",
       "quantity       0\n",
       "amount         0\n",
       "gst            0\n",
       "pst            0\n",
       "dtype: int64"
      ]
     },
     "execution_count": 123,
     "metadata": {},
     "output_type": "execute_result"
    }
   ],
   "source": [
    "receipt.isna().sum()"
   ]
  },
  {
   "cell_type": "code",
   "execution_count": 124,
   "metadata": {},
   "outputs": [
    {
     "data": {
      "text/plain": [
       "receipt        0\n",
       "date           0\n",
       "description    3\n",
       "client         0\n",
       "staff          0\n",
       "quantity       0\n",
       "amount         0\n",
       "gst            0\n",
       "pst            0\n",
       "service        3\n",
       "type           3\n",
       "category       9\n",
       "dtype: int64"
      ]
     },
     "execution_count": 124,
     "metadata": {},
     "output_type": "execute_result"
    }
   ],
   "source": [
    "vreceipt.isna().sum()"
   ]
  },
  {
   "cell_type": "markdown",
   "metadata": {},
   "source": [
    "<h2> building final data set "
   ]
  },
  {
   "cell_type": "markdown",
   "metadata": {},
   "source": [
    "building data set of future and non cancelled bookings it includes no shows"
   ]
  },
  {
   "cell_type": "markdown",
   "metadata": {},
   "source": [
    "We will suppress all bookings that occur after 2018-07-29 and the client code is null. No receipts are produced after this date (see MAX receipt date) Therefore we have no way of understanding what happened after this date "
   ]
  },
  {
   "cell_type": "code",
   "execution_count": 125,
   "metadata": {},
   "outputs": [
    {
     "data": {
      "text/plain": [
       "1716"
      ]
     },
     "execution_count": 125,
     "metadata": {},
     "output_type": "execute_result"
    }
   ],
   "source": [
    "query=\"\"\"select * from vfb0 where (date <='2018-07-29' or date is NULL) and code is NOT null\"\"\"\n",
    "createView('vfb',query)\n",
    "vfb=readSQL(\"\"\"select * from vfb\"\"\")\n",
    "len(vfb)"
   ]
  },
  {
   "cell_type": "code",
   "execution_count": 126,
   "metadata": {},
   "outputs": [],
   "source": [
    "query=\"\"\"select vfb.code client,vfb.staff,vfb.service, vfb.date, vfb.time,vfb.timeint, \n",
    "        description, category,\n",
    "        CASE \n",
    "        WHEN (vfb.service IS NULL or vfb.staff IS NULL) or \n",
    "        (n.date IS NULL or n.code IS NULL or n.service IS NULL or n.staff IS NULL) THEN NULL \n",
    "        ELSE 1 END as noshowflag0 \n",
    "        FROM vfb\n",
    "            LEFT JOIN noshow n on vfb.date=n.date and vfb.code=n.code and vfb.service=n.service and vfb.staff=n.staff\n",
    "            \"\"\"\n",
    "createView('vbooking0',query)"
   ]
  },
  {
   "cell_type": "markdown",
   "metadata": {},
   "source": [
    "checking customers for which no receipt was issued they are also marked as no-show"
   ]
  },
  {
   "cell_type": "code",
   "execution_count": 127,
   "metadata": {},
   "outputs": [
    {
     "data": {
      "text/plain": [
       "1716"
      ]
     },
     "execution_count": 127,
     "metadata": {},
     "output_type": "execute_result"
    }
   ],
   "source": [
    "bookings=readSQL(\"\"\"select a.client,a.staff,a.service, a.date, a.time,a.timeint, \n",
    "            a.description, a.category,\n",
    "            CASE \n",
    "            WHEN a.noshowflag0 = 1 THEN 1\n",
    "            WHEN (b.client IS NULL or b.date IS NULL ) THEN 1\n",
    "            ELSE 0 END as noshowflag\n",
    "            from vbooking0 a\n",
    "            left join (select client,date, sum(amount) amt from vreceipt group by client,date) b \n",
    "            on a.client=b.client and a.date=b.date\"\"\")\n",
    "bookings['canceldate']=None\n",
    "bookings['canceledby']=None\n",
    "bookings['latecancellation']=0\n",
    "len(bookings)"
   ]
  },
  {
   "cell_type": "code",
   "execution_count": 128,
   "metadata": {},
   "outputs": [
    {
     "data": {
      "text/plain": [
       "60"
      ]
     },
     "execution_count": 128,
     "metadata": {},
     "output_type": "execute_result"
    }
   ],
   "source": [
    "len(bookings[bookings['noshowflag']==1])"
   ]
  },
  {
   "cell_type": "code",
   "execution_count": 129,
   "metadata": {},
   "outputs": [
    {
     "data": {
      "text/plain": [
       "client                 0\n",
       "staff                  0\n",
       "service                0\n",
       "date                   0\n",
       "time                   0\n",
       "timeint                0\n",
       "description            0\n",
       "category               0\n",
       "noshowflag             0\n",
       "canceldate          1716\n",
       "canceledby          1716\n",
       "latecancellation       0\n",
       "dtype: int64"
      ]
     },
     "execution_count": 129,
     "metadata": {},
     "output_type": "execute_result"
    }
   ],
   "source": [
    "bookings.isna().sum()"
   ]
  },
  {
   "cell_type": "markdown",
   "metadata": {},
   "source": [
    "<h4>building list of all cancellations including late minute cancellations"
   ]
  },
  {
   "cell_type": "code",
   "execution_count": 130,
   "metadata": {},
   "outputs": [
    {
     "data": {
      "text/plain": [
       "Index(['client', 'staff', 'service', 'date', 'description', 'category',\n",
       "       'noshowflag', 'canceldate', 'canceledby', 'deltabdays'],\n",
       "      dtype='object')"
      ]
     },
     "execution_count": 130,
     "metadata": {},
     "output_type": "execute_result"
    }
   ],
   "source": [
    "cancellations2=vcancellation.copy()\n",
    "cancellations2['noshowflag']=0\n",
    "cancellations2['deltabdays']=None\n",
    "cancellations2=cancellations2[['client','staff','service','date','description','category',\n",
    "                               'noshowflag','canceldate','canceledby','deltabdays']]\n",
    "cancellations2.columns"
   ]
  },
  {
   "cell_type": "code",
   "execution_count": 131,
   "metadata": {},
   "outputs": [
    {
     "name": "stdout",
     "output_type": "stream",
     "text": [
      "cancellation 243\n",
      "booking 1716\n",
      "noshow 60\n",
      "receipt 1934\n"
     ]
    }
   ],
   "source": [
    "print('cancellation', len(cancellations2))\n",
    "print('booking',len(bookings))\n",
    "print('noshow',len(noshow))\n",
    "print('receipt',len(receipt))"
   ]
  },
  {
   "cell_type": "code",
   "execution_count": 132,
   "metadata": {},
   "outputs": [
    {
     "data": {
      "text/plain": [
       "client           0\n",
       "staff            0\n",
       "service          0\n",
       "date             0\n",
       "description      0\n",
       "category         0\n",
       "noshowflag       0\n",
       "canceldate       0\n",
       "canceledby       0\n",
       "deltabdays     243\n",
       "dtype: int64"
      ]
     },
     "execution_count": 132,
     "metadata": {},
     "output_type": "execute_result"
    }
   ],
   "source": [
    "cancellations2=cancellations2[cancellations2.canceldate <= '2018-07-29']\n",
    "cancellations2.isna().sum()"
   ]
  },
  {
   "cell_type": "markdown",
   "metadata": {},
   "source": [
    "<h6>calculating difference of business days to determine late cancellations that are equivalent to noshow"
   ]
  },
  {
   "cell_type": "code",
   "execution_count": 133,
   "metadata": {},
   "outputs": [
    {
     "data": {
      "text/plain": [
       "client         0\n",
       "staff          0\n",
       "service        0\n",
       "date           0\n",
       "description    0\n",
       "category       0\n",
       "noshowflag     0\n",
       "canceldate     0\n",
       "canceledby     0\n",
       "deltabdays     0\n",
       "dtype: int64"
      ]
     },
     "execution_count": 133,
     "metadata": {},
     "output_type": "execute_result"
    }
   ],
   "source": [
    "import datetime as dt\n",
    "import workdays\n",
    "\n",
    "#salon is open on all days execpt monday\n",
    "wd.weekends=(0,) \n",
    "#ontorio holidays\n",
    "holidays=[dt.date(2018,3,30),dt.date(2018,5,21),dt.date(2018,7,1)]\n",
    "wd.weekends\n",
    "delta=[]\n",
    "for row in cancellations2.itertuples():\n",
    "    sd=pd.to_datetime(row.canceldate).date()\n",
    "    ed=pd.to_datetime(row.date).date()\n",
    "    if sd==ed:\n",
    "        nbwd=0\n",
    "    else:\n",
    "        nbwd=wd.networkdays(sd,ed,holidays)-1\n",
    "    delta.append(nbwd)\n",
    "cancellations2.deltabdays=delta\n",
    "cancellations2.isna().sum()"
   ]
  },
  {
   "cell_type": "code",
   "execution_count": 134,
   "metadata": {},
   "outputs": [
    {
     "data": {
      "text/html": [
       "<div>\n",
       "<style scoped>\n",
       "    .dataframe tbody tr th:only-of-type {\n",
       "        vertical-align: middle;\n",
       "    }\n",
       "\n",
       "    .dataframe tbody tr th {\n",
       "        vertical-align: top;\n",
       "    }\n",
       "\n",
       "    .dataframe thead th {\n",
       "        text-align: right;\n",
       "    }\n",
       "</style>\n",
       "<table border=\"1\" class=\"dataframe\">\n",
       "  <thead>\n",
       "    <tr style=\"text-align: right;\">\n",
       "      <th></th>\n",
       "      <th>client</th>\n",
       "      <th>staff</th>\n",
       "      <th>service</th>\n",
       "      <th>date</th>\n",
       "      <th>description</th>\n",
       "      <th>category</th>\n",
       "      <th>noshowflag</th>\n",
       "      <th>canceldate</th>\n",
       "      <th>canceledby</th>\n",
       "      <th>deltabdays</th>\n",
       "    </tr>\n",
       "  </thead>\n",
       "  <tbody>\n",
       "    <tr>\n",
       "      <th>0</th>\n",
       "      <td>MASA01</td>\n",
       "      <td>JOANNE</td>\n",
       "      <td>CFC</td>\n",
       "      <td>2018-05-24</td>\n",
       "      <td>Color full color</td>\n",
       "      <td>COLOR</td>\n",
       "      <td>0</td>\n",
       "      <td>2018-05-22</td>\n",
       "      <td>ADMIN</td>\n",
       "      <td>2</td>\n",
       "    </tr>\n",
       "    <tr>\n",
       "      <th>1</th>\n",
       "      <td>MASA01</td>\n",
       "      <td>KELLY</td>\n",
       "      <td>CBAL</td>\n",
       "      <td>2018-06-27</td>\n",
       "      <td>Balayage</td>\n",
       "      <td>COLOR</td>\n",
       "      <td>0</td>\n",
       "      <td>2018-06-27</td>\n",
       "      <td>ADMIN</td>\n",
       "      <td>0</td>\n",
       "    </tr>\n",
       "    <tr>\n",
       "      <th>2</th>\n",
       "      <td>MASA01</td>\n",
       "      <td>BECKY</td>\n",
       "      <td>SHCM</td>\n",
       "      <td>2018-07-10</td>\n",
       "      <td>Men's hair cut</td>\n",
       "      <td>STYLE</td>\n",
       "      <td>0</td>\n",
       "      <td>2018-07-03</td>\n",
       "      <td>BECKY</td>\n",
       "      <td>6</td>\n",
       "    </tr>\n",
       "    <tr>\n",
       "      <th>3</th>\n",
       "      <td>MASA01</td>\n",
       "      <td>JJ</td>\n",
       "      <td>SHCC</td>\n",
       "      <td>2018-07-11</td>\n",
       "      <td>Children (under 12)</td>\n",
       "      <td>STYLE</td>\n",
       "      <td>0</td>\n",
       "      <td>2018-07-10</td>\n",
       "      <td>KELLY</td>\n",
       "      <td>1</td>\n",
       "    </tr>\n",
       "    <tr>\n",
       "      <th>4</th>\n",
       "      <td>TRUA01</td>\n",
       "      <td>KELLY</td>\n",
       "      <td>SHCM</td>\n",
       "      <td>2018-07-24</td>\n",
       "      <td>Men's hair cut</td>\n",
       "      <td>STYLE</td>\n",
       "      <td>0</td>\n",
       "      <td>2018-07-24</td>\n",
       "      <td>TANYA</td>\n",
       "      <td>0</td>\n",
       "    </tr>\n",
       "  </tbody>\n",
       "</table>\n",
       "</div>"
      ],
      "text/plain": [
       "   client   staff service        date          description category  \\\n",
       "0  MASA01  JOANNE     CFC  2018-05-24     Color full color    COLOR   \n",
       "1  MASA01   KELLY    CBAL  2018-06-27             Balayage    COLOR   \n",
       "2  MASA01   BECKY    SHCM  2018-07-10       Men's hair cut    STYLE   \n",
       "3  MASA01      JJ    SHCC  2018-07-11  Children (under 12)    STYLE   \n",
       "4  TRUA01   KELLY    SHCM  2018-07-24       Men's hair cut    STYLE   \n",
       "\n",
       "   noshowflag  canceldate canceledby  deltabdays  \n",
       "0           0  2018-05-22      ADMIN           2  \n",
       "1           0  2018-06-27      ADMIN           0  \n",
       "2           0  2018-07-03      BECKY           6  \n",
       "3           0  2018-07-10      KELLY           1  \n",
       "4           0  2018-07-24      TANYA           0  "
      ]
     },
     "execution_count": 134,
     "metadata": {},
     "output_type": "execute_result"
    }
   ],
   "source": [
    "cancellations2.head()"
   ]
  },
  {
   "cell_type": "code",
   "execution_count": 135,
   "metadata": {},
   "outputs": [],
   "source": [
    "cancellations2.to_sql('cancellations2',db,if_exists='replace',index=False)\n"
   ]
  },
  {
   "cell_type": "code",
   "execution_count": 136,
   "metadata": {},
   "outputs": [
    {
     "data": {
      "image/png": "[encoded data removed]",
      "text/plain": [
       "<Figure size 432x288 with 1 Axes>"
      ]
     },
     "metadata": {},
     "output_type": "display_data"
    }
   ],
   "source": [
    "#indicates the number of business days between cancellation and appointment day\n",
    "ax = sns.countplot(x=\"deltabdays\", data=cancellations2)"
   ]
  },
  {
   "cell_type": "code",
   "execution_count": 137,
   "metadata": {},
   "outputs": [
    {
     "data": {
      "image/png": "[encoded data removed]",
      "text/plain": [
       "<Figure size 432x288 with 1 Axes>"
      ]
     },
     "metadata": {},
     "output_type": "display_data"
    }
   ],
   "source": [
    "plt.title(\"distribution of days between cancellation and appointment\")\n",
    "ax = sns.distplot(cancellations2['deltabdays'])"
   ]
  },
  {
   "cell_type": "code",
   "execution_count": 138,
   "metadata": {},
   "outputs": [
    {
     "data": {
      "text/html": [
       "<div>\n",
       "<style scoped>\n",
       "    .dataframe tbody tr th:only-of-type {\n",
       "        vertical-align: middle;\n",
       "    }\n",
       "\n",
       "    .dataframe tbody tr th {\n",
       "        vertical-align: top;\n",
       "    }\n",
       "\n",
       "    .dataframe thead th {\n",
       "        text-align: right;\n",
       "    }\n",
       "</style>\n",
       "<table border=\"1\" class=\"dataframe\">\n",
       "  <thead>\n",
       "    <tr style=\"text-align: right;\">\n",
       "      <th></th>\n",
       "      <th>client</th>\n",
       "      <th>staff</th>\n",
       "      <th>service</th>\n",
       "      <th>date</th>\n",
       "      <th>description</th>\n",
       "      <th>category</th>\n",
       "      <th>noshowflag</th>\n",
       "      <th>canceldate</th>\n",
       "      <th>canceledby</th>\n",
       "      <th>deltabdays</th>\n",
       "    </tr>\n",
       "  </thead>\n",
       "  <tbody>\n",
       "    <tr>\n",
       "      <th>154</th>\n",
       "      <td>KOOM01</td>\n",
       "      <td>JJ</td>\n",
       "      <td>SHCW</td>\n",
       "      <td>2018-04-03</td>\n",
       "      <td>Women's hair cut</td>\n",
       "      <td>STYLE</td>\n",
       "      <td>0</td>\n",
       "      <td>2018-05-10</td>\n",
       "      <td>JJ</td>\n",
       "      <td>-32</td>\n",
       "    </tr>\n",
       "  </tbody>\n",
       "</table>\n",
       "</div>"
      ],
      "text/plain": [
       "     client staff service        date       description category  noshowflag  \\\n",
       "154  KOOM01    JJ    SHCW  2018-04-03  Women's hair cut    STYLE           0   \n",
       "\n",
       "     canceldate canceledby  deltabdays  \n",
       "154  2018-05-10         JJ         -32  "
      ]
     },
     "execution_count": 138,
     "metadata": {},
     "output_type": "execute_result"
    }
   ],
   "source": [
    "cancellations2[(cancellations2.deltabdays<0)]"
   ]
  },
  {
   "cell_type": "code",
   "execution_count": 139,
   "metadata": {},
   "outputs": [
    {
     "name": "stdout",
     "output_type": "stream",
     "text": [
      "total cancellations 243\n",
      "late cancellation day 127\n",
      "cancellation done one day before appointment day 43\n",
      "cancellation done on appointment day 84\n"
     ]
    },
    {
     "data": {
      "text/plain": [
       "Index(['client', 'staff', 'service', 'date', 'description', 'category',\n",
       "       'noshowflag', 'canceldate', 'canceledby', 'deltabdays',\n",
       "       'latecancellation'],\n",
       "      dtype='object')"
      ]
     },
     "execution_count": 139,
     "metadata": {},
     "output_type": "execute_result"
    }
   ],
   "source": [
    "cancellations2[\"latecancellation\"]=0\n",
    "cancellations2[\"noshowflag\"]=0\n",
    "cancellations2.loc[((cancellations2.deltabdays==0) | (cancellations2.deltabdays==1)),\"latecancellation\"]=1\n",
    "print('total cancellations',len(cancellations2))\n",
    "print('late cancellation day',len(cancellations2[(cancellations2.latecancellation==1)]))\n",
    "cancellations2.loc[(cancellations2.deltabdays==0),\"noshowflag\"]=1\n",
    "print('cancellation done one day before appointment day',len(cancellations2[(cancellations2.latecancellation==1) & (cancellations2.noshowflag==0)]))\n",
    "print('cancellation done on appointment day',len(cancellations2[(cancellations2.noshowflag==1)]))\n",
    "cancellations2.columns"
   ]
  },
  {
   "cell_type": "code",
   "execution_count": 140,
   "metadata": {},
   "outputs": [
    {
     "data": {
      "text/plain": [
       "243"
      ]
     },
     "execution_count": 140,
     "metadata": {},
     "output_type": "execute_result"
    }
   ],
   "source": [
    "#data frame of cancellations without no noshow includes late cancellations\n",
    "cancellation3=cancellations2.copy()\n",
    "cancellationearly=cancellation3[(cancellation3.latecancellation==0)]\n",
    "cancellationnoshow=cancellation3[(cancellation3.noshowflag==1)]\n",
    "cancellationeve=cancellation3[(cancellation3.noshowflag==0) & (cancellation3.latecancellation==1)]\n",
    "len(cancellation3)"
   ]
  },
  {
   "cell_type": "code",
   "execution_count": 141,
   "metadata": {},
   "outputs": [
    {
     "data": {
      "image/png": "[encoded data removed]",
      "text/plain": [
       "<Figure size 432x288 with 1 Axes>"
      ]
     },
     "metadata": {},
     "output_type": "display_data"
    }
   ],
   "source": [
    "ax = sns.countplot(x=\"latecancellation\", data=cancellation3)"
   ]
  },
  {
   "cell_type": "markdown",
   "metadata": {},
   "source": [
    "<h6> concatenating effective bookings with cancellations done on the day  "
   ]
  },
  {
   "cell_type": "code",
   "execution_count": 142,
   "metadata": {},
   "outputs": [
    {
     "name": "stdout",
     "output_type": "stream",
     "text": [
      "cancellation no show 84\n",
      "bookings 1716\n"
     ]
    },
    {
     "data": {
      "text/plain": [
       "Index(['client', 'staff', 'service', 'date', 'time', 'timeint', 'description',\n",
       "       'category', 'noshowflag', 'canceldate', 'canceledby',\n",
       "       'latecancellation'],\n",
       "      dtype='object')"
      ]
     },
     "execution_count": 142,
     "metadata": {},
     "output_type": "execute_result"
    }
   ],
   "source": [
    "print('cancellation no show',len(cancellationnoshow))\n",
    "print('bookings',len(bookings))\n",
    "bookings.columns"
   ]
  },
  {
   "cell_type": "code",
   "execution_count": 143,
   "metadata": {},
   "outputs": [
    {
     "data": {
      "text/plain": [
       "Index(['client', 'staff', 'service', 'date', 'description', 'category',\n",
       "       'noshowflag', 'canceldate', 'canceledby', 'deltabdays',\n",
       "       'latecancellation'],\n",
       "      dtype='object')"
      ]
     },
     "execution_count": 143,
     "metadata": {},
     "output_type": "execute_result"
    }
   ],
   "source": [
    "cancellationnoshow.columns"
   ]
  },
  {
   "cell_type": "code",
   "execution_count": 144,
   "metadata": {},
   "outputs": [
    {
     "data": {
      "text/plain": [
       "1800"
      ]
     },
     "execution_count": 144,
     "metadata": {},
     "output_type": "execute_result"
    }
   ],
   "source": [
    "fbooking=pd.concat([bookings,cancellationnoshow.loc[:, cancellationnoshow.columns != 'deltabdays']\n",
    "],sort=False)\n",
    "len(fbooking)"
   ]
  },
  {
   "cell_type": "code",
   "execution_count": 145,
   "metadata": {},
   "outputs": [
    {
     "data": {
      "text/plain": [
       "client               object\n",
       "staff                object\n",
       "service              object\n",
       "date                 object\n",
       "time                 object\n",
       "timeint             float64\n",
       "description          object\n",
       "category             object\n",
       "noshowflag            int64\n",
       "canceldate           object\n",
       "canceledby           object\n",
       "latecancellation      int64\n",
       "dtype: object"
      ]
     },
     "execution_count": 145,
     "metadata": {},
     "output_type": "execute_result"
    }
   ],
   "source": [
    "fbooking2=fbooking.copy()\n",
    "fbooking2.dtypes"
   ]
  },
  {
   "cell_type": "code",
   "execution_count": 146,
   "metadata": {},
   "outputs": [
    {
     "name": "stdout",
     "output_type": "stream",
     "text": [
      "total number of appointments 1800\n",
      "number of pure noshows 60\n",
      "number of cancellation on appointement day 84\n",
      "number of non cancelled appointments 1656\n"
     ]
    }
   ],
   "source": [
    "print('total number of appointments',len(fbooking2))\n",
    "print('number of pure noshows', len(fbooking2[(fbooking2.noshowflag==1) & (fbooking2.latecancellation==0)]))\n",
    "print('number of cancellation on appointement day', len(fbooking2[(fbooking2.noshowflag==1) & (fbooking2.latecancellation==1)]))\n",
    "print('number of non cancelled appointments', len(fbooking2[(fbooking2.noshowflag==0)]))"
   ]
  },
  {
   "cell_type": "code",
   "execution_count": 147,
   "metadata": {},
   "outputs": [
    {
     "data": {
      "text/plain": [
       "client                 0\n",
       "staff                  0\n",
       "service                0\n",
       "date                   0\n",
       "time                  84\n",
       "timeint               84\n",
       "description            0\n",
       "category               0\n",
       "noshowflag             0\n",
       "canceldate          1716\n",
       "canceledby          1716\n",
       "latecancellation       0\n",
       "dtype: int64"
      ]
     },
     "execution_count": 147,
     "metadata": {},
     "output_type": "execute_result"
    }
   ],
   "source": [
    "fbooking2.isna().sum()"
   ]
  },
  {
   "cell_type": "code",
   "execution_count": 148,
   "metadata": {
    "scrolled": true
   },
   "outputs": [
    {
     "data": {
      "text/plain": [
       "Index(['client', 'staff', 'service', 'date', 'time', 'timeint', 'description',\n",
       "       'category', 'noshowflag', 'canceldate', 'canceledby',\n",
       "       'latecancellation', 'dayinweek', 'tdate', 'month', 'time01', 'ttime',\n",
       "       'hour'],\n",
       "      dtype='object')"
      ]
     },
     "execution_count": 148,
     "metadata": {},
     "output_type": "execute_result"
    }
   ],
   "source": [
    "fbooking2['dayinweek']=pd.to_datetime(fbooking2['date']).apply(lambda x: x.weekday()).astype('float64')\n",
    "fbooking2['tdate']=pd.to_datetime(fbooking2['date'])\n",
    "fbooking2['month']=pd.to_datetime(fbooking2['date']).apply(lambda x: x.month)\n",
    "fbooking2['time01']=fbooking2['timeint'].apply(lambda x: \n",
    "                        ((x-fbooking2['timeint'].min())/(fbooking2['timeint'].max()-fbooking2['timeint'].min())))\n",
    "fbooking2['ttime']=pd.to_datetime(fbooking2['time'])\n",
    "fbooking2['hour']=fbooking2['ttime'].apply(lambda x: x.hour)\n",
    "fbooking2.columns"
   ]
  },
  {
   "cell_type": "markdown",
   "metadata": {},
   "source": [
    "<h4> building Customer variables based on past history<h4>\n",
    "     Data is exported into database for using SQL JULIANDAY, SUM, ORDER BY etc... "
   ]
  },
  {
   "cell_type": "code",
   "execution_count": 149,
   "metadata": {},
   "outputs": [],
   "source": [
    "bookingtmp=fbooking2[['client', 'staff', 'service', 'date', 'time', 'timeint', 'description',\n",
    "       'category', 'noshowflag', 'canceldate', 'canceledby',\n",
    "       'latecancellation', 'dayinweek', 'tdate', 'month', 'ttime',\n",
    "       'hour']].copy()\n",
    "bookingtmp.to_sql('bookingtmp',db,if_exists='replace',index=False)"
   ]
  },
  {
   "cell_type": "code",
   "execution_count": 150,
   "metadata": {},
   "outputs": [],
   "source": [
    "query=\"\"\"select a.*,\n",
    "        case\n",
    "        when a.client IS null then null\n",
    "        when (b.firstdate IS NULL AND A.date=C.FIRSTDATE2) or (a.date=b.firstdate and c.firstdate2 is NULL) or (a.date=MiN(firstdate,firstdate2))   THEN 1 \n",
    "        else 0 END as firstapp,\n",
    "        case\n",
    "        when a.client IS null then null\n",
    "        when a.date=b.firstdate THEN 1 \n",
    "        else 0 END as newcustomer,\n",
    "        b.firstdate, c.firstdate2 from bookingtmp a \n",
    "left join (select client,MIN(date) firstdate from bookingtmp where noshowflag=0 group by client) b\n",
    "on a.client=b.client \n",
    "left join (select client,MIN(date) firstdate2 from bookingtmp where noshowflag=1 group by client) c\n",
    "on a.client=c.client \n",
    "where dayinweek<>0\"\"\"\n",
    "\n",
    "createView('vbookingtmp',query)"
   ]
  },
  {
   "cell_type": "code",
   "execution_count": 151,
   "metadata": {},
   "outputs": [],
   "source": [
    "query=\"\"\"select a.*\n",
    ",IFNULL((select julianday(a.date)-julianday((select MAX(b.date) from vbookingtmp b\n",
    "        where b.client=a.client and \n",
    "        b.noshowflag=0 and b.date < a.date))),0) deltadaysappt\n",
    ",IFNULL((select julianday(a.date)-julianday((select MAX(b.date) from vbookingtmp b\n",
    "        where b.client=a.client and \n",
    "        b.noshowflag=1 and b.date < a.date))),0) deltadayslastnoshow\n",
    "        ,(select count(DISTINCT b.date) from vbookingtmp b \n",
    "where b.client=a.client and b.noshowflag=0 and \n",
    "    ((julianday(a.date)- julianday(b.date)) BETWEEN 1 and 30) ) last30dvisit\n",
    ",IFNULL((select 1 from vbookingtmp b \n",
    "where b.client=a.client and b.date = a.date and b.noshowflag=a.noshowflag\n",
    "      and b.latecancellation=a.latecancellation  and b.time<>a.time limit 1),0) multipleappt\n",
    ",IFNULL((select b.noshowflag  from vbookingtmp b \n",
    "where b.client=a.client and b.date < a.date and b.noshowflag =1 \n",
    "order by b.date DESC limit 1),0) previousnoshow\n",
    ",IFNULL((select count(distinct b.date) from vbookingtmp b \n",
    "where b.client=a.client and ((julianday(a.date)- julianday(b.date)) BETWEEN 1 and 30)\n",
    "and b.noshowflag =1 ),0) last30dnoshow\n",
    ",(select b.date from vbookingtmp b \n",
    "where b.client=a.client and b.date < a.date and b.noshowflag =1 \n",
    "order by b.date DESC limit 1) lastnoshowdate\n",
    ",(select b.hour from vbookingtmp b \n",
    "where b.client=a.client and b.date < a.date and b.noshowflag =1 \n",
    "order by b.date DESC,b.time ASC limit 1) lastnoshowhour\n",
    ",(select b.dayinweek from vbookingtmp b where b.client=a.client and b.date < a.date and b.noshowflag =1 \n",
    "order by b.date DESC limit 1) lastnoshowdayinweek\n",
    ",(select b.date from vbookingtmp b \n",
    "where b.client=a.client and b.date < a.date  and b.noshowflag =0 \n",
    "order by b.date DESC limit 1) lastvisitdate\n",
    ",(select b.hour from vbookingtmp b \n",
    "where b.client=a.client and b.date < a.date and b.noshowflag =0 \n",
    "order by b.date DESC,b.time ASC limit 1) lastvisithour \n",
    ",IFNULL((select b.staff from vbookingtmp b \n",
    "where b.client=a.client and b.date < a.date and b.noshowflag =0 and b.staff=a.staff \n",
    "order by b.date DESC limit 1),\n",
    "(select b.staff from vbookingtmp b \n",
    "where b.client=a.client and b.date < a.date and b.noshowflag =0 \n",
    "order by b.date DESC limit 1) )laststaff\n",
    ",(select b.dayinweek from vbookingtmp b \n",
    "where b.client=a.client and b.date < a.date and b.noshowflag =0 \n",
    "order by b.date DESC limit 1) lastvisitdayinweek\n",
    ",IFNULL((select b.service from vbookingtmp b \n",
    "where b.client=a.client and b.date < a.date and b.noshowflag =0 and b.service=a.service \n",
    "order by b.date DESC limit 1),(select b.service from vbookingtmp b \n",
    "where b.client=a.client and b.date < a.date and b.noshowflag =0 \n",
    "order by b.date DESC limit 1))lastservice\n",
    ",IFNULL((select b.category from vbookingtmp b \n",
    "where b.client=a.client and b.date < a.date and b.noshowflag =0 and b.service=a.service \n",
    "order by b.date DESC limit 1),(select b.category from vbookingtmp b \n",
    "where b.client=a.client and b.date < a.date and b.noshowflag =0 \n",
    "order by b.date DESC limit 1))lastcategory\n",
    "from vbookingtmp a\n",
    "\"\"\"\n",
    "df=readSQL(query)"
   ]
  },
  {
   "cell_type": "code",
   "execution_count": 152,
   "metadata": {},
   "outputs": [],
   "source": [
    "df.to_sql('bookingtmp2',db,if_exists='replace',index=False)\n",
    "db.commit()"
   ]
  },
  {
   "cell_type": "code",
   "execution_count": 153,
   "metadata": {},
   "outputs": [],
   "source": [
    "query=\"\"\"select a.*\n",
    ",IFNULL((select SUM(amount) from vreceipt b\n",
    "  where b.client=a.client and \n",
    "\t  ((julianday(a.date)- julianday(b.date)) BETWEEN 1 and 30)),0) \n",
    "\t  last30dbillamt\n",
    ",IFNULL((select SUM(amount) from vreceipt b\n",
    "  where b.client=a.client and\n",
    "\t  ((julianday(a.date)- julianday(b.date)) BETWEEN 1 and 30)\n",
    "\t  and b.category='COLOR' and b.amount >0 ),0) \n",
    "\t  last30dcolor\n",
    ",IFNULL((select SUM(amount) from vreceipt b\n",
    "  where b.client=a.client and\n",
    "\t  ((julianday(a.date)- julianday(b.date)) BETWEEN 1 and 30)\n",
    "\t  and b.category='STYLE' and b.amount >0),0) \n",
    "\t  last30dstyle\n",
    ",IFNULL((select SUM(amount) from vreceipt b\n",
    "  where b.client=a.client and\n",
    "\t  ((julianday(a.date)- julianday(b.date)) BETWEEN 1 and 30)\n",
    "\t  and b.type='P' and b.amount >0),0) \n",
    "\t  last30dproduct \n",
    ",IFNULL((select 1 from vreceipt b\n",
    "\t\twhere b.client=a.client and\n",
    "\t\t\t  ((julianday(a.date)- julianday(b.date)) BETWEEN 1 and 90)\n",
    "\t  and b.type='P' and b.amount >0),0) last90dproductbuyer \n",
    ",IFNULL((select 1 from vreceipt b\n",
    "\t\twhere b.client=a.client and\n",
    "\t\t\t  b.service='SBD' and \n",
    "\t\t\t  b.date < a.date and\n",
    "\t\t\t  b.date >= (select MAX(date) from vreceipt c\n",
    "\t\t\t\t\t  where c.client=a.client and\n",
    "\t\t\t\t\t  c.date <a.date and c.service='SBD5+1')\n",
    "\t\t\tgroup by b.service having count(*) <5),0) activebundlepromo\n",
    ",IFNULL((select count(distinct b.date) from cancellations2 b\n",
    "\t\twhere b.client=a.client and b.deltabdays=1 and\n",
    "\t\t\t  ((julianday(a.date)- julianday(b.date)) BETWEEN 1 and 30))\n",
    "\t\t\t,0) last30dlatecancel\n",
    ",IFNULL((select count(distinct b.date) from cancellations2 b\n",
    "\t\twhere b.client=a.client and b.deltabdays> 1 and\n",
    "\t\t\t  ((julianday(a.date)- julianday(b.date)) BETWEEN 1 and 30))\n",
    "\t\t\t,0) last30dregcancel\n",
    "from bookingtmp2 a\"\"\"\n",
    "df2=readSQL(query)\n",
    "df2.columns\n",
    "df2.to_sql('bookingtmp3',db,if_exists='replace',index=False)\n",
    "db.commit()"
   ]
  },
  {
   "cell_type": "markdown",
   "metadata": {},
   "source": [
    "#adding 6 columns \n",
    "<br>0- column day/hour combination \n",
    "<br>1- number of appointments per combination day & hour\n",
    "<br>2- number of appointments per combination day \n",
    "<br>3- ratio= nb appointments in hour slot/total nb appointments in day enables to define a unique value for each day/hour slot\n",
    "<br>4- create a column for last vist hourday combination\n",
    "<br>5- create a column for noshow hourday combination"
   ]
  },
  {
   "cell_type": "code",
   "execution_count": 154,
   "metadata": {},
   "outputs": [],
   "source": [
    "df2=readSQL(\"\"\"select * from bookingtmp3\"\"\")"
   ]
  },
  {
   "cell_type": "code",
   "execution_count": 155,
   "metadata": {},
   "outputs": [
    {
     "data": {
      "image/png": "[encoded data removed]",
      "text/plain": [
       "<Figure size 432x288 with 1 Axes>"
      ]
     },
     "metadata": {},
     "output_type": "display_data"
    }
   ],
   "source": [
    "plt.title(\"total effective bookings and noshows per day in week\")\n",
    "ax = sns.countplot(x=\"dayinweek\",hue=\"noshowflag\",data=df2)"
   ]
  },
  {
   "cell_type": "code",
   "execution_count": 156,
   "metadata": {},
   "outputs": [
    {
     "data": {
      "image/png": "[encoded data removed]",
      "text/plain": [
       "<Figure size 432x288 with 1 Axes>"
      ]
     },
     "metadata": {},
     "output_type": "display_data"
    }
   ],
   "source": [
    "plt.title(\"total bookings per month and day in week - 1 tuesday 2 Wednesday... 6 Sunday\")\n",
    "ax = sns.countplot(x=\"month\",hue=\"dayinweek\",data=df2[df2.dayinweek!=0])"
   ]
  },
  {
   "cell_type": "code",
   "execution_count": 157,
   "metadata": {},
   "outputs": [
    {
     "data": {
      "image/png": "[encoded data removed]",
      "text/plain": [
       "<Figure size 432x288 with 1 Axes>"
      ]
     },
     "metadata": {},
     "output_type": "display_data"
    }
   ],
   "source": [
    "ax = sns.countplot(x=\"hour\",data=df2[df2.noshowflag==0])"
   ]
  },
  {
   "cell_type": "code",
   "execution_count": 158,
   "metadata": {},
   "outputs": [
    {
     "data": {
      "text/plain": [
       "<matplotlib.axes._subplots.AxesSubplot at 0x1add04ba668>"
      ]
     },
     "execution_count": 158,
     "metadata": {},
     "output_type": "execute_result"
    },
    {
     "data": {
      "image/png": "[encoded data removed]",
      "text/plain": [
       "<Figure size 864x288 with 1 Axes>"
      ]
     },
     "metadata": {},
     "output_type": "display_data"
    }
   ],
   "source": [
    "dftmp = df2[(df2.noshowflag==1)].copy()\n",
    "slot=dftmp.groupby(['dayinweek','hour']).count() \n",
    "slot=slot['noshowflag']\n",
    "\n",
    "plt.figure(figsize=(12,4))\n",
    "plt.title(\"Total noshows observed on Day/Hour combination\")\n",
    "plt.ylabel(\"No Shows\")\n",
    "plt.ylim(0,10)\n",
    "slot.plot.bar()"
   ]
  },
  {
   "cell_type": "code",
   "execution_count": 159,
   "metadata": {},
   "outputs": [
    {
     "data": {
      "image/png": "[encoded data removed]",
      "text/plain": [
       "<Figure size 432x288 with 1 Axes>"
      ]
     },
     "metadata": {},
     "output_type": "display_data"
    }
   ],
   "source": [
    "plt.title(\"total bookings (including noshows) per month\")\n",
    "ax = sns.countplot(x=\"month\",hue=\"noshowflag\",data=df2)"
   ]
  },
  {
   "cell_type": "code",
   "execution_count": 160,
   "metadata": {},
   "outputs": [
    {
     "data": {
      "image/png": "[encoded data removed]",
      "text/plain": [
       "<Figure size 432x288 with 1 Axes>"
      ]
     },
     "metadata": {},
     "output_type": "display_data"
    }
   ],
   "source": [
    "plt.title(\"total bookings (including noshows) per employee\")\n",
    "ax = sns.countplot(x=\"staff\",hue=\"noshowflag\",data=df2)"
   ]
  },
  {
   "cell_type": "code",
   "execution_count": 161,
   "metadata": {},
   "outputs": [
    {
     "data": {
      "image/png": "[encoded data removed]",
      "text/plain": [
       "<Figure size 432x288 with 1 Axes>"
      ]
     },
     "metadata": {},
     "output_type": "display_data"
    }
   ],
   "source": [
    "plt.title(\"total noshows per employee\")\n",
    "ax = sns.countplot(x=\"staff\",data=df2[df2.noshowflag==1])"
   ]
  },
  {
   "cell_type": "code",
   "execution_count": 162,
   "metadata": {},
   "outputs": [
    {
     "data": {
      "image/png": "[encoded data removed]",
      "text/plain": [
       "<Figure size 432x288 with 1 Axes>"
      ]
     },
     "metadata": {},
     "output_type": "display_data"
    }
   ],
   "source": [
    "plt.title(\"distribution of delta between visits\")\n",
    "ax = sns.distplot(df2.loc[(df2.newcustomer==0) & df2.deltadaysappt.notnull(),'deltadaysappt'])"
   ]
  },
  {
   "cell_type": "code",
   "execution_count": 163,
   "metadata": {},
   "outputs": [],
   "source": [
    "df2['dayhourcombi']='day-'+df2['dayinweek'].astype(str)+' hour-'+df2['hour'].astype(str)\n",
    "dfg=df2.groupby(['dayhourcombi'])\n",
    "df3=pd.DataFrame(dfg['dayinweek'].count())\n",
    "df3.columns=['dayhourcount']\n",
    "dfinal=pd.merge(df2,df3['dayhourcount'],on='dayhourcombi',how='left')"
   ]
  },
  {
   "cell_type": "code",
   "execution_count": 164,
   "metadata": {},
   "outputs": [],
   "source": [
    "dfg=df2.groupby(['dayinweek'])\n",
    "df3=pd.DataFrame(dfg['hour'].count())\n",
    "df3.columns=['daycount']\n",
    "#dfinal.columns\n",
    "dfinal2=pd.merge(dfinal,df3['daycount'],on='dayinweek',how='left')"
   ]
  },
  {
   "cell_type": "code",
   "execution_count": 165,
   "metadata": {},
   "outputs": [
    {
     "data": {
      "text/plain": [
       "Index(['client', 'staff', 'service', 'date', 'time', 'timeint', 'description',\n",
       "       'category', 'noshowflag', 'canceldate', 'canceledby',\n",
       "       'latecancellation', 'dayinweek', 'tdate', 'month', 'ttime', 'hour',\n",
       "       'firstapp', 'newcustomer', 'firstdate', 'firstdate2', 'deltadaysappt',\n",
       "       'deltadayslastnoshow', 'last30dvisit', 'multipleappt', 'previousnoshow',\n",
       "       'last30dnoshow', 'lastnoshowdate', 'lastnoshowhour',\n",
       "       'lastnoshowdayinweek', 'lastvisitdate', 'lastvisithour', 'laststaff',\n",
       "       'lastvisitdayinweek', 'lastservice', 'lastcategory', 'last30dbillamt',\n",
       "       'last30dcolor', 'last30dstyle', 'last30dproduct', 'last90dproductbuyer',\n",
       "       'activebundlepromo', 'last30dlatecancel', 'last30dregcancel',\n",
       "       'dayhourcombi', 'dayhourcount', 'daycount', 'hourday'],\n",
       "      dtype='object')"
      ]
     },
     "execution_count": 165,
     "metadata": {},
     "output_type": "execute_result"
    }
   ],
   "source": [
    "dfinal2['hourday']=None\n",
    "df=dfinal2.copy()\n",
    "df['hourday']=df['dayhourcount']/df['daycount']\n",
    "df['hourday']=df['hourday']+(df['dayinweek'].astype('str').astype('float')/1000000)\n",
    "df['hourday']=df['hourday']+(df['hour'].apply(lambda x: x if pd.notnull(x) else 1)/100000)\n",
    "dfinal2['hourday']=df['hourday']\n",
    "dfinal2.columns"
   ]
  },
  {
   "cell_type": "code",
   "execution_count": 166,
   "metadata": {},
   "outputs": [
    {
     "data": {
      "image/png": "[encoded data removed]",
      "text/plain": [
       "<Figure size 432x288 with 1 Axes>"
      ]
     },
     "metadata": {},
     "output_type": "display_data"
    }
   ],
   "source": [
    "ax = sns.barplot(x=\"dayhourcombi\",y=\"dayinweek\",data=dfinal2,ci=None)"
   ]
  },
  {
   "cell_type": "code",
   "execution_count": 167,
   "metadata": {
    "scrolled": false
   },
   "outputs": [],
   "source": [
    "df2=dfinal2.groupby('dayhourcombi').first()\n",
    "df2.dtypes\n",
    "apptstats=df2[['dayinweek','hour','daycount','dayhourcount','hourday']]\n",
    "apptstats=apptstats.reset_index()"
   ]
  },
  {
   "cell_type": "code",
   "execution_count": 168,
   "metadata": {},
   "outputs": [
    {
     "data": {
      "text/html": [
       "<div>\n",
       "<style scoped>\n",
       "    .dataframe tbody tr th:only-of-type {\n",
       "        vertical-align: middle;\n",
       "    }\n",
       "\n",
       "    .dataframe tbody tr th {\n",
       "        vertical-align: top;\n",
       "    }\n",
       "\n",
       "    .dataframe thead th {\n",
       "        text-align: right;\n",
       "    }\n",
       "</style>\n",
       "<table border=\"1\" class=\"dataframe\">\n",
       "  <thead>\n",
       "    <tr style=\"text-align: right;\">\n",
       "      <th></th>\n",
       "      <th>dayinweek</th>\n",
       "      <th>hourday</th>\n",
       "    </tr>\n",
       "  </thead>\n",
       "  <tbody>\n",
       "    <tr>\n",
       "      <th>62</th>\n",
       "      <td>5.0</td>\n",
       "      <td>0.040951</td>\n",
       "    </tr>\n",
       "  </tbody>\n",
       "</table>\n",
       "</div>"
      ],
      "text/plain": [
       "    dayinweek   hourday\n",
       "62        5.0  0.040951"
      ]
     },
     "execution_count": 168,
     "metadata": {},
     "output_type": "execute_result"
    }
   ],
   "source": [
    "apptstats.loc[(apptstats.hour.isnull()) & (apptstats.dayinweek==5.0),['dayinweek','hourday']]"
   ]
  },
  {
   "cell_type": "code",
   "execution_count": 169,
   "metadata": {},
   "outputs": [],
   "source": [
    "lastvisitdayhour=[]\n",
    "lastnoshowdayhour=[]\n",
    "for row in dfinal2.itertuples():\n",
    "    if math.isnan(row.lastvisitdayinweek):\n",
    "        lastvisitdayhour.append('NA')\n",
    "    else:\n",
    "        if not math.isnan(row.lastvisithour):\n",
    "            dh=apptstats.loc[(apptstats.hour==row.lastvisithour) & (apptstats.dayinweek==row.lastvisitdayinweek),'dayhourcombi']\n",
    "        else:\n",
    "            dh=apptstats.loc[(apptstats.hour.isnull()) & (apptstats.dayinweek==row.lastvisitdayinweek),'dayhourcombi']\n",
    "        lastvisitdayhour.append(dh.iloc[0])\n",
    "    if math.isnan(row.lastnoshowdayinweek):\n",
    "        lastnoshowdayhour.append('NA')\n",
    "    else:\n",
    "        if not math.isnan(row.lastnoshowhour):\n",
    "            dh2=apptstats.loc[(apptstats.hour==row.lastnoshowhour) & (apptstats.dayinweek==row.lastnoshowdayinweek),'dayhourcombi']\n",
    "        else:\n",
    "            dh2=apptstats.loc[(apptstats.hour.isnull()) & (apptstats.dayinweek==row.lastnoshowdayinweek),'dayhourcombi']\n",
    "        lastnoshowdayhour.append(dh2.iloc[0])\n",
    "dfinal2['lastvisitdayhourcombi']=lastvisitdayhour\n",
    "dfinal2['lastnoshowdayhourcombi']=lastnoshowdayhour"
   ]
  },
  {
   "cell_type": "code",
   "execution_count": 170,
   "metadata": {},
   "outputs": [],
   "source": [
    "dfinal2.to_sql('bookingtmp4',db,if_exists='replace',index=False)"
   ]
  },
  {
   "cell_type": "markdown",
   "metadata": {},
   "source": [
    "<h4> building unique identifier for each service"
   ]
  },
  {
   "cell_type": "code",
   "execution_count": 171,
   "metadata": {},
   "outputs": [
    {
     "data": {
      "text/html": [
       "<div>\n",
       "<style scoped>\n",
       "    .dataframe tbody tr th:only-of-type {\n",
       "        vertical-align: middle;\n",
       "    }\n",
       "\n",
       "    .dataframe tbody tr th {\n",
       "        vertical-align: top;\n",
       "    }\n",
       "\n",
       "    .dataframe thead th {\n",
       "        text-align: right;\n",
       "    }\n",
       "</style>\n",
       "<table border=\"1\" class=\"dataframe\">\n",
       "  <thead>\n",
       "    <tr style=\"text-align: right;\">\n",
       "      <th></th>\n",
       "      <th>service</th>\n",
       "      <th>description</th>\n",
       "      <th>type</th>\n",
       "      <th>nb</th>\n",
       "      <th>svcamt</th>\n",
       "      <th>svcavg</th>\n",
       "    </tr>\n",
       "  </thead>\n",
       "  <tbody>\n",
       "    <tr>\n",
       "      <th>0</th>\n",
       "      <td>SHCW</td>\n",
       "      <td>Women's hair cut</td>\n",
       "      <td>S</td>\n",
       "      <td>651</td>\n",
       "      <td>50425.7</td>\n",
       "      <td>77.458833</td>\n",
       "    </tr>\n",
       "    <tr>\n",
       "      <th>1</th>\n",
       "      <td>SHCM</td>\n",
       "      <td>Men's hair cut</td>\n",
       "      <td>S</td>\n",
       "      <td>374</td>\n",
       "      <td>16725.0</td>\n",
       "      <td>44.719251</td>\n",
       "    </tr>\n",
       "    <tr>\n",
       "      <th>2</th>\n",
       "      <td>SBD</td>\n",
       "      <td>Blowdry</td>\n",
       "      <td>S</td>\n",
       "      <td>268</td>\n",
       "      <td>11879.0</td>\n",
       "      <td>44.324627</td>\n",
       "    </tr>\n",
       "    <tr>\n",
       "      <th>3</th>\n",
       "      <td>CTU</td>\n",
       "      <td>Color touch up</td>\n",
       "      <td>S</td>\n",
       "      <td>83</td>\n",
       "      <td>5230.0</td>\n",
       "      <td>63.012048</td>\n",
       "    </tr>\n",
       "    <tr>\n",
       "      <th>4</th>\n",
       "      <td>CHLPL</td>\n",
       "      <td>Highlights partial</td>\n",
       "      <td>S</td>\n",
       "      <td>36</td>\n",
       "      <td>5075.0</td>\n",
       "      <td>140.972222</td>\n",
       "    </tr>\n",
       "  </tbody>\n",
       "</table>\n",
       "</div>"
      ],
      "text/plain": [
       "  service         description type   nb   svcamt      svcavg\n",
       "0    SHCW    Women's hair cut    S  651  50425.7   77.458833\n",
       "1    SHCM      Men's hair cut    S  374  16725.0   44.719251\n",
       "2     SBD             Blowdry    S  268  11879.0   44.324627\n",
       "3     CTU      Color touch up    S   83   5230.0   63.012048\n",
       "4   CHLPL  Highlights partial    S   36   5075.0  140.972222"
      ]
     },
     "execution_count": 171,
     "metadata": {},
     "output_type": "execute_result"
    }
   ],
   "source": [
    "# services were sold\n",
    "query=\"\"\"select service,description,type,count(1) nb,SUM(amount) 'svcamt',avg(amount) 'svcavg'  from vreceipt where type='S' group by service order by svcamt desc \"\"\"\n",
    "services=readSQL(query)\n",
    "services.head()"
   ]
  },
  {
   "cell_type": "code",
   "execution_count": 172,
   "metadata": {},
   "outputs": [
    {
     "data": {
      "text/plain": [
       "108669.7"
      ]
     },
     "execution_count": 172,
     "metadata": {},
     "output_type": "execute_result"
    }
   ],
   "source": [
    "#total service revenue $108,700\n",
    "total_service_revenue=services['svcamt'].sum()\n",
    "total_service_revenue"
   ]
  },
  {
   "cell_type": "code",
   "execution_count": 173,
   "metadata": {},
   "outputs": [
    {
     "data": {
      "text/plain": [
       "1799"
      ]
     },
     "execution_count": 173,
     "metadata": {},
     "output_type": "execute_result"
    }
   ],
   "source": [
    "query=\"\"\"select a.*, svcamt, svcavg, lastsvcamt from bookingtmp4 a\n",
    "left join (select service, SUM(amount) svcamt, avg(amount) svcavg from vreceipt  group by service) b on a.service=b.service\n",
    "left join (select service, SUM(amount) lastsvcamt from vreceipt  group by service) c on a.lastservice=c.service\"\"\"\n",
    "df=readSQL(query)\n",
    "len(df)"
   ]
  },
  {
   "cell_type": "code",
   "execution_count": 174,
   "metadata": {},
   "outputs": [],
   "source": [
    "df['svckey']=df['svcamt']/df.svcamt.sum()\n",
    "df['lastsvckey']=df['lastsvcamt']/df.svcamt.sum()"
   ]
  },
  {
   "cell_type": "code",
   "execution_count": 175,
   "metadata": {},
   "outputs": [],
   "source": [
    "df['lastservice2']=df['lastservice']\n",
    "df.loc[df.lastservice.isnull(),'lastservice2']='NA'\n",
    "df['lastcategory2']=df['lastcategory']\n",
    "df.loc[df.lastcategory.isnull(),'lastcategory2']='NA'\n",
    "df['laststaff2']=df['laststaff']\n",
    "df.loc[df.laststaff.isnull(),'laststaff2']='NA'"
   ]
  },
  {
   "cell_type": "code",
   "execution_count": 176,
   "metadata": {},
   "outputs": [
    {
     "data": {
      "text/plain": [
       "Index(['client', 'staff', 'service', 'date', 'time', 'timeint', 'description',\n",
       "       'category', 'noshowflag', 'canceldate', 'canceledby',\n",
       "       'latecancellation', 'dayinweek', 'tdate', 'month', 'ttime', 'hour',\n",
       "       'firstapp', 'newcustomer', 'firstdate', 'firstdate2', 'deltadaysappt',\n",
       "       'deltadayslastnoshow', 'last30dvisit', 'multipleappt', 'previousnoshow',\n",
       "       'last30dnoshow', 'lastnoshowdate', 'lastnoshowhour',\n",
       "       'lastnoshowdayinweek', 'lastvisitdate', 'lastvisithour', 'laststaff',\n",
       "       'lastvisitdayinweek', 'lastservice', 'lastcategory', 'last30dbillamt',\n",
       "       'last30dcolor', 'last30dstyle', 'last30dproduct', 'last90dproductbuyer',\n",
       "       'activebundlepromo', 'last30dlatecancel', 'last30dregcancel',\n",
       "       'dayhourcombi', 'dayhourcount', 'daycount', 'hourday',\n",
       "       'lastvisitdayhourcombi', 'lastnoshowdayhourcombi', 'svcamt', 'svcavg',\n",
       "       'lastsvcamt', 'svckey', 'lastsvckey', 'lastservice2', 'lastcategory2',\n",
       "       'laststaff2'],\n",
       "      dtype='object')"
      ]
     },
     "execution_count": 176,
     "metadata": {},
     "output_type": "execute_result"
    }
   ],
   "source": [
    "df.columns"
   ]
  },
  {
   "cell_type": "code",
   "execution_count": 177,
   "metadata": {},
   "outputs": [],
   "source": [
    "from sklearn.preprocessing import OneHotEncoder\n",
    "df1hot=df[['dayhourcombi','lastnoshowdayhourcombi','lastvisitdayhourcombi','category',\n",
    "           'lastcategory2','service','lastservice2','staff','laststaff2']].copy()\n",
    "enc = OneHotEncoder(handle_unknown='ignore')\n",
    "hotarray=enc.fit_transform(df1hot.values).toarray()"
   ]
  },
  {
   "cell_type": "code",
   "execution_count": 178,
   "metadata": {},
   "outputs": [],
   "source": [
    "dftmp = pd.DataFrame (enc.get_feature_names())\n",
    "filepath = \"C:/Users/moshe/Documents/projectML/p1/data/interim/onehotengineeredpredictors.xlsx\"\n",
    "dftmp.to_excel(filepath, index=False)"
   ]
  },
  {
   "cell_type": "code",
   "execution_count": 179,
   "metadata": {},
   "outputs": [],
   "source": [
    "dftmp=pd.DataFrame(hotarray,columns=enc.get_feature_names())\n",
    "superbooking=pd.concat([df,dftmp],axis=1)\n",
    "superbooking['visit']=1"
   ]
  },
  {
   "cell_type": "code",
   "execution_count": 180,
   "metadata": {},
   "outputs": [
    {
     "name": "stderr",
     "output_type": "stream",
     "text": [
      "C:\\Users\\moshe\\Anaconda3\\lib\\site-packages\\pandas\\core\\generic.py:2522: UserWarning: The spaces in these column names will not be changed. In pandas versions < 0.14, spaces were converted to underscores.\n",
      "  dtype=dtype, method=method)\n"
     ]
    },
    {
     "data": {
      "text/plain": [
       "Index(['client', 'staff', 'service', 'date', 'time', 'timeint', 'description',\n",
       "       'category', 'noshowflag', 'canceldate',\n",
       "       ...\n",
       "       'x7_TANYA', 'x8_BECKY', 'x8_HOUSE', 'x8_JJ', 'x8_JOANNE', 'x8_KELLY',\n",
       "       'x8_NA', 'x8_SINEAD', 'x8_TANYA', 'visit'],\n",
       "      dtype='object', length=295)"
      ]
     },
     "execution_count": 180,
     "metadata": {},
     "output_type": "execute_result"
    }
   ],
   "source": [
    "superbooking.to_sql('superbooking',db,if_exists='replace',index=False)\n",
    "db.commit()\n",
    "superbooking.columns"
   ]
  },
  {
   "cell_type": "code",
   "execution_count": 205,
   "metadata": {},
   "outputs": [
    {
     "data": {
      "image/png": "[encoded data removed]",
      "text/plain": [
       "<Figure size 432x288 with 1 Axes>"
      ]
     },
     "metadata": {},
     "output_type": "display_data"
    }
   ],
   "source": [
    "xs = matplotlib.dates.date2num(fbooking2.tdate.unique())\n",
    "fbooking2.tdate.value_counts().sort_index()\n",
    "plt.plot_date(xs,fbooking2.tdate.value_counts().sort_index())\n",
    "plt.show()"
   ]
  },
  {
   "cell_type": "code",
   "execution_count": 206,
   "metadata": {},
   "outputs": [
    {
     "data": {
      "image/png": "[encoded data removed]",
      "text/plain": [
       "<Figure size 432x288 with 1 Axes>"
      ]
     },
     "metadata": {},
     "output_type": "display_data"
    }
   ],
   "source": [
    "ax = sns.countplot(x=\"tdate\",data=fbooking2[fbooking.noshowflag==0])"
   ]
  },
  {
   "cell_type": "code",
   "execution_count": null,
   "metadata": {},
   "outputs": [],
   "source": []
  }
 ],
 "metadata": {
  "kernelspec": {
   "display_name": "Python 3",
   "language": "python",
   "name": "python3"
  },
  "language_info": {
   "codemirror_mode": {
    "name": "ipython",
    "version": 3
   },
   "file_extension": ".py",
   "mimetype": "text/x-python",
   "name": "python",
   "nbconvert_exporter": "python",
   "pygments_lexer": "ipython3",
   "version": "3.6.8"
  }
 },
 "nbformat": 4,
 "nbformat_minor": 2
}
