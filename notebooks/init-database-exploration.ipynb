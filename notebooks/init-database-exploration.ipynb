{
 "cells": [
  {
   "cell_type": "markdown",
   "metadata": {},
   "source": [
    "# Hairsalon  Database\n",
    "\n",
    "\n",
    "## About this notebook\n",
    "\n",
    "This notebook was created to help with the initial analysis of the hair salon database.\n"
   ]
  },
  {
   "cell_type": "code",
   "execution_count": 1,
   "metadata": {},
   "outputs": [],
   "source": [
    "import numpy as np\n",
    "import datetime as dt\n",
    "import pandas as pd\n",
    "import workdays as wd  #packahe used to calculate diff business days\n",
    "#ROOT_PATH = '/home/host'\n",
    "ROOT_PATH=\"C:/Users/moshe/Documents/projectML/p1\"\n",
    "DATA_PATH = \"%s/data/raw\" % ROOT_PATH\n",
    "DB_FILE = \"%s/hairsalon.db\" % DATA_PATH\n",
    "import sqlite3 as sql3\n",
    "db=sql3.connect(DB_FILE)\n"
   ]
  },
  {
   "cell_type": "code",
   "execution_count": 2,
   "metadata": {},
   "outputs": [],
   "source": [
    "##############################################################################\n",
    "##########                DATABASE FUNCTIONS                     #############\n",
    "##############################################################################\n",
    "\n",
    "#### List the name of the tables on the database \n",
    "def listTables():\n",
    "    import sqlite3 as sql3\n",
    "    db = sql3.connect(DB_FILE)\n",
    "    cur = db.cursor()\n",
    "    cur.execute(\"SELECT name FROM sqlite_master WHERE type='table';\")\n",
    "    res = cur.fetchall()\n",
    "    cur.close()\n",
    "    db.close()\n",
    "    return(res)\n",
    "\n",
    "#### Read function to import data from the SQL to a pandas dataframe.\n",
    "def readSQL(query):\n",
    "    import pandas as pd\n",
    "    import sqlite3 as sql3\n",
    "    db = sql3.connect(DB_FILE)\n",
    "    df = pd.read_sql_query(query, db)\n",
    "    db.close()\n",
    "    return(df)\n",
    "\n",
    "#### Write a pandas dataframe into an SQL table. Use overwrite=True if you want to delete \n",
    "#### first a pre-existent table with the same name. Use append=True if you want to append\n",
    "#### the data in the dataframe to a pre-existent table.\n",
    "def writeSQL(df,tablename,overwrite=False, append=False):\n",
    "    import pandas as pd\n",
    "    import sqlite3 as sql\n",
    "    db = sql.connect(DB_FILE)\n",
    "    if (overwrite):\n",
    "        action = \"replace\"\n",
    "    elif (append):\n",
    "        action = \"append\"\n",
    "    else: \n",
    "        action = \"fail\"\n",
    "    df.to_sql(tablename, db, if_exists=action)\n",
    "    db.close()\n",
    "\n",
    "#### Generate a view based on the provided SQL query\n",
    "def createView(viewname, query):\n",
    "    import sqlite3 as sql3\n",
    "    db = sql3.connect(DB_FILE)\n",
    "    view = 'CREATE VIEW {} AS {}'.format(viewname,query)\n",
    "    #view = \"\"\"CREATE VIEW ? AS \n",
    "    #?\"\"\"\n",
    "    cur = db.cursor()\n",
    "    #cur.execute(view, viewname, query)\n",
    "    cur.execute(view)\n",
    "    cur.close()\n",
    "    db.close()\n",
    "\n",
    "def execquery (query):\n",
    "    import sqlite3 as sql3\n",
    "    db = sql3.connect(DB_FILE)\n",
    "    cur = db.cursor()\n",
    "    cur.execute(query)\n",
    "    cur.close()\n",
    "    db.close()\n",
    "     "
   ]
  },
  {
   "cell_type": "markdown",
   "metadata": {},
   "source": [
    "<h1> import from csv data into sqltables to run once recreates all tables </h1>"
   ]
  },
  {
   "cell_type": "code",
   "execution_count": 174,
   "metadata": {},
   "outputs": [],
   "source": [
    "import pandas as pd\n",
    "file_tuple=(\"Client Cancellations0\",\"Future Bookings (All Clients)0\",\"No-Show Report0\",\n",
    "            \"Product Listing (Retail)0\",\"Receipt Transactions0\",\"Service Listing0\")\n",
    "table_tuple=(\"cancellation\",\"futurebooking\",\"noshow\",\"product\",\"receipt\",\"service\")\n",
    "tableiter=iter(table_tuple)\n",
    "\n",
    "#loop over csv files and crate a correpsonding table for each file \n",
    "for f in file_tuple:\n",
    "    file=f'{DATA_PATH}/{f}.csv'\n",
    "    df=pd.read_csv(file)\n",
    "    #rename columns remove spaces and lower allcharacters\n",
    "    df.rename(columns=lambda x:x.replace(\" \",\"\"),inplace=True)\n",
    "    df.rename(columns=lambda x:x.lower(),inplace=True)\n",
    "    df.to_sql(next(tableiter),db,if_exists='replace',index=False)"
   ]
  },
  {
   "cell_type": "code",
   "execution_count": 175,
   "metadata": {},
   "outputs": [],
   "source": [
    "db.commit()"
   ]
  },
  {
   "cell_type": "code",
   "execution_count": 176,
   "metadata": {},
   "outputs": [
    {
     "data": {
      "text/html": [
       "<div>\n",
       "<style scoped>\n",
       "    .dataframe tbody tr th:only-of-type {\n",
       "        vertical-align: middle;\n",
       "    }\n",
       "\n",
       "    .dataframe tbody tr th {\n",
       "        vertical-align: top;\n",
       "    }\n",
       "\n",
       "    .dataframe thead th {\n",
       "        text-align: right;\n",
       "    }\n",
       "</style>\n",
       "<table border=\"1\" class=\"dataframe\">\n",
       "  <thead>\n",
       "    <tr style=\"text-align: right;\">\n",
       "      <th></th>\n",
       "      <th>canceldate</th>\n",
       "      <th>code</th>\n",
       "      <th>service</th>\n",
       "      <th>staff</th>\n",
       "      <th>bookingdate</th>\n",
       "      <th>canceledby</th>\n",
       "      <th>days</th>\n",
       "    </tr>\n",
       "  </thead>\n",
       "  <tbody>\n",
       "    <tr>\n",
       "      <th>0</th>\n",
       "      <td>05/22/2018</td>\n",
       "      <td>MASA01</td>\n",
       "      <td>CFC</td>\n",
       "      <td>JOANNE</td>\n",
       "      <td>05/24/2018</td>\n",
       "      <td>ADMIN</td>\n",
       "      <td>2.0</td>\n",
       "    </tr>\n",
       "    <tr>\n",
       "      <th>1</th>\n",
       "      <td>06/27/2018</td>\n",
       "      <td>MASA01</td>\n",
       "      <td>CBAL</td>\n",
       "      <td>KELLY</td>\n",
       "      <td>06/27/2018</td>\n",
       "      <td>ADMIN</td>\n",
       "      <td>0.0</td>\n",
       "    </tr>\n",
       "    <tr>\n",
       "      <th>2</th>\n",
       "      <td>07/03/2018</td>\n",
       "      <td>MASA01</td>\n",
       "      <td>SHCM</td>\n",
       "      <td>BECKY</td>\n",
       "      <td>07/10/2018</td>\n",
       "      <td>BECKY</td>\n",
       "      <td>7.0</td>\n",
       "    </tr>\n",
       "    <tr>\n",
       "      <th>3</th>\n",
       "      <td>07/10/2018</td>\n",
       "      <td>MASA01</td>\n",
       "      <td>SHCC</td>\n",
       "      <td>JJ</td>\n",
       "      <td>07/11/2018</td>\n",
       "      <td>KELLY</td>\n",
       "      <td>1.0</td>\n",
       "    </tr>\n",
       "    <tr>\n",
       "      <th>4</th>\n",
       "      <td>07/24/2018</td>\n",
       "      <td>TRUA01</td>\n",
       "      <td>SHCM</td>\n",
       "      <td>KELLY</td>\n",
       "      <td>07/24/2018</td>\n",
       "      <td>TANYA</td>\n",
       "      <td>0.0</td>\n",
       "    </tr>\n",
       "  </tbody>\n",
       "</table>\n",
       "</div>"
      ],
      "text/plain": [
       "   canceldate    code service   staff bookingdate canceledby  days\n",
       "0  05/22/2018  MASA01     CFC  JOANNE  05/24/2018      ADMIN   2.0\n",
       "1  06/27/2018  MASA01    CBAL   KELLY  06/27/2018      ADMIN   0.0\n",
       "2  07/03/2018  MASA01    SHCM   BECKY  07/10/2018      BECKY   7.0\n",
       "3  07/10/2018  MASA01    SHCC      JJ  07/11/2018      KELLY   1.0\n",
       "4  07/24/2018  TRUA01    SHCM   KELLY  07/24/2018      TANYA   0.0"
      ]
     },
     "execution_count": 176,
     "metadata": {},
     "output_type": "execute_result"
    }
   ],
   "source": [
    "cancellations = readSQL('''SELECT * FROM cancellation''')\n",
    "cancellations.head()"
   ]
  },
  {
   "cell_type": "code",
   "execution_count": 177,
   "metadata": {},
   "outputs": [
    {
     "data": {
      "text/html": [
       "<div>\n",
       "<style scoped>\n",
       "    .dataframe tbody tr th:only-of-type {\n",
       "        vertical-align: middle;\n",
       "    }\n",
       "\n",
       "    .dataframe tbody tr th {\n",
       "        vertical-align: top;\n",
       "    }\n",
       "\n",
       "    .dataframe thead th {\n",
       "        text-align: right;\n",
       "    }\n",
       "</style>\n",
       "<table border=\"1\" class=\"dataframe\">\n",
       "  <thead>\n",
       "    <tr style=\"text-align: right;\">\n",
       "      <th></th>\n",
       "      <th>code</th>\n",
       "      <th>staff</th>\n",
       "      <th>service</th>\n",
       "      <th>date</th>\n",
       "      <th>time</th>\n",
       "      <th>timeint</th>\n",
       "    </tr>\n",
       "  </thead>\n",
       "  <tbody>\n",
       "    <tr>\n",
       "      <th>0</th>\n",
       "      <td>JUNJ01</td>\n",
       "      <td>JJ</td>\n",
       "      <td>CON</td>\n",
       "      <td>03/14/2018</td>\n",
       "      <td>3:50:00 PM</td>\n",
       "      <td>950</td>\n",
       "    </tr>\n",
       "    <tr>\n",
       "      <th>1</th>\n",
       "      <td>NORJ01</td>\n",
       "      <td>JJ</td>\n",
       "      <td>SHCM</td>\n",
       "      <td>03/14/2018</td>\n",
       "      <td>4:00:00 PM</td>\n",
       "      <td>960</td>\n",
       "    </tr>\n",
       "    <tr>\n",
       "      <th>2</th>\n",
       "      <td>CORS01</td>\n",
       "      <td>JJ</td>\n",
       "      <td>SHCW</td>\n",
       "      <td>03/15/2018</td>\n",
       "      <td>2:10:00 PM</td>\n",
       "      <td>850</td>\n",
       "    </tr>\n",
       "    <tr>\n",
       "      <th>3</th>\n",
       "      <td>KERT01</td>\n",
       "      <td>JJ</td>\n",
       "      <td>SHCW</td>\n",
       "      <td>03/15/2018</td>\n",
       "      <td>10:00:00 AM</td>\n",
       "      <td>600</td>\n",
       "    </tr>\n",
       "    <tr>\n",
       "      <th>4</th>\n",
       "      <td>LEHJ01</td>\n",
       "      <td>JJ</td>\n",
       "      <td>SHCM</td>\n",
       "      <td>03/15/2018</td>\n",
       "      <td>6:00:00 PM</td>\n",
       "      <td>1080</td>\n",
       "    </tr>\n",
       "  </tbody>\n",
       "</table>\n",
       "</div>"
      ],
      "text/plain": [
       "     code staff service        date         time  timeint\n",
       "0  JUNJ01    JJ     CON  03/14/2018   3:50:00 PM      950\n",
       "1  NORJ01    JJ    SHCM  03/14/2018   4:00:00 PM      960\n",
       "2  CORS01    JJ    SHCW  03/15/2018   2:10:00 PM      850\n",
       "3  KERT01    JJ    SHCW  03/15/2018  10:00:00 AM      600\n",
       "4  LEHJ01    JJ    SHCM  03/15/2018   6:00:00 PM     1080"
      ]
     },
     "execution_count": 177,
     "metadata": {},
     "output_type": "execute_result"
    }
   ],
   "source": [
    "futurebookings=readSQL('''SELECT * FROM futurebooking''')\n",
    "futurebookings.head()"
   ]
  },
  {
   "cell_type": "code",
   "execution_count": 178,
   "metadata": {},
   "outputs": [
    {
     "data": {
      "text/html": [
       "<div>\n",
       "<style scoped>\n",
       "    .dataframe tbody tr th:only-of-type {\n",
       "        vertical-align: middle;\n",
       "    }\n",
       "\n",
       "    .dataframe tbody tr th {\n",
       "        vertical-align: top;\n",
       "    }\n",
       "\n",
       "    .dataframe thead th {\n",
       "        text-align: right;\n",
       "    }\n",
       "</style>\n",
       "<table border=\"1\" class=\"dataframe\">\n",
       "  <thead>\n",
       "    <tr style=\"text-align: right;\">\n",
       "      <th></th>\n",
       "      <th>receipt</th>\n",
       "      <th>date</th>\n",
       "      <th>description</th>\n",
       "      <th>client</th>\n",
       "      <th>staff</th>\n",
       "      <th>quantity</th>\n",
       "      <th>amount</th>\n",
       "      <th>gst</th>\n",
       "      <th>pst</th>\n",
       "    </tr>\n",
       "  </thead>\n",
       "  <tbody>\n",
       "    <tr>\n",
       "      <th>0</th>\n",
       "      <td>10</td>\n",
       "      <td>03/15/2018</td>\n",
       "      <td>Women's hair cut</td>\n",
       "      <td>KERT01</td>\n",
       "      <td>JJ</td>\n",
       "      <td>1</td>\n",
       "      <td>82.0</td>\n",
       "      <td>4.10</td>\n",
       "      <td>6.56</td>\n",
       "    </tr>\n",
       "    <tr>\n",
       "      <th>1</th>\n",
       "      <td>100</td>\n",
       "      <td>04/05/2018</td>\n",
       "      <td>Women's hair cut</td>\n",
       "      <td>COOM01</td>\n",
       "      <td>SINEAD</td>\n",
       "      <td>1</td>\n",
       "      <td>70.0</td>\n",
       "      <td>3.50</td>\n",
       "      <td>5.60</td>\n",
       "    </tr>\n",
       "    <tr>\n",
       "      <th>2</th>\n",
       "      <td>1000</td>\n",
       "      <td>06/09/2018</td>\n",
       "      <td>Consultation</td>\n",
       "      <td>PEDM01</td>\n",
       "      <td>JJ</td>\n",
       "      <td>1</td>\n",
       "      <td>0.0</td>\n",
       "      <td>0.00</td>\n",
       "      <td>0.00</td>\n",
       "    </tr>\n",
       "    <tr>\n",
       "      <th>3</th>\n",
       "      <td>1001</td>\n",
       "      <td>06/09/2018</td>\n",
       "      <td>Women's hair cut</td>\n",
       "      <td>BAIS01</td>\n",
       "      <td>KELLY</td>\n",
       "      <td>1</td>\n",
       "      <td>55.0</td>\n",
       "      <td>2.75</td>\n",
       "      <td>4.40</td>\n",
       "    </tr>\n",
       "    <tr>\n",
       "      <th>4</th>\n",
       "      <td>1003</td>\n",
       "      <td>06/09/2018</td>\n",
       "      <td>Women's hair cut</td>\n",
       "      <td>FRAL01</td>\n",
       "      <td>KELLY</td>\n",
       "      <td>1</td>\n",
       "      <td>65.0</td>\n",
       "      <td>3.25</td>\n",
       "      <td>5.20</td>\n",
       "    </tr>\n",
       "  </tbody>\n",
       "</table>\n",
       "</div>"
      ],
      "text/plain": [
       "   receipt        date       description  client   staff  quantity  amount  \\\n",
       "0       10  03/15/2018  Women's hair cut  KERT01      JJ         1    82.0   \n",
       "1      100  04/05/2018  Women's hair cut  COOM01  SINEAD         1    70.0   \n",
       "2     1000  06/09/2018      Consultation  PEDM01      JJ         1     0.0   \n",
       "3     1001  06/09/2018  Women's hair cut  BAIS01   KELLY         1    55.0   \n",
       "4     1003  06/09/2018  Women's hair cut  FRAL01   KELLY         1    65.0   \n",
       "\n",
       "    gst   pst  \n",
       "0  4.10  6.56  \n",
       "1  3.50  5.60  \n",
       "2  0.00  0.00  \n",
       "3  2.75  4.40  \n",
       "4  3.25  5.20  "
      ]
     },
     "execution_count": 178,
     "metadata": {},
     "output_type": "execute_result"
    }
   ],
   "source": [
    "receipts=readSQL('''SELECT * FROM receipt''')\n",
    "receipts.head()"
   ]
  },
  {
   "cell_type": "code",
   "execution_count": 179,
   "metadata": {},
   "outputs": [
    {
     "data": {
      "text/html": [
       "<div>\n",
       "<style scoped>\n",
       "    .dataframe tbody tr th:only-of-type {\n",
       "        vertical-align: middle;\n",
       "    }\n",
       "\n",
       "    .dataframe tbody tr th {\n",
       "        vertical-align: top;\n",
       "    }\n",
       "\n",
       "    .dataframe thead th {\n",
       "        text-align: right;\n",
       "    }\n",
       "</style>\n",
       "<table border=\"1\" class=\"dataframe\">\n",
       "  <thead>\n",
       "    <tr style=\"text-align: right;\">\n",
       "      <th></th>\n",
       "      <th>date</th>\n",
       "      <th>code</th>\n",
       "      <th>service</th>\n",
       "      <th>staff</th>\n",
       "    </tr>\n",
       "  </thead>\n",
       "  <tbody>\n",
       "    <tr>\n",
       "      <th>0</th>\n",
       "      <td>04/13/2018</td>\n",
       "      <td>None</td>\n",
       "      <td>SHCW</td>\n",
       "      <td>JJ</td>\n",
       "    </tr>\n",
       "    <tr>\n",
       "      <th>1</th>\n",
       "      <td>07/27/2018</td>\n",
       "      <td>AMAB01</td>\n",
       "      <td>SHCM</td>\n",
       "      <td>KELLY</td>\n",
       "    </tr>\n",
       "    <tr>\n",
       "      <th>2</th>\n",
       "      <td>06/07/2018</td>\n",
       "      <td>APPS01</td>\n",
       "      <td>SBD</td>\n",
       "      <td>KELLY</td>\n",
       "    </tr>\n",
       "    <tr>\n",
       "      <th>3</th>\n",
       "      <td>06/05/2018</td>\n",
       "      <td>ASIS01</td>\n",
       "      <td>SHCW</td>\n",
       "      <td>KELLY</td>\n",
       "    </tr>\n",
       "    <tr>\n",
       "      <th>4</th>\n",
       "      <td>05/31/2018</td>\n",
       "      <td>BISD01</td>\n",
       "      <td>CON</td>\n",
       "      <td>SINEAD</td>\n",
       "    </tr>\n",
       "  </tbody>\n",
       "</table>\n",
       "</div>"
      ],
      "text/plain": [
       "         date    code service   staff\n",
       "0  04/13/2018    None    SHCW      JJ\n",
       "1  07/27/2018  AMAB01    SHCM   KELLY\n",
       "2  06/07/2018  APPS01     SBD   KELLY\n",
       "3  06/05/2018  ASIS01    SHCW   KELLY\n",
       "4  05/31/2018  BISD01     CON  SINEAD"
      ]
     },
     "execution_count": 179,
     "metadata": {},
     "output_type": "execute_result"
    }
   ],
   "source": [
    "noshows=readSQL('''SELECT * FROM noshow''')\n",
    "noshows.head()"
   ]
  },
  {
   "cell_type": "code",
   "execution_count": 180,
   "metadata": {},
   "outputs": [
    {
     "data": {
      "text/html": [
       "<div>\n",
       "<style scoped>\n",
       "    .dataframe tbody tr th:only-of-type {\n",
       "        vertical-align: middle;\n",
       "    }\n",
       "\n",
       "    .dataframe tbody tr th {\n",
       "        vertical-align: top;\n",
       "    }\n",
       "\n",
       "    .dataframe thead th {\n",
       "        text-align: right;\n",
       "    }\n",
       "</style>\n",
       "<table border=\"1\" class=\"dataframe\">\n",
       "  <thead>\n",
       "    <tr style=\"text-align: right;\">\n",
       "      <th></th>\n",
       "      <th>isactive</th>\n",
       "      <th>code</th>\n",
       "      <th>description</th>\n",
       "      <th>supplier</th>\n",
       "      <th>brand</th>\n",
       "      <th>category</th>\n",
       "      <th>price</th>\n",
       "      <th>onhand</th>\n",
       "      <th>minimum</th>\n",
       "      <th>maximum</th>\n",
       "      <th>cost</th>\n",
       "      <th>cog</th>\n",
       "      <th>ytd</th>\n",
       "      <th>package</th>\n",
       "    </tr>\n",
       "  </thead>\n",
       "  <tbody>\n",
       "    <tr>\n",
       "      <th>0</th>\n",
       "      <td>1</td>\n",
       "      <td>AGBALANCE335M</td>\n",
       "      <td>AG balance 355ml</td>\n",
       "      <td>VENUS</td>\n",
       "      <td>AG</td>\n",
       "      <td>RETAIL</td>\n",
       "      <td>30.0</td>\n",
       "      <td>2</td>\n",
       "      <td>2</td>\n",
       "      <td>2</td>\n",
       "      <td>0.0</td>\n",
       "      <td>0.0</td>\n",
       "      <td>27.0</td>\n",
       "      <td>0</td>\n",
       "    </tr>\n",
       "    <tr>\n",
       "      <th>1</th>\n",
       "      <td>1</td>\n",
       "      <td>AGBOOST355ML</td>\n",
       "      <td>AG Boost 355ml</td>\n",
       "      <td>VENUS</td>\n",
       "      <td>AG</td>\n",
       "      <td>RETAIL</td>\n",
       "      <td>30.0</td>\n",
       "      <td>3</td>\n",
       "      <td>2</td>\n",
       "      <td>2</td>\n",
       "      <td>18.0</td>\n",
       "      <td>54.0</td>\n",
       "      <td>0.0</td>\n",
       "      <td>0</td>\n",
       "    </tr>\n",
       "    <tr>\n",
       "      <th>2</th>\n",
       "      <td>1</td>\n",
       "      <td>AGCLOUD107ML</td>\n",
       "      <td>AG Cloud 107ml</td>\n",
       "      <td>VENUS</td>\n",
       "      <td>AG</td>\n",
       "      <td>RETAIL</td>\n",
       "      <td>26.0</td>\n",
       "      <td>4</td>\n",
       "      <td>2</td>\n",
       "      <td>2</td>\n",
       "      <td>15.6</td>\n",
       "      <td>62.4</td>\n",
       "      <td>23.4</td>\n",
       "      <td>0</td>\n",
       "    </tr>\n",
       "    <tr>\n",
       "      <th>3</th>\n",
       "      <td>1</td>\n",
       "      <td>AGDRYLIFT44ML</td>\n",
       "      <td>AG Dry Lift 44ml</td>\n",
       "      <td>VENUS</td>\n",
       "      <td>AG</td>\n",
       "      <td>RETAIL</td>\n",
       "      <td>24.0</td>\n",
       "      <td>1</td>\n",
       "      <td>2</td>\n",
       "      <td>2</td>\n",
       "      <td>14.4</td>\n",
       "      <td>14.4</td>\n",
       "      <td>43.2</td>\n",
       "      <td>0</td>\n",
       "    </tr>\n",
       "    <tr>\n",
       "      <th>4</th>\n",
       "      <td>1</td>\n",
       "      <td>AGREMEDY148ML</td>\n",
       "      <td>AG Remedy 148ml</td>\n",
       "      <td>VENUS</td>\n",
       "      <td>AG</td>\n",
       "      <td>RETAIL</td>\n",
       "      <td>26.0</td>\n",
       "      <td>3</td>\n",
       "      <td>2</td>\n",
       "      <td>2</td>\n",
       "      <td>15.6</td>\n",
       "      <td>46.8</td>\n",
       "      <td>0.0</td>\n",
       "      <td>0</td>\n",
       "    </tr>\n",
       "  </tbody>\n",
       "</table>\n",
       "</div>"
      ],
      "text/plain": [
       "   isactive           code       description supplier brand category  price  \\\n",
       "0         1  AGBALANCE335M  AG balance 355ml    VENUS    AG   RETAIL   30.0   \n",
       "1         1   AGBOOST355ML    AG Boost 355ml    VENUS    AG   RETAIL   30.0   \n",
       "2         1   AGCLOUD107ML    AG Cloud 107ml    VENUS    AG   RETAIL   26.0   \n",
       "3         1  AGDRYLIFT44ML  AG Dry Lift 44ml    VENUS    AG   RETAIL   24.0   \n",
       "4         1  AGREMEDY148ML   AG Remedy 148ml    VENUS    AG   RETAIL   26.0   \n",
       "\n",
       "   onhand  minimum  maximum  cost   cog   ytd  package  \n",
       "0       2        2        2   0.0   0.0  27.0        0  \n",
       "1       3        2        2  18.0  54.0   0.0        0  \n",
       "2       4        2        2  15.6  62.4  23.4        0  \n",
       "3       1        2        2  14.4  14.4  43.2        0  \n",
       "4       3        2        2  15.6  46.8   0.0        0  "
      ]
     },
     "execution_count": 180,
     "metadata": {},
     "output_type": "execute_result"
    }
   ],
   "source": [
    "products=readSQL('''SELECT * FROM product''')\n",
    "products.head()"
   ]
  },
  {
   "cell_type": "code",
   "execution_count": 181,
   "metadata": {},
   "outputs": [
    {
     "data": {
      "text/html": [
       "<div>\n",
       "<style scoped>\n",
       "    .dataframe tbody tr th:only-of-type {\n",
       "        vertical-align: middle;\n",
       "    }\n",
       "\n",
       "    .dataframe tbody tr th {\n",
       "        vertical-align: top;\n",
       "    }\n",
       "\n",
       "    .dataframe thead th {\n",
       "        text-align: right;\n",
       "    }\n",
       "</style>\n",
       "<table border=\"1\" class=\"dataframe\">\n",
       "  <thead>\n",
       "    <tr style=\"text-align: right;\">\n",
       "      <th></th>\n",
       "      <th>isactive</th>\n",
       "      <th>code</th>\n",
       "      <th>desc</th>\n",
       "      <th>cate</th>\n",
       "      <th>price</th>\n",
       "      <th>cost</th>\n",
       "    </tr>\n",
       "  </thead>\n",
       "  <tbody>\n",
       "    <tr>\n",
       "      <th>0</th>\n",
       "      <td>1</td>\n",
       "      <td>CAL</td>\n",
       "      <td>accent lights</td>\n",
       "      <td>COLOR</td>\n",
       "      <td>0</td>\n",
       "      <td>10</td>\n",
       "    </tr>\n",
       "    <tr>\n",
       "      <th>1</th>\n",
       "      <td>1</td>\n",
       "      <td>CALC</td>\n",
       "      <td>Accent lights and color</td>\n",
       "      <td>COLOR</td>\n",
       "      <td>0</td>\n",
       "      <td>10</td>\n",
       "    </tr>\n",
       "    <tr>\n",
       "      <th>2</th>\n",
       "      <td>1</td>\n",
       "      <td>CAS</td>\n",
       "      <td>Color additional service</td>\n",
       "      <td>COLOR</td>\n",
       "      <td>0</td>\n",
       "      <td>10</td>\n",
       "    </tr>\n",
       "    <tr>\n",
       "      <th>3</th>\n",
       "      <td>1</td>\n",
       "      <td>CBAL</td>\n",
       "      <td>Balayage</td>\n",
       "      <td>COLOR</td>\n",
       "      <td>0</td>\n",
       "      <td>10</td>\n",
       "    </tr>\n",
       "    <tr>\n",
       "      <th>4</th>\n",
       "      <td>1</td>\n",
       "      <td>CCAMO</td>\n",
       "      <td>Men's camo color</td>\n",
       "      <td>COLOR</td>\n",
       "      <td>45</td>\n",
       "      <td>5</td>\n",
       "    </tr>\n",
       "  </tbody>\n",
       "</table>\n",
       "</div>"
      ],
      "text/plain": [
       "   isactive   code                      desc   cate  price  cost\n",
       "0         1    CAL             accent lights  COLOR      0    10\n",
       "1         1   CALC   Accent lights and color  COLOR      0    10\n",
       "2         1    CAS  Color additional service  COLOR      0    10\n",
       "3         1   CBAL                  Balayage  COLOR      0    10\n",
       "4         1  CCAMO          Men's camo color  COLOR     45     5"
      ]
     },
     "execution_count": 181,
     "metadata": {},
     "output_type": "execute_result"
    }
   ],
   "source": [
    "services=readSQL('''SELECT * FROM service''')\n",
    "services.head()"
   ]
  },
  {
   "cell_type": "code",
   "execution_count": 182,
   "metadata": {},
   "outputs": [],
   "source": [
    "#SQLITE DB date and time are saved as text values - the code below updates the format in the DB\n",
    "#converts format date MM/DD/YYYY =>ISO FORMAT 8601 YYYY-DD-MM\n",
    "#converts format date 3:50:0 PM =>ISO FORMAT HH:MM:SS\n",
    "import datetime as dt\n",
    "cancellations['canceldate']=pd.to_datetime(cancellations['canceldate'],format=\"%m/%d/%Y\")\n",
    "cancellations['canceldate'] = cancellations['canceldate'].apply(lambda x: dt.datetime.strftime(x, '%Y-%m-%d'))\n",
    "cancellations['bookingdate']=pd.to_datetime(cancellations['bookingdate'],format=\"%m/%d/%Y\")\n",
    "cancellations['bookingdate'] = cancellations['bookingdate'].apply(lambda x: dt.datetime.strftime(x, '%Y-%m-%d'))\n",
    "cancellations.to_sql('cancellation',db,if_exists='replace',index=False)\n",
    "\n",
    "futurebookings['date']=pd.to_datetime(futurebookings['date'],format=\"%m/%d/%Y\")\n",
    "futurebookings['date'] = futurebookings['date'].apply(lambda x: dt.datetime.strftime(x, '%Y-%m-%d'))\n",
    "futurebookings['time']=pd.to_datetime(futurebookings['time'],infer_datetime_format=True)\n",
    "futurebookings['time'] = futurebookings['time'].apply(lambda x: dt.datetime.strftime(x, '%H:%M:%S'))\n",
    "futurebookings.to_sql('futurebooking',db,if_exists='replace',index=False)\n",
    "\n",
    "receipts['date']=pd.to_datetime(receipts['date'],format=\"%m/%d/%Y\")\n",
    "receipts['date'] = receipts['date'].apply(lambda x: dt.datetime.strftime(x, '%Y-%m-%d'))\n",
    "receipts.to_sql('receipt',db,if_exists='replace',index=False)\n",
    "\n",
    "#converts format date MM/DD/YY =>ISO FORMAT 8601 YYYY-DD-MM\n",
    "noshows['date']=pd.to_datetime(noshows['date'],format=\"%m/%d/%Y\")\n",
    "noshows['date'] = noshows['date'].apply(lambda x: dt.datetime.strftime(x, '%Y-%m-%d'))\n",
    "noshows.to_sql('noshow',db,if_exists='replace',index=False)"
   ]
  },
  {
   "cell_type": "code",
   "execution_count": 40,
   "metadata": {},
   "outputs": [
    {
     "data": {
      "text/html": [
       "<div>\n",
       "<style scoped>\n",
       "    .dataframe tbody tr th:only-of-type {\n",
       "        vertical-align: middle;\n",
       "    }\n",
       "\n",
       "    .dataframe tbody tr th {\n",
       "        vertical-align: top;\n",
       "    }\n",
       "\n",
       "    .dataframe thead th {\n",
       "        text-align: right;\n",
       "    }\n",
       "</style>\n",
       "<table border=\"1\" class=\"dataframe\">\n",
       "  <thead>\n",
       "    <tr style=\"text-align: right;\">\n",
       "      <th></th>\n",
       "      <th>MIN(canceldate)</th>\n",
       "      <th>MAX(canceldate)</th>\n",
       "      <th>MIN(bookingdate)</th>\n",
       "      <th>Max (bookingdate)</th>\n",
       "      <th>min(days)</th>\n",
       "      <th>max(days)</th>\n",
       "      <th>count(*)</th>\n",
       "    </tr>\n",
       "  </thead>\n",
       "  <tbody>\n",
       "    <tr>\n",
       "      <th>0</th>\n",
       "      <td>2018-03-27</td>\n",
       "      <td>2018-07-28</td>\n",
       "      <td>2018-03-29</td>\n",
       "      <td>2018-09-21</td>\n",
       "      <td>-37.0</td>\n",
       "      <td>66.0</td>\n",
       "      <td>243</td>\n",
       "    </tr>\n",
       "  </tbody>\n",
       "</table>\n",
       "</div>"
      ],
      "text/plain": [
       "  MIN(canceldate) MAX(canceldate) MIN(bookingdate) Max (bookingdate)  \\\n",
       "0      2018-03-27      2018-07-28       2018-03-29        2018-09-21   \n",
       "\n",
       "   min(days)  max(days)  count(*)  \n",
       "0      -37.0       66.0       243  "
      ]
     },
     "execution_count": 40,
     "metadata": {},
     "output_type": "execute_result"
    }
   ],
   "source": [
    "query = \"\"\"SELECT MIN(canceldate), MAX(canceldate), MIN(bookingdate), Max (bookingdate),min(days),max(days),count(*)\n",
    "         FROM cancellation\"\"\"\n",
    "resquery = readSQL(query)\n",
    "resquery"
   ]
  },
  {
   "cell_type": "code",
   "execution_count": 41,
   "metadata": {},
   "outputs": [
    {
     "data": {
      "text/html": [
       "<div>\n",
       "<style scoped>\n",
       "    .dataframe tbody tr th:only-of-type {\n",
       "        vertical-align: middle;\n",
       "    }\n",
       "\n",
       "    .dataframe tbody tr th {\n",
       "        vertical-align: top;\n",
       "    }\n",
       "\n",
       "    .dataframe thead th {\n",
       "        text-align: right;\n",
       "    }\n",
       "</style>\n",
       "<table border=\"1\" class=\"dataframe\">\n",
       "  <thead>\n",
       "    <tr style=\"text-align: right;\">\n",
       "      <th></th>\n",
       "      <th>MIN(date)</th>\n",
       "      <th>MAX(date)</th>\n",
       "      <th>count(*)</th>\n",
       "    </tr>\n",
       "  </thead>\n",
       "  <tbody>\n",
       "    <tr>\n",
       "      <th>0</th>\n",
       "      <td>2018-03-14</td>\n",
       "      <td>2018-07-29</td>\n",
       "      <td>60</td>\n",
       "    </tr>\n",
       "  </tbody>\n",
       "</table>\n",
       "</div>"
      ],
      "text/plain": [
       "    MIN(date)   MAX(date)  count(*)\n",
       "0  2018-03-14  2018-07-29        60"
      ]
     },
     "execution_count": 41,
     "metadata": {},
     "output_type": "execute_result"
    }
   ],
   "source": [
    "query = \"\"\"SELECT MIN(date), MAX(date), count(*)\n",
    "         FROM noshow\"\"\"\n",
    "resquery = readSQL(query)\n",
    "resquery"
   ]
  },
  {
   "cell_type": "code",
   "execution_count": 3,
   "metadata": {},
   "outputs": [
    {
     "data": {
      "text/html": [
       "<div>\n",
       "<style scoped>\n",
       "    .dataframe tbody tr th:only-of-type {\n",
       "        vertical-align: middle;\n",
       "    }\n",
       "\n",
       "    .dataframe tbody tr th {\n",
       "        vertical-align: top;\n",
       "    }\n",
       "\n",
       "    .dataframe thead th {\n",
       "        text-align: right;\n",
       "    }\n",
       "</style>\n",
       "<table border=\"1\" class=\"dataframe\">\n",
       "  <thead>\n",
       "    <tr style=\"text-align: right;\">\n",
       "      <th></th>\n",
       "      <th>MIN(date)</th>\n",
       "      <th>MAX(date)</th>\n",
       "      <th>Min(Time)</th>\n",
       "      <th>Max(time)</th>\n",
       "      <th>count(*)</th>\n",
       "    </tr>\n",
       "  </thead>\n",
       "  <tbody>\n",
       "    <tr>\n",
       "      <th>0</th>\n",
       "      <td>2018-03-14</td>\n",
       "      <td>2019-02-15</td>\n",
       "      <td>08:00:00</td>\n",
       "      <td>19:30:00</td>\n",
       "      <td>1906</td>\n",
       "    </tr>\n",
       "  </tbody>\n",
       "</table>\n",
       "</div>"
      ],
      "text/plain": [
       "    MIN(date)   MAX(date) Min(Time) Max(time)  count(*)\n",
       "0  2018-03-14  2019-02-15  08:00:00  19:30:00      1906"
      ]
     },
     "execution_count": 3,
     "metadata": {},
     "output_type": "execute_result"
    }
   ],
   "source": [
    "query = \"\"\"SELECT MIN(date), MAX(date), Min(Time),Max(time), count(*)\n",
    "         FROM futurebooking\"\"\"\n",
    "resquery = readSQL(query)\n",
    "resquery"
   ]
  },
  {
   "cell_type": "code",
   "execution_count": 43,
   "metadata": {},
   "outputs": [
    {
     "data": {
      "text/html": [
       "<div>\n",
       "<style scoped>\n",
       "    .dataframe tbody tr th:only-of-type {\n",
       "        vertical-align: middle;\n",
       "    }\n",
       "\n",
       "    .dataframe tbody tr th {\n",
       "        vertical-align: top;\n",
       "    }\n",
       "\n",
       "    .dataframe thead th {\n",
       "        text-align: right;\n",
       "    }\n",
       "</style>\n",
       "<table border=\"1\" class=\"dataframe\">\n",
       "  <thead>\n",
       "    <tr style=\"text-align: right;\">\n",
       "      <th></th>\n",
       "      <th>MIN(date)</th>\n",
       "      <th>MAX(date)</th>\n",
       "      <th>MIN(amount)</th>\n",
       "      <th>MAX(amount)</th>\n",
       "      <th>count(*)</th>\n",
       "    </tr>\n",
       "  </thead>\n",
       "  <tbody>\n",
       "    <tr>\n",
       "      <th>0</th>\n",
       "      <td>2018-03-15</td>\n",
       "      <td>2018-07-29</td>\n",
       "      <td>-52.0</td>\n",
       "      <td>300.0</td>\n",
       "      <td>1934</td>\n",
       "    </tr>\n",
       "  </tbody>\n",
       "</table>\n",
       "</div>"
      ],
      "text/plain": [
       "    MIN(date)   MAX(date)  MIN(amount)  MAX(amount)  count(*)\n",
       "0  2018-03-15  2018-07-29        -52.0        300.0      1934"
      ]
     },
     "execution_count": 43,
     "metadata": {},
     "output_type": "execute_result"
    }
   ],
   "source": [
    "query = \"\"\"SELECT MIN(date), MAX(date),MIN(amount),MAX(amount), count(*)\n",
    "         FROM receipt \"\"\"\n",
    "resquery = readSQL(query)\n",
    "resquery"
   ]
  },
  {
   "cell_type": "code",
   "execution_count": 44,
   "metadata": {},
   "outputs": [
    {
     "data": {
      "text/html": [
       "<div>\n",
       "<style scoped>\n",
       "    .dataframe tbody tr th:only-of-type {\n",
       "        vertical-align: middle;\n",
       "    }\n",
       "\n",
       "    .dataframe tbody tr th {\n",
       "        vertical-align: top;\n",
       "    }\n",
       "\n",
       "    .dataframe thead th {\n",
       "        text-align: right;\n",
       "    }\n",
       "</style>\n",
       "<table border=\"1\" class=\"dataframe\">\n",
       "  <thead>\n",
       "    <tr style=\"text-align: right;\">\n",
       "      <th></th>\n",
       "      <th>count(*)</th>\n",
       "      <th>count(distinct receipt)</th>\n",
       "    </tr>\n",
       "  </thead>\n",
       "  <tbody>\n",
       "    <tr>\n",
       "      <th>0</th>\n",
       "      <td>1934</td>\n",
       "      <td>1436</td>\n",
       "    </tr>\n",
       "  </tbody>\n",
       "</table>\n",
       "</div>"
      ],
      "text/plain": [
       "   count(*)  count(distinct receipt)\n",
       "0      1934                     1436"
      ]
     },
     "execution_count": 44,
     "metadata": {},
     "output_type": "execute_result"
    }
   ],
   "source": [
    "#A receipt can count several sub-receipts for different services or products\n",
    "query = \"\"\"SELECT count(*), count(distinct receipt) \n",
    "         FROM receipt \"\"\"\n",
    "resquery = readSQL(query)\n",
    "resquery"
   ]
  },
  {
   "cell_type": "code",
   "execution_count": 4,
   "metadata": {},
   "outputs": [
    {
     "data": {
      "text/html": [
       "<div>\n",
       "<style scoped>\n",
       "    .dataframe tbody tr th:only-of-type {\n",
       "        vertical-align: middle;\n",
       "    }\n",
       "\n",
       "    .dataframe tbody tr th {\n",
       "        vertical-align: top;\n",
       "    }\n",
       "\n",
       "    .dataframe thead th {\n",
       "        text-align: right;\n",
       "    }\n",
       "</style>\n",
       "<table border=\"1\" class=\"dataframe\">\n",
       "  <thead>\n",
       "    <tr style=\"text-align: right;\">\n",
       "      <th></th>\n",
       "      <th>receipts</th>\n",
       "      <th>nbsubreceipts</th>\n",
       "    </tr>\n",
       "  </thead>\n",
       "  <tbody>\n",
       "    <tr>\n",
       "      <th>0</th>\n",
       "      <td>1047</td>\n",
       "      <td>1</td>\n",
       "    </tr>\n",
       "    <tr>\n",
       "      <th>1</th>\n",
       "      <td>309</td>\n",
       "      <td>2</td>\n",
       "    </tr>\n",
       "    <tr>\n",
       "      <th>2</th>\n",
       "      <td>57</td>\n",
       "      <td>3</td>\n",
       "    </tr>\n",
       "    <tr>\n",
       "      <th>3</th>\n",
       "      <td>18</td>\n",
       "      <td>4</td>\n",
       "    </tr>\n",
       "    <tr>\n",
       "      <th>4</th>\n",
       "      <td>4</td>\n",
       "      <td>5</td>\n",
       "    </tr>\n",
       "    <tr>\n",
       "      <th>5</th>\n",
       "      <td>1</td>\n",
       "      <td>6</td>\n",
       "    </tr>\n",
       "  </tbody>\n",
       "</table>\n",
       "</div>"
      ],
      "text/plain": [
       "   receipts  nbsubreceipts\n",
       "0      1047              1\n",
       "1       309              2\n",
       "2        57              3\n",
       "3        18              4\n",
       "4         4              5\n",
       "5         1              6"
      ]
     },
     "execution_count": 4,
     "metadata": {},
     "output_type": "execute_result"
    }
   ],
   "source": [
    "#nb of sub-receipts vary from one to six\n",
    "query = \"\"\"\n",
    "SELECT count(*) receipts, subreceiptcnt nbsubreceipts FROM\n",
    "(SELECT count(*) subreceiptcnt, receipt \n",
    "         FROM receipt group by receipt)\n",
    "group by subreceiptcnt\"\"\"\n",
    "resquery = readSQL(query)\n",
    "resquery"
   ]
  },
  {
   "cell_type": "code",
   "execution_count": 48,
   "metadata": {},
   "outputs": [
    {
     "data": {
      "text/html": [
       "<div>\n",
       "<style scoped>\n",
       "    .dataframe tbody tr th:only-of-type {\n",
       "        vertical-align: middle;\n",
       "    }\n",
       "\n",
       "    .dataframe tbody tr th {\n",
       "        vertical-align: top;\n",
       "    }\n",
       "\n",
       "    .dataframe thead th {\n",
       "        text-align: right;\n",
       "    }\n",
       "</style>\n",
       "<table border=\"1\" class=\"dataframe\">\n",
       "  <thead>\n",
       "    <tr style=\"text-align: right;\">\n",
       "      <th></th>\n",
       "      <th>count(*)</th>\n",
       "    </tr>\n",
       "  </thead>\n",
       "  <tbody>\n",
       "    <tr>\n",
       "      <th>0</th>\n",
       "      <td>1906</td>\n",
       "    </tr>\n",
       "  </tbody>\n",
       "</table>\n",
       "</div>"
      ],
      "text/plain": [
       "   count(*)\n",
       "0      1906"
      ]
     },
     "execution_count": 48,
     "metadata": {},
     "output_type": "execute_result"
    }
   ],
   "source": [
    "#All services listed in futurebooking are services defined in service table [same number of rows]\n",
    "query= \"\"\"select count(*) from futurebooking fb\n",
    "        inner join service s on fb.service=s.code\"\"\"\n",
    "resquery = readSQL(query)\n",
    "resquery"
   ]
  },
  {
   "cell_type": "code",
   "execution_count": 189,
   "metadata": {},
   "outputs": [
    {
     "data": {
      "text/html": [
       "<div>\n",
       "<style scoped>\n",
       "    .dataframe tbody tr th:only-of-type {\n",
       "        vertical-align: middle;\n",
       "    }\n",
       "\n",
       "    .dataframe tbody tr th {\n",
       "        vertical-align: top;\n",
       "    }\n",
       "\n",
       "    .dataframe thead th {\n",
       "        text-align: right;\n",
       "    }\n",
       "</style>\n",
       "<table border=\"1\" class=\"dataframe\">\n",
       "  <thead>\n",
       "    <tr style=\"text-align: right;\">\n",
       "      <th></th>\n",
       "      <th>count(*)</th>\n",
       "    </tr>\n",
       "  </thead>\n",
       "  <tbody>\n",
       "    <tr>\n",
       "      <th>0</th>\n",
       "      <td>1758</td>\n",
       "    </tr>\n",
       "  </tbody>\n",
       "</table>\n",
       "</div>"
      ],
      "text/plain": [
       "   count(*)\n",
       "0      1758"
      ]
     },
     "execution_count": 189,
     "metadata": {},
     "output_type": "execute_result"
    }
   ],
   "source": [
    "#part of the receipts are for services\n",
    "query= \"\"\"select count(*) from receipt r\n",
    "        inner join service s on r.description=s.desc\n",
    "        WHERE r.description is NOT NULL\n",
    "        \"\"\"\n",
    "resquery = readSQL(query)\n",
    "resquery"
   ]
  },
  {
   "cell_type": "code",
   "execution_count": 190,
   "metadata": {},
   "outputs": [
    {
     "data": {
      "text/html": [
       "<div>\n",
       "<style scoped>\n",
       "    .dataframe tbody tr th:only-of-type {\n",
       "        vertical-align: middle;\n",
       "    }\n",
       "\n",
       "    .dataframe tbody tr th {\n",
       "        vertical-align: top;\n",
       "    }\n",
       "\n",
       "    .dataframe thead th {\n",
       "        text-align: right;\n",
       "    }\n",
       "</style>\n",
       "<table border=\"1\" class=\"dataframe\">\n",
       "  <thead>\n",
       "    <tr style=\"text-align: right;\">\n",
       "      <th></th>\n",
       "      <th>count(*)</th>\n",
       "    </tr>\n",
       "  </thead>\n",
       "  <tbody>\n",
       "    <tr>\n",
       "      <th>0</th>\n",
       "      <td>173</td>\n",
       "    </tr>\n",
       "  </tbody>\n",
       "</table>\n",
       "</div>"
      ],
      "text/plain": [
       "   count(*)\n",
       "0       173"
      ]
     },
     "execution_count": 190,
     "metadata": {},
     "output_type": "execute_result"
    }
   ],
   "source": [
    "#part of the receipts are for products\n",
    "query= \"\"\"select count(*) from receipt r\n",
    "        inner join product p on r.description=p.description WHERE r.description is NOT NULL\"\"\"\n",
    "resquery = readSQL(query)\n",
    "resquery"
   ]
  },
  {
   "cell_type": "code",
   "execution_count": 191,
   "metadata": {},
   "outputs": [
    {
     "data": {
      "text/html": [
       "<div>\n",
       "<style scoped>\n",
       "    .dataframe tbody tr th:only-of-type {\n",
       "        vertical-align: middle;\n",
       "    }\n",
       "\n",
       "    .dataframe tbody tr th {\n",
       "        vertical-align: top;\n",
       "    }\n",
       "\n",
       "    .dataframe thead th {\n",
       "        text-align: right;\n",
       "    }\n",
       "</style>\n",
       "<table border=\"1\" class=\"dataframe\">\n",
       "  <thead>\n",
       "    <tr style=\"text-align: right;\">\n",
       "      <th></th>\n",
       "      <th>count(*)</th>\n",
       "    </tr>\n",
       "  </thead>\n",
       "  <tbody>\n",
       "    <tr>\n",
       "      <th>0</th>\n",
       "      <td>3</td>\n",
       "    </tr>\n",
       "  </tbody>\n",
       "</table>\n",
       "</div>"
      ],
      "text/plain": [
       "   count(*)\n",
       "0         3"
      ]
     },
     "execution_count": 191,
     "metadata": {},
     "output_type": "execute_result"
    }
   ],
   "source": [
    "#part of the receipts are not indicated with services or services\n",
    "query= \"\"\"select count(*) from receipt r \n",
    "        left join product p on r.description=p.description \n",
    "        left join service s on r.description=s.desc\n",
    "        where p.description is NULL and s.desc is NULL\"\"\"\n",
    "resquery = readSQL(query)\n",
    "resquery"
   ]
  },
  {
   "cell_type": "code",
   "execution_count": 92,
   "metadata": {},
   "outputs": [],
   "source": [
    "query=\"\"\"drop view vfb\"\"\"\n",
    "execquery(query)\n",
    "query=\"\"\"select fb.*, s.desc description, s.cate category from futurebooking fb \n",
    "inner join service s on fb.service=s.code \"\"\"\n",
    "createView('vfb',query)"
   ]
  },
  {
   "cell_type": "code",
   "execution_count": 204,
   "metadata": {},
   "outputs": [
    {
     "data": {
      "text/plain": [
       "(59, 4)"
      ]
     },
     "execution_count": 204,
     "metadata": {},
     "output_type": "execute_result"
    }
   ],
   "source": [
    "#noshows  linked to a booking\n",
    "query=\"\"\"select n.* from noshow n\n",
    "    inner join futurebooking fb  \n",
    "    on n.date=fb.date and n.code=fb.code and n.service=fb.service and n.staff=fb.staff\"\"\"\n",
    "resquery=readSQL(query)\n",
    "resquery.shape"
   ]
  },
  {
   "cell_type": "code",
   "execution_count": 205,
   "metadata": {},
   "outputs": [
    {
     "data": {
      "text/html": [
       "<div>\n",
       "<style scoped>\n",
       "    .dataframe tbody tr th:only-of-type {\n",
       "        vertical-align: middle;\n",
       "    }\n",
       "\n",
       "    .dataframe tbody tr th {\n",
       "        vertical-align: top;\n",
       "    }\n",
       "\n",
       "    .dataframe thead th {\n",
       "        text-align: right;\n",
       "    }\n",
       "</style>\n",
       "<table border=\"1\" class=\"dataframe\">\n",
       "  <thead>\n",
       "    <tr style=\"text-align: right;\">\n",
       "      <th></th>\n",
       "      <th>date</th>\n",
       "      <th>code</th>\n",
       "      <th>service</th>\n",
       "      <th>staff</th>\n",
       "    </tr>\n",
       "  </thead>\n",
       "  <tbody>\n",
       "    <tr>\n",
       "      <th>0</th>\n",
       "      <td>2018-04-13</td>\n",
       "      <td>None</td>\n",
       "      <td>SHCW</td>\n",
       "      <td>JJ</td>\n",
       "    </tr>\n",
       "  </tbody>\n",
       "</table>\n",
       "</div>"
      ],
      "text/plain": [
       "         date  code service staff\n",
       "0  2018-04-13  None    SHCW    JJ"
      ]
     },
     "execution_count": 205,
     "metadata": {},
     "output_type": "execute_result"
    }
   ],
   "source": [
    "#noshows that are not  linked apparently not linked directly to a booking #we must keep it for missing handling\n",
    "query=\"\"\"select n.* from noshow n\n",
    "    left join futurebooking fb  \n",
    "    on n.date=fb.date and n.code=fb.code and n.service=fb.service and n.staff=fb.staff\n",
    "    where fb.date is null or fb.code is null or fb.service is null or fb.staff is null\"\"\"\n",
    "resquery=readSQL(query)\n",
    "resquery.head()"
   ]
  },
  {
   "cell_type": "code",
   "execution_count": 268,
   "metadata": {},
   "outputs": [
    {
     "data": {
      "text/html": [
       "<div>\n",
       "<style scoped>\n",
       "    .dataframe tbody tr th:only-of-type {\n",
       "        vertical-align: middle;\n",
       "    }\n",
       "\n",
       "    .dataframe tbody tr th {\n",
       "        vertical-align: top;\n",
       "    }\n",
       "\n",
       "    .dataframe thead th {\n",
       "        text-align: right;\n",
       "    }\n",
       "</style>\n",
       "<table border=\"1\" class=\"dataframe\">\n",
       "  <thead>\n",
       "    <tr style=\"text-align: right;\">\n",
       "      <th></th>\n",
       "      <th>code</th>\n",
       "      <th>staff</th>\n",
       "      <th>service</th>\n",
       "      <th>date</th>\n",
       "      <th>time</th>\n",
       "      <th>timeint</th>\n",
       "    </tr>\n",
       "  </thead>\n",
       "  <tbody>\n",
       "    <tr>\n",
       "      <th>0</th>\n",
       "      <td>None</td>\n",
       "      <td>JJ</td>\n",
       "      <td>SHCW</td>\n",
       "      <td>2018-04-13</td>\n",
       "      <td>18:00:00</td>\n",
       "      <td>1080</td>\n",
       "    </tr>\n",
       "    <tr>\n",
       "      <th>1</th>\n",
       "      <td>ALLM01</td>\n",
       "      <td>JJ</td>\n",
       "      <td>SHCW</td>\n",
       "      <td>2018-04-13</td>\n",
       "      <td>11:50:00</td>\n",
       "      <td>710</td>\n",
       "    </tr>\n",
       "    <tr>\n",
       "      <th>2</th>\n",
       "      <td>MOLA01</td>\n",
       "      <td>JJ</td>\n",
       "      <td>SHCW</td>\n",
       "      <td>2018-04-13</td>\n",
       "      <td>16:20:00</td>\n",
       "      <td>980</td>\n",
       "    </tr>\n",
       "    <tr>\n",
       "      <th>3</th>\n",
       "      <td>ROSL01</td>\n",
       "      <td>JJ</td>\n",
       "      <td>SHCW</td>\n",
       "      <td>2018-04-13</td>\n",
       "      <td>14:00:00</td>\n",
       "      <td>840</td>\n",
       "    </tr>\n",
       "  </tbody>\n",
       "</table>\n",
       "</div>"
      ],
      "text/plain": [
       "     code staff service        date      time  timeint\n",
       "0    None    JJ    SHCW  2018-04-13  18:00:00     1080\n",
       "1  ALLM01    JJ    SHCW  2018-04-13  11:50:00      710\n",
       "2  MOLA01    JJ    SHCW  2018-04-13  16:20:00      980\n",
       "3  ROSL01    JJ    SHCW  2018-04-13  14:00:00      840"
      ]
     },
     "execution_count": 268,
     "metadata": {},
     "output_type": "execute_result"
    }
   ],
   "source": [
    "#there is a missing customer we will need to check this row\n",
    "query=\"\"\"select * from futurebooking fb  \n",
    "    where fb.date='2018-04-13' and fb.service='SHCW' and fb.staff='JJ' \"\"\"\n",
    "resquery=readSQL(query)\n",
    "resquery"
   ]
  },
  {
   "cell_type": "markdown",
   "metadata": {},
   "source": [
    "#Verifying that there is not twice the same appointment by the same person on the same day for the same service "
   ]
  },
  {
   "cell_type": "code",
   "execution_count": 212,
   "metadata": {},
   "outputs": [
    {
     "data": {
      "text/html": [
       "<div>\n",
       "<style scoped>\n",
       "    .dataframe tbody tr th:only-of-type {\n",
       "        vertical-align: middle;\n",
       "    }\n",
       "\n",
       "    .dataframe tbody tr th {\n",
       "        vertical-align: top;\n",
       "    }\n",
       "\n",
       "    .dataframe thead th {\n",
       "        text-align: right;\n",
       "    }\n",
       "</style>\n",
       "<table border=\"1\" class=\"dataframe\">\n",
       "  <thead>\n",
       "    <tr style=\"text-align: right;\">\n",
       "      <th></th>\n",
       "      <th>count(*)</th>\n",
       "      <th>date</th>\n",
       "      <th>code</th>\n",
       "      <th>service</th>\n",
       "      <th>staff</th>\n",
       "    </tr>\n",
       "  </thead>\n",
       "  <tbody>\n",
       "  </tbody>\n",
       "</table>\n",
       "</div>"
      ],
      "text/plain": [
       "Empty DataFrame\n",
       "Columns: [count(*), date, code, service, staff]\n",
       "Index: []"
      ]
     },
     "execution_count": 212,
     "metadata": {},
     "output_type": "execute_result"
    }
   ],
   "source": [
    "query=\"\"\"select count(*), fb.date,fb.code,fb.service,fb.staff from futurebooking fb \n",
    "      group by fb.date,fb.code,fb.service,fb.staff\n",
    "      having count(*)>1\"\"\"\n",
    "resquery=readSQL(query)\n",
    "resquery.head()"
   ]
  },
  {
   "cell_type": "markdown",
   "metadata": {},
   "source": [
    "Appointments were cancelled and booked on the same day by a customer \n",
    "A diffferent staff was assgined or maybe different service \n",
    "we might not take them into account as late cancellation\n",
    "We need to understand the cause we will further investigate "
   ]
  },
  {
   "cell_type": "code",
   "execution_count": 273,
   "metadata": {},
   "outputs": [
    {
     "data": {
      "text/html": [
       "<div>\n",
       "<style scoped>\n",
       "    .dataframe tbody tr th:only-of-type {\n",
       "        vertical-align: middle;\n",
       "    }\n",
       "\n",
       "    .dataframe tbody tr th {\n",
       "        vertical-align: top;\n",
       "    }\n",
       "\n",
       "    .dataframe thead th {\n",
       "        text-align: right;\n",
       "    }\n",
       "</style>\n",
       "<table border=\"1\" class=\"dataframe\">\n",
       "  <thead>\n",
       "    <tr style=\"text-align: right;\">\n",
       "      <th></th>\n",
       "      <th>code</th>\n",
       "      <th>staff</th>\n",
       "      <th>service</th>\n",
       "      <th>date</th>\n",
       "    </tr>\n",
       "  </thead>\n",
       "  <tbody>\n",
       "    <tr>\n",
       "      <th>0</th>\n",
       "      <td>SARA01</td>\n",
       "      <td>JJ</td>\n",
       "      <td>SHCM</td>\n",
       "      <td>2018-04-04</td>\n",
       "    </tr>\n",
       "    <tr>\n",
       "      <th>1</th>\n",
       "      <td>HUDM01</td>\n",
       "      <td>JJ</td>\n",
       "      <td>CHLFH</td>\n",
       "      <td>2018-04-08</td>\n",
       "    </tr>\n",
       "    <tr>\n",
       "      <th>2</th>\n",
       "      <td>STEM01</td>\n",
       "      <td>BECKY</td>\n",
       "      <td>SHCW</td>\n",
       "      <td>2018-04-21</td>\n",
       "    </tr>\n",
       "    <tr>\n",
       "      <th>3</th>\n",
       "      <td>BUSM01</td>\n",
       "      <td>SINEAD</td>\n",
       "      <td>SHCW</td>\n",
       "      <td>2018-04-26</td>\n",
       "    </tr>\n",
       "    <tr>\n",
       "      <th>4</th>\n",
       "      <td>MOIB01</td>\n",
       "      <td>SINEAD</td>\n",
       "      <td>SHCW</td>\n",
       "      <td>2018-04-26</td>\n",
       "    </tr>\n",
       "  </tbody>\n",
       "</table>\n",
       "</div>"
      ],
      "text/plain": [
       "     code   staff service        date\n",
       "0  SARA01      JJ    SHCM  2018-04-04\n",
       "1  HUDM01      JJ   CHLFH  2018-04-08\n",
       "2  STEM01   BECKY    SHCW  2018-04-21\n",
       "3  BUSM01  SINEAD    SHCW  2018-04-26\n",
       "4  MOIB01  SINEAD    SHCW  2018-04-26"
      ]
     },
     "execution_count": 273,
     "metadata": {},
     "output_type": "execute_result"
    }
   ],
   "source": [
    "query=\"\"\"select fb.code, fb.staff,fb.service, fb.date from futurebooking fb inner join cancellation c\n",
    "where fb.date=c.bookingdate and fb.code=c.code \"\"\"\n",
    "resquery=readSQL(query)\n",
    "resquery.head()"
   ]
  },
  {
   "cell_type": "markdown",
   "metadata": {},
   "source": [
    "#some appointments for te same person were cancelled twice or even 4 times !"
   ]
  },
  {
   "cell_type": "code",
   "execution_count": 197,
   "metadata": {},
   "outputs": [
    {
     "data": {
      "text/html": [
       "<div>\n",
       "<style scoped>\n",
       "    .dataframe tbody tr th:only-of-type {\n",
       "        vertical-align: middle;\n",
       "    }\n",
       "\n",
       "    .dataframe tbody tr th {\n",
       "        vertical-align: top;\n",
       "    }\n",
       "\n",
       "    .dataframe thead th {\n",
       "        text-align: right;\n",
       "    }\n",
       "</style>\n",
       "<table border=\"1\" class=\"dataframe\">\n",
       "  <thead>\n",
       "    <tr style=\"text-align: right;\">\n",
       "      <th></th>\n",
       "      <th>count(*)</th>\n",
       "    </tr>\n",
       "  </thead>\n",
       "  <tbody>\n",
       "    <tr>\n",
       "      <th>0</th>\n",
       "      <td>0</td>\n",
       "    </tr>\n",
       "  </tbody>\n",
       "</table>\n",
       "</div>"
      ],
      "text/plain": [
       "   count(*)\n",
       "0         0"
      ]
     },
     "execution_count": 197,
     "metadata": {},
     "output_type": "execute_result"
    }
   ],
   "source": [
    "#All services defined in table cancellation are defined in table services\n",
    "query=\"\"\"select  count(*) from vcancellation c where description is NULL\"\"\"\n",
    "resquery=readSQL(query)\n",
    "resquery"
   ]
  },
  {
   "cell_type": "code",
   "execution_count": 96,
   "metadata": {},
   "outputs": [],
   "source": [
    "query=\"\"\"drop view vcancellation\"\"\"\n",
    "execquery(query)\n",
    "query=\"\"\"select c.*, s.desc description, s.cate category from cancellation c \n",
    "inner join service s on c.service=s.code \"\"\"\n",
    "createView('vcancellation',query)"
   ]
  },
  {
   "cell_type": "code",
   "execution_count": 97,
   "metadata": {},
   "outputs": [
    {
     "data": {
      "text/html": [
       "<div>\n",
       "<style scoped>\n",
       "    .dataframe tbody tr th:only-of-type {\n",
       "        vertical-align: middle;\n",
       "    }\n",
       "\n",
       "    .dataframe tbody tr th {\n",
       "        vertical-align: top;\n",
       "    }\n",
       "\n",
       "    .dataframe thead th {\n",
       "        text-align: right;\n",
       "    }\n",
       "</style>\n",
       "<table border=\"1\" class=\"dataframe\">\n",
       "  <thead>\n",
       "    <tr style=\"text-align: right;\">\n",
       "      <th></th>\n",
       "      <th>count(*)</th>\n",
       "    </tr>\n",
       "  </thead>\n",
       "  <tbody>\n",
       "    <tr>\n",
       "      <th>0</th>\n",
       "      <td>0</td>\n",
       "    </tr>\n",
       "  </tbody>\n",
       "</table>\n",
       "</div>"
      ],
      "text/plain": [
       "   count(*)\n",
       "0         0"
      ]
     },
     "execution_count": 97,
     "metadata": {},
     "output_type": "execute_result"
    }
   ],
   "source": [
    "#All services defined in table futurebookings are defined in table services\n",
    "query=\"\"\"select  count(*) from vfb c where description is NULL\"\"\"\n",
    "resquery=readSQL(query)\n",
    "resquery"
   ]
  },
  {
   "cell_type": "code",
   "execution_count": 70,
   "metadata": {},
   "outputs": [
    {
     "data": {
      "text/html": [
       "<div>\n",
       "<style scoped>\n",
       "    .dataframe tbody tr th:only-of-type {\n",
       "        vertical-align: middle;\n",
       "    }\n",
       "\n",
       "    .dataframe tbody tr th {\n",
       "        vertical-align: top;\n",
       "    }\n",
       "\n",
       "    .dataframe thead th {\n",
       "        text-align: right;\n",
       "    }\n",
       "</style>\n",
       "<table border=\"1\" class=\"dataframe\">\n",
       "  <thead>\n",
       "    <tr style=\"text-align: right;\">\n",
       "      <th></th>\n",
       "      <th>receipt</th>\n",
       "      <th>date</th>\n",
       "      <th>description</th>\n",
       "      <th>client</th>\n",
       "      <th>staff</th>\n",
       "      <th>quantity</th>\n",
       "      <th>amount</th>\n",
       "      <th>gst</th>\n",
       "      <th>pst</th>\n",
       "      <th>service</th>\n",
       "      <th>type</th>\n",
       "      <th>category</th>\n",
       "    </tr>\n",
       "  </thead>\n",
       "  <tbody>\n",
       "    <tr>\n",
       "      <th>0</th>\n",
       "      <td>10</td>\n",
       "      <td>2018-03-15</td>\n",
       "      <td>Women's hair cut</td>\n",
       "      <td>KERT01</td>\n",
       "      <td>JJ</td>\n",
       "      <td>1</td>\n",
       "      <td>82.0</td>\n",
       "      <td>4.10</td>\n",
       "      <td>6.56</td>\n",
       "      <td>SHCW</td>\n",
       "      <td>S</td>\n",
       "      <td>STYLE</td>\n",
       "    </tr>\n",
       "    <tr>\n",
       "      <th>1</th>\n",
       "      <td>100</td>\n",
       "      <td>2018-04-05</td>\n",
       "      <td>Women's hair cut</td>\n",
       "      <td>COOM01</td>\n",
       "      <td>SINEAD</td>\n",
       "      <td>1</td>\n",
       "      <td>70.0</td>\n",
       "      <td>3.50</td>\n",
       "      <td>5.60</td>\n",
       "      <td>SHCW</td>\n",
       "      <td>S</td>\n",
       "      <td>STYLE</td>\n",
       "    </tr>\n",
       "    <tr>\n",
       "      <th>2</th>\n",
       "      <td>1000</td>\n",
       "      <td>2018-06-09</td>\n",
       "      <td>Consultation</td>\n",
       "      <td>PEDM01</td>\n",
       "      <td>JJ</td>\n",
       "      <td>1</td>\n",
       "      <td>0.0</td>\n",
       "      <td>0.00</td>\n",
       "      <td>0.00</td>\n",
       "      <td>CON</td>\n",
       "      <td>S</td>\n",
       "      <td>MISC</td>\n",
       "    </tr>\n",
       "    <tr>\n",
       "      <th>3</th>\n",
       "      <td>1001</td>\n",
       "      <td>2018-06-09</td>\n",
       "      <td>Women's hair cut</td>\n",
       "      <td>BAIS01</td>\n",
       "      <td>KELLY</td>\n",
       "      <td>1</td>\n",
       "      <td>55.0</td>\n",
       "      <td>2.75</td>\n",
       "      <td>4.40</td>\n",
       "      <td>SHCW</td>\n",
       "      <td>S</td>\n",
       "      <td>STYLE</td>\n",
       "    </tr>\n",
       "    <tr>\n",
       "      <th>4</th>\n",
       "      <td>1003</td>\n",
       "      <td>2018-06-09</td>\n",
       "      <td>Women's hair cut</td>\n",
       "      <td>FRAL01</td>\n",
       "      <td>KELLY</td>\n",
       "      <td>1</td>\n",
       "      <td>65.0</td>\n",
       "      <td>3.25</td>\n",
       "      <td>5.20</td>\n",
       "      <td>SHCW</td>\n",
       "      <td>S</td>\n",
       "      <td>STYLE</td>\n",
       "    </tr>\n",
       "  </tbody>\n",
       "</table>\n",
       "</div>"
      ],
      "text/plain": [
       "   receipt        date       description  client   staff  quantity  amount  \\\n",
       "0       10  2018-03-15  Women's hair cut  KERT01      JJ         1    82.0   \n",
       "1      100  2018-04-05  Women's hair cut  COOM01  SINEAD         1    70.0   \n",
       "2     1000  2018-06-09      Consultation  PEDM01      JJ         1     0.0   \n",
       "3     1001  2018-06-09  Women's hair cut  BAIS01   KELLY         1    55.0   \n",
       "4     1003  2018-06-09  Women's hair cut  FRAL01   KELLY         1    65.0   \n",
       "\n",
       "    gst   pst service type category  \n",
       "0  4.10  6.56    SHCW    S    STYLE  \n",
       "1  3.50  5.60    SHCW    S    STYLE  \n",
       "2  0.00  0.00     CON    S     MISC  \n",
       "3  2.75  4.40    SHCW    S    STYLE  \n",
       "4  3.25  5.20    SHCW    S    STYLE  "
      ]
     },
     "execution_count": 70,
     "metadata": {},
     "output_type": "execute_result"
    }
   ],
   "source": [
    "#create extended view of receipt \n",
    "query=\"\"\"drop view vreceipt\"\"\"\n",
    "execquery(query)\n",
    "query=\"\"\"select r.*,s.code service, 'S' type, s.cate category \n",
    "            from receipt r inner join service s on r.description=s.desc\n",
    "union all\n",
    "            select r.*,p.code service, 'P' type, p.category category \n",
    "            from receipt r inner join product p on r.description=p.description\n",
    "union all\n",
    "            select r.*, NULL service, NULL type, NULL category\n",
    "            from receipt r\n",
    "            left join service s on r.description=s.desc\n",
    "            left join product p on r.description=p.description \n",
    "            where s.desc IS NULL and p.description IS NULL \"\"\"\n",
    "createView('vreceipt',query)\n",
    "resquery=readSQL(\"\"\"select * from vreceipt \"\"\")\n",
    "resquery.head()"
   ]
  },
  {
   "cell_type": "code",
   "execution_count": 13,
   "metadata": {},
   "outputs": [
    {
     "name": "stdout",
     "output_type": "stream",
     "text": [
      "cancellation 243\n",
      "futurebooking 1906\n",
      "noshow 60\n",
      "receipt 1934\n"
     ]
    }
   ],
   "source": [
    "cancellation=readSQL(\"\"\"select * from cancellation\"\"\")\n",
    "print('cancellation', len(cancellation))\n",
    "futurebooking=readSQL(\"\"\"select * from futurebooking\"\"\")\n",
    "print('futurebooking',len(futurebooking))\n",
    "noshow=readSQL(\"\"\"select * from noshow\"\"\")\n",
    "print('noshow',len(noshow))\n",
    "receipt=readSQL(\"\"\"select * from receipt\"\"\")\n",
    "receipt.head()\n",
    "print('receipt',len(receipt))"
   ]
  },
  {
   "cell_type": "code",
   "execution_count": 14,
   "metadata": {},
   "outputs": [
    {
     "data": {
      "text/plain": [
       "(1906, 8)"
      ]
     },
     "execution_count": 14,
     "metadata": {},
     "output_type": "execute_result"
    }
   ],
   "source": [
    "query=\"\"\"select * from vfb\"\"\"\n",
    "vfb=readSQL(query)\n",
    "vfb.shape"
   ]
  },
  {
   "cell_type": "code",
   "execution_count": 15,
   "metadata": {},
   "outputs": [
    {
     "name": "stdout",
     "output_type": "stream",
     "text": [
      "vfb 1906\n"
     ]
    },
    {
     "data": {
      "text/plain": [
       "Index(['client', 'staff', 'service', 'date', 'time', 'timeint', 'description',\n",
       "       'category'],\n",
       "      dtype='object')"
      ]
     },
     "execution_count": 15,
     "metadata": {},
     "output_type": "execute_result"
    }
   ],
   "source": [
    "vfb.rename(columns={'code':'client'},inplace=True)\n",
    "print('vfb', len(vfb))\n",
    "vfb.columns"
   ]
  },
  {
   "cell_type": "code",
   "execution_count": 16,
   "metadata": {},
   "outputs": [
    {
     "name": "stdout",
     "output_type": "stream",
     "text": [
      "vcancellation 243\n"
     ]
    },
    {
     "data": {
      "text/plain": [
       "Index(['canceldate', 'code', 'service', 'staff', 'bookingdate', 'canceledby',\n",
       "       'days', 'description', 'category'],\n",
       "      dtype='object')"
      ]
     },
     "execution_count": 16,
     "metadata": {},
     "output_type": "execute_result"
    }
   ],
   "source": [
    "vcancellation=readSQL(\"\"\"select * from vcancellation\"\"\")\n",
    "print('vcancellation', len(vcancellation))\n",
    "vcancellation.columns"
   ]
  },
  {
   "cell_type": "code",
   "execution_count": 17,
   "metadata": {},
   "outputs": [
    {
     "data": {
      "text/plain": [
       "Index(['canceldate', 'client', 'service', 'staff', 'date', 'canceledby',\n",
       "       'days', 'description', 'category'],\n",
       "      dtype='object')"
      ]
     },
     "execution_count": 17,
     "metadata": {},
     "output_type": "execute_result"
    }
   ],
   "source": [
    "vcancellation.rename(columns={'bookingdate':'date','code':'client'},inplace=True)\n",
    "vcancellation.columns"
   ]
  },
  {
   "cell_type": "code",
   "execution_count": 18,
   "metadata": {},
   "outputs": [
    {
     "data": {
      "text/plain": [
       "1934"
      ]
     },
     "execution_count": 18,
     "metadata": {},
     "output_type": "execute_result"
    }
   ],
   "source": [
    "vreceipt=readSQL(\"\"\"select * from vreceipt \"\"\")\n",
    "len(vreceipt)"
   ]
  },
  {
   "cell_type": "code",
   "execution_count": 19,
   "metadata": {},
   "outputs": [
    {
     "data": {
      "text/plain": [
       "Index(['receipt', 'date', 'description', 'client', 'staff', 'quantity',\n",
       "       'amount', 'gst', 'pst', 'service', 'type', 'category'],\n",
       "      dtype='object')"
      ]
     },
     "execution_count": 19,
     "metadata": {},
     "output_type": "execute_result"
    }
   ],
   "source": [
    "vreceipt.columns"
   ]
  },
  {
   "cell_type": "code",
   "execution_count": 20,
   "metadata": {},
   "outputs": [
    {
     "data": {
      "text/plain": [
       "Index(['date', 'client', 'service', 'staff'], dtype='object')"
      ]
     },
     "execution_count": 20,
     "metadata": {},
     "output_type": "execute_result"
    }
   ],
   "source": [
    "noshow.rename(columns={'code':'client'},inplace=True)\n",
    "noshow.columns"
   ]
  },
  {
   "cell_type": "markdown",
   "metadata": {},
   "source": [
    "<h3>missing values analysis"
   ]
  },
  {
   "cell_type": "code",
   "execution_count": 21,
   "metadata": {},
   "outputs": [
    {
     "data": {
      "text/plain": [
       "canceldate     0\n",
       "client         0\n",
       "service        0\n",
       "staff          0\n",
       "date           0\n",
       "canceledby     0\n",
       "days           2\n",
       "description    0\n",
       "category       0\n",
       "dtype: int64"
      ]
     },
     "execution_count": 21,
     "metadata": {},
     "output_type": "execute_result"
    }
   ],
   "source": [
    "vcancellation.isna().sum()"
   ]
  },
  {
   "cell_type": "code",
   "execution_count": 151,
   "metadata": {},
   "outputs": [
    {
     "data": {
      "text/plain": [
       "client         1\n",
       "staff          0\n",
       "service        0\n",
       "date           0\n",
       "time           0\n",
       "timeint        0\n",
       "description    0\n",
       "category       0\n",
       "dtype: int64"
      ]
     },
     "execution_count": 151,
     "metadata": {},
     "output_type": "execute_result"
    }
   ],
   "source": [
    "#future booking and past non cancelled bookings\n",
    "vfb.isna().sum()"
   ]
  },
  {
   "cell_type": "code",
   "execution_count": 89,
   "metadata": {},
   "outputs": [
    {
     "data": {
      "text/plain": [
       "date       0\n",
       "code       1\n",
       "service    0\n",
       "staff      0\n",
       "dtype: int64"
      ]
     },
     "execution_count": 89,
     "metadata": {},
     "output_type": "execute_result"
    }
   ],
   "source": [
    "noshow.isna().sum()"
   ]
  },
  {
   "cell_type": "code",
   "execution_count": 90,
   "metadata": {},
   "outputs": [
    {
     "data": {
      "text/plain": [
       "receipt        0\n",
       "date           0\n",
       "description    3\n",
       "client         0\n",
       "staff          0\n",
       "quantity       0\n",
       "amount         0\n",
       "gst            0\n",
       "pst            0\n",
       "dtype: int64"
      ]
     },
     "execution_count": 90,
     "metadata": {},
     "output_type": "execute_result"
    }
   ],
   "source": [
    "receipt.isna().sum()"
   ]
  },
  {
   "cell_type": "code",
   "execution_count": 91,
   "metadata": {},
   "outputs": [
    {
     "data": {
      "text/plain": [
       "receipt        0\n",
       "date           0\n",
       "description    3\n",
       "client         0\n",
       "staff          0\n",
       "quantity       0\n",
       "amount         0\n",
       "gst            0\n",
       "pst            0\n",
       "service        3\n",
       "type           3\n",
       "category       9\n",
       "dtype: int64"
      ]
     },
     "execution_count": 91,
     "metadata": {},
     "output_type": "execute_result"
    }
   ],
   "source": [
    "vreceipt.isna().sum()"
   ]
  },
  {
   "cell_type": "markdown",
   "metadata": {},
   "source": [
    "<h3> building final data set "
   ]
  },
  {
   "cell_type": "markdown",
   "metadata": {},
   "source": [
    "building data set of future and non cancelled bookings it includes no shows"
   ]
  },
  {
   "cell_type": "markdown",
   "metadata": {},
   "source": [
    "We will suppress all bookings/cancellations that occur after 2018-07-29 or cancellations for bookings. No receipts are produced after this date (see MAX receipt date)"
   ]
  },
  {
   "cell_type": "code",
   "execution_count": 59,
   "metadata": {},
   "outputs": [
    {
     "data": {
      "text/plain": [
       "Index(['client', 'staff', 'service', 'date', 'time', 'timeint', 'description',\n",
       "       'category', 'noshowflag', 'cancelflag', 'canceldate'],\n",
       "      dtype='object')"
      ]
     },
     "execution_count": 59,
     "metadata": {},
     "output_type": "execute_result"
    }
   ],
   "source": [
    "query=\"\"\"select vfb.code client,vfb.staff,vfb.service, vfb.date, vfb.time,vfb.timeint, \n",
    "        description, category,\n",
    "        CASE \n",
    "        WHEN (vfb.date IS NULL or vfb.code IS NULL or vfb.service IS NULL or vfb.staff IS NULL) THEN NULL  \n",
    "        WHEN (n.date IS NULL or n.code IS NULL or n.service IS NULL or n.staff IS NULL) THEN 0 \n",
    "        ELSE 1 END as noshowflag \n",
    "        FROM vfb\n",
    "        LEFT JOIN noshow n on vfb.date=n.date and vfb.code=n.code and vfb.service=n.service and vfb.staff=n.staff\n",
    "        WHERE vfb.date <='2018-07-19' or vfb.date IS NULL\n",
    "        \"\"\"\n",
    "bookings=readSQL(query)\n",
    "bookings['cancelflag']=0\n",
    "bookings['canceldate']=None\n",
    "bookings.columns"
   ]
  },
  {
   "cell_type": "code",
   "execution_count": 33,
   "metadata": {},
   "outputs": [
    {
     "data": {
      "text/plain": [
       "client            1\n",
       "staff             0\n",
       "service           0\n",
       "date              0\n",
       "time              0\n",
       "description       0\n",
       "category          0\n",
       "noshowflag        1\n",
       "cancelflag        0\n",
       "canceldate     1547\n",
       "dtype: int64"
      ]
     },
     "execution_count": 33,
     "metadata": {},
     "output_type": "execute_result"
    }
   ],
   "source": [
    "bookings.isna().sum()"
   ]
  },
  {
   "cell_type": "markdown",
   "metadata": {},
   "source": [
    "<h4>building list of all cancellations including late minute cancellations"
   ]
  },
  {
   "cell_type": "code",
   "execution_count": 34,
   "metadata": {},
   "outputs": [
    {
     "data": {
      "text/plain": [
       "Index(['client', 'staff', 'service', 'date', 'description', 'category',\n",
       "       'noshowflag', 'cancelflag', 'canceldate', 'deltabdays'],\n",
       "      dtype='object')"
      ]
     },
     "execution_count": 34,
     "metadata": {},
     "output_type": "execute_result"
    }
   ],
   "source": [
    "cancellations2=vcancellation.copy()\n",
    "cancellations2['noshowflag']=0\n",
    "cancellations2['cancelflag']=1\n",
    "cancellations2['deltabdays']=None\n",
    "cancellations2=cancellations2[['client','staff','service','date','description','category',\n",
    "                               'noshowflag','cancelflag','canceldate','deltabdays']]\n",
    "cancellations2.columns"
   ]
  },
  {
   "cell_type": "code",
   "execution_count": 35,
   "metadata": {},
   "outputs": [
    {
     "data": {
      "text/plain": [
       "client           0\n",
       "staff            0\n",
       "service          0\n",
       "date             0\n",
       "description      0\n",
       "category         0\n",
       "noshowflag       0\n",
       "cancelflag       0\n",
       "canceldate       0\n",
       "deltabdays     243\n",
       "dtype: int64"
      ]
     },
     "execution_count": 35,
     "metadata": {},
     "output_type": "execute_result"
    }
   ],
   "source": [
    "cancellations2.isna().sum()"
   ]
  },
  {
   "cell_type": "code",
   "execution_count": 44,
   "metadata": {},
   "outputs": [
    {
     "data": {
      "text/plain": [
       "client           0\n",
       "staff            0\n",
       "service          0\n",
       "date             0\n",
       "description      0\n",
       "category         0\n",
       "noshowflag       0\n",
       "cancelflag       0\n",
       "canceldate       0\n",
       "deltabdays     202\n",
       "dtype: int64"
      ]
     },
     "execution_count": 44,
     "metadata": {},
     "output_type": "execute_result"
    }
   ],
   "source": [
    "cancellations2=cancellations2[cancellations2.date <= '2018-07-19']\n",
    "cancellations2.isna().sum()"
   ]
  },
  {
   "cell_type": "code",
   "execution_count": 47,
   "metadata": {},
   "outputs": [
    {
     "name": "stdout",
     "output_type": "stream",
     "text": [
      "cancellation 202\n",
      "booking 1547\n",
      "noshow 60\n",
      "receipt 1934\n"
     ]
    }
   ],
   "source": [
    "print('cancellation', len(cancellations2))\n",
    "print('booking',len(bookings))\n",
    "print('noshow',len(noshow))\n",
    "print('receipt',len(receipt))"
   ]
  },
  {
   "cell_type": "markdown",
   "metadata": {},
   "source": [
    "<h4>calculating difference of business days to determine late cancellations that are equivalent to noshow"
   ]
  },
  {
   "cell_type": "code",
   "execution_count": 48,
   "metadata": {},
   "outputs": [
    {
     "data": {
      "text/plain": [
       "client         object\n",
       "staff          object\n",
       "service        object\n",
       "date           object\n",
       "description    object\n",
       "category       object\n",
       "noshowflag      int64\n",
       "cancelflag      int64\n",
       "canceldate     object\n",
       "deltabdays      int64\n",
       "dtype: object"
      ]
     },
     "execution_count": 48,
     "metadata": {},
     "output_type": "execute_result"
    }
   ],
   "source": [
    "import datetime as dt\n",
    "import  workdays as wd\n",
    "wd.weekends=(6,)\n",
    "holidays=[dt.date(2018,3,30),dt.date(2018,5,21),dt.date(2018,7,1)]\n",
    "wd.weekends\n",
    "delta=[]\n",
    "for row in cancellations2.itertuples():\n",
    "    sd=pd.to_datetime(row.canceldate).date()\n",
    "    ed=pd.to_datetime(row.date).date()\n",
    "    if sd==ed:\n",
    "        nbwd=0\n",
    "    else:\n",
    "        nbwd=wd.networkdays(sd,ed,holidays)-1\n",
    "    delta.append(nbwd)\n",
    "cancellations2.deltabdays=delta\n",
    "cancellations2.dtypes"
   ]
  },
  {
   "cell_type": "code",
   "execution_count": 52,
   "metadata": {},
   "outputs": [
    {
     "data": {
      "text/html": [
       "<div>\n",
       "<style scoped>\n",
       "    .dataframe tbody tr th:only-of-type {\n",
       "        vertical-align: middle;\n",
       "    }\n",
       "\n",
       "    .dataframe tbody tr th {\n",
       "        vertical-align: top;\n",
       "    }\n",
       "\n",
       "    .dataframe thead th {\n",
       "        text-align: right;\n",
       "    }\n",
       "</style>\n",
       "<table border=\"1\" class=\"dataframe\">\n",
       "  <thead>\n",
       "    <tr style=\"text-align: right;\">\n",
       "      <th></th>\n",
       "      <th>client</th>\n",
       "      <th>staff</th>\n",
       "      <th>service</th>\n",
       "      <th>date</th>\n",
       "      <th>description</th>\n",
       "      <th>category</th>\n",
       "      <th>noshowflag</th>\n",
       "      <th>cancelflag</th>\n",
       "      <th>canceldate</th>\n",
       "      <th>deltabdays</th>\n",
       "      <th>latecancellation</th>\n",
       "    </tr>\n",
       "  </thead>\n",
       "  <tbody>\n",
       "    <tr>\n",
       "      <th>0</th>\n",
       "      <td>MASA01</td>\n",
       "      <td>JOANNE</td>\n",
       "      <td>CFC</td>\n",
       "      <td>2018-05-24</td>\n",
       "      <td>Color full color</td>\n",
       "      <td>COLOR</td>\n",
       "      <td>0</td>\n",
       "      <td>1</td>\n",
       "      <td>2018-05-22</td>\n",
       "      <td>2</td>\n",
       "      <td>0</td>\n",
       "    </tr>\n",
       "    <tr>\n",
       "      <th>1</th>\n",
       "      <td>MASA01</td>\n",
       "      <td>KELLY</td>\n",
       "      <td>CBAL</td>\n",
       "      <td>2018-06-27</td>\n",
       "      <td>Balayage</td>\n",
       "      <td>COLOR</td>\n",
       "      <td>0</td>\n",
       "      <td>1</td>\n",
       "      <td>2018-06-27</td>\n",
       "      <td>0</td>\n",
       "      <td>1</td>\n",
       "    </tr>\n",
       "    <tr>\n",
       "      <th>2</th>\n",
       "      <td>MASA01</td>\n",
       "      <td>BECKY</td>\n",
       "      <td>SHCM</td>\n",
       "      <td>2018-07-10</td>\n",
       "      <td>Men's hair cut</td>\n",
       "      <td>STYLE</td>\n",
       "      <td>0</td>\n",
       "      <td>1</td>\n",
       "      <td>2018-07-03</td>\n",
       "      <td>6</td>\n",
       "      <td>0</td>\n",
       "    </tr>\n",
       "    <tr>\n",
       "      <th>3</th>\n",
       "      <td>MASA01</td>\n",
       "      <td>JJ</td>\n",
       "      <td>SHCC</td>\n",
       "      <td>2018-07-11</td>\n",
       "      <td>Children (under 12)</td>\n",
       "      <td>STYLE</td>\n",
       "      <td>0</td>\n",
       "      <td>1</td>\n",
       "      <td>2018-07-10</td>\n",
       "      <td>1</td>\n",
       "      <td>1</td>\n",
       "    </tr>\n",
       "    <tr>\n",
       "      <th>6</th>\n",
       "      <td>MOLA01</td>\n",
       "      <td>JJ</td>\n",
       "      <td>SHCW</td>\n",
       "      <td>2018-04-20</td>\n",
       "      <td>Women's hair cut</td>\n",
       "      <td>STYLE</td>\n",
       "      <td>0</td>\n",
       "      <td>1</td>\n",
       "      <td>2018-04-13</td>\n",
       "      <td>6</td>\n",
       "      <td>0</td>\n",
       "    </tr>\n",
       "  </tbody>\n",
       "</table>\n",
       "</div>"
      ],
      "text/plain": [
       "   client   staff service        date          description category  \\\n",
       "0  MASA01  JOANNE     CFC  2018-05-24     Color full color    COLOR   \n",
       "1  MASA01   KELLY    CBAL  2018-06-27             Balayage    COLOR   \n",
       "2  MASA01   BECKY    SHCM  2018-07-10       Men's hair cut    STYLE   \n",
       "3  MASA01      JJ    SHCC  2018-07-11  Children (under 12)    STYLE   \n",
       "6  MOLA01      JJ    SHCW  2018-04-20     Women's hair cut    STYLE   \n",
       "\n",
       "   noshowflag  cancelflag  canceldate  deltabdays  latecancellation  \n",
       "0           0           1  2018-05-22           2                 0  \n",
       "1           0           1  2018-06-27           0                 1  \n",
       "2           0           1  2018-07-03           6                 0  \n",
       "3           0           1  2018-07-10           1                 1  \n",
       "6           0           1  2018-04-13           6                 0  "
      ]
     },
     "execution_count": 52,
     "metadata": {},
     "output_type": "execute_result"
    }
   ],
   "source": [
    "cancellations2.head()"
   ]
  },
  {
   "cell_type": "code",
   "execution_count": 57,
   "metadata": {},
   "outputs": [
    {
     "name": "stdout",
     "output_type": "stream",
     "text": [
      "late cancellation 110\n"
     ]
    },
    {
     "data": {
      "text/plain": [
       "Index(['client', 'staff', 'service', 'date', 'description', 'category',\n",
       "       'noshowflag', 'cancelflag', 'canceldate', 'deltabdays',\n",
       "       'latecancellation'],\n",
       "      dtype='object')"
      ]
     },
     "execution_count": 57,
     "metadata": {},
     "output_type": "execute_result"
    }
   ],
   "source": [
    "cancellations2[\"latecancellation\"]=0\n",
    "cancellations2.loc[(cancellations2.deltabdays==0) | (cancellations2.deltabdays==1),\"latecancellation\"]=1\n",
    "print('late cancellation',len(cancellations2[(cancellations2.latecancellation==1)]))\n",
    "cancellations2.columns"
   ]
  },
  {
   "cell_type": "markdown",
   "metadata": {},
   "source": [
    "Linking table future booking to table noshow to check whehter there was a noshow"
   ]
  },
  {
   "cell_type": "code",
   "execution_count": 56,
   "metadata": {},
   "outputs": [
    {
     "data": {
      "text/html": [
       "<div>\n",
       "<style scoped>\n",
       "    .dataframe tbody tr th:only-of-type {\n",
       "        vertical-align: middle;\n",
       "    }\n",
       "\n",
       "    .dataframe tbody tr th {\n",
       "        vertical-align: top;\n",
       "    }\n",
       "\n",
       "    .dataframe thead th {\n",
       "        text-align: right;\n",
       "    }\n",
       "</style>\n",
       "<table border=\"1\" class=\"dataframe\">\n",
       "  <thead>\n",
       "    <tr style=\"text-align: right;\">\n",
       "      <th></th>\n",
       "      <th>client</th>\n",
       "      <th>staff</th>\n",
       "      <th>service</th>\n",
       "      <th>date</th>\n",
       "      <th>time</th>\n",
       "      <th>canceldate</th>\n",
       "      <th>description</th>\n",
       "      <th>category</th>\n",
       "      <th>noshowflag</th>\n",
       "    </tr>\n",
       "  </thead>\n",
       "  <tbody>\n",
       "    <tr>\n",
       "      <th>0</th>\n",
       "      <td>JUNJ01</td>\n",
       "      <td>JJ</td>\n",
       "      <td>CON</td>\n",
       "      <td>2018-03-14</td>\n",
       "      <td>15:50:00</td>\n",
       "      <td>None</td>\n",
       "      <td>Consultation</td>\n",
       "      <td>MISC</td>\n",
       "      <td>1</td>\n",
       "    </tr>\n",
       "    <tr>\n",
       "      <th>1</th>\n",
       "      <td>NORJ01</td>\n",
       "      <td>JJ</td>\n",
       "      <td>SHCM</td>\n",
       "      <td>2018-03-14</td>\n",
       "      <td>16:00:00</td>\n",
       "      <td>None</td>\n",
       "      <td>Men's hair cut</td>\n",
       "      <td>STYLE</td>\n",
       "      <td>1</td>\n",
       "    </tr>\n",
       "    <tr>\n",
       "      <th>2</th>\n",
       "      <td>CORS01</td>\n",
       "      <td>JJ</td>\n",
       "      <td>SHCW</td>\n",
       "      <td>2018-03-15</td>\n",
       "      <td>14:10:00</td>\n",
       "      <td>None</td>\n",
       "      <td>Women's hair cut</td>\n",
       "      <td>STYLE</td>\n",
       "      <td>0</td>\n",
       "    </tr>\n",
       "    <tr>\n",
       "      <th>3</th>\n",
       "      <td>KERT01</td>\n",
       "      <td>JJ</td>\n",
       "      <td>SHCW</td>\n",
       "      <td>2018-03-15</td>\n",
       "      <td>10:00:00</td>\n",
       "      <td>None</td>\n",
       "      <td>Women's hair cut</td>\n",
       "      <td>STYLE</td>\n",
       "      <td>0</td>\n",
       "    </tr>\n",
       "    <tr>\n",
       "      <th>4</th>\n",
       "      <td>LEHJ01</td>\n",
       "      <td>JJ</td>\n",
       "      <td>SHCM</td>\n",
       "      <td>2018-03-15</td>\n",
       "      <td>18:00:00</td>\n",
       "      <td>None</td>\n",
       "      <td>Men's hair cut</td>\n",
       "      <td>STYLE</td>\n",
       "      <td>0</td>\n",
       "    </tr>\n",
       "  </tbody>\n",
       "</table>\n",
       "</div>"
      ],
      "text/plain": [
       "   client staff service        date      time canceldate       description  \\\n",
       "0  JUNJ01    JJ     CON  2018-03-14  15:50:00       None      Consultation   \n",
       "1  NORJ01    JJ    SHCM  2018-03-14  16:00:00       None    Men's hair cut   \n",
       "2  CORS01    JJ    SHCW  2018-03-15  14:10:00       None  Women's hair cut   \n",
       "3  KERT01    JJ    SHCW  2018-03-15  10:00:00       None  Women's hair cut   \n",
       "4  LEHJ01    JJ    SHCM  2018-03-15  18:00:00       None    Men's hair cut   \n",
       "\n",
       "  category  noshowflag  \n",
       "0     MISC           1  \n",
       "1    STYLE           1  \n",
       "2    STYLE           0  \n",
       "3    STYLE           0  \n",
       "4    STYLE           0  "
      ]
     },
     "execution_count": 56,
     "metadata": {},
     "output_type": "execute_result"
    }
   ],
   "source": [
    "query=\"\"\"select vfb.code client,vfb.staff,vfb.service, vfb.date, vfb.time, \n",
    "        NULL canceldate, description, category,\n",
    "        CASE WHEN (n.date IS NULL or n.code IS NULL or n.service IS NULL or n.staff IS NULL) then 0 else 1 end noshowflag \n",
    "        from vfb\n",
    "        left join noshow n on n.date=vfb.date and n.code=vfb.code and n.service=vfb.service and n.staff=vfb.staff \"\"\"\n",
    "resquery=readSQL(query)\n",
    "noshowflag=resquery\n",
    "noshowflag.head()"
   ]
  },
  {
   "cell_type": "code",
   "execution_count": 29,
   "metadata": {},
   "outputs": [
    {
     "data": {
      "text/plain": [
       "2149"
      ]
     },
     "execution_count": 29,
     "metadata": {},
     "output_type": "execute_result"
    }
   ],
   "source": [
    "#create view vbooking including \n",
    "#   1) all appointments that were held since 14/03/2018 and future appointments occuring after 29/07/2018 with inidcation of no-show flag\n",
    "#   2) all cancellations that occured between 14/03 till 29/07\n",
    "query=\"\"\"drop view vbooking\"\"\"\n",
    "execquery(query)\n",
    "query=\"\"\"select vfb.code client,vfb.staff,vfb.service, vfb.date, vfb.time, \n",
    "        NULL canceldate, description, category,\n",
    "        case  when (n.date IS NULL or n.code IS NULL or n.service IS NULL or n.staff IS NULL) then 0 else 1 end noshowflag, 0 cancelflag \n",
    "        from vfb\n",
    "        left join noshow n on n.date=vfb.date and n.code=vfb.code and n.service=vfb.service and n.staff=vfb.staff\n",
    "        union all \n",
    "        select code client,staff,service, bookingdate date, NULL time, \n",
    "        canceldate, description, category, 0 noshowflag, 1 cancelflag from vcancellation\"\"\"\n",
    "createView('vbooking',query)\n",
    "query=\"\"\"select * from vbooking\"\"\"\n",
    "resquery=readSQL(query)\n",
    "resquery.head()\n",
    "len(resquery)"
   ]
  },
  {
   "cell_type": "code",
   "execution_count": 58,
   "metadata": {},
   "outputs": [
    {
     "data": {
      "text/html": [
       "<div>\n",
       "<style scoped>\n",
       "    .dataframe tbody tr th:only-of-type {\n",
       "        vertical-align: middle;\n",
       "    }\n",
       "\n",
       "    .dataframe tbody tr th {\n",
       "        vertical-align: top;\n",
       "    }\n",
       "\n",
       "    .dataframe thead th {\n",
       "        text-align: right;\n",
       "    }\n",
       "</style>\n",
       "<table border=\"1\" class=\"dataframe\">\n",
       "  <thead>\n",
       "    <tr style=\"text-align: right;\">\n",
       "      <th></th>\n",
       "      <th>count(*)</th>\n",
       "      <th>code</th>\n",
       "      <th>date</th>\n",
       "    </tr>\n",
       "  </thead>\n",
       "  <tbody>\n",
       "    <tr>\n",
       "      <th>0</th>\n",
       "      <td>2</td>\n",
       "      <td>.L01</td>\n",
       "      <td>2018-05-23</td>\n",
       "    </tr>\n",
       "    <tr>\n",
       "      <th>1</th>\n",
       "      <td>2</td>\n",
       "      <td>ADAP01</td>\n",
       "      <td>2018-06-28</td>\n",
       "    </tr>\n",
       "    <tr>\n",
       "      <th>2</th>\n",
       "      <td>3</td>\n",
       "      <td>ALCV01</td>\n",
       "      <td>2018-06-12</td>\n",
       "    </tr>\n",
       "    <tr>\n",
       "      <th>3</th>\n",
       "      <td>4</td>\n",
       "      <td>ANDJ01</td>\n",
       "      <td>2018-05-22</td>\n",
       "    </tr>\n",
       "    <tr>\n",
       "      <th>4</th>\n",
       "      <td>2</td>\n",
       "      <td>ARRM01</td>\n",
       "      <td>2018-06-08</td>\n",
       "    </tr>\n",
       "  </tbody>\n",
       "</table>\n",
       "</div>"
      ],
      "text/plain": [
       "   count(*)    code        date\n",
       "0         2    .L01  2018-05-23\n",
       "1         2  ADAP01  2018-06-28\n",
       "2         3  ALCV01  2018-06-12\n",
       "3         4  ANDJ01  2018-05-22\n",
       "4         2  ARRM01  2018-06-08"
      ]
     },
     "execution_count": 58,
     "metadata": {},
     "output_type": "execute_result"
    }
   ],
   "source": [
    "#there are customers with more than one  appointment on the same day\n",
    "query=\"\"\"select count(*),code,date from vfb \n",
    "where vfb.date <= '2018-07-29'\n",
    "group by code,date having count(*) >=2\"\"\"\n",
    "resquery=readSQL(query)\n",
    "resquery.head()"
   ]
  },
  {
   "cell_type": "code",
   "execution_count": 13,
   "metadata": {},
   "outputs": [
    {
     "data": {
      "text/html": [
       "<div>\n",
       "<style scoped>\n",
       "    .dataframe tbody tr th:only-of-type {\n",
       "        vertical-align: middle;\n",
       "    }\n",
       "\n",
       "    .dataframe tbody tr th {\n",
       "        vertical-align: top;\n",
       "    }\n",
       "\n",
       "    .dataframe thead th {\n",
       "        text-align: right;\n",
       "    }\n",
       "</style>\n",
       "<table border=\"1\" class=\"dataframe\">\n",
       "  <thead>\n",
       "    <tr style=\"text-align: right;\">\n",
       "      <th></th>\n",
       "      <th>receipt</th>\n",
       "      <th>date</th>\n",
       "      <th>description</th>\n",
       "      <th>client</th>\n",
       "      <th>staff</th>\n",
       "      <th>quantity</th>\n",
       "      <th>amount</th>\n",
       "      <th>gst</th>\n",
       "      <th>pst</th>\n",
       "      <th>service</th>\n",
       "      <th>type</th>\n",
       "      <th>category</th>\n",
       "    </tr>\n",
       "  </thead>\n",
       "  <tbody>\n",
       "    <tr>\n",
       "      <th>0</th>\n",
       "      <td>1015</td>\n",
       "      <td>2018-06-12</td>\n",
       "      <td>Shu cleansing oil sh400ml</td>\n",
       "      <td>LEL01</td>\n",
       "      <td>KELLY</td>\n",
       "      <td>1</td>\n",
       "      <td>50.40</td>\n",
       "      <td>2.5200</td>\n",
       "      <td>4.0320</td>\n",
       "      <td>SHU CO SH400M</td>\n",
       "      <td>P</td>\n",
       "      <td>RETAIL</td>\n",
       "    </tr>\n",
       "    <tr>\n",
       "      <th>1</th>\n",
       "      <td>1021</td>\n",
       "      <td>2018-06-12</td>\n",
       "      <td>PO hydrate sh  250ml</td>\n",
       "      <td>LINM02</td>\n",
       "      <td>JJ</td>\n",
       "      <td>1</td>\n",
       "      <td>30.73</td>\n",
       "      <td>1.5365</td>\n",
       "      <td>2.4584</td>\n",
       "      <td>POHSH250ML</td>\n",
       "      <td>P</td>\n",
       "      <td>RETAIL</td>\n",
       "    </tr>\n",
       "    <tr>\n",
       "      <th>2</th>\n",
       "      <td>1040</td>\n",
       "      <td>2018-06-13</td>\n",
       "      <td>PO CV instant levitation mist</td>\n",
       "      <td>COLJ02</td>\n",
       "      <td>JJ</td>\n",
       "      <td>1</td>\n",
       "      <td>35.40</td>\n",
       "      <td>1.7700</td>\n",
       "      <td>2.8320</td>\n",
       "      <td>POCVILM145M</td>\n",
       "      <td>P</td>\n",
       "      <td>RETAIL</td>\n",
       "    </tr>\n",
       "    <tr>\n",
       "      <th>3</th>\n",
       "      <td>1062</td>\n",
       "      <td>2018-06-14</td>\n",
       "      <td>PO strength cure sh 250ml</td>\n",
       "      <td>CAYK01</td>\n",
       "      <td>JOANNE</td>\n",
       "      <td>1</td>\n",
       "      <td>30.73</td>\n",
       "      <td>1.5365</td>\n",
       "      <td>2.4584</td>\n",
       "      <td>POSCSH250ML</td>\n",
       "      <td>P</td>\n",
       "      <td>RETAIL</td>\n",
       "    </tr>\n",
       "    <tr>\n",
       "      <th>4</th>\n",
       "      <td>1071</td>\n",
       "      <td>2018-06-15</td>\n",
       "      <td>KM Night Rider 100g</td>\n",
       "      <td>KLEA01</td>\n",
       "      <td>BECKY</td>\n",
       "      <td>1</td>\n",
       "      <td>28.80</td>\n",
       "      <td>1.4400</td>\n",
       "      <td>2.3040</td>\n",
       "      <td>KM NR 100G</td>\n",
       "      <td>P</td>\n",
       "      <td>RETAIL</td>\n",
       "    </tr>\n",
       "  </tbody>\n",
       "</table>\n",
       "</div>"
      ],
      "text/plain": [
       "   receipt        date                    description  client   staff  \\\n",
       "0     1015  2018-06-12      Shu cleansing oil sh400ml   LEL01   KELLY   \n",
       "1     1021  2018-06-12           PO hydrate sh  250ml  LINM02      JJ   \n",
       "2     1040  2018-06-13  PO CV instant levitation mist  COLJ02      JJ   \n",
       "3     1062  2018-06-14      PO strength cure sh 250ml  CAYK01  JOANNE   \n",
       "4     1071  2018-06-15            KM Night Rider 100g  KLEA01   BECKY   \n",
       "\n",
       "   quantity  amount     gst     pst        service type category  \n",
       "0         1   50.40  2.5200  4.0320  SHU CO SH400M    P   RETAIL  \n",
       "1         1   30.73  1.5365  2.4584     POHSH250ML    P   RETAIL  \n",
       "2         1   35.40  1.7700  2.8320    POCVILM145M    P   RETAIL  \n",
       "3         1   30.73  1.5365  2.4584    POSCSH250ML    P   RETAIL  \n",
       "4         1   28.80  1.4400  2.3040     KM NR 100G    P   RETAIL  "
      ]
     },
     "execution_count": 13,
     "metadata": {},
     "output_type": "execute_result"
    }
   ],
   "source": [
    "#create extended view of receipt \n",
    "query=\"\"\"drop view vreceipt\"\"\"\n",
    "execquery(query)\n",
    "query=\"\"\"select r.*,s.code service, 'S' type, s.cate category \n",
    "            from receipt r inner join service s on r.description=s.desc\n",
    "union all\n",
    "            select r.*,p.code service, 'P' type, p.category category \n",
    "            from receipt r inner join product p on r.description=p.description\n",
    "union all\n",
    "            select r.*, NULL service, NULL type, NULL category\n",
    "            from receipt r\n",
    "            left join service s on r.description=s.desc\n",
    "            left join product p on r.description=p.description \n",
    "            where s.desc IS NULL and p.description IS NULL \"\"\"\n",
    "createView('vreceipt',query)\n",
    "resquery=readSQL(\"\"\"select * from vreceipt where type='P'\"\"\")\n",
    "resquery.head()"
   ]
  },
  {
   "cell_type": "markdown",
   "metadata": {},
   "source": [
    "<h3>create merged dataframe bookings and services receipts <h3>"
   ]
  },
  {
   "cell_type": "code",
   "execution_count": 14,
   "metadata": {},
   "outputs": [
    {
     "data": {
      "text/plain": [
       "2149"
      ]
     },
     "execution_count": 14,
     "metadata": {},
     "output_type": "execute_result"
    }
   ],
   "source": [
    "receipts=readSQL(\"\"\"select * from vreceipt\"\"\")\n",
    "bookings=readSQL(\"\"\"select * from vbooking\"\"\")\n",
    "noshows=readSQL(\"\"\"select * from noshow\"\"\")\n",
    "len(bookings)"
   ]
  },
  {
   "cell_type": "code",
   "execution_count": 5,
   "metadata": {},
   "outputs": [
    {
     "data": {
      "text/plain": [
       "Index(['receipt', 'date', 'description', 'client', 'staff', 'quantity',\n",
       "       'amount', 'gst', 'pst', 'service', 'type', 'category'],\n",
       "      dtype='object')"
      ]
     },
     "execution_count": 5,
     "metadata": {},
     "output_type": "execute_result"
    }
   ],
   "source": [
    "receipts.columns"
   ]
  },
  {
   "cell_type": "code",
   "execution_count": 6,
   "metadata": {},
   "outputs": [
    {
     "data": {
      "text/plain": [
       "Index(['client', 'staff', 'service', 'date', 'time', 'canceldate',\n",
       "       'description', 'category', 'noshowflag', 'cancelflag'],\n",
       "      dtype='object')"
      ]
     },
     "execution_count": 6,
     "metadata": {},
     "output_type": "execute_result"
    }
   ],
   "source": [
    "bookings.columns"
   ]
  },
  {
   "cell_type": "code",
   "execution_count": 18,
   "metadata": {},
   "outputs": [
    {
     "ename": "AttributeError",
     "evalue": "Cannot access attribute 'columns' of 'DataFrameGroupBy' objects, try using the 'apply' method",
     "output_type": "error",
     "traceback": [
      "\u001b[1;31m---------------------------------------------------------------------------\u001b[0m",
      "\u001b[1;31mAttributeError\u001b[0m                            Traceback (most recent call last)",
      "\u001b[1;32m<ipython-input-18-ea8aab29b543>\u001b[0m in \u001b[0;36m<module>\u001b[1;34m\u001b[0m\n\u001b[0;32m      1\u001b[0m \u001b[0mreceipts2\u001b[0m\u001b[1;33m=\u001b[0m\u001b[0mreceipts\u001b[0m\u001b[1;33m.\u001b[0m\u001b[0mcopy\u001b[0m\u001b[1;33m(\u001b[0m\u001b[1;33m)\u001b[0m\u001b[1;33m\u001b[0m\u001b[1;33m\u001b[0m\u001b[0m\n\u001b[1;32m----> 2\u001b[1;33m \u001b[0mreceipts2\u001b[0m\u001b[1;33m.\u001b[0m\u001b[0mgroupby\u001b[0m\u001b[1;33m(\u001b[0m\u001b[1;33m[\u001b[0m\u001b[1;34m'date'\u001b[0m\u001b[1;33m,\u001b[0m\u001b[1;34m'description'\u001b[0m\u001b[1;33m,\u001b[0m\u001b[1;34m'client'\u001b[0m\u001b[1;33m,\u001b[0m\u001b[1;34m'staff'\u001b[0m\u001b[1;33m,\u001b[0m\u001b[1;34m'service'\u001b[0m\u001b[1;33m,\u001b[0m\u001b[1;34m'category'\u001b[0m\u001b[1;33m]\u001b[0m\u001b[1;33m)\u001b[0m\u001b[1;33m.\u001b[0m\u001b[0mcolumns\u001b[0m\u001b[1;33m(\u001b[0m\u001b[1;33m)\u001b[0m\u001b[1;33m\u001b[0m\u001b[1;33m\u001b[0m\u001b[0m\n\u001b[0m",
      "\u001b[1;32m~\\Anaconda3\\lib\\site-packages\\pandas\\core\\groupby\\groupby.py\u001b[0m in \u001b[0;36m__getattr__\u001b[1;34m(self, attr)\u001b[0m\n\u001b[0;32m    531\u001b[0m             \u001b[1;32mreturn\u001b[0m \u001b[0mself\u001b[0m\u001b[1;33m[\u001b[0m\u001b[0mattr\u001b[0m\u001b[1;33m]\u001b[0m\u001b[1;33m\u001b[0m\u001b[1;33m\u001b[0m\u001b[0m\n\u001b[0;32m    532\u001b[0m         \u001b[1;32mif\u001b[0m \u001b[0mhasattr\u001b[0m\u001b[1;33m(\u001b[0m\u001b[0mself\u001b[0m\u001b[1;33m.\u001b[0m\u001b[0mobj\u001b[0m\u001b[1;33m,\u001b[0m \u001b[0mattr\u001b[0m\u001b[1;33m)\u001b[0m\u001b[1;33m:\u001b[0m\u001b[1;33m\u001b[0m\u001b[1;33m\u001b[0m\u001b[0m\n\u001b[1;32m--> 533\u001b[1;33m             \u001b[1;32mreturn\u001b[0m \u001b[0mself\u001b[0m\u001b[1;33m.\u001b[0m\u001b[0m_make_wrapper\u001b[0m\u001b[1;33m(\u001b[0m\u001b[0mattr\u001b[0m\u001b[1;33m)\u001b[0m\u001b[1;33m\u001b[0m\u001b[1;33m\u001b[0m\u001b[0m\n\u001b[0m\u001b[0;32m    534\u001b[0m \u001b[1;33m\u001b[0m\u001b[0m\n\u001b[0;32m    535\u001b[0m         raise AttributeError(\"%r object has no attribute %r\" %\n",
      "\u001b[1;32m~\\Anaconda3\\lib\\site-packages\\pandas\\core\\groupby\\groupby.py\u001b[0m in \u001b[0;36m_make_wrapper\u001b[1;34m(self, name)\u001b[0m\n\u001b[0;32m    568\u001b[0m                    \"using the 'apply' method\".format(kind, name,\n\u001b[0;32m    569\u001b[0m                                                      type(self).__name__))\n\u001b[1;32m--> 570\u001b[1;33m             \u001b[1;32mraise\u001b[0m \u001b[0mAttributeError\u001b[0m\u001b[1;33m(\u001b[0m\u001b[0mmsg\u001b[0m\u001b[1;33m)\u001b[0m\u001b[1;33m\u001b[0m\u001b[1;33m\u001b[0m\u001b[0m\n\u001b[0m\u001b[0;32m    571\u001b[0m \u001b[1;33m\u001b[0m\u001b[0m\n\u001b[0;32m    572\u001b[0m         \u001b[0mself\u001b[0m\u001b[1;33m.\u001b[0m\u001b[0m_set_group_selection\u001b[0m\u001b[1;33m(\u001b[0m\u001b[1;33m)\u001b[0m\u001b[1;33m\u001b[0m\u001b[1;33m\u001b[0m\u001b[0m\n",
      "\u001b[1;31mAttributeError\u001b[0m: Cannot access attribute 'columns' of 'DataFrameGroupBy' objects, try using the 'apply' method"
     ]
    }
   ],
   "source": [
    "receipts2=receipts.copy()\n",
    "receipts2.groupby(['date','description','client','staff','service','category']).\n"
   ]
  },
  {
   "cell_type": "code",
   "execution_count": 15,
   "metadata": {},
   "outputs": [
    {
     "data": {
      "text/plain": [
       "2151"
      ]
     },
     "execution_count": 15,
     "metadata": {},
     "output_type": "execute_result"
    }
   ],
   "source": [
    "result = pd.merge(bookings,receipts[['receipt', 'date', 'description', 'client', 'staff', \n",
    "                                     'quantity','amount', 'service', 'type', 'category']]\n",
    "                  ,on= ['date','description','client','staff','service','category']\n",
    "                  ,how='left',indicator=True)\n",
    "len(result)"
   ]
  },
  {
   "cell_type": "code",
   "execution_count": 13,
   "metadata": {},
   "outputs": [
    {
     "data": {
      "text/html": [
       "<div>\n",
       "<style scoped>\n",
       "    .dataframe tbody tr th:only-of-type {\n",
       "        vertical-align: middle;\n",
       "    }\n",
       "\n",
       "    .dataframe tbody tr th {\n",
       "        vertical-align: top;\n",
       "    }\n",
       "\n",
       "    .dataframe thead th {\n",
       "        text-align: right;\n",
       "    }\n",
       "</style>\n",
       "<table border=\"1\" class=\"dataframe\">\n",
       "  <thead>\n",
       "    <tr style=\"text-align: right;\">\n",
       "      <th></th>\n",
       "      <th>client</th>\n",
       "      <th>staff</th>\n",
       "      <th>service</th>\n",
       "      <th>date</th>\n",
       "      <th>time</th>\n",
       "      <th>canceldate</th>\n",
       "      <th>description</th>\n",
       "      <th>category</th>\n",
       "      <th>noshowflag</th>\n",
       "      <th>cancelflag</th>\n",
       "      <th>receipt</th>\n",
       "      <th>quantity</th>\n",
       "      <th>amount</th>\n",
       "      <th>type</th>\n",
       "      <th>_merge</th>\n",
       "    </tr>\n",
       "  </thead>\n",
       "  <tbody>\n",
       "    <tr>\n",
       "      <th>0</th>\n",
       "      <td>JUNJ01</td>\n",
       "      <td>JJ</td>\n",
       "      <td>CON</td>\n",
       "      <td>2018-03-14</td>\n",
       "      <td>15:50:00</td>\n",
       "      <td>None</td>\n",
       "      <td>Consultation</td>\n",
       "      <td>MISC</td>\n",
       "      <td>1</td>\n",
       "      <td>0</td>\n",
       "      <td>NaN</td>\n",
       "      <td>NaN</td>\n",
       "      <td>NaN</td>\n",
       "      <td>NaN</td>\n",
       "      <td>left_only</td>\n",
       "    </tr>\n",
       "    <tr>\n",
       "      <th>1</th>\n",
       "      <td>NORJ01</td>\n",
       "      <td>JJ</td>\n",
       "      <td>SHCM</td>\n",
       "      <td>2018-03-14</td>\n",
       "      <td>16:00:00</td>\n",
       "      <td>None</td>\n",
       "      <td>Men's hair cut</td>\n",
       "      <td>STYLE</td>\n",
       "      <td>1</td>\n",
       "      <td>0</td>\n",
       "      <td>NaN</td>\n",
       "      <td>NaN</td>\n",
       "      <td>NaN</td>\n",
       "      <td>NaN</td>\n",
       "      <td>left_only</td>\n",
       "    </tr>\n",
       "    <tr>\n",
       "      <th>2</th>\n",
       "      <td>CORS01</td>\n",
       "      <td>JJ</td>\n",
       "      <td>SHCW</td>\n",
       "      <td>2018-03-15</td>\n",
       "      <td>14:10:00</td>\n",
       "      <td>None</td>\n",
       "      <td>Women's hair cut</td>\n",
       "      <td>STYLE</td>\n",
       "      <td>0</td>\n",
       "      <td>0</td>\n",
       "      <td>8.0</td>\n",
       "      <td>1.0</td>\n",
       "      <td>82.0</td>\n",
       "      <td>S</td>\n",
       "      <td>both</td>\n",
       "    </tr>\n",
       "    <tr>\n",
       "      <th>3</th>\n",
       "      <td>KERT01</td>\n",
       "      <td>JJ</td>\n",
       "      <td>SHCW</td>\n",
       "      <td>2018-03-15</td>\n",
       "      <td>10:00:00</td>\n",
       "      <td>None</td>\n",
       "      <td>Women's hair cut</td>\n",
       "      <td>STYLE</td>\n",
       "      <td>0</td>\n",
       "      <td>0</td>\n",
       "      <td>10.0</td>\n",
       "      <td>1.0</td>\n",
       "      <td>82.0</td>\n",
       "      <td>S</td>\n",
       "      <td>both</td>\n",
       "    </tr>\n",
       "    <tr>\n",
       "      <th>4</th>\n",
       "      <td>LEHJ01</td>\n",
       "      <td>JJ</td>\n",
       "      <td>SHCM</td>\n",
       "      <td>2018-03-15</td>\n",
       "      <td>18:00:00</td>\n",
       "      <td>None</td>\n",
       "      <td>Men's hair cut</td>\n",
       "      <td>STYLE</td>\n",
       "      <td>0</td>\n",
       "      <td>0</td>\n",
       "      <td>13.0</td>\n",
       "      <td>1.0</td>\n",
       "      <td>40.0</td>\n",
       "      <td>S</td>\n",
       "      <td>both</td>\n",
       "    </tr>\n",
       "  </tbody>\n",
       "</table>\n",
       "</div>"
      ],
      "text/plain": [
       "   client staff service        date      time canceldate       description  \\\n",
       "0  JUNJ01    JJ     CON  2018-03-14  15:50:00       None      Consultation   \n",
       "1  NORJ01    JJ    SHCM  2018-03-14  16:00:00       None    Men's hair cut   \n",
       "2  CORS01    JJ    SHCW  2018-03-15  14:10:00       None  Women's hair cut   \n",
       "3  KERT01    JJ    SHCW  2018-03-15  10:00:00       None  Women's hair cut   \n",
       "4  LEHJ01    JJ    SHCM  2018-03-15  18:00:00       None    Men's hair cut   \n",
       "\n",
       "  category  noshowflag  cancelflag  receipt  quantity  amount type     _merge  \n",
       "0     MISC           1           0      NaN       NaN     NaN  NaN  left_only  \n",
       "1    STYLE           1           0      NaN       NaN     NaN  NaN  left_only  \n",
       "2    STYLE           0           0      8.0       1.0    82.0    S       both  \n",
       "3    STYLE           0           0     10.0       1.0    82.0    S       both  \n",
       "4    STYLE           0           0     13.0       1.0    40.0    S       both  "
      ]
     },
     "execution_count": 13,
     "metadata": {},
     "output_type": "execute_result"
    }
   ],
   "source": [
    "result.head()"
   ]
  },
  {
   "cell_type": "code",
   "execution_count": 16,
   "metadata": {},
   "outputs": [],
   "source": [
    "result.to_sql('result',db,if_exists='replace',index=False)"
   ]
  },
  {
   "cell_type": "code",
   "execution_count": 12,
   "metadata": {},
   "outputs": [
    {
     "data": {
      "text/plain": [
       "client         object\n",
       "staff          object\n",
       "service        object\n",
       "date           object\n",
       "time           object\n",
       "canceldate     object\n",
       "description    object\n",
       "category       object\n",
       "noshowflag      int64\n",
       "cancelflag      int64\n",
       "dtype: object"
      ]
     },
     "execution_count": 12,
     "metadata": {},
     "output_type": "execute_result"
    }
   ],
   "source": [
    "bookings.dtypes"
   ]
  },
  {
   "cell_type": "code",
   "execution_count": null,
   "metadata": {},
   "outputs": [],
   "source": []
  }
 ],
 "metadata": {
  "kernelspec": {
   "display_name": "Python 3",
   "language": "python",
   "name": "python3"
  },
  "language_info": {
   "codemirror_mode": {
    "name": "ipython",
    "version": 3
   },
   "file_extension": ".py",
   "mimetype": "text/x-python",
   "name": "python",
   "nbconvert_exporter": "python",
   "pygments_lexer": "ipython3",
   "version": "3.6.8"
  }
 },
 "nbformat": 4,
 "nbformat_minor": 2
}
