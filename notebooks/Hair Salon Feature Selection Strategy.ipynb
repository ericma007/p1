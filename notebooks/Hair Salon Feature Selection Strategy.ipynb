{
 "cells": [
  {
   "cell_type": "code",
   "execution_count": 24,
   "metadata": {},
   "outputs": [],
   "source": [
    "import numpy as np\n",
    "import pandas as pd\n",
    "import matplotlib.pyplot as plt\n",
    "import seaborn as sns\n",
    "import sqlite3 as sql3\n",
    "\n",
    "sns.set(style=\"darkgrid\")\n",
    "ROOT_PATH=\"C:/Users/moshe/Documents/projectML/p1\"\n",
    "DATA_PATH = \"%s/data/raw\" % ROOT_PATH\n",
    "DB_FILE = \"%s/hairsalon.db\" % DATA_PATH\n",
    "def readSQL(query):\n",
    "    import pandas as pd\n",
    "    import sqlite3 as sql3\n",
    "    db = sql3.connect(DB_FILE)\n",
    "    df = pd.read_sql_query(query, db)\n",
    "    db.close()\n",
    "    return(df)\n",
    "\n",
    "db=sql3.connect(DB_FILE)\n",
    "from sklearn.feature_selection import SelectFromModel"
   ]
  },
  {
   "cell_type": "code",
   "execution_count": 25,
   "metadata": {},
   "outputs": [],
   "source": [
    "query=\"\"\"select * from finalbooking\"\"\"\n",
    "final=readSQL(query)\n",
    "for c in final.columns:\n",
    "    if final[c].nunique() < 14:\n",
    "        final[c] = final[c].astype('category')\n",
    "X=final.loc[:,final.columns[1:]]\n",
    "y=final['noshowflag']"
   ]
  },
  {
   "cell_type": "markdown",
   "metadata": {},
   "source": [
    "## Univariate Analysis"
   ]
  },
  {
   "cell_type": "code",
   "execution_count": 26,
   "metadata": {},
   "outputs": [
    {
     "name": "stdout",
     "output_type": "stream",
     "text": [
      "Factorizing... please wait\n",
      "*********************************************************************************************************************************************************************************\n",
      "[]\n",
      "[**********************************************************************************************************************************************************************************\n",
      "[**********************************************************************************************************************************************************************************\n",
      "[]\n",
      "------ Finished in 117.65895318984985econds -----\n"
     ]
    }
   ],
   "source": [
    "import pyMechkar as mechkar\n",
    "x=final.columns.tolist()\n",
    "tab1 = mechkar.pyMechkar().Table1(x=x,y=\"noshowflag\",data=final, maxcat=5,miss=3, catmiss=True)"
   ]
  },
  {
   "cell_type": "code",
   "execution_count": 27,
   "metadata": {},
   "outputs": [
    {
     "data": {
      "text/html": [
       "<div>\n",
       "<style scoped>\n",
       "    .dataframe tbody tr th:only-of-type {\n",
       "        vertical-align: middle;\n",
       "    }\n",
       "\n",
       "    .dataframe tbody tr th {\n",
       "        vertical-align: top;\n",
       "    }\n",
       "\n",
       "    .dataframe thead th {\n",
       "        text-align: right;\n",
       "    }\n",
       "</style>\n",
       "<table border=\"1\" class=\"dataframe\">\n",
       "  <thead>\n",
       "    <tr style=\"text-align: right;\">\n",
       "      <th></th>\n",
       "      <th>Variables</th>\n",
       "      <th>Categories</th>\n",
       "      <th>Population</th>\n",
       "      <th>Category_1</th>\n",
       "      <th>Category_0</th>\n",
       "      <th>p_value</th>\n",
       "    </tr>\n",
       "  </thead>\n",
       "  <tbody>\n",
       "    <tr>\n",
       "      <th>8</th>\n",
       "      <td>previousnoshow</td>\n",
       "      <td>1</td>\n",
       "      <td>174.00 (    9.70%)</td>\n",
       "      <td>24.00 (   17.40%)</td>\n",
       "      <td>150.00 (    9.10%)</td>\n",
       "      <td>0.002</td>\n",
       "    </tr>\n",
       "    <tr>\n",
       "      <th>13</th>\n",
       "      <td>svcavg</td>\n",
       "      <td>Mean (SD)</td>\n",
       "      <td>65.40 (   36.70)</td>\n",
       "      <td>50.50 (   53.20)</td>\n",
       "      <td>66.70 (   34.70)</td>\n",
       "      <td>0.000</td>\n",
       "    </tr>\n",
       "    <tr>\n",
       "      <th>20</th>\n",
       "      <td>x0_wkday_1.0_hour_10.0</td>\n",
       "      <td>1</td>\n",
       "      <td>56.00 (    3.10%)</td>\n",
       "      <td>11.00 (    8.00%)</td>\n",
       "      <td>45.00 (    2.70%)</td>\n",
       "      <td>0.002</td>\n",
       "    </tr>\n",
       "    <tr>\n",
       "      <th>114</th>\n",
       "      <td>x0_wkday_4.0_hour_9.0</td>\n",
       "      <td>1</td>\n",
       "      <td>35.00 (    2.00%)</td>\n",
       "      <td>7.00 (    5.10%)</td>\n",
       "      <td>28.00 (    1.70%)</td>\n",
       "      <td>0.015</td>\n",
       "    </tr>\n",
       "    <tr>\n",
       "      <th>124</th>\n",
       "      <td>x0_wkday_5.0_hour_14.0</td>\n",
       "      <td>1</td>\n",
       "      <td>48.00 (    2.70%)</td>\n",
       "      <td>0.00 (    0.00%)</td>\n",
       "      <td>48.00 (    2.90%)</td>\n",
       "      <td>0.047</td>\n",
       "    </tr>\n",
       "    <tr>\n",
       "      <th>154</th>\n",
       "      <td>x1_MISC</td>\n",
       "      <td>1</td>\n",
       "      <td>68.00 (    3.80%)</td>\n",
       "      <td>31.00 (   22.50%)</td>\n",
       "      <td>37.00 (    2.20%)</td>\n",
       "      <td>0.000</td>\n",
       "    </tr>\n",
       "    <tr>\n",
       "      <th>156</th>\n",
       "      <td>x1_STYLE</td>\n",
       "      <td>0</td>\n",
       "      <td>1,423.00 (   79.40%)</td>\n",
       "      <td>82.00 (   59.40%)</td>\n",
       "      <td>1,341.00 (   81.00%)</td>\n",
       "      <td>0.000</td>\n",
       "    </tr>\n",
       "    <tr>\n",
       "      <th>164</th>\n",
       "      <td>x2_CBAL</td>\n",
       "      <td>1</td>\n",
       "      <td>20.00 (    1.10%)</td>\n",
       "      <td>7.00 (    5.10%)</td>\n",
       "      <td>13.00 (    0.80%)</td>\n",
       "      <td>0.000</td>\n",
       "    </tr>\n",
       "    <tr>\n",
       "      <th>188</th>\n",
       "      <td>x2_CON</td>\n",
       "      <td>1</td>\n",
       "      <td>56.00 (    3.10%)</td>\n",
       "      <td>30.00 (   21.70%)</td>\n",
       "      <td>26.00 (    1.60%)</td>\n",
       "      <td>0.000</td>\n",
       "    </tr>\n",
       "    <tr>\n",
       "      <th>194</th>\n",
       "      <td>x2_FRI</td>\n",
       "      <td>1</td>\n",
       "      <td>4.00 (    0.20%)</td>\n",
       "      <td>4.00 (    2.90%)</td>\n",
       "      <td>0.00 (    0.00%)</td>\n",
       "      <td>0.000</td>\n",
       "    </tr>\n",
       "    <tr>\n",
       "      <th>208</th>\n",
       "      <td>x2_SHCW</td>\n",
       "      <td>1</td>\n",
       "      <td>674.00 (   37.60%)</td>\n",
       "      <td>25.00 (   18.10%)</td>\n",
       "      <td>649.00 (   39.20%)</td>\n",
       "      <td>0.000</td>\n",
       "    </tr>\n",
       "    <tr>\n",
       "      <th>266</th>\n",
       "      <td>x6_daysnoshow8-15</td>\n",
       "      <td>1</td>\n",
       "      <td>25.00 (    1.40%)</td>\n",
       "      <td>6.00 (    4.30%)</td>\n",
       "      <td>19.00 (    1.10%)</td>\n",
       "      <td>0.007</td>\n",
       "    </tr>\n",
       "    <tr>\n",
       "      <th>284</th>\n",
       "      <td>x9_10.0</td>\n",
       "      <td>1</td>\n",
       "      <td>222.00 (   12.40%)</td>\n",
       "      <td>26.00 (   18.80%)</td>\n",
       "      <td>196.00 (   11.80%)</td>\n",
       "      <td>0.024</td>\n",
       "    </tr>\n",
       "    <tr>\n",
       "      <th>314</th>\n",
       "      <td>x10_6.0</td>\n",
       "      <td>1</td>\n",
       "      <td>52.00 (    2.90%)</td>\n",
       "      <td>11.00 (    8.00%)</td>\n",
       "      <td>41.00 (    2.50%)</td>\n",
       "      <td>0.001</td>\n",
       "    </tr>\n",
       "    <tr>\n",
       "      <th>318</th>\n",
       "      <td>x11_2.0</td>\n",
       "      <td>1</td>\n",
       "      <td>139.00 (    7.80%)</td>\n",
       "      <td>19.00 (   13.80%)</td>\n",
       "      <td>120.00 (    7.30%)</td>\n",
       "      <td>0.010</td>\n",
       "    </tr>\n",
       "    <tr>\n",
       "      <th>320</th>\n",
       "      <td>x11_3.0</td>\n",
       "      <td>1</td>\n",
       "      <td>188.00 (   10.50%)</td>\n",
       "      <td>7.00 (    5.10%)</td>\n",
       "      <td>181.00 (   10.90%)</td>\n",
       "      <td>0.044</td>\n",
       "    </tr>\n",
       "  </tbody>\n",
       "</table>\n",
       "</div>"
      ],
      "text/plain": [
       "                  Variables Categories            Population  \\\n",
       "8            previousnoshow          1    174.00 (    9.70%)   \n",
       "13                   svcavg  Mean (SD)      65.40 (   36.70)   \n",
       "20   x0_wkday_1.0_hour_10.0          1     56.00 (    3.10%)   \n",
       "114   x0_wkday_4.0_hour_9.0          1     35.00 (    2.00%)   \n",
       "124  x0_wkday_5.0_hour_14.0          1     48.00 (    2.70%)   \n",
       "154                 x1_MISC          1     68.00 (    3.80%)   \n",
       "156                x1_STYLE          0  1,423.00 (   79.40%)   \n",
       "164                 x2_CBAL          1     20.00 (    1.10%)   \n",
       "188                  x2_CON          1     56.00 (    3.10%)   \n",
       "194                  x2_FRI          1      4.00 (    0.20%)   \n",
       "208                 x2_SHCW          1    674.00 (   37.60%)   \n",
       "266       x6_daysnoshow8-15          1     25.00 (    1.40%)   \n",
       "284                 x9_10.0          1    222.00 (   12.40%)   \n",
       "314                 x10_6.0          1     52.00 (    2.90%)   \n",
       "318                 x11_2.0          1    139.00 (    7.80%)   \n",
       "320                 x11_3.0          1    188.00 (   10.50%)   \n",
       "\n",
       "               Category_1            Category_0  p_value  \n",
       "8       24.00 (   17.40%)    150.00 (    9.10%)    0.002  \n",
       "13       50.50 (   53.20)      66.70 (   34.70)    0.000  \n",
       "20      11.00 (    8.00%)     45.00 (    2.70%)    0.002  \n",
       "114      7.00 (    5.10%)     28.00 (    1.70%)    0.015  \n",
       "124      0.00 (    0.00%)     48.00 (    2.90%)    0.047  \n",
       "154     31.00 (   22.50%)     37.00 (    2.20%)    0.000  \n",
       "156     82.00 (   59.40%)  1,341.00 (   81.00%)    0.000  \n",
       "164      7.00 (    5.10%)     13.00 (    0.80%)    0.000  \n",
       "188     30.00 (   21.70%)     26.00 (    1.60%)    0.000  \n",
       "194      4.00 (    2.90%)      0.00 (    0.00%)    0.000  \n",
       "208     25.00 (   18.10%)    649.00 (   39.20%)    0.000  \n",
       "266      6.00 (    4.30%)     19.00 (    1.10%)    0.007  \n",
       "284     26.00 (   18.80%)    196.00 (   11.80%)    0.024  \n",
       "314     11.00 (    8.00%)     41.00 (    2.50%)    0.001  \n",
       "318     19.00 (   13.80%)    120.00 (    7.30%)    0.010  \n",
       "320      7.00 (    5.10%)    181.00 (   10.90%)    0.044  "
      ]
     },
     "execution_count": 27,
     "metadata": {},
     "output_type": "execute_result"
    }
   ],
   "source": [
    "tab1[tab1['p_value']<0.05]"
   ]
  },
  {
   "cell_type": "code",
   "execution_count": 28,
   "metadata": {},
   "outputs": [
    {
     "name": "stdout",
     "output_type": "stream",
     "text": [
      "16\n"
     ]
    },
    {
     "data": {
      "text/plain": [
       "array(['previousnoshow', 'svcavg', 'x0_wkday_1.0_hour_10.0',\n",
       "       'x0_wkday_4.0_hour_9.0', 'x0_wkday_5.0_hour_14.0', 'x1_MISC',\n",
       "       'x1_STYLE', 'x2_CBAL', 'x2_CON', 'x2_FRI', 'x2_SHCW',\n",
       "       'x6_daysnoshow8-15', 'x9_10.0', 'x10_6.0', 'x11_2.0', 'x11_3.0'],\n",
       "      dtype=object)"
      ]
     },
     "execution_count": 28,
     "metadata": {},
     "output_type": "execute_result"
    }
   ],
   "source": [
    "vn1 = tab1.loc[tab1['p_value']<0.05,'Variables'].unique()\n",
    "print(len(vn1))\n",
    "vn1"
   ]
  },
  {
   "cell_type": "code",
   "execution_count": 29,
   "metadata": {},
   "outputs": [
    {
     "name": "stdout",
     "output_type": "stream",
     "text": [
      "177\n"
     ]
    },
    {
     "data": {
      "text/html": [
       "<div>\n",
       "<style scoped>\n",
       "    .dataframe tbody tr th:only-of-type {\n",
       "        vertical-align: middle;\n",
       "    }\n",
       "\n",
       "    .dataframe tbody tr th {\n",
       "        vertical-align: top;\n",
       "    }\n",
       "\n",
       "    .dataframe thead th {\n",
       "        text-align: right;\n",
       "    }\n",
       "</style>\n",
       "<table border=\"1\" class=\"dataframe\">\n",
       "  <thead>\n",
       "    <tr style=\"text-align: right;\">\n",
       "      <th></th>\n",
       "      <th>Variable</th>\n",
       "      <th>Univariate</th>\n",
       "    </tr>\n",
       "  </thead>\n",
       "  <tbody>\n",
       "    <tr>\n",
       "      <th>0</th>\n",
       "      <td>firstapp</td>\n",
       "      <td>0</td>\n",
       "    </tr>\n",
       "    <tr>\n",
       "      <th>1</th>\n",
       "      <td>existingcustomer</td>\n",
       "      <td>0</td>\n",
       "    </tr>\n",
       "    <tr>\n",
       "      <th>2</th>\n",
       "      <td>multipleappt</td>\n",
       "      <td>0</td>\n",
       "    </tr>\n",
       "    <tr>\n",
       "      <th>3</th>\n",
       "      <td>previousnoshow</td>\n",
       "      <td>1</td>\n",
       "    </tr>\n",
       "    <tr>\n",
       "      <th>4</th>\n",
       "      <td>last90dproductbuyer</td>\n",
       "      <td>0</td>\n",
       "    </tr>\n",
       "  </tbody>\n",
       "</table>\n",
       "</div>"
      ],
      "text/plain": [
       "              Variable  Univariate\n",
       "0             firstapp           0\n",
       "1     existingcustomer           0\n",
       "2         multipleappt           0\n",
       "3       previousnoshow           1\n",
       "4  last90dproductbuyer           0"
      ]
     },
     "execution_count": 29,
     "metadata": {},
     "output_type": "execute_result"
    }
   ],
   "source": [
    "varList = pd.DataFrame({'Variable': final.columns[1:]})\n",
    "print(len(varList))\n",
    "varList['Univariate'] = 0\n",
    "varList.loc[varList['Variable'].isin(vn1), 'Univariate'] = 1\n",
    "varList.head()"
   ]
  },
  {
   "cell_type": "markdown",
   "metadata": {},
   "source": [
    "### Variable Selection using LASSO (L1 penalization)"
   ]
  },
  {
   "cell_type": "code",
   "execution_count": 30,
   "metadata": {},
   "outputs": [
    {
     "name": "stderr",
     "output_type": "stream",
     "text": [
      "C:\\Users\\moshe\\Anaconda3\\lib\\site-packages\\sklearn\\linear_model\\logistic.py:433: FutureWarning: Default solver will be changed to 'lbfgs' in 0.22. Specify a solver to silence this warning.\n",
      "  FutureWarning)\n"
     ]
    }
   ],
   "source": [
    "from sklearn.linear_model import LogisticRegression\n",
    "from sklearn.feature_selection import SelectFromModel\n",
    "lassomod = LogisticRegression(penalty='l1',random_state=0).fit(X,y)\n",
    "model = SelectFromModel(lassomod, prefit=True)\n",
    "varList['Lasso'] = model.get_support().astype('int64')"
   ]
  },
  {
   "cell_type": "markdown",
   "metadata": {},
   "source": [
    "### Variable Selection using Random Forest"
   ]
  },
  {
   "cell_type": "code",
   "execution_count": 31,
   "metadata": {},
   "outputs": [
    {
     "name": "stderr",
     "output_type": "stream",
     "text": [
      "C:\\Users\\moshe\\Anaconda3\\lib\\site-packages\\sklearn\\ensemble\\forest.py:246: FutureWarning: The default value of n_estimators will change from 10 in version 0.20 to 100 in 0.22.\n",
      "  \"10 in version 0.20 to 100 in 0.22.\", FutureWarning)\n"
     ]
    }
   ],
   "source": [
    "from sklearn.ensemble import RandomForestClassifier\n",
    "from sklearn.feature_selection import SelectFromModel\n",
    "rfc=RandomForestClassifier(random_state=0,n_estimators=100,max_depth=2)\n",
    "rfmod = RandomForestClassifier().fit(X, y)\n",
    "model = SelectFromModel(rfmod, prefit=True)\n",
    "varList['RandomForest'] = model.get_support().astype('int64')"
   ]
  },
  {
   "cell_type": "markdown",
   "metadata": {},
   "source": [
    "### Variable Selection using gradient boosting"
   ]
  },
  {
   "cell_type": "code",
   "execution_count": 32,
   "metadata": {},
   "outputs": [],
   "source": [
    "from sklearn.ensemble import GradientBoostingClassifier\n",
    "from sklearn.feature_selection import SelectFromModel\n",
    "\n",
    "gbmod = GradientBoostingClassifier().fit(X, y)\n",
    "model = SelectFromModel(gbmod, prefit=True)\n",
    "varList['GradientBoost'] = model.get_support().astype('int64')\n"
   ]
  },
  {
   "cell_type": "markdown",
   "metadata": {},
   "source": [
    "### Variable Selection using LinearSVC"
   ]
  },
  {
   "cell_type": "code",
   "execution_count": 33,
   "metadata": {},
   "outputs": [],
   "source": [
    "from sklearn.svm import LinearSVC\n",
    "from sklearn.feature_selection import SelectFromModel\n",
    "\n",
    "svmmod = LinearSVC(C=0.01, penalty=\"l1\",dual=False,random_state=0).fit(X, y)\n",
    "model = SelectFromModel(svmmod, prefit=True)\n",
    "varList['LinearSVC'] = model.get_support().astype('int64')"
   ]
  },
  {
   "cell_type": "markdown",
   "metadata": {},
   "source": [
    "### Variable Selection using XGB"
   ]
  },
  {
   "cell_type": "code",
   "execution_count": 34,
   "metadata": {},
   "outputs": [],
   "source": [
    "import xgboost as xgb\n",
    "classifier=xgb.XGBClassifier()\n",
    "finalnum=final.copy()\n",
    "finalnum.dtypes\n",
    "columnstoconvert=finalnum.loc[:,finalnum.dtypes=='category'].columns\n",
    "finalnum[columnstoconvert]=finalnum[columnstoconvert].astype(bool)\n",
    "Xnum=finalnum.loc[:,finalnum.columns[1:]]\n",
    "ynum=finalnum['noshowflag']\n",
    "finalnum.dtypes\n",
    "xgbmod=classifier.fit(Xnum,ynum)"
   ]
  },
  {
   "cell_type": "code",
   "execution_count": 35,
   "metadata": {},
   "outputs": [],
   "source": [
    "from sklearn.feature_selection import SelectFromModel\n",
    "model = SelectFromModel(xgbmod, prefit=True)\n",
    "varList['xgb'] = model.get_support().astype('int64')"
   ]
  },
  {
   "cell_type": "markdown",
   "metadata": {},
   "source": [
    "### Variable Selection using AdaBoost"
   ]
  },
  {
   "cell_type": "code",
   "execution_count": 36,
   "metadata": {},
   "outputs": [],
   "source": [
    "from sklearn.ensemble import AdaBoostClassifier\n",
    "adamod=AdaBoostClassifier().fit(X,y)\n",
    "model = SelectFromModel(adamod, prefit=True)\n",
    "varList['AdaBoost'] = model.get_support().astype('int64')\n"
   ]
  },
  {
   "cell_type": "markdown",
   "metadata": {},
   "source": [
    "### Variable Selection using Decision Tree"
   ]
  },
  {
   "cell_type": "code",
   "execution_count": 37,
   "metadata": {},
   "outputs": [],
   "source": [
    "from sklearn.tree import DecisionTreeClassifier\n",
    "treemod=DecisionTreeClassifier().fit(X,y)\n",
    "model = SelectFromModel(treemod, prefit=True)\n",
    "varList['DecTree'] = model.get_support().astype('int64')\n"
   ]
  },
  {
   "cell_type": "code",
   "execution_count": 38,
   "metadata": {},
   "outputs": [],
   "source": [
    "if 'Sum' in varList.columns:\n",
    "    varList=varList.drop(columns=['Sum'])\n",
    "varList['Sum'] =  np.sum(varList,axis=1)"
   ]
  },
  {
   "cell_type": "code",
   "execution_count": 39,
   "metadata": {},
   "outputs": [
    {
     "data": {
      "text/plain": [
       "0                    firstapp\n",
       "2                multipleappt\n",
       "3              previousnoshow\n",
       "6                      svcavg\n",
       "7                  lastsvcavg\n",
       "8      x0_wkday_1.0_hour_10.0\n",
       "9      x0_wkday_1.0_hour_11.0\n",
       "18      x0_wkday_1.0_hour_8.0\n",
       "36     x0_wkday_3.0_hour_14.0\n",
       "44     x0_wkday_4.0_hour_10.0\n",
       "55      x0_wkday_4.0_hour_9.0\n",
       "60     x0_wkday_5.0_hour_14.0\n",
       "74                   x1_COLOR\n",
       "76                   x1_STYLE\n",
       "80                    x2_CBAL\n",
       "83                    x2_CDPB\n",
       "92                     x2_CON\n",
       "95                     x2_FRI\n",
       "97                     x2_SBD\n",
       "102                   x2_SHCW\n",
       "106                  x3_BECKY\n",
       "110                  x3_KELLY\n",
       "111                 x3_SINEAD\n",
       "115                     x4_JJ\n",
       "122          x5_lastappt31-45\n",
       "133    x7_last60dlatecancel-1\n",
       "136      x8_last60regcancel-0\n",
       "140                   x9_10.0\n",
       "142                   x9_12.0\n",
       "147                   x9_17.0\n",
       "154                   x10_5.0\n",
       "155                   x10_6.0\n",
       "157                   x11_2.0\n",
       "158                   x11_3.0\n",
       "168                   x13_1.0\n",
       "172                   x13_5.0\n",
       "173          last60dbillamt01\n",
       "175            last60dcolor01\n",
       "176          last60dproduct01\n",
       "Name: Variable, dtype: object"
      ]
     },
     "execution_count": 39,
     "metadata": {},
     "output_type": "execute_result"
    }
   ],
   "source": [
    "selectedfeatures=varList.loc[varList['Sum']>=4,'Variable']\n",
    "selectedfeatures"
   ]
  },
  {
   "cell_type": "code",
   "execution_count": 41,
   "metadata": {},
   "outputs": [],
   "source": [
    "filepath = \"C:/Users/moshe/Documents/projectML/p1/data/interim/varList.xlsx\"\n",
    "varList.to_excel(filepath)\n",
    "filepath = \"C:/Users/moshe/Documents/projectML/p1/data/interim/selectedfeatures.csv\"\n",
    "selectedfeatures.to_csv(filepath,index=False,header=True)"
   ]
  }
 ],
 "metadata": {
  "kernelspec": {
   "display_name": "Python 3",
   "language": "python",
   "name": "python3"
  },
  "language_info": {
   "codemirror_mode": {
    "name": "ipython",
    "version": 3
   },
   "file_extension": ".py",
   "mimetype": "text/x-python",
   "name": "python",
   "nbconvert_exporter": "python",
   "pygments_lexer": "ipython3",
   "version": "3.6.8"
  }
 },
 "nbformat": 4,
 "nbformat_minor": 2
}
