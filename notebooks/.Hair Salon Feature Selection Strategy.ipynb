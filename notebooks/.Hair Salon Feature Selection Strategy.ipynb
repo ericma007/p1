{
 "cells": [
  {
   "cell_type": "code",
   "execution_count": 1,
   "metadata": {},
   "outputs": [],
   "source": [
    "import numpy as np\n",
    "import pandas as pd\n",
    "import matplotlib.pyplot as plt\n",
    "import seaborn as sns\n",
    "import sqlite3 as sql3\n",
    "import random\n",
    "\n",
    "random.seed(1000)\n",
    "np.random.seed(1000)\n",
    "\n",
    "sns.set(style=\"darkgrid\")\n",
    "ROOT_PATH=\"C:/Users/moshe/Documents/projectML/p1\"\n",
    "DATA_PATH = \"%s/data/raw\" % ROOT_PATH\n",
    "DB_FILE = \"%s/hairsalon.db\" % DATA_PATH\n",
    "def readSQL(query):\n",
    "    import pandas as pd\n",
    "    import sqlite3 as sql3\n",
    "    db = sql3.connect(DB_FILE)\n",
    "    df = pd.read_sql_query(query, db)\n",
    "    db.close()\n",
    "    return(df)\n",
    "\n",
    "db=sql3.connect(DB_FILE)\n",
    "from sklearn.feature_selection import SelectFromModel"
   ]
  },
  {
   "cell_type": "code",
   "execution_count": null,
   "metadata": {},
   "outputs": [],
   "source": [
    "query=\"\"\"select * from finalbooking\"\"\"\n",
    "final=readSQL(query)\n",
    "for c in final.columns:\n",
    "    if final[c].nunique() < 14:\n",
    "        final[c] = final[c].astype('category')\n",
    "X=final.loc[:,final.columns[1:]]\n",
    "y=final['noshowflag']"
   ]
  },
  {
   "cell_type": "markdown",
   "metadata": {},
   "source": [
    "## Univariate Analysis"
   ]
  },
  {
   "cell_type": "code",
   "execution_count": null,
   "metadata": {},
   "outputs": [
    {
     "name": "stdout",
     "output_type": "stream",
     "text": [
      "Factorizing... please wait\n",
      "*********************************************************************************************************************************************************************************\n",
      "[]\n",
      "[**********************************************************************************************************************************************************************************\n",
      "[**********************************************************************************************************************************************************************************\n"
     ]
    }
   ],
   "source": [
    "import pyMechkar as mechkar\n",
    "x=final.columns.tolist()\n",
    "tab1 = mechkar.pyMechkar().Table1(x=x,y=\"noshowflag\",data=final, maxcat=5,miss=3, catmiss=True)"
   ]
  },
  {
   "cell_type": "code",
   "execution_count": null,
   "metadata": {},
   "outputs": [],
   "source": [
    "tab1[tab1['p_value']<0.05]"
   ]
  },
  {
   "cell_type": "code",
   "execution_count": null,
   "metadata": {},
   "outputs": [],
   "source": [
    "vn1 = tab1.loc[tab1['p_value']<0.05,'Variables'].unique()\n",
    "print(len(vn1))\n",
    "vn1"
   ]
  },
  {
   "cell_type": "code",
   "execution_count": null,
   "metadata": {},
   "outputs": [],
   "source": [
    "varList = pd.DataFrame({'Variable': final.columns[1:]})\n",
    "print(len(varList))\n",
    "varList['Univariate'] = 0\n",
    "varList.loc[varList['Variable'].isin(vn1), 'Univariate'] = 1\n",
    "varList.head()"
   ]
  },
  {
   "cell_type": "markdown",
   "metadata": {},
   "source": [
    "### Variable Selection using LASSO (L1 penalization)"
   ]
  },
  {
   "cell_type": "code",
   "execution_count": null,
   "metadata": {},
   "outputs": [],
   "source": [
    "from sklearn.linear_model import LogisticRegression\n",
    "from sklearn.feature_selection import SelectFromModel\n",
    "lassomod = LogisticRegression(penalty='l1',random_state=0).fit(X,y)\n",
    "model = SelectFromModel(lassomod, prefit=True)\n",
    "varList['Lasso'] = model.get_support().astype('int64')"
   ]
  },
  {
   "cell_type": "markdown",
   "metadata": {},
   "source": [
    "### Variable Selection using Random Forest"
   ]
  },
  {
   "cell_type": "code",
   "execution_count": null,
   "metadata": {},
   "outputs": [],
   "source": [
    "from sklearn.ensemble import RandomForestClassifier\n",
    "from sklearn.feature_selection import SelectFromModel\n",
    "rfc=RandomForestClassifier(random_state=10,n_estimators=100,max_depth=2)\n",
    "rfmod = RandomForestClassifier().fit(X, y)\n",
    "model = SelectFromModel(rfmod, prefit=True)\n",
    "varList['RandomForest'] = model.get_support().astype('int64')"
   ]
  },
  {
   "cell_type": "markdown",
   "metadata": {},
   "source": [
    "### Variable Selection using gradient boosting"
   ]
  },
  {
   "cell_type": "code",
   "execution_count": null,
   "metadata": {},
   "outputs": [],
   "source": [
    "from sklearn.ensemble import GradientBoostingClassifier\n",
    "from sklearn.feature_selection import SelectFromModel\n",
    "\n",
    "gbmod = GradientBoostingClassifier(random_state=1000).fit(X, y)\n",
    "model = SelectFromModel(gbmod, prefit=True)\n",
    "varList['GradientBoost'] = model.get_support().astype('int64')\n"
   ]
  },
  {
   "cell_type": "markdown",
   "metadata": {},
   "source": [
    "### Variable Selection using LinearSVC"
   ]
  },
  {
   "cell_type": "code",
   "execution_count": null,
   "metadata": {},
   "outputs": [],
   "source": [
    "from sklearn.svm import LinearSVC\n",
    "from sklearn.feature_selection import SelectFromModel\n",
    "\n",
    "svmmod = LinearSVC(C=0.01, penalty=\"l1\",dual=False,random_state=100).fit(X, y)\n",
    "model = SelectFromModel(svmmod, prefit=True)\n",
    "varList['LinearSVC'] = model.get_support().astype('int64')"
   ]
  },
  {
   "cell_type": "markdown",
   "metadata": {},
   "source": [
    "### Variable Selection using XGB"
   ]
  },
  {
   "cell_type": "code",
   "execution_count": null,
   "metadata": {},
   "outputs": [],
   "source": [
    "random.seed(1000)\n",
    "import xgboost as xgb\n",
    "classifier=xgb.XGBClassifier()\n",
    "finalnum=final.copy()\n",
    "finalnum.dtypes\n",
    "columnstoconvert=finalnum.loc[:,finalnum.dtypes=='category'].columns\n",
    "finalnum[columnstoconvert]=finalnum[columnstoconvert].astype(bool)\n",
    "Xnum=finalnum.loc[:,finalnum.columns[1:]]\n",
    "ynum=finalnum['noshowflag']\n",
    "finalnum.dtypes\n",
    "xgbmod=classifier.fit(Xnum,ynum)"
   ]
  },
  {
   "cell_type": "code",
   "execution_count": null,
   "metadata": {},
   "outputs": [],
   "source": [
    "from sklearn.feature_selection import SelectFromModel\n",
    "model = SelectFromModel(xgbmod, prefit=True)\n",
    "varList['xgb'] = model.get_support().astype('int64')"
   ]
  },
  {
   "cell_type": "markdown",
   "metadata": {},
   "source": [
    "### Variable Selection using AdaBoost"
   ]
  },
  {
   "cell_type": "code",
   "execution_count": null,
   "metadata": {},
   "outputs": [],
   "source": [
    "from sklearn.ensemble import AdaBoostClassifier\n",
    "adamod=AdaBoostClassifier(random_state=1000).fit(X,y)\n",
    "model = SelectFromModel(adamod, prefit=True)\n",
    "varList['AdaBoost'] = model.get_support().astype('int64')\n"
   ]
  },
  {
   "cell_type": "markdown",
   "metadata": {},
   "source": [
    "### Variable Selection using Decision Tree"
   ]
  },
  {
   "cell_type": "code",
   "execution_count": null,
   "metadata": {},
   "outputs": [],
   "source": [
    "from sklearn.tree import DecisionTreeClassifier\n",
    "treemod=DecisionTreeClassifier(random_state=100).fit(X,y)\n",
    "model = SelectFromModel(treemod, prefit=True)\n",
    "varList['DecTree'] = model.get_support().astype('int64')\n"
   ]
  },
  {
   "cell_type": "code",
   "execution_count": null,
   "metadata": {},
   "outputs": [],
   "source": [
    "if 'Sum' in varList.columns:\n",
    "    varList=varList.drop(columns=['Sum'])\n",
    "varList['Sum'] =  np.sum(varList,axis=1)"
   ]
  },
  {
   "cell_type": "code",
   "execution_count": null,
   "metadata": {},
   "outputs": [],
   "source": [
    "selectedfeatures=varList.loc[varList['Sum']>=4,'Variable']\n",
    "selectedfeatures"
   ]
  },
  {
   "cell_type": "code",
   "execution_count": null,
   "metadata": {},
   "outputs": [],
   "source": [
    "filepath = \"C:/Users/moshe/Documents/projectML/p1/data/interim/varList.xlsx\"\n",
    "varList.to_excel(filepath)\n",
    "filepath = \"C:/Users/moshe/Documents/projectML/p1/data/interim/selectedfeatures.csv\"\n",
    "selectedfeatures.to_csv(filepath,index=False,header=True)"
   ]
  },
  {
   "cell_type": "code",
   "execution_count": null,
   "metadata": {},
   "outputs": [],
   "source": [
    "len(selectedfeatures)"
   ]
  }
 ],
 "metadata": {
  "kernelspec": {
   "display_name": "Python 3",
   "language": "python",
   "name": "python3"
  },
  "language_info": {
   "codemirror_mode": {
    "name": "ipython",
    "version": 3
   },
   "file_extension": ".py",
   "mimetype": "text/x-python",
   "name": "python",
   "nbconvert_exporter": "python",
   "pygments_lexer": "ipython3",
   "version": "3.6.8"
  }
 },
 "nbformat": 4,
 "nbformat_minor": 2
}
