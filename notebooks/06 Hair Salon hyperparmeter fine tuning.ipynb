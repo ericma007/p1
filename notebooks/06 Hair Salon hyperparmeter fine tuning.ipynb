{
 "cells": [
  {
   "cell_type": "code",
   "execution_count": 81,
   "metadata": {},
   "outputs": [],
   "source": [
    "import numpy as np\n",
    "import pandas as pd\n",
    "import matplotlib.pyplot as plt\n",
    "import seaborn as sns\n",
    "import sqlite3 as sql3\n",
    "import random\n",
    "\n",
    "random.seed(1000)\n",
    "np.random.seed(1000)\n",
    "\n",
    "sns.set(style=\"darkgrid\")\n",
    "ROOT_PATH=\"C:/Users/moshe/Documents/projectML/p1\"\n",
    "DATA_PATH = \"%s/data/raw\" % ROOT_PATH\n",
    "DB_FILE = \"%s/hairsalon.db\" % DATA_PATH\n",
    "def readSQL(query):\n",
    "    import pandas as pd\n",
    "    import sqlite3 as sql3\n",
    "    db = sql3.connect(DB_FILE)\n",
    "    df = pd.read_sql_query(query, db)\n",
    "    db.close()\n",
    "    return(df)\n",
    "\n",
    "db=sql3.connect(DB_FILE)"
   ]
  },
  {
   "cell_type": "code",
   "execution_count": 82,
   "metadata": {},
   "outputs": [
    {
     "name": "stdout",
     "output_type": "stream",
     "text": [
      "[1935, 484, 2419]\n"
     ]
    }
   ],
   "source": [
    "def readXy(query):\n",
    "    df=readSQL(query)\n",
    "    for c in df.columns:\n",
    "        if df[c].nunique() < 14:\n",
    "            df[c] = df[c].astype('category')\n",
    "    df=df.reindex(np.random.permutation(df.index)).reset_index(drop=True)\n",
    "    X=df.loc[:,df.columns[1:]]\n",
    "    y=df['noshowflag']\n",
    "    return X,y\n",
    "\n",
    "query=\"\"\"select * from rtest\"\"\"\n",
    "Xtest,ytest=readXy(query)\n",
    "query=\"\"\"select * from rtrain\"\"\"\n",
    "Xtrain,ytrain=readXy(query)\n",
    "query=\"\"\"select * from rdev\"\"\"\n",
    "Xdev,ydev=readXy(query)\n",
    "Xftrain=pd.concat([Xtrain,Xdev])\n",
    "yftrain=pd.concat([ytrain,ydev])\n",
    "print([len(Xtrain),len(Xdev),len(Xftrain)])\n",
    "Xftrain=Xftrain.reset_index(drop=True)\n",
    "yftrain=yftrain.reset_index(drop=True)\n",
    "test_fold1=np.full(len(Xtrain),-1)\n",
    "test_fold2=np.full(len(Xdev),0)\n",
    "test_fold=np.append(test_fold1,test_fold2)"
   ]
  },
  {
   "cell_type": "code",
   "execution_count": 83,
   "metadata": {},
   "outputs": [
    {
     "data": {
      "text/plain": [
       "1"
      ]
     },
     "execution_count": 83,
     "metadata": {},
     "output_type": "execute_result"
    }
   ],
   "source": [
    "from sklearn.model_selection import PredefinedSplit\n",
    "ps = PredefinedSplit(test_fold)\n",
    "ps.get_n_splits()\n"
   ]
  },
  {
   "cell_type": "code",
   "execution_count": 84,
   "metadata": {},
   "outputs": [
    {
     "name": "stdout",
     "output_type": "stream",
     "text": [
      "{'n_estimators': [100, 300, 500, 700, 900, 1100, 1300, 1500, 1700, 1900, 2100], 'max_features': [3, 4, 'sqrt'], 'max_depth': [10, 20, 30, 40, 50, 60, 70, 80, 90, 100, 110, 120, 130, 140, 150, 160, 170, 180, 190, 200, 210, None, 2, 5], 'min_samples_split': [2, 4], 'min_samples_leaf': [1, 2], 'bootstrap': [True], 'criterion': ['gini']}\n"
     ]
    }
   ],
   "source": [
    "# Number of trees in random forest\n",
    "n_estimators = [int(x) for x in np.linspace(start = 100, stop = 2100, num = 11)]\n",
    "# Number of features to consider at every split\n",
    "max_features = [3,4, 'sqrt']\n",
    "# Maximum number of levels in tree\n",
    "max_depth = [int(x) for x in np.linspace(10, 210, num = 21)]\n",
    "max_depth.append(None)\n",
    "max_depth.append(2)\n",
    "max_depth.append(5)\n",
    "# Minimum number of samples required to split a node\n",
    "min_samples_split = [2,4]\n",
    "# Minimum number of samples required at each leaf node\n",
    "min_samples_leaf = [1, 2]\n",
    "#Criterion\n",
    "criterion=['gini']\n",
    "\n",
    "# Create the random grid\n",
    "random_grid = {'n_estimators': n_estimators,\n",
    "               'max_features': max_features,\n",
    "               'max_depth': max_depth,\n",
    "               'min_samples_split': min_samples_split,\n",
    "               'min_samples_leaf': min_samples_leaf,\n",
    "               'bootstrap': bootstrap,\n",
    "               'criterion': criterion,\n",
    "              }\n",
    "\n",
    "print(random_grid)"
   ]
  },
  {
   "cell_type": "code",
   "execution_count": 85,
   "metadata": {},
   "outputs": [
    {
     "name": "stdout",
     "output_type": "stream",
     "text": [
      "Fitting 1 folds for each of 250 candidates, totalling 250 fits\n"
     ]
    },
    {
     "name": "stderr",
     "output_type": "stream",
     "text": [
      "[Parallel(n_jobs=-1)]: Using backend LokyBackend with 8 concurrent workers.\n",
      "[Parallel(n_jobs=-1)]: Done  25 tasks      | elapsed:   15.7s\n",
      "[Parallel(n_jobs=-1)]: Done 146 tasks      | elapsed:  1.3min\n",
      "[Parallel(n_jobs=-1)]: Done 250 out of 250 | elapsed:  2.2min finished\n"
     ]
    },
    {
     "data": {
      "text/plain": [
       "RandomizedSearchCV(cv=<generator object PredefinedSplit.split at 0x0000019A241A5620>,\n",
       "          error_score='raise-deprecating',\n",
       "          estimator=RandomForestClassifier(bootstrap=True, class_weight=None, criterion='gini',\n",
       "            max_depth=None, max_features='auto', max_leaf_nodes=None,\n",
       "            min_impurity_decrease=0.0, min_impurity_split=None,\n",
       "            min_samples_leaf=1, min_samples_split=2,\n",
       "            min_weight_fraction_leaf=0.0, n_estimators='warn', n_jobs=None,\n",
       "            oob_score=False, random_state=100, verbose=0, warm_start=False),\n",
       "          fit_params=None, iid='warn', n_iter=250, n_jobs=-1,\n",
       "          param_distributions={'n_estimators': [100, 300, 500, 700, 900, 1100, 1300, 1500, 1700, 1900, 2100], 'max_features': [3, 4, 'sqrt'], 'max_depth': [10, 20, 30, 40, 50, 60, 70, 80, 90, 100, 110, 120, 130, 140, 150, 160, 170, 180, 190, 200, 210, None, 2, 5], 'min_samples_split': [2, 4], 'min_samples_leaf': [1, 2], 'bootstrap': [True], 'criterion': ['gini']},\n",
       "          pre_dispatch='2*n_jobs', random_state=100, refit=True,\n",
       "          return_train_score='warn', scoring=None, verbose=2)"
      ]
     },
     "execution_count": 85,
     "metadata": {},
     "output_type": "execute_result"
    }
   ],
   "source": [
    "from sklearn.ensemble import RandomForestClassifier\n",
    "from sklearn.model_selection import RandomizedSearchCV\n",
    "rf = RandomForestClassifier(random_state=100)\n",
    "\n",
    "rf_random = RandomizedSearchCV(estimator = rf, param_distributions = random_grid, n_iter = 250, cv = ps.split(Xftrain,yftrain),verbose=2, random_state=100, n_jobs = -1)\n",
    "# Fit the random search model\n",
    "rf_random.fit(Xftrain, yftrain)"
   ]
  },
  {
   "cell_type": "code",
   "execution_count": 86,
   "metadata": {},
   "outputs": [
    {
     "data": {
      "text/plain": [
       "{'n_estimators': 1500,\n",
       " 'min_samples_split': 2,\n",
       " 'min_samples_leaf': 1,\n",
       " 'max_features': 3,\n",
       " 'max_depth': None,\n",
       " 'criterion': 'gini',\n",
       " 'bootstrap': True}"
      ]
     },
     "execution_count": 86,
     "metadata": {},
     "output_type": "execute_result"
    }
   ],
   "source": [
    "rf_random.best_params_"
   ]
  },
  {
   "cell_type": "code",
   "execution_count": 87,
   "metadata": {},
   "outputs": [],
   "source": [
    "def evaluate(model, test_features, test_labels,text1):\n",
    "    accuracy2=100*model.score(test_features,test_labels)\n",
    "    predictions = model.predict(test_features)\n",
    "    array1=[1]*len(test_features)\n",
    "    errors = abs(predictions.astype(int) - test_labels.astype(int).values)\n",
    "    TP=sum(np.logical_and(predictions.astype(int)==1,errors==0))\n",
    "    TN=sum(np.logical_and(predictions.astype(int)==0,errors==0))\n",
    "    FP=sum(np.logical_and(predictions.astype(int)==1,errors==1))\n",
    "    FN=sum(np.logical_and(predictions.astype(int)==0,errors==1))\n",
    "    \n",
    "    \n",
    "    \n",
    "    Precision=100*(TP)/(TP+FP)\n",
    "    Recall=100*(TP/(TP+FN))\n",
    "    accuracy=100*(TP+TN)/(TP+FP+FN+TN)\n",
    "    F1=(2*Recall*Precision)/(Recall+Precision)\n",
    "    print('Model Performance '+text1)\n",
    "    print(['True Positive ',TP,'False Positive',FP,'True Negative ',TN,'False Positive',FN])\n",
    "    print('Precision = {:0.2f}%.'.format(Precision))\n",
    "    print('Recall = {:0.2f}%.'.format(Recall))\n",
    "    print('F1 = {:0.2f}%.'.format(F1))\n",
    "    print('Accuracy = {:0.2f}%.'.format(accuracy))\n",
    "    return Precision"
   ]
  },
  {
   "cell_type": "markdown",
   "metadata": {},
   "source": [
    "#### Run base model"
   ]
  },
  {
   "cell_type": "code",
   "execution_count": 88,
   "metadata": {},
   "outputs": [
    {
     "name": "stdout",
     "output_type": "stream",
     "text": [
      "Model Performance base model checked against dev\n",
      "['True Positive ', 169, 'False Positive', 34, 'True Negative ', 207, 'False Positive', 74]\n",
      "Precision = 83.25%.\n",
      "Recall = 69.55%.\n",
      "F1 = 75.78%.\n",
      "Accuracy = 77.69%.\n"
     ]
    }
   ],
   "source": [
    "base_model = RandomForestClassifier(random_state=100,n_estimators=100,max_depth=2)\n",
    "base_model.fit(Xtrain, ytrain)\n",
    "base_precision = evaluate(base_model, Xdev, ydev,'base model checked against dev')"
   ]
  },
  {
   "cell_type": "code",
   "execution_count": 89,
   "metadata": {},
   "outputs": [
    {
     "name": "stdout",
     "output_type": "stream",
     "text": [
      "Model Performance base model checked against test\n",
      "['True Positive ', 15, 'False Positive', 27, 'True Negative ', 384, 'False Positive', 23]\n",
      "Precision = 35.71%.\n",
      "Recall = 39.47%.\n",
      "F1 = 37.50%.\n",
      "Accuracy = 88.86%.\n"
     ]
    }
   ],
   "source": [
    "base_precision = evaluate(base_model, Xtest, ytest,'base model checked against test')"
   ]
  },
  {
   "cell_type": "markdown",
   "metadata": {},
   "source": [
    "#### Compare fine-tunned model\n"
   ]
  },
  {
   "cell_type": "code",
   "execution_count": 90,
   "metadata": {},
   "outputs": [
    {
     "name": "stdout",
     "output_type": "stream",
     "text": [
      "Model Performance best random checked against test\n",
      "['True Positive ', 14, 'False Positive', 12, 'True Negative ', 399, 'False Positive', 24]\n",
      "Precision = 53.85%.\n",
      "Recall = 36.84%.\n",
      "F1 = 43.75%.\n",
      "Accuracy = 91.98%.\n"
     ]
    }
   ],
   "source": [
    "best_random = rf_random.best_estimator_\n",
    "random_precision = evaluate(best_random, Xtest, ytest,'best random checked against test')"
   ]
  },
  {
   "cell_type": "code",
   "execution_count": 91,
   "metadata": {},
   "outputs": [
    {
     "name": "stdout",
     "output_type": "stream",
     "text": [
      "Precision Improvement of 50.77%.\n"
     ]
    }
   ],
   "source": [
    "print('Precision Improvement of {:0.2f}%.'.format( 100 * (random_precision - base_precision) / base_precision))"
   ]
  },
  {
   "cell_type": "markdown",
   "metadata": {},
   "source": [
    "Grid search: we decide which parameters and how (not randomly)"
   ]
  },
  {
   "cell_type": "code",
   "execution_count": 92,
   "metadata": {},
   "outputs": [],
   "source": [
    "from sklearn.model_selection import GridSearchCV\n",
    "# Create the parameter grid \n",
    "param_grid = {\n",
    "    'max_depth': [2,10,80,100,150,200,None],\n",
    "    'criterion': ['gini'],\n",
    "    'max_features': [2,3,4,'sqrt'],\n",
    "    'min_samples_leaf': [1,2],\n",
    "    'min_samples_split': [2,4],\n",
    "    'n_estimators': [100,200,500,1000,1500,2000]\n",
    "}\n",
    "\n",
    "# Create a based model\n",
    "rf = RandomForestClassifier(random_state=100)\n",
    "# Instantiate the grid search model\n",
    "\n",
    "grid_search = GridSearchCV(estimator = rf, param_grid = param_grid, cv = ps.split(Xftrain,yftrain), n_jobs = -1, verbose = 2)"
   ]
  },
  {
   "cell_type": "code",
   "execution_count": 93,
   "metadata": {},
   "outputs": [
    {
     "name": "stdout",
     "output_type": "stream",
     "text": [
      "Fitting 1 folds for each of 672 candidates, totalling 672 fits\n"
     ]
    },
    {
     "name": "stderr",
     "output_type": "stream",
     "text": [
      "[Parallel(n_jobs=-1)]: Using backend LokyBackend with 8 concurrent workers.\n",
      "[Parallel(n_jobs=-1)]: Done  25 tasks      | elapsed:    5.1s\n",
      "[Parallel(n_jobs=-1)]: Done 146 tasks      | elapsed:   40.5s\n",
      "[Parallel(n_jobs=-1)]: Done 349 tasks      | elapsed:  2.3min\n",
      "[Parallel(n_jobs=-1)]: Done 632 tasks      | elapsed:  5.2min\n",
      "[Parallel(n_jobs=-1)]: Done 672 out of 672 | elapsed:  5.7min finished\n"
     ]
    },
    {
     "data": {
      "text/plain": [
       "GridSearchCV(cv=<generator object PredefinedSplit.split at 0x0000019A23115410>,\n",
       "       error_score='raise-deprecating',\n",
       "       estimator=RandomForestClassifier(bootstrap=True, class_weight=None, criterion='gini',\n",
       "            max_depth=None, max_features='auto', max_leaf_nodes=None,\n",
       "            min_impurity_decrease=0.0, min_impurity_split=None,\n",
       "            min_samples_leaf=1, min_samples_split=2,\n",
       "            min_weight_fraction_leaf=0.0, n_estimators='warn', n_jobs=None,\n",
       "            oob_score=False, random_state=100, verbose=0, warm_start=False),\n",
       "       fit_params=None, iid='warn', n_jobs=-1,\n",
       "       param_grid={'max_depth': [2, 10, 80, 100, 150, 200, None], 'criterion': ['gini'], 'max_features': [2, 3, 4, 'sqrt'], 'min_samples_leaf': [1, 2], 'min_samples_split': [2, 4], 'n_estimators': [100, 200, 500, 1000, 1500, 2000]},\n",
       "       pre_dispatch='2*n_jobs', refit=True, return_train_score='warn',\n",
       "       scoring=None, verbose=2)"
      ]
     },
     "execution_count": 93,
     "metadata": {},
     "output_type": "execute_result"
    }
   ],
   "source": [
    "# Fit the grid search to the data\n",
    "grid_search.fit(Xftrain, yftrain)"
   ]
  },
  {
   "cell_type": "code",
   "execution_count": 94,
   "metadata": {},
   "outputs": [
    {
     "data": {
      "text/plain": [
       "{'criterion': 'gini',\n",
       " 'max_depth': 80,\n",
       " 'max_features': 2,\n",
       " 'min_samples_leaf': 1,\n",
       " 'min_samples_split': 2,\n",
       " 'n_estimators': 200}"
      ]
     },
     "execution_count": 94,
     "metadata": {},
     "output_type": "execute_result"
    }
   ],
   "source": [
    "grid_search.best_params_"
   ]
  },
  {
   "cell_type": "code",
   "execution_count": 95,
   "metadata": {},
   "outputs": [
    {
     "name": "stdout",
     "output_type": "stream",
     "text": [
      "Model Performance best searched grid checked against test\n",
      "['True Positive ', 13, 'False Positive', 12, 'True Negative ', 399, 'False Positive', 25]\n",
      "Precision = 52.00%.\n",
      "Recall = 34.21%.\n",
      "F1 = 41.27%.\n",
      "Accuracy = 91.76%.\n"
     ]
    }
   ],
   "source": [
    "best_grid = grid_search.best_estimator_\n",
    "grid_precision = evaluate(best_grid, Xtest, ytest,'best searched grid checked against test')"
   ]
  },
  {
   "cell_type": "code",
   "execution_count": 96,
   "metadata": {},
   "outputs": [
    {
     "name": "stdout",
     "output_type": "stream",
     "text": [
      "Precision Improvement of 45.60%.\n"
     ]
    }
   ],
   "source": [
    "print('Precision Improvement of {:0.2f}%.'.format( 100 * (grid_precision - base_precision) / base_precision))"
   ]
  },
  {
   "cell_type": "code",
   "execution_count": 97,
   "metadata": {},
   "outputs": [
    {
     "name": "stdout",
     "output_type": "stream",
     "text": [
      "0.771193494685619 0.7765398898706619 0.7631258803944166\n"
     ]
    },
    {
     "data": {
      "image/png": "[encoded data removed]",
      "text/plain": [
       "<Figure size 576x576 with 1 Axes>"
      ]
     },
     "metadata": {},
     "output_type": "display_data"
    }
   ],
   "source": [
    "from sklearn.metrics import roc_curve, auc\n",
    "pred1 = best_grid.predict_proba(Xtest)\n",
    "fpr1, tpr1, thresholds = roc_curve(ytest.values, pred1[:,1],pos_label='1')\n",
    "\n",
    "pred2 = best_random.predict_proba(Xtest)\n",
    "fpr2, tpr2, thresholds = roc_curve(ytest.values, pred2[:,1],pos_label='1')\n",
    "\n",
    "pred3 = base_model.predict_proba(Xtest)\n",
    "fpr3, tpr3, thresholds = roc_curve(ytest.values, pred3[:,1],pos_label='1')\n",
    "\n",
    "import matplotlib.pyplot as plt\n",
    "roc_auc1 = auc(fpr1, tpr1)\n",
    "roc_auc2 = auc(fpr2, tpr2)\n",
    "roc_auc3 = auc(fpr3, tpr3)\n",
    "\n",
    "\n",
    "x=np.linspace(0,1)\n",
    "y=x\n",
    "\n",
    "print(roc_auc1,roc_auc2,roc_auc3)\n",
    "fig, ax = plt.subplots(figsize=(8, 8))\n",
    "\n",
    "\n",
    "plt.title(\"ROC curve - model comparison\",fontsize='xx-large')\n",
    "plt.xlabel(\"FPR\",fontsize='x-large')\n",
    "plt.ylabel(\"TPR\",rotation=0,fontsize='x-large')\n",
    "plt.plot(x,y,linestyle='--')\n",
    "plt.plot(fpr2, tpr2, lw=1, label='Random Forest Best Random (AUC = %0.3f)' %roc_auc2)\n",
    "plt.plot(fpr1, tpr1, lw=1, label='Random Forest Best searched Grid (AUC = %0.3f)' %roc_auc1)\n",
    "plt.plot(fpr3, tpr3, lw=2, label='Random Forest base model (AUC = %0.3f)' %roc_auc3)\n",
    "plt.legend(loc='best',fontsize='large',framealpha=1,fancybox=True,edgecolor='Black',facecolor='White')\n",
    "plt.show()"
   ]
  },
  {
   "cell_type": "code",
   "execution_count": null,
   "metadata": {},
   "outputs": [],
   "source": []
  }
 ],
 "metadata": {
  "kernelspec": {
   "display_name": "Python 3",
   "language": "python",
   "name": "python3"
  },
  "language_info": {
   "codemirror_mode": {
    "name": "ipython",
    "version": 3
   },
   "file_extension": ".py",
   "mimetype": "text/x-python",
   "name": "python",
   "nbconvert_exporter": "python",
   "pygments_lexer": "ipython3",
   "version": "3.6.8"
  }
 },
 "nbformat": 4,
 "nbformat_minor": 2
}
