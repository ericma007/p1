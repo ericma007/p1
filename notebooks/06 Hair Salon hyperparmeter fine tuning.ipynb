{
 "cells": [
  {
   "cell_type": "code",
   "execution_count": 1,
   "metadata": {},
   "outputs": [],
   "source": [
    "import numpy as np\n",
    "import pandas as pd\n",
    "import matplotlib.pyplot as plt\n",
    "import seaborn as sns\n",
    "import sqlite3 as sql3\n",
    "import random\n",
    "\n",
    "random.seed(1000)\n",
    "np.random.seed(1000)\n",
    "\n",
    "sns.set(style=\"darkgrid\")\n",
    "ROOT_PATH=\"C:/Users/moshe/Documents/projectML/p1\"\n",
    "DATA_PATH = \"%s/data/raw\" % ROOT_PATH\n",
    "DB_FILE = \"%s/hairsalon.db\" % DATA_PATH\n",
    "def readSQL(query):\n",
    "    import pandas as pd\n",
    "    import sqlite3 as sql3\n",
    "    db = sql3.connect(DB_FILE)\n",
    "    df = pd.read_sql_query(query, db)\n",
    "    db.close()\n",
    "    return(df)\n",
    "\n",
    "db=sql3.connect(DB_FILE)"
   ]
  },
  {
   "cell_type": "code",
   "execution_count": 2,
   "metadata": {},
   "outputs": [
    {
     "name": "stdout",
     "output_type": "stream",
     "text": [
      "[1814, 336, 2150]\n"
     ]
    }
   ],
   "source": [
    "def readXy(query):\n",
    "    df=readSQL(query)\n",
    "    for c in df.columns:\n",
    "        if df[c].nunique() < 14:\n",
    "            df[c] = df[c].astype('category')\n",
    "    df=df.reindex(np.random.permutation(df.index)).reset_index(drop=True)\n",
    "    X=df.loc[:,df.columns[1:]]\n",
    "    y=df['noshowflag']\n",
    "    return X,y\n",
    "\n",
    "query=\"\"\"select * from rtest\"\"\"\n",
    "Xtest,ytest=readXy(query)\n",
    "query=\"\"\"select * from rtrain\"\"\"\n",
    "Xtrain,ytrain=readXy(query)\n",
    "query=\"\"\"select * from rdev\"\"\"\n",
    "Xdev,ydev=readXy(query)\n",
    "Xftrain=pd.concat([Xtrain,Xdev])\n",
    "yftrain=pd.concat([ytrain,ydev])\n",
    "print([len(Xtrain),len(Xdev),len(Xftrain)])\n",
    "Xftrain=Xftrain.reset_index(drop=True)\n",
    "yftrain=yftrain.reset_index(drop=True)\n",
    "test_fold1=np.full(len(Xtrain),-1)\n",
    "test_fold2=np.full(len(Xdev),0)\n",
    "test_fold=np.append(test_fold1,test_fold2)"
   ]
  },
  {
   "cell_type": "code",
   "execution_count": 3,
   "metadata": {},
   "outputs": [
    {
     "data": {
      "text/plain": [
       "1"
      ]
     },
     "execution_count": 3,
     "metadata": {},
     "output_type": "execute_result"
    }
   ],
   "source": [
    "from sklearn.model_selection import PredefinedSplit\n",
    "ps = PredefinedSplit(test_fold)\n",
    "ps.get_n_splits()\n"
   ]
  },
  {
   "cell_type": "code",
   "execution_count": 90,
   "metadata": {},
   "outputs": [
    {
     "name": "stdout",
     "output_type": "stream",
     "text": [
      "{'n_estimators': [50, 150, 250, 350, 450, 550, 650, 750, 850, 950], 'max_features': [3, 'sqrt'], 'max_depth': [2, 3, 4, 5, 8, 10], 'min_samples_split': [2, 5, 8], 'min_samples_leaf': [1, 2, 5], 'criterion': ['mse', 'mae'], 'learning_rate': [0.05, 0.1, 0.15, 0.2, 0.3, 0.5, 1], 'n_iter_no_change': [3, 5], 'tol': [0.0001]}\n"
     ]
    }
   ],
   "source": [
    "# Number of boosting rounds\n",
    "n_estimators = [int(x) for x in np.linspace(start = 50, stop = 950, num = 10)]\n",
    "# Number of features to consider at every split\n",
    "max_features = [3,'sqrt']\n",
    "# Maximum number of levels in tree\n",
    "max_depth = [2,3,4,5,8,10]\n",
    "# Minimum number of samples required to split a node\n",
    "min_samples_split = [2,5,8]\n",
    "# Minimum number of samples required at each leaf node\n",
    "min_samples_leaf = [1,2,5]\n",
    "#Criterion\n",
    "#criterion=['friedman_mse','mse','mae']\n",
    "criterion=['mse','mae']\n",
    "#learning rate\n",
    "learning_rate=[0.05,0.1,0.15,0.2,0.3,0.5,1]\n",
    "#n_iter_nochange\n",
    "n_iter_no_change=[3,5]\n",
    "#tol\n",
    "tol=[1e-4]\n",
    "#validation\n",
    "\n",
    "\n",
    "\n",
    "# Create the random grid\n",
    "random_grid = {'n_estimators': n_estimators,\n",
    "               'max_features': max_features,\n",
    "               'max_depth': max_depth,\n",
    "               'min_samples_split': min_samples_split,\n",
    "               'min_samples_leaf': min_samples_leaf,\n",
    "               'criterion': criterion,\n",
    "               'learning_rate':learning_rate,\n",
    "               'n_iter_no_change':n_iter_no_change,\n",
    "               'tol':tol\n",
    "              }\n",
    "\n",
    "print(random_grid)"
   ]
  },
  {
   "cell_type": "code",
   "execution_count": 91,
   "metadata": {},
   "outputs": [
    {
     "name": "stdout",
     "output_type": "stream",
     "text": [
      "Fitting 1 folds for each of 500 candidates, totalling 500 fits\n"
     ]
    },
    {
     "name": "stderr",
     "output_type": "stream",
     "text": [
      "[Parallel(n_jobs=-1)]: Using backend LokyBackend with 8 concurrent workers.\n",
      "[Parallel(n_jobs=-1)]: Done  25 tasks      | elapsed:   16.3s\n",
      "[Parallel(n_jobs=-1)]: Done 146 tasks      | elapsed:  1.5min\n",
      "[Parallel(n_jobs=-1)]: Done 349 tasks      | elapsed:  6.8min\n",
      "[Parallel(n_jobs=-1)]: Done 500 out of 500 | elapsed:  8.4min finished\n"
     ]
    },
    {
     "data": {
      "text/plain": [
       "RandomizedSearchCV(cv=<generator object PredefinedSplit.split at 0x00000218FF60DA98>,\n",
       "          error_score='raise-deprecating',\n",
       "          estimator=GradientBoostingClassifier(criterion='friedman_mse', init=None,\n",
       "              learning_rate=0.1, loss='deviance', max_depth=3,\n",
       "              max_features=None, max_leaf_nodes=None,\n",
       "              min_impurity_decrease=0.0, min_impurity_split=None,\n",
       "              min_samples_leaf=1, min_sampl...      subsample=1.0, tol=0.0001, validation_fraction=0.1,\n",
       "              verbose=0, warm_start=False),\n",
       "          fit_params=None, iid='warn', n_iter=500, n_jobs=-1,\n",
       "          param_distributions={'n_estimators': [50, 150, 250, 350, 450, 550, 650, 750, 850, 950], 'max_features': [3, 'sqrt'], 'max_depth': [2, 3, 4, 5, 8, 10], 'min_samples_split': [2, 5, 8], 'min_samples_leaf': [1, 2, 5], 'criterion': ['mse', 'mae'], 'learning_rate': [0.05, 0.1, 0.15, 0.2, 0.3, 0.5, 1], 'n_iter_no_change': [3, 5], 'tol': [0.0001]},\n",
       "          pre_dispatch='2*n_jobs', random_state=100, refit=True,\n",
       "          return_train_score='warn', scoring=None, verbose=2)"
      ]
     },
     "execution_count": 91,
     "metadata": {},
     "output_type": "execute_result"
    }
   ],
   "source": [
    "from sklearn.ensemble import GradientBoostingClassifier\n",
    "from sklearn.model_selection import RandomizedSearchCV\n",
    "gb = GradientBoostingClassifier(random_state=100)\n",
    "\n",
    "gb_random = RandomizedSearchCV(estimator = gb, param_distributions = random_grid, n_iter = 500, cv = ps.split(Xftrain,yftrain),verbose=2, random_state=100, n_jobs = -1)\n",
    "# Fit the random search model\n",
    "gb_random.fit(Xftrain, yftrain)"
   ]
  },
  {
   "cell_type": "code",
   "execution_count": 92,
   "metadata": {},
   "outputs": [
    {
     "data": {
      "text/plain": [
       "{'tol': 0.0001,\n",
       " 'n_iter_no_change': 5,\n",
       " 'n_estimators': 250,\n",
       " 'min_samples_split': 2,\n",
       " 'min_samples_leaf': 1,\n",
       " 'max_features': 3,\n",
       " 'max_depth': 8,\n",
       " 'learning_rate': 0.05,\n",
       " 'criterion': 'mae'}"
      ]
     },
     "execution_count": 92,
     "metadata": {},
     "output_type": "execute_result"
    }
   ],
   "source": [
    "gb_random.best_params_"
   ]
  },
  {
   "cell_type": "code",
   "execution_count": 93,
   "metadata": {},
   "outputs": [],
   "source": [
    "def evaluate(model, test_features, test_labels,text1):\n",
    "    accuracy2=100*model.score(test_features,test_labels)\n",
    "    predictions = model.predict(test_features)\n",
    "    array1=[1]*len(test_features)\n",
    "    errors = abs(predictions.astype(int) - test_labels.astype(int).values)\n",
    "    TP=sum(np.logical_and(predictions.astype(int)==1,errors==0))\n",
    "    TN=sum(np.logical_and(predictions.astype(int)==0,errors==0))\n",
    "    FP=sum(np.logical_and(predictions.astype(int)==1,errors==1))\n",
    "    FN=sum(np.logical_and(predictions.astype(int)==0,errors==1))\n",
    "    \n",
    "    \n",
    "    \n",
    "    Precision=100*(TP)/(TP+FP)\n",
    "    Recall=100*(TP/(TP+FN))\n",
    "    accuracy=100*(TP+TN)/(TP+FP+FN+TN)\n",
    "    F1=(2*Recall*Precision)/(Recall+Precision)\n",
    "    print('Model Performance '+text1)\n",
    "    print(['True Positive ',TP,'False Positive',FP,'True Negative ',TN,'False Negative',FN])\n",
    "    print('Precision = {:0.2f}%.'.format(Precision))\n",
    "    print('Recall = {:0.2f}%.'.format(Recall))\n",
    "    print('F1 = {:0.2f}%.'.format(F1))\n",
    "    print('Accuracy = {:0.2f}%.'.format(accuracy))\n",
    "    return Precision"
   ]
  },
  {
   "cell_type": "markdown",
   "metadata": {},
   "source": [
    "#### Run base model"
   ]
  },
  {
   "cell_type": "code",
   "execution_count": 94,
   "metadata": {},
   "outputs": [
    {
     "name": "stdout",
     "output_type": "stream",
     "text": [
      "Model Performance base model checked against train\n",
      "['True Positive ', 905, 'False Positive', 16, 'True Negative ', 867, 'False Negative', 26]\n",
      "Precision = 98.26%.\n",
      "Recall = 97.21%.\n",
      "F1 = 97.73%.\n",
      "Accuracy = 97.68%.\n",
      "Model Performance base model checked against dev\n",
      "['True Positive ', 11, 'False Positive', 30, 'True Negative ', 286, 'False Negative', 9]\n",
      "Precision = 26.83%.\n",
      "Recall = 55.00%.\n",
      "F1 = 36.07%.\n",
      "Accuracy = 88.39%.\n"
     ]
    }
   ],
   "source": [
    "base_model = GradientBoostingClassifier(random_state=1000,max_depth=5)\n",
    "base_model.fit(Xtrain, ytrain)\n",
    "x=evaluate(base_model, Xtrain, ytrain,'base model checked against train')\n",
    "x=evaluate(base_model, Xdev, ydev,'base model checked against dev')"
   ]
  },
  {
   "cell_type": "code",
   "execution_count": 95,
   "metadata": {},
   "outputs": [
    {
     "name": "stdout",
     "output_type": "stream",
     "text": [
      "Model Performance base model checked against test\n",
      "['True Positive ', 14, 'False Positive', 26, 'True Negative ', 385, 'False Negative', 24]\n",
      "Precision = 35.00%.\n",
      "Recall = 36.84%.\n",
      "F1 = 35.90%.\n",
      "Accuracy = 88.86%.\n"
     ]
    }
   ],
   "source": [
    "base_precision = evaluate(base_model, Xtest, ytest,'base model checked against test')"
   ]
  },
  {
   "cell_type": "markdown",
   "metadata": {},
   "source": [
    "#### Compare fine-tunned model\n"
   ]
  },
  {
   "cell_type": "code",
   "execution_count": 96,
   "metadata": {},
   "outputs": [
    {
     "name": "stdout",
     "output_type": "stream",
     "text": [
      "Model Performance best random checked against train\n",
      "['True Positive ', 881, 'False Positive', 13, 'True Negative ', 870, 'False Negative', 50]\n",
      "Precision = 98.55%.\n",
      "Recall = 94.63%.\n",
      "F1 = 96.55%.\n",
      "Accuracy = 96.53%.\n",
      "Model Performance best random checked against dev\n",
      "['True Positive ', 14, 'False Positive', 1, 'True Negative ', 315, 'False Negative', 6]\n",
      "Precision = 93.33%.\n",
      "Recall = 70.00%.\n",
      "F1 = 80.00%.\n",
      "Accuracy = 97.92%.\n",
      "Model Performance best random checked against test\n",
      "['True Positive ', 12, 'False Positive', 6, 'True Negative ', 405, 'False Negative', 26]\n",
      "Precision = 66.67%.\n",
      "Recall = 31.58%.\n",
      "F1 = 42.86%.\n",
      "Accuracy = 92.87%.\n"
     ]
    }
   ],
   "source": [
    "best_random = gb_random.best_estimator_\n",
    "random_precisiontrain = evaluate(best_random, Xtrain, ytrain,'best random checked against train')\n",
    "random_precisiondev = evaluate(best_random, Xdev, ydev,'best random checked against dev')\n",
    "random_precision = evaluate(best_random, Xtest, ytest,'best random checked against test')"
   ]
  },
  {
   "cell_type": "code",
   "execution_count": 82,
   "metadata": {},
   "outputs": [
    {
     "name": "stdout",
     "output_type": "stream",
     "text": [
      "Precision Improvement of 68.07%.\n"
     ]
    }
   ],
   "source": [
    "print('Precision Improvement of {:0.2f}%.'.format( 100 * (random_precision - base_precision) / base_precision))"
   ]
  },
  {
   "cell_type": "markdown",
   "metadata": {},
   "source": [
    "Grid search: we decide which parameters and how (not randomly)"
   ]
  },
  {
   "cell_type": "code",
   "execution_count": 12,
   "metadata": {},
   "outputs": [
    {
     "name": "stdout",
     "output_type": "stream",
     "text": [
      "{'n_estimators': [100, 300, 500, 700, 900, 1100], 'max_features': [3, 'sqrt'], 'max_depth': [3, 5, 10, 12], 'min_samples_split': [2, 5], 'min_samples_leaf': [1, 2], 'criterion': ['friedman_mse', 'mse'], 'learning_rate': [0.05, 0.1, 0.15, 0.25, 0.5], 'warm_start': [True]}\n"
     ]
    }
   ],
   "source": [
    "from sklearn.model_selection import GridSearchCV\n",
    "# Create the parameter grid \n",
    "# Number of boosting rounds\n",
    "n_estimators = [100,300,500,700,900,1100]\n",
    "# Number of features to consider at every split\n",
    "max_features = [3,'sqrt']\n",
    "# Maximum number of levels in tree\n",
    "max_depth = [3,5,10,12]\n",
    "# Minimum number of samples required to split a node\n",
    "min_samples_split = [2,5]\n",
    "# Minimum number of samples required at each leaf node\n",
    "min_samples_leaf = [1,2]\n",
    "#Criterion\n",
    "criterion=['friedman_mse','mse']\n",
    "#learning rate\n",
    "learning_rate=[0.05,0.1,0.15,0.25,0.5]\n",
    "#warm_start\n",
    "warm_start=[True]\n",
    "\n",
    "# Create the random grid\n",
    "param_grid = {'n_estimators': n_estimators,\n",
    "               'max_features': max_features,\n",
    "               'max_depth': max_depth,\n",
    "               'min_samples_split': min_samples_split,\n",
    "               'min_samples_leaf': min_samples_leaf,\n",
    "               'criterion': criterion,\n",
    "               'learning_rate':learning_rate,\n",
    "              'warm_start':warm_start\n",
    "              }\n",
    "\n",
    "print(param_grid)\n",
    "# Create a based model\n",
    "gb = GradientBoostingClassifier(random_state=100)\n",
    "# Instantiate the grid search model\n",
    "\n",
    "grid_search = GridSearchCV(estimator = gb, param_grid = param_grid, cv = ps.split(Xftrain,yftrain), n_jobs = -1, verbose = 2)"
   ]
  },
  {
   "cell_type": "code",
   "execution_count": 13,
   "metadata": {},
   "outputs": [
    {
     "name": "stdout",
     "output_type": "stream",
     "text": [
      "Fitting 1 folds for each of 1920 candidates, totalling 1920 fits\n"
     ]
    },
    {
     "name": "stderr",
     "output_type": "stream",
     "text": [
      "[Parallel(n_jobs=-1)]: Using backend LokyBackend with 8 concurrent workers.\n",
      "[Parallel(n_jobs=-1)]: Done  25 tasks      | elapsed:    5.4s\n",
      "[Parallel(n_jobs=-1)]: Done 146 tasks      | elapsed:  1.5min\n",
      "[Parallel(n_jobs=-1)]: Done 349 tasks      | elapsed:  4.0min\n",
      "[Parallel(n_jobs=-1)]: Done 632 tasks      | elapsed:  6.1min\n",
      "[Parallel(n_jobs=-1)]: Done 997 tasks      | elapsed:  8.0min\n",
      "[Parallel(n_jobs=-1)]: Done 1442 tasks      | elapsed: 12.9min\n",
      "[Parallel(n_jobs=-1)]: Done 1920 out of 1920 | elapsed: 15.8min finished\n"
     ]
    },
    {
     "data": {
      "text/plain": [
       "GridSearchCV(cv=<generator object PredefinedSplit.split at 0x00000218FE258BA0>,\n",
       "       error_score='raise-deprecating',\n",
       "       estimator=GradientBoostingClassifier(criterion='friedman_mse', init=None,\n",
       "              learning_rate=0.1, loss='deviance', max_depth=3,\n",
       "              max_features=None, max_leaf_nodes=None,\n",
       "              min_impurity_decrease=0.0, min_impurity_split=None,\n",
       "              min_samples_leaf=1, min_sampl...      subsample=1.0, tol=0.0001, validation_fraction=0.1,\n",
       "              verbose=0, warm_start=False),\n",
       "       fit_params=None, iid='warn', n_jobs=-1,\n",
       "       param_grid={'n_estimators': [100, 300, 500, 700, 900, 1100], 'max_features': [3, 'sqrt'], 'max_depth': [3, 5, 10, 12], 'min_samples_split': [2, 5], 'min_samples_leaf': [1, 2], 'criterion': ['friedman_mse', 'mse'], 'learning_rate': [0.05, 0.1, 0.15, 0.25, 0.5], 'warm_start': [True]},\n",
       "       pre_dispatch='2*n_jobs', refit=True, return_train_score='warn',\n",
       "       scoring=None, verbose=2)"
      ]
     },
     "execution_count": 13,
     "metadata": {},
     "output_type": "execute_result"
    }
   ],
   "source": [
    "# Fit the grid search to the data\n",
    "grid_search.fit(Xftrain, yftrain)"
   ]
  },
  {
   "cell_type": "code",
   "execution_count": 14,
   "metadata": {},
   "outputs": [
    {
     "data": {
      "text/plain": [
       "{'criterion': 'mse',\n",
       " 'learning_rate': 0.15,\n",
       " 'max_depth': 12,\n",
       " 'max_features': 'sqrt',\n",
       " 'min_samples_leaf': 1,\n",
       " 'min_samples_split': 2,\n",
       " 'n_estimators': 300,\n",
       " 'warm_start': True}"
      ]
     },
     "execution_count": 14,
     "metadata": {},
     "output_type": "execute_result"
    }
   ],
   "source": [
    "grid_search.best_params_"
   ]
  },
  {
   "cell_type": "code",
   "execution_count": 15,
   "metadata": {},
   "outputs": [
    {
     "name": "stdout",
     "output_type": "stream",
     "text": [
      "Model Performance best searched grid checked against train\n",
      "['True Positive ', 931, 'False Positive', 0, 'True Negative ', 883, 'False Negative', 0]\n",
      "Precision = 100.00%.\n",
      "Recall = 100.00%.\n",
      "F1 = 100.00%.\n",
      "Accuracy = 100.00%.\n",
      "Model Performance best searched grid checked against dev\n",
      "['True Positive ', 17, 'False Positive', 0, 'True Negative ', 316, 'False Negative', 3]\n",
      "Precision = 100.00%.\n",
      "Recall = 85.00%.\n",
      "F1 = 91.89%.\n",
      "Accuracy = 99.11%.\n",
      "Model Performance best searched grid checked against test\n",
      "['True Positive ', 8, 'False Positive', 6, 'True Negative ', 405, 'False Negative', 30]\n",
      "Precision = 57.14%.\n",
      "Recall = 21.05%.\n",
      "F1 = 30.77%.\n",
      "Accuracy = 91.98%.\n"
     ]
    }
   ],
   "source": [
    "best_grid = grid_search.best_estimator_\n",
    "grid_precisiontrain = evaluate(best_grid, Xtrain, ytrain,'best searched grid checked against train')\n",
    "grid_precisiondev = evaluate(best_grid, Xdev, ydev,'best searched grid checked against dev')\n",
    "grid_precision = evaluate(best_grid, Xtest, ytest,'best searched grid checked against test')"
   ]
  },
  {
   "cell_type": "code",
   "execution_count": 16,
   "metadata": {},
   "outputs": [
    {
     "name": "stdout",
     "output_type": "stream",
     "text": [
      "Precision Improvement of 63.27%.\n"
     ]
    }
   ],
   "source": [
    "print('Precision Improvement of {:0.2f}%.'.format( 100 * (grid_precision - base_precision) / base_precision))"
   ]
  },
  {
   "cell_type": "code",
   "execution_count": 17,
   "metadata": {},
   "outputs": [
    {
     "name": "stdout",
     "output_type": "stream",
     "text": [
      "0.7765719042130874 0.6921820975797157 0.7689524907158406\n"
     ]
    },
    {
     "data": {
      "image/png": "[encoded data removed]",
      "text/plain": [
       "<Figure size 576x576 with 1 Axes>"
      ]
     },
     "metadata": {
      "needs_background": "light"
     },
     "output_type": "display_data"
    }
   ],
   "source": [
    "from sklearn.metrics import roc_curve, auc\n",
    "pred1 = best_grid.predict_proba(Xtest)\n",
    "fpr1, tpr1, thresholds = roc_curve(ytest.values, pred1[:,1],pos_label='1')\n",
    "\n",
    "pred2 = best_random.predict_proba(Xtest)\n",
    "fpr2, tpr2, thresholds = roc_curve(ytest.values, pred2[:,1],pos_label='1')\n",
    "\n",
    "pred3 = base_model.predict_proba(Xtest)\n",
    "fpr3, tpr3, thresholds = roc_curve(ytest.values, pred3[:,1],pos_label='1')\n",
    "\n",
    "import matplotlib.pyplot as plt\n",
    "roc_auc1 = auc(fpr1, tpr1)\n",
    "roc_auc2 = auc(fpr2, tpr2)\n",
    "roc_auc3 = auc(fpr3, tpr3)\n",
    "\n",
    "\n",
    "x=np.linspace(0,1)\n",
    "y=x\n",
    "\n",
    "print(roc_auc1,roc_auc2,roc_auc3)\n",
    "fig, ax = plt.subplots(figsize=(8, 8))\n",
    "\n",
    "\n",
    "plt.title(\"ROC curve - model comparison\",fontsize='xx-large')\n",
    "plt.xlabel(\"FPR\",fontsize='x-large')\n",
    "plt.ylabel(\"TPR\",rotation=0,fontsize='x-large')\n",
    "plt.plot(x,y,linestyle='--')\n",
    "plt.plot(fpr1, tpr1, lw=3, label='Gradient boosting best search grid (AUC = %0.3f)' %roc_auc1)\n",
    "plt.plot(fpr3, tpr3, lw=1, label='Gradient Boosting base model (AUC = %0.3f)' %roc_auc3)\n",
    "plt.plot(fpr2, tpr2, lw=1, label='Gradient boosting best random grid(AUC = %0.3f)' %roc_auc2)\n",
    "plt.legend(loc='best',fontsize='large',framealpha=1,fancybox=True,edgecolor='Black',facecolor='White')\n",
    "plt.show()"
   ]
  }
 ],
 "metadata": {
  "kernelspec": {
   "display_name": "Python 3",
   "language": "python",
   "name": "python3"
  },
  "language_info": {
   "codemirror_mode": {
    "name": "ipython",
    "version": 3
   },
   "file_extension": ".py",
   "mimetype": "text/x-python",
   "name": "python",
   "nbconvert_exporter": "python",
   "pygments_lexer": "ipython3",
   "version": "3.6.8"
  }
 },
 "nbformat": 4,
 "nbformat_minor": 2
}
