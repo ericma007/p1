{
 "cells": [
  {
   "cell_type": "code",
   "execution_count": 1,
   "metadata": {},
   "outputs": [],
   "source": [
    "import numpy as np\n",
    "import pandas as pd\n",
    "import matplotlib.pyplot as plt\n",
    "import seaborn as sns\n"
   ]
  },
  {
   "cell_type": "code",
   "execution_count": null,
   "metadata": {},
   "outputs": [],
   "source": []
  },
  {
   "cell_type": "markdown",
   "metadata": {},
   "source": [
    "# The following function calculates the Hamming score that calculates the multilabel accuracy. \n",
    "## In most sklearn models, it will be the same as the accuracy calculated with the \"model.score()\" function!"
   ]
  },
  {
   "cell_type": "code",
   "execution_count": 115,
   "metadata": {},
   "outputs": [],
   "source": [
    "def hamming_score(y_true, y_pred, normalize=True, sample_weight=None):\n",
    "    '''\n",
    "    Compute the Hamming score (a.k.a. label-based accuracy) for the multi-label case\n",
    "    https://stackoverflow.com/q/32239577/395857\n",
    "    '''\n",
    "    acc_list = []\n",
    "    for i in range(y_true.shape[0]):\n",
    "        set_true = set( np.where(y_true[i])[0] )\n",
    "        set_pred = set( np.where(y_pred[i])[0] )\n",
    "        #print('\\nset_true: {0}'.format(set_true))\n",
    "        #print('set_pred: {0}'.format(set_pred))\n",
    "        tmp_a = None\n",
    "        if len(set_true) == 0 and len(set_pred) == 0:\n",
    "            tmp_a = 1\n",
    "        else:\n",
    "            tmp_a = len(set_true.intersection(set_pred))/\\\n",
    "                    float( len(set_true.union(set_pred)) )\n",
    "        #print('tmp_a: {0}'.format(tmp_a))\n",
    "        acc_list.append(tmp_a)\n",
    "    return np.mean(acc_list)\n",
    "\n"
   ]
  },
  {
   "cell_type": "code",
   "execution_count": null,
   "metadata": {},
   "outputs": [],
   "source": []
  },
  {
   "cell_type": "code",
   "execution_count": 2,
   "metadata": {},
   "outputs": [],
   "source": [
    "X_dev = pd.read_csv(\"X_dev.csv\")"
   ]
  },
  {
   "cell_type": "code",
   "execution_count": 3,
   "metadata": {},
   "outputs": [],
   "source": [
    "y_dev = pd.read_csv(\"y_dev.csv\")"
   ]
  },
  {
   "cell_type": "code",
   "execution_count": 4,
   "metadata": {},
   "outputs": [],
   "source": [
    "#X_test = pd.read_csv(r\"F:\\project\\X_test.csv\")"
   ]
  },
  {
   "cell_type": "code",
   "execution_count": 5,
   "metadata": {},
   "outputs": [],
   "source": [
    "#y_test = pd.read_csv(r\"F:\\project\\y_test.csv\")"
   ]
  },
  {
   "cell_type": "code",
   "execution_count": 6,
   "metadata": {},
   "outputs": [],
   "source": [
    "#X_train = pd.read_csv(r\"F:\\project\\X_train.csv\")"
   ]
  },
  {
   "cell_type": "code",
   "execution_count": 7,
   "metadata": {},
   "outputs": [],
   "source": [
    "#y_train = pd.read_csv(r\"F:\\project\\y_train.csv\")"
   ]
  },
  {
   "cell_type": "code",
   "execution_count": 4,
   "metadata": {},
   "outputs": [
    {
     "data": {
      "text/plain": [
       "Unnamed: 0                     int64\n",
       "reordered                      int64\n",
       "product_popularity_cnt       float64\n",
       "department_popularity_cnt    float64\n",
       "IsOrganic                       bool\n",
       "order_HourGroup               object\n",
       "days_previous_Group            int64\n",
       "Percentage_amount_product    float64\n",
       "dtype: object"
      ]
     },
     "execution_count": 4,
     "metadata": {},
     "output_type": "execute_result"
    }
   ],
   "source": [
    "X_dev.dtypes"
   ]
  },
  {
   "cell_type": "code",
   "execution_count": 5,
   "metadata": {},
   "outputs": [
    {
     "data": {
      "text/html": [
       "<div>\n",
       "<style scoped>\n",
       "    .dataframe tbody tr th:only-of-type {\n",
       "        vertical-align: middle;\n",
       "    }\n",
       "\n",
       "    .dataframe tbody tr th {\n",
       "        vertical-align: top;\n",
       "    }\n",
       "\n",
       "    .dataframe thead th {\n",
       "        text-align: right;\n",
       "    }\n",
       "</style>\n",
       "<table border=\"1\" class=\"dataframe\">\n",
       "  <thead>\n",
       "    <tr style=\"text-align: right;\">\n",
       "      <th></th>\n",
       "      <th>Unnamed: 0</th>\n",
       "      <th>4605</th>\n",
       "      <th>4920</th>\n",
       "      <th>5876</th>\n",
       "      <th>8277</th>\n",
       "      <th>13176</th>\n",
       "      <th>16797</th>\n",
       "      <th>19057</th>\n",
       "      <th>21137</th>\n",
       "      <th>21616</th>\n",
       "      <th>...</th>\n",
       "      <th>40706</th>\n",
       "      <th>42265</th>\n",
       "      <th>44632</th>\n",
       "      <th>45007</th>\n",
       "      <th>45066</th>\n",
       "      <th>47209</th>\n",
       "      <th>47626</th>\n",
       "      <th>47766</th>\n",
       "      <th>49235</th>\n",
       "      <th>49683</th>\n",
       "    </tr>\n",
       "  </thead>\n",
       "  <tbody>\n",
       "    <tr>\n",
       "      <th>0</th>\n",
       "      <td>1612274</td>\n",
       "      <td>0</td>\n",
       "      <td>0</td>\n",
       "      <td>0</td>\n",
       "      <td>0</td>\n",
       "      <td>0</td>\n",
       "      <td>0</td>\n",
       "      <td>0</td>\n",
       "      <td>0</td>\n",
       "      <td>0</td>\n",
       "      <td>...</td>\n",
       "      <td>0</td>\n",
       "      <td>0</td>\n",
       "      <td>0</td>\n",
       "      <td>0</td>\n",
       "      <td>0</td>\n",
       "      <td>0</td>\n",
       "      <td>0</td>\n",
       "      <td>0</td>\n",
       "      <td>0</td>\n",
       "      <td>0</td>\n",
       "    </tr>\n",
       "    <tr>\n",
       "      <th>1</th>\n",
       "      <td>404649</td>\n",
       "      <td>0</td>\n",
       "      <td>0</td>\n",
       "      <td>0</td>\n",
       "      <td>1</td>\n",
       "      <td>0</td>\n",
       "      <td>0</td>\n",
       "      <td>0</td>\n",
       "      <td>0</td>\n",
       "      <td>0</td>\n",
       "      <td>...</td>\n",
       "      <td>0</td>\n",
       "      <td>0</td>\n",
       "      <td>0</td>\n",
       "      <td>0</td>\n",
       "      <td>0</td>\n",
       "      <td>0</td>\n",
       "      <td>0</td>\n",
       "      <td>0</td>\n",
       "      <td>0</td>\n",
       "      <td>0</td>\n",
       "    </tr>\n",
       "    <tr>\n",
       "      <th>2</th>\n",
       "      <td>2553704</td>\n",
       "      <td>0</td>\n",
       "      <td>0</td>\n",
       "      <td>0</td>\n",
       "      <td>0</td>\n",
       "      <td>0</td>\n",
       "      <td>0</td>\n",
       "      <td>0</td>\n",
       "      <td>0</td>\n",
       "      <td>0</td>\n",
       "      <td>...</td>\n",
       "      <td>0</td>\n",
       "      <td>0</td>\n",
       "      <td>0</td>\n",
       "      <td>0</td>\n",
       "      <td>0</td>\n",
       "      <td>0</td>\n",
       "      <td>0</td>\n",
       "      <td>0</td>\n",
       "      <td>0</td>\n",
       "      <td>0</td>\n",
       "    </tr>\n",
       "    <tr>\n",
       "      <th>3</th>\n",
       "      <td>2288426</td>\n",
       "      <td>0</td>\n",
       "      <td>0</td>\n",
       "      <td>0</td>\n",
       "      <td>0</td>\n",
       "      <td>0</td>\n",
       "      <td>0</td>\n",
       "      <td>0</td>\n",
       "      <td>0</td>\n",
       "      <td>0</td>\n",
       "      <td>...</td>\n",
       "      <td>0</td>\n",
       "      <td>0</td>\n",
       "      <td>0</td>\n",
       "      <td>0</td>\n",
       "      <td>0</td>\n",
       "      <td>0</td>\n",
       "      <td>0</td>\n",
       "      <td>0</td>\n",
       "      <td>0</td>\n",
       "      <td>0</td>\n",
       "    </tr>\n",
       "    <tr>\n",
       "      <th>4</th>\n",
       "      <td>3099956</td>\n",
       "      <td>0</td>\n",
       "      <td>0</td>\n",
       "      <td>0</td>\n",
       "      <td>0</td>\n",
       "      <td>0</td>\n",
       "      <td>0</td>\n",
       "      <td>0</td>\n",
       "      <td>1</td>\n",
       "      <td>0</td>\n",
       "      <td>...</td>\n",
       "      <td>0</td>\n",
       "      <td>0</td>\n",
       "      <td>0</td>\n",
       "      <td>0</td>\n",
       "      <td>0</td>\n",
       "      <td>0</td>\n",
       "      <td>0</td>\n",
       "      <td>0</td>\n",
       "      <td>0</td>\n",
       "      <td>0</td>\n",
       "    </tr>\n",
       "  </tbody>\n",
       "</table>\n",
       "<p>5 rows × 31 columns</p>\n",
       "</div>"
      ],
      "text/plain": [
       "   Unnamed: 0  4605  4920  5876  8277  13176  16797  19057  21137  21616  \\\n",
       "0     1612274     0     0     0     0      0      0      0      0      0   \n",
       "1      404649     0     0     0     1      0      0      0      0      0   \n",
       "2     2553704     0     0     0     0      0      0      0      0      0   \n",
       "3     2288426     0     0     0     0      0      0      0      0      0   \n",
       "4     3099956     0     0     0     0      0      0      0      1      0   \n",
       "\n",
       "   ...    40706  42265  44632  45007  45066  47209  47626  47766  49235  49683  \n",
       "0  ...        0      0      0      0      0      0      0      0      0      0  \n",
       "1  ...        0      0      0      0      0      0      0      0      0      0  \n",
       "2  ...        0      0      0      0      0      0      0      0      0      0  \n",
       "3  ...        0      0      0      0      0      0      0      0      0      0  \n",
       "4  ...        0      0      0      0      0      0      0      0      0      0  \n",
       "\n",
       "[5 rows x 31 columns]"
      ]
     },
     "execution_count": 5,
     "metadata": {},
     "output_type": "execute_result"
    }
   ],
   "source": [
    "y_dev.head()"
   ]
  },
  {
   "cell_type": "code",
   "execution_count": 6,
   "metadata": {},
   "outputs": [
    {
     "data": {
      "text/plain": [
       "Unnamed: 0    int64\n",
       "4605          int64\n",
       "4920          int64\n",
       "5876          int64\n",
       "8277          int64\n",
       "13176         int64\n",
       "16797         int64\n",
       "19057         int64\n",
       "21137         int64\n",
       "21616         int64\n",
       "21903         int64\n",
       "22935         int64\n",
       "24852         int64\n",
       "24964         int64\n",
       "26209         int64\n",
       "27845         int64\n",
       "27966         int64\n",
       "28204         int64\n",
       "30391         int64\n",
       "37646         int64\n",
       "39275         int64\n",
       "40706         int64\n",
       "42265         int64\n",
       "44632         int64\n",
       "45007         int64\n",
       "45066         int64\n",
       "47209         int64\n",
       "47626         int64\n",
       "47766         int64\n",
       "49235         int64\n",
       "49683         int64\n",
       "dtype: object"
      ]
     },
     "execution_count": 6,
     "metadata": {},
     "output_type": "execute_result"
    }
   ],
   "source": [
    "y_dev.dtypes"
   ]
  },
  {
   "cell_type": "code",
   "execution_count": 7,
   "metadata": {},
   "outputs": [
    {
     "data": {
      "text/html": [
       "<div>\n",
       "<style scoped>\n",
       "    .dataframe tbody tr th:only-of-type {\n",
       "        vertical-align: middle;\n",
       "    }\n",
       "\n",
       "    .dataframe tbody tr th {\n",
       "        vertical-align: top;\n",
       "    }\n",
       "\n",
       "    .dataframe thead th {\n",
       "        text-align: right;\n",
       "    }\n",
       "</style>\n",
       "<table border=\"1\" class=\"dataframe\">\n",
       "  <thead>\n",
       "    <tr style=\"text-align: right;\">\n",
       "      <th></th>\n",
       "      <th>Unnamed: 0</th>\n",
       "      <th>4605</th>\n",
       "      <th>4920</th>\n",
       "      <th>5876</th>\n",
       "      <th>8277</th>\n",
       "      <th>13176</th>\n",
       "      <th>16797</th>\n",
       "      <th>19057</th>\n",
       "      <th>21137</th>\n",
       "      <th>21616</th>\n",
       "      <th>...</th>\n",
       "      <th>40706</th>\n",
       "      <th>42265</th>\n",
       "      <th>44632</th>\n",
       "      <th>45007</th>\n",
       "      <th>45066</th>\n",
       "      <th>47209</th>\n",
       "      <th>47626</th>\n",
       "      <th>47766</th>\n",
       "      <th>49235</th>\n",
       "      <th>49683</th>\n",
       "    </tr>\n",
       "  </thead>\n",
       "  <tbody>\n",
       "    <tr>\n",
       "      <th>count</th>\n",
       "      <td>4.025120e+05</td>\n",
       "      <td>402512.000000</td>\n",
       "      <td>402512.000000</td>\n",
       "      <td>402512.000000</td>\n",
       "      <td>402512.000000</td>\n",
       "      <td>402512.000000</td>\n",
       "      <td>402512.000000</td>\n",
       "      <td>402512.000000</td>\n",
       "      <td>402512.000000</td>\n",
       "      <td>402512.000000</td>\n",
       "      <td>...</td>\n",
       "      <td>402512.000000</td>\n",
       "      <td>402512.000000</td>\n",
       "      <td>402512.000000</td>\n",
       "      <td>402512.000000</td>\n",
       "      <td>402512.000000</td>\n",
       "      <td>402512.000000</td>\n",
       "      <td>402512.000000</td>\n",
       "      <td>402512.000000</td>\n",
       "      <td>402512.000000</td>\n",
       "      <td>402512.000000</td>\n",
       "    </tr>\n",
       "    <tr>\n",
       "      <th>mean</th>\n",
       "      <td>2.014323e+06</td>\n",
       "      <td>0.017540</td>\n",
       "      <td>0.020558</td>\n",
       "      <td>0.021252</td>\n",
       "      <td>0.020548</td>\n",
       "      <td>0.092854</td>\n",
       "      <td>0.035311</td>\n",
       "      <td>0.018375</td>\n",
       "      <td>0.064497</td>\n",
       "      <td>0.017562</td>\n",
       "      <td>...</td>\n",
       "      <td>0.020491</td>\n",
       "      <td>0.019155</td>\n",
       "      <td>0.018372</td>\n",
       "      <td>0.026091</td>\n",
       "      <td>0.019642</td>\n",
       "      <td>0.051839</td>\n",
       "      <td>0.038133</td>\n",
       "      <td>0.041671</td>\n",
       "      <td>0.018921</td>\n",
       "      <td>0.023410</td>\n",
       "    </tr>\n",
       "    <tr>\n",
       "      <th>std</th>\n",
       "      <td>1.162091e+06</td>\n",
       "      <td>0.131272</td>\n",
       "      <td>0.141901</td>\n",
       "      <td>0.144222</td>\n",
       "      <td>0.141867</td>\n",
       "      <td>0.290229</td>\n",
       "      <td>0.184564</td>\n",
       "      <td>0.134302</td>\n",
       "      <td>0.245637</td>\n",
       "      <td>0.131354</td>\n",
       "      <td>...</td>\n",
       "      <td>0.141674</td>\n",
       "      <td>0.137069</td>\n",
       "      <td>0.134293</td>\n",
       "      <td>0.159407</td>\n",
       "      <td>0.138766</td>\n",
       "      <td>0.221703</td>\n",
       "      <td>0.191518</td>\n",
       "      <td>0.199836</td>\n",
       "      <td>0.136247</td>\n",
       "      <td>0.151203</td>\n",
       "    </tr>\n",
       "    <tr>\n",
       "      <th>min</th>\n",
       "      <td>6.500000e+01</td>\n",
       "      <td>0.000000</td>\n",
       "      <td>0.000000</td>\n",
       "      <td>0.000000</td>\n",
       "      <td>0.000000</td>\n",
       "      <td>0.000000</td>\n",
       "      <td>0.000000</td>\n",
       "      <td>0.000000</td>\n",
       "      <td>0.000000</td>\n",
       "      <td>0.000000</td>\n",
       "      <td>...</td>\n",
       "      <td>0.000000</td>\n",
       "      <td>0.000000</td>\n",
       "      <td>0.000000</td>\n",
       "      <td>0.000000</td>\n",
       "      <td>0.000000</td>\n",
       "      <td>0.000000</td>\n",
       "      <td>0.000000</td>\n",
       "      <td>0.000000</td>\n",
       "      <td>0.000000</td>\n",
       "      <td>0.000000</td>\n",
       "    </tr>\n",
       "    <tr>\n",
       "      <th>25%</th>\n",
       "      <td>1.008802e+06</td>\n",
       "      <td>0.000000</td>\n",
       "      <td>0.000000</td>\n",
       "      <td>0.000000</td>\n",
       "      <td>0.000000</td>\n",
       "      <td>0.000000</td>\n",
       "      <td>0.000000</td>\n",
       "      <td>0.000000</td>\n",
       "      <td>0.000000</td>\n",
       "      <td>0.000000</td>\n",
       "      <td>...</td>\n",
       "      <td>0.000000</td>\n",
       "      <td>0.000000</td>\n",
       "      <td>0.000000</td>\n",
       "      <td>0.000000</td>\n",
       "      <td>0.000000</td>\n",
       "      <td>0.000000</td>\n",
       "      <td>0.000000</td>\n",
       "      <td>0.000000</td>\n",
       "      <td>0.000000</td>\n",
       "      <td>0.000000</td>\n",
       "    </tr>\n",
       "    <tr>\n",
       "      <th>50%</th>\n",
       "      <td>2.012601e+06</td>\n",
       "      <td>0.000000</td>\n",
       "      <td>0.000000</td>\n",
       "      <td>0.000000</td>\n",
       "      <td>0.000000</td>\n",
       "      <td>0.000000</td>\n",
       "      <td>0.000000</td>\n",
       "      <td>0.000000</td>\n",
       "      <td>0.000000</td>\n",
       "      <td>0.000000</td>\n",
       "      <td>...</td>\n",
       "      <td>0.000000</td>\n",
       "      <td>0.000000</td>\n",
       "      <td>0.000000</td>\n",
       "      <td>0.000000</td>\n",
       "      <td>0.000000</td>\n",
       "      <td>0.000000</td>\n",
       "      <td>0.000000</td>\n",
       "      <td>0.000000</td>\n",
       "      <td>0.000000</td>\n",
       "      <td>0.000000</td>\n",
       "    </tr>\n",
       "    <tr>\n",
       "      <th>75%</th>\n",
       "      <td>3.021697e+06</td>\n",
       "      <td>0.000000</td>\n",
       "      <td>0.000000</td>\n",
       "      <td>0.000000</td>\n",
       "      <td>0.000000</td>\n",
       "      <td>0.000000</td>\n",
       "      <td>0.000000</td>\n",
       "      <td>0.000000</td>\n",
       "      <td>0.000000</td>\n",
       "      <td>0.000000</td>\n",
       "      <td>...</td>\n",
       "      <td>0.000000</td>\n",
       "      <td>0.000000</td>\n",
       "      <td>0.000000</td>\n",
       "      <td>0.000000</td>\n",
       "      <td>0.000000</td>\n",
       "      <td>0.000000</td>\n",
       "      <td>0.000000</td>\n",
       "      <td>0.000000</td>\n",
       "      <td>0.000000</td>\n",
       "      <td>0.000000</td>\n",
       "    </tr>\n",
       "    <tr>\n",
       "      <th>max</th>\n",
       "      <td>4.025104e+06</td>\n",
       "      <td>1.000000</td>\n",
       "      <td>1.000000</td>\n",
       "      <td>1.000000</td>\n",
       "      <td>1.000000</td>\n",
       "      <td>1.000000</td>\n",
       "      <td>1.000000</td>\n",
       "      <td>1.000000</td>\n",
       "      <td>1.000000</td>\n",
       "      <td>1.000000</td>\n",
       "      <td>...</td>\n",
       "      <td>1.000000</td>\n",
       "      <td>1.000000</td>\n",
       "      <td>1.000000</td>\n",
       "      <td>1.000000</td>\n",
       "      <td>1.000000</td>\n",
       "      <td>1.000000</td>\n",
       "      <td>1.000000</td>\n",
       "      <td>1.000000</td>\n",
       "      <td>1.000000</td>\n",
       "      <td>1.000000</td>\n",
       "    </tr>\n",
       "  </tbody>\n",
       "</table>\n",
       "<p>8 rows × 31 columns</p>\n",
       "</div>"
      ],
      "text/plain": [
       "         Unnamed: 0           4605           4920           5876  \\\n",
       "count  4.025120e+05  402512.000000  402512.000000  402512.000000   \n",
       "mean   2.014323e+06       0.017540       0.020558       0.021252   \n",
       "std    1.162091e+06       0.131272       0.141901       0.144222   \n",
       "min    6.500000e+01       0.000000       0.000000       0.000000   \n",
       "25%    1.008802e+06       0.000000       0.000000       0.000000   \n",
       "50%    2.012601e+06       0.000000       0.000000       0.000000   \n",
       "75%    3.021697e+06       0.000000       0.000000       0.000000   \n",
       "max    4.025104e+06       1.000000       1.000000       1.000000   \n",
       "\n",
       "                8277          13176          16797          19057  \\\n",
       "count  402512.000000  402512.000000  402512.000000  402512.000000   \n",
       "mean        0.020548       0.092854       0.035311       0.018375   \n",
       "std         0.141867       0.290229       0.184564       0.134302   \n",
       "min         0.000000       0.000000       0.000000       0.000000   \n",
       "25%         0.000000       0.000000       0.000000       0.000000   \n",
       "50%         0.000000       0.000000       0.000000       0.000000   \n",
       "75%         0.000000       0.000000       0.000000       0.000000   \n",
       "max         1.000000       1.000000       1.000000       1.000000   \n",
       "\n",
       "               21137          21616      ...                40706  \\\n",
       "count  402512.000000  402512.000000      ...        402512.000000   \n",
       "mean        0.064497       0.017562      ...             0.020491   \n",
       "std         0.245637       0.131354      ...             0.141674   \n",
       "min         0.000000       0.000000      ...             0.000000   \n",
       "25%         0.000000       0.000000      ...             0.000000   \n",
       "50%         0.000000       0.000000      ...             0.000000   \n",
       "75%         0.000000       0.000000      ...             0.000000   \n",
       "max         1.000000       1.000000      ...             1.000000   \n",
       "\n",
       "               42265          44632          45007          45066  \\\n",
       "count  402512.000000  402512.000000  402512.000000  402512.000000   \n",
       "mean        0.019155       0.018372       0.026091       0.019642   \n",
       "std         0.137069       0.134293       0.159407       0.138766   \n",
       "min         0.000000       0.000000       0.000000       0.000000   \n",
       "25%         0.000000       0.000000       0.000000       0.000000   \n",
       "50%         0.000000       0.000000       0.000000       0.000000   \n",
       "75%         0.000000       0.000000       0.000000       0.000000   \n",
       "max         1.000000       1.000000       1.000000       1.000000   \n",
       "\n",
       "               47209          47626          47766          49235  \\\n",
       "count  402512.000000  402512.000000  402512.000000  402512.000000   \n",
       "mean        0.051839       0.038133       0.041671       0.018921   \n",
       "std         0.221703       0.191518       0.199836       0.136247   \n",
       "min         0.000000       0.000000       0.000000       0.000000   \n",
       "25%         0.000000       0.000000       0.000000       0.000000   \n",
       "50%         0.000000       0.000000       0.000000       0.000000   \n",
       "75%         0.000000       0.000000       0.000000       0.000000   \n",
       "max         1.000000       1.000000       1.000000       1.000000   \n",
       "\n",
       "               49683  \n",
       "count  402512.000000  \n",
       "mean        0.023410  \n",
       "std         0.151203  \n",
       "min         0.000000  \n",
       "25%         0.000000  \n",
       "50%         0.000000  \n",
       "75%         0.000000  \n",
       "max         1.000000  \n",
       "\n",
       "[8 rows x 31 columns]"
      ]
     },
     "execution_count": 7,
     "metadata": {},
     "output_type": "execute_result"
    }
   ],
   "source": [
    "y_dev.describe()"
   ]
  },
  {
   "cell_type": "code",
   "execution_count": 16,
   "metadata": {},
   "outputs": [
    {
     "data": {
      "text/plain": [
       "Unnamed: 0    810789345757\n",
       "4605                  7060\n",
       "4920                  8275\n",
       "5876                  8554\n",
       "8277                  8271\n",
       "13176                37375\n",
       "16797                14213\n",
       "19057                 7396\n",
       "21137                25961\n",
       "21616                 7069\n",
       "21903                23754\n",
       "22935                11316\n",
       "24852                46049\n",
       "24964                10615\n",
       "26209                13719\n",
       "27845                13604\n",
       "27966                13616\n",
       "28204                 8756\n",
       "30391                 8048\n",
       "37646                 7210\n",
       "39275                 9863\n",
       "40706                 8248\n",
       "42265                 7710\n",
       "44632                 7395\n",
       "45007                10502\n",
       "45066                 7906\n",
       "47209                20866\n",
       "47626                15349\n",
       "47766                16773\n",
       "49235                 7616\n",
       "49683                 9423\n",
       "dtype: int64"
      ]
     },
     "execution_count": 16,
     "metadata": {},
     "output_type": "execute_result"
    }
   ],
   "source": [
    "rowSums = y_dev.sum(axis=0)\n",
    "rowSums"
   ]
  },
  {
   "cell_type": "code",
   "execution_count": 6,
   "metadata": {},
   "outputs": [],
   "source": [
    "X_dev['IsOrganic'] = X_dev['IsOrganic'].astype('int')"
   ]
  },
  {
   "cell_type": "code",
   "execution_count": 7,
   "metadata": {},
   "outputs": [],
   "source": [
    "X_dev['order_HourGroup'] =X_dev['order_HourGroup'].astype('category')\n"
   ]
  },
  {
   "cell_type": "code",
   "execution_count": 8,
   "metadata": {},
   "outputs": [],
   "source": [
    "def one_hot_encoding(data,var,drop=True):\n",
    "    #res = []\n",
    "    #nm = data[var].name\n",
    "    nn = data[var].unique()\n",
    "    for i in nn:\n",
    "        s = '%s_%s' % (var,i)\n",
    "        data[s] = 0\n",
    "        data.loc[data[var]==i,s] = 1\n",
    "        #res.append(newx)\n",
    "    if(drop==True):\n",
    "        data = data.drop(var,axis=1)\n",
    "    return(data)"
   ]
  },
  {
   "cell_type": "code",
   "execution_count": 9,
   "metadata": {},
   "outputs": [],
   "source": [
    "#X_train = one_hot_encoding(X_train,'order_HourGroup')\n",
    "\n",
    "X_dev = one_hot_encoding(X_dev,'order_HourGroup')\n",
    "#X_dev = one_hot_encoding(X_dev,'season')\n",
    "#X_dev = one_hot_encoding(X_dev,'night')\n",
    "\n",
    "\n",
    "#X_test = one_hot_encoding(X_test,'order_HourGroup')\n",
    "#X_test = one_hot_encoding(X_test,'season')\n",
    "#X_test = one_hot_encoding(X_test,'night')\n",
    "\n",
    "#y_train=one_hot_encoding(y_train,'order_HourGroup')\n"
   ]
  },
  {
   "cell_type": "code",
   "execution_count": 10,
   "metadata": {
    "scrolled": true
   },
   "outputs": [
    {
     "data": {
      "text/html": [
       "<div>\n",
       "<style scoped>\n",
       "    .dataframe tbody tr th:only-of-type {\n",
       "        vertical-align: middle;\n",
       "    }\n",
       "\n",
       "    .dataframe tbody tr th {\n",
       "        vertical-align: top;\n",
       "    }\n",
       "\n",
       "    .dataframe thead th {\n",
       "        text-align: right;\n",
       "    }\n",
       "</style>\n",
       "<table border=\"1\" class=\"dataframe\">\n",
       "  <thead>\n",
       "    <tr style=\"text-align: right;\">\n",
       "      <th></th>\n",
       "      <th>Unnamed: 0</th>\n",
       "      <th>reordered</th>\n",
       "      <th>product_popularity_cnt</th>\n",
       "      <th>department_popularity_cnt</th>\n",
       "      <th>IsOrganic</th>\n",
       "      <th>days_previous_Group</th>\n",
       "      <th>Percentage_amount_product</th>\n",
       "      <th>order_HourGroup_18-24</th>\n",
       "      <th>order_HourGroup_06-12</th>\n",
       "      <th>order_HourGroup_00-06</th>\n",
       "      <th>order_HourGroup_12-18</th>\n",
       "    </tr>\n",
       "  </thead>\n",
       "  <tbody>\n",
       "    <tr>\n",
       "      <th>0</th>\n",
       "      <td>1612274</td>\n",
       "      <td>1</td>\n",
       "      <td>0.024617</td>\n",
       "      <td>0.929434</td>\n",
       "      <td>1</td>\n",
       "      <td>1</td>\n",
       "      <td>0.0625</td>\n",
       "      <td>1</td>\n",
       "      <td>0</td>\n",
       "      <td>0</td>\n",
       "      <td>0</td>\n",
       "    </tr>\n",
       "    <tr>\n",
       "      <th>1</th>\n",
       "      <td>404649</td>\n",
       "      <td>1</td>\n",
       "      <td>0.020455</td>\n",
       "      <td>0.929434</td>\n",
       "      <td>1</td>\n",
       "      <td>1</td>\n",
       "      <td>0.1875</td>\n",
       "      <td>0</td>\n",
       "      <td>1</td>\n",
       "      <td>0</td>\n",
       "      <td>0</td>\n",
       "    </tr>\n",
       "    <tr>\n",
       "      <th>2</th>\n",
       "      <td>2553704</td>\n",
       "      <td>1</td>\n",
       "      <td>0.115153</td>\n",
       "      <td>0.929434</td>\n",
       "      <td>0</td>\n",
       "      <td>2</td>\n",
       "      <td>0.2500</td>\n",
       "      <td>0</td>\n",
       "      <td>0</td>\n",
       "      <td>1</td>\n",
       "      <td>0</td>\n",
       "    </tr>\n",
       "    <tr>\n",
       "      <th>3</th>\n",
       "      <td>2288426</td>\n",
       "      <td>1</td>\n",
       "      <td>0.115153</td>\n",
       "      <td>0.929434</td>\n",
       "      <td>0</td>\n",
       "      <td>4</td>\n",
       "      <td>0.0625</td>\n",
       "      <td>0</td>\n",
       "      <td>0</td>\n",
       "      <td>0</td>\n",
       "      <td>1</td>\n",
       "    </tr>\n",
       "    <tr>\n",
       "      <th>4</th>\n",
       "      <td>3099956</td>\n",
       "      <td>1</td>\n",
       "      <td>0.064592</td>\n",
       "      <td>0.929434</td>\n",
       "      <td>1</td>\n",
       "      <td>4</td>\n",
       "      <td>0.0625</td>\n",
       "      <td>1</td>\n",
       "      <td>0</td>\n",
       "      <td>0</td>\n",
       "      <td>0</td>\n",
       "    </tr>\n",
       "  </tbody>\n",
       "</table>\n",
       "</div>"
      ],
      "text/plain": [
       "   Unnamed: 0  reordered  product_popularity_cnt  department_popularity_cnt  \\\n",
       "0     1612274          1                0.024617                   0.929434   \n",
       "1      404649          1                0.020455                   0.929434   \n",
       "2     2553704          1                0.115153                   0.929434   \n",
       "3     2288426          1                0.115153                   0.929434   \n",
       "4     3099956          1                0.064592                   0.929434   \n",
       "\n",
       "   IsOrganic  days_previous_Group  Percentage_amount_product  \\\n",
       "0          1                    1                     0.0625   \n",
       "1          1                    1                     0.1875   \n",
       "2          0                    2                     0.2500   \n",
       "3          0                    4                     0.0625   \n",
       "4          1                    4                     0.0625   \n",
       "\n",
       "   order_HourGroup_18-24  order_HourGroup_06-12  order_HourGroup_00-06  \\\n",
       "0                      1                      0                      0   \n",
       "1                      0                      1                      0   \n",
       "2                      0                      0                      1   \n",
       "3                      0                      0                      0   \n",
       "4                      1                      0                      0   \n",
       "\n",
       "   order_HourGroup_12-18  \n",
       "0                      0  \n",
       "1                      0  \n",
       "2                      0  \n",
       "3                      1  \n",
       "4                      0  "
      ]
     },
     "execution_count": 10,
     "metadata": {},
     "output_type": "execute_result"
    }
   ],
   "source": [
    "X_dev.head()"
   ]
  },
  {
   "cell_type": "markdown",
   "metadata": {},
   "source": [
    "##  Which models could be ran for multilable outcomes?\n",
    " \n",
    "Following the recommendations of sklearn (https://scikit-learn.org/stable/modules/multiclass.html) the following models accept multilabel outcomes:\n",
    " \n",
    "Support multilabel:\n",
    "- sklearn.linear_model.RidgeClassifierCV\n",
    "- sklearn.tree.DecisionTreeClassifier\n",
    "- sklearn.tree.ExtraTreeClassifier\n",
    "- sklearn.ensemble.ExtraTreesClassifier\n",
    "- sklearn.ensemble.RandomForestClassifier\n",
    "- sklearn.neighbors.KNeighborsClassifier\n",
    "- sklearn.neighbors.RadiusNeighborsClassifier\n",
    " \n",
    "Also, there is a technique called label powerset (in skmultilearn) that is able to take possible correlations between class labels into account."
   ]
  },
  {
   "cell_type": "code",
   "execution_count": 18,
   "metadata": {},
   "outputs": [
    {
     "name": "stdout",
     "output_type": "stream",
     "text": [
      "Collecting scikit-multilearn\n",
      "\u001b[?25l  Downloading https://files.pythonhosted.org/packages/bb/1f/e6ff649c72a1cdf2c7a1d31eb21705110ce1c5d3e7e26b2cc300e1637272/scikit_multilearn-0.2.0-py3-none-any.whl (89kB)\n",
      "\u001b[K    100% |████████████████████████████████| 92kB 673kB/s ta 0:00:011\n",
      "\u001b[?25hInstalling collected packages: scikit-multilearn\n",
      "Successfully installed scikit-multilearn-0.2.0\n",
      "\u001b[33mYou are using pip version 18.1, however version 19.0.3 is available.\n",
      "You should consider upgrading via the 'pip install --upgrade pip' command.\u001b[0m\n"
     ]
    }
   ],
   "source": [
    "#import sys\n",
    "#!{sys.executable} -m pip install scikit-multilearn"
   ]
  },
  {
   "cell_type": "code",
   "execution_count": 11,
   "metadata": {},
   "outputs": [],
   "source": [
    "# using Label Powerset\n",
    "from skmultilearn.problem_transform import LabelPowerset\n",
    "from sklearn.linear_model import LogisticRegression\n"
   ]
  },
  {
   "cell_type": "markdown",
   "metadata": {},
   "source": [
    "## THIS IS THE PART THAT YOU MISS... THE MULTILEVEL-Y HAS TO BE TRANSFORMED INTO A NUMPY ARRAY (WITHOUT THE PRODUCT CODE)..."
   ]
  },
  {
   "cell_type": "code",
   "execution_count": 12,
   "metadata": {},
   "outputs": [
    {
     "name": "stdout",
     "output_type": "stream",
     "text": [
      "(402512, 30)\n",
      "[[0 0 0 ... 0 0 0]\n",
      " [0 0 0 ... 0 0 0]\n",
      " [0 0 0 ... 0 0 0]\n",
      " ...\n",
      " [0 0 0 ... 0 0 0]\n",
      " [0 0 0 ... 0 0 0]\n",
      " [0 0 0 ... 0 0 0]]\n"
     ]
    }
   ],
   "source": [
    "y_dev.head()\n",
    "ydev = y_dev.copy()\n",
    "ydev = np.array(ydev)\n",
    "ydev = np.delete(ydev, 0, 1) \n",
    "print(ydev.shape)\n",
    "print(ydev)"
   ]
  },
  {
   "cell_type": "code",
   "execution_count": 36,
   "metadata": {},
   "outputs": [
    {
     "data": {
      "text/plain": [
       "numpy.ndarray"
      ]
     },
     "execution_count": 36,
     "metadata": {},
     "output_type": "execute_result"
    }
   ],
   "source": [
    "type(ydev)"
   ]
  },
  {
   "cell_type": "markdown",
   "metadata": {},
   "source": [
    "# Also, the first column of the X must be deleted for the model (you don't want to enter an id to the model!)"
   ]
  },
  {
   "cell_type": "code",
   "execution_count": 116,
   "metadata": {},
   "outputs": [
    {
     "data": {
      "text/html": [
       "<div>\n",
       "<style scoped>\n",
       "    .dataframe tbody tr th:only-of-type {\n",
       "        vertical-align: middle;\n",
       "    }\n",
       "\n",
       "    .dataframe tbody tr th {\n",
       "        vertical-align: top;\n",
       "    }\n",
       "\n",
       "    .dataframe thead th {\n",
       "        text-align: right;\n",
       "    }\n",
       "</style>\n",
       "<table border=\"1\" class=\"dataframe\">\n",
       "  <thead>\n",
       "    <tr style=\"text-align: right;\">\n",
       "      <th></th>\n",
       "      <th>Unnamed: 0</th>\n",
       "      <th>reordered</th>\n",
       "      <th>product_popularity_cnt</th>\n",
       "      <th>department_popularity_cnt</th>\n",
       "      <th>IsOrganic</th>\n",
       "      <th>days_previous_Group</th>\n",
       "      <th>Percentage_amount_product</th>\n",
       "      <th>order_HourGroup_18-24</th>\n",
       "      <th>order_HourGroup_06-12</th>\n",
       "      <th>order_HourGroup_00-06</th>\n",
       "      <th>order_HourGroup_12-18</th>\n",
       "    </tr>\n",
       "  </thead>\n",
       "  <tbody>\n",
       "    <tr>\n",
       "      <th>0</th>\n",
       "      <td>1612274</td>\n",
       "      <td>1</td>\n",
       "      <td>0.024617</td>\n",
       "      <td>0.929434</td>\n",
       "      <td>1</td>\n",
       "      <td>1</td>\n",
       "      <td>0.0625</td>\n",
       "      <td>1</td>\n",
       "      <td>0</td>\n",
       "      <td>0</td>\n",
       "      <td>0</td>\n",
       "    </tr>\n",
       "    <tr>\n",
       "      <th>1</th>\n",
       "      <td>404649</td>\n",
       "      <td>1</td>\n",
       "      <td>0.020455</td>\n",
       "      <td>0.929434</td>\n",
       "      <td>1</td>\n",
       "      <td>1</td>\n",
       "      <td>0.1875</td>\n",
       "      <td>0</td>\n",
       "      <td>1</td>\n",
       "      <td>0</td>\n",
       "      <td>0</td>\n",
       "    </tr>\n",
       "    <tr>\n",
       "      <th>2</th>\n",
       "      <td>2553704</td>\n",
       "      <td>1</td>\n",
       "      <td>0.115153</td>\n",
       "      <td>0.929434</td>\n",
       "      <td>0</td>\n",
       "      <td>2</td>\n",
       "      <td>0.2500</td>\n",
       "      <td>0</td>\n",
       "      <td>0</td>\n",
       "      <td>1</td>\n",
       "      <td>0</td>\n",
       "    </tr>\n",
       "    <tr>\n",
       "      <th>3</th>\n",
       "      <td>2288426</td>\n",
       "      <td>1</td>\n",
       "      <td>0.115153</td>\n",
       "      <td>0.929434</td>\n",
       "      <td>0</td>\n",
       "      <td>4</td>\n",
       "      <td>0.0625</td>\n",
       "      <td>0</td>\n",
       "      <td>0</td>\n",
       "      <td>0</td>\n",
       "      <td>1</td>\n",
       "    </tr>\n",
       "    <tr>\n",
       "      <th>4</th>\n",
       "      <td>3099956</td>\n",
       "      <td>1</td>\n",
       "      <td>0.064592</td>\n",
       "      <td>0.929434</td>\n",
       "      <td>1</td>\n",
       "      <td>4</td>\n",
       "      <td>0.0625</td>\n",
       "      <td>1</td>\n",
       "      <td>0</td>\n",
       "      <td>0</td>\n",
       "      <td>0</td>\n",
       "    </tr>\n",
       "  </tbody>\n",
       "</table>\n",
       "</div>"
      ],
      "text/plain": [
       "   Unnamed: 0  reordered  product_popularity_cnt  department_popularity_cnt  \\\n",
       "0     1612274          1                0.024617                   0.929434   \n",
       "1      404649          1                0.020455                   0.929434   \n",
       "2     2553704          1                0.115153                   0.929434   \n",
       "3     2288426          1                0.115153                   0.929434   \n",
       "4     3099956          1                0.064592                   0.929434   \n",
       "\n",
       "   IsOrganic  days_previous_Group  Percentage_amount_product  \\\n",
       "0          1                    1                     0.0625   \n",
       "1          1                    1                     0.1875   \n",
       "2          0                    2                     0.2500   \n",
       "3          0                    4                     0.0625   \n",
       "4          1                    4                     0.0625   \n",
       "\n",
       "   order_HourGroup_18-24  order_HourGroup_06-12  order_HourGroup_00-06  \\\n",
       "0                      1                      0                      0   \n",
       "1                      0                      1                      0   \n",
       "2                      0                      0                      1   \n",
       "3                      0                      0                      0   \n",
       "4                      1                      0                      0   \n",
       "\n",
       "   order_HourGroup_12-18  \n",
       "0                      0  \n",
       "1                      0  \n",
       "2                      0  \n",
       "3                      1  \n",
       "4                      0  "
      ]
     },
     "execution_count": 116,
     "metadata": {},
     "output_type": "execute_result"
    }
   ],
   "source": [
    "X_dev.head()"
   ]
  },
  {
   "cell_type": "code",
   "execution_count": 94,
   "metadata": {
    "scrolled": true
   },
   "outputs": [
    {
     "name": "stdout",
     "output_type": "stream",
     "text": [
      "(402512, 10)\n"
     ]
    },
    {
     "data": {
      "text/html": [
       "<div>\n",
       "<style scoped>\n",
       "    .dataframe tbody tr th:only-of-type {\n",
       "        vertical-align: middle;\n",
       "    }\n",
       "\n",
       "    .dataframe tbody tr th {\n",
       "        vertical-align: top;\n",
       "    }\n",
       "\n",
       "    .dataframe thead th {\n",
       "        text-align: right;\n",
       "    }\n",
       "</style>\n",
       "<table border=\"1\" class=\"dataframe\">\n",
       "  <thead>\n",
       "    <tr style=\"text-align: right;\">\n",
       "      <th></th>\n",
       "      <th>reordered</th>\n",
       "      <th>product_popularity_cnt</th>\n",
       "      <th>department_popularity_cnt</th>\n",
       "      <th>IsOrganic</th>\n",
       "      <th>days_previous_Group</th>\n",
       "      <th>Percentage_amount_product</th>\n",
       "      <th>order_HourGroup_18-24</th>\n",
       "      <th>order_HourGroup_06-12</th>\n",
       "      <th>order_HourGroup_00-06</th>\n",
       "      <th>order_HourGroup_12-18</th>\n",
       "    </tr>\n",
       "  </thead>\n",
       "  <tbody>\n",
       "    <tr>\n",
       "      <th>0</th>\n",
       "      <td>1</td>\n",
       "      <td>0.024617</td>\n",
       "      <td>0.929434</td>\n",
       "      <td>1</td>\n",
       "      <td>1</td>\n",
       "      <td>0.0625</td>\n",
       "      <td>1</td>\n",
       "      <td>0</td>\n",
       "      <td>0</td>\n",
       "      <td>0</td>\n",
       "    </tr>\n",
       "    <tr>\n",
       "      <th>1</th>\n",
       "      <td>1</td>\n",
       "      <td>0.020455</td>\n",
       "      <td>0.929434</td>\n",
       "      <td>1</td>\n",
       "      <td>1</td>\n",
       "      <td>0.1875</td>\n",
       "      <td>0</td>\n",
       "      <td>1</td>\n",
       "      <td>0</td>\n",
       "      <td>0</td>\n",
       "    </tr>\n",
       "    <tr>\n",
       "      <th>2</th>\n",
       "      <td>1</td>\n",
       "      <td>0.115153</td>\n",
       "      <td>0.929434</td>\n",
       "      <td>0</td>\n",
       "      <td>2</td>\n",
       "      <td>0.2500</td>\n",
       "      <td>0</td>\n",
       "      <td>0</td>\n",
       "      <td>1</td>\n",
       "      <td>0</td>\n",
       "    </tr>\n",
       "    <tr>\n",
       "      <th>3</th>\n",
       "      <td>1</td>\n",
       "      <td>0.115153</td>\n",
       "      <td>0.929434</td>\n",
       "      <td>0</td>\n",
       "      <td>4</td>\n",
       "      <td>0.0625</td>\n",
       "      <td>0</td>\n",
       "      <td>0</td>\n",
       "      <td>0</td>\n",
       "      <td>1</td>\n",
       "    </tr>\n",
       "    <tr>\n",
       "      <th>4</th>\n",
       "      <td>1</td>\n",
       "      <td>0.064592</td>\n",
       "      <td>0.929434</td>\n",
       "      <td>1</td>\n",
       "      <td>4</td>\n",
       "      <td>0.0625</td>\n",
       "      <td>1</td>\n",
       "      <td>0</td>\n",
       "      <td>0</td>\n",
       "      <td>0</td>\n",
       "    </tr>\n",
       "  </tbody>\n",
       "</table>\n",
       "</div>"
      ],
      "text/plain": [
       "   reordered  product_popularity_cnt  department_popularity_cnt  IsOrganic  \\\n",
       "0          1                0.024617                   0.929434          1   \n",
       "1          1                0.020455                   0.929434          1   \n",
       "2          1                0.115153                   0.929434          0   \n",
       "3          1                0.115153                   0.929434          0   \n",
       "4          1                0.064592                   0.929434          1   \n",
       "\n",
       "   days_previous_Group  Percentage_amount_product  order_HourGroup_18-24  \\\n",
       "0                    1                     0.0625                      1   \n",
       "1                    1                     0.1875                      0   \n",
       "2                    2                     0.2500                      0   \n",
       "3                    4                     0.0625                      0   \n",
       "4                    4                     0.0625                      1   \n",
       "\n",
       "   order_HourGroup_06-12  order_HourGroup_00-06  order_HourGroup_12-18  \n",
       "0                      0                      0                      0  \n",
       "1                      1                      0                      0  \n",
       "2                      0                      1                      0  \n",
       "3                      0                      0                      1  \n",
       "4                      0                      0                      0  "
      ]
     },
     "execution_count": 94,
     "metadata": {},
     "output_type": "execute_result"
    }
   ],
   "source": [
    "\n",
    "Xdev = X_dev.copy()\n",
    "Xdev = Xdev.drop(['Unnamed: 0'],axis=1)\n",
    "print(Xdev.shape)\n",
    "Xdev.head()"
   ]
  },
  {
   "cell_type": "markdown",
   "metadata": {},
   "source": [
    "# NOTE: ALL THE MODELS MUST BE ENVELOPED INTO THE FUNCTION \n",
    " \n",
    "# \"LabelPowerset()\" . \n",
    " \n",
    "### This function convert the model to a multi-label format. Without it, some models will fail to understand that you are working with a multilabel outcome!"
   ]
  },
  {
   "cell_type": "code",
   "execution_count": 95,
   "metadata": {},
   "outputs": [],
   "source": [
    "# initialize label powerset multi-label classifier\n",
    "classifier = LabelPowerset(LogisticRegression())\n"
   ]
  },
  {
   "cell_type": "code",
   "execution_count": 96,
   "metadata": {},
   "outputs": [
    {
     "name": "stderr",
     "output_type": "stream",
     "text": [
      "/home/karpati/anaconda3/lib/python3.5/site-packages/sklearn/linear_model/logistic.py:433: FutureWarning: Default solver will be changed to 'lbfgs' in 0.22. Specify a solver to silence this warning.\n",
      "  FutureWarning)\n",
      "/home/karpati/anaconda3/lib/python3.5/site-packages/sklearn/linear_model/logistic.py:460: FutureWarning: Default multi_class will be changed to 'auto' in 0.22. Specify the multi_class option to silence this warning.\n",
      "  \"this warning.\", FutureWarning)\n"
     ]
    },
    {
     "data": {
      "text/plain": [
       "LabelPowerset(classifier=LogisticRegression(C=1.0, class_weight=None, dual=False, fit_intercept=True,\n",
       "          intercept_scaling=1, max_iter=100, multi_class='warn',\n",
       "          n_jobs=None, penalty='l2', random_state=None, solver='warn',\n",
       "          tol=0.0001, verbose=0, warm_start=False),\n",
       "       require_dense=[True, True])"
      ]
     },
     "execution_count": 96,
     "metadata": {},
     "output_type": "execute_result"
    }
   ],
   "source": [
    "# train\n",
    "classifier.fit(Xdev, ydev)\n"
   ]
  },
  {
   "cell_type": "code",
   "execution_count": 97,
   "metadata": {},
   "outputs": [],
   "source": [
    "# predict\n",
    "predictions = classifier.predict(Xdev)"
   ]
  },
  {
   "cell_type": "code",
   "execution_count": 18,
   "metadata": {},
   "outputs": [],
   "source": [
    "#predictions"
   ]
  },
  {
   "cell_type": "code",
   "execution_count": 98,
   "metadata": {},
   "outputs": [
    {
     "data": {
      "text/plain": [
       "(402512, 30)"
      ]
     },
     "execution_count": 98,
     "metadata": {},
     "output_type": "execute_result"
    }
   ],
   "source": [
    "predictions.shape"
   ]
  },
  {
   "cell_type": "markdown",
   "metadata": {},
   "source": [
    "# NOTE: The output prediction is in a special format called \"lil_matrix\" (list of lists format). \n",
    " \n",
    "### This is a sparce matrix that enables the model to work faster. However, the format is not recognized by many of the model operators. We need to convert them back to an numpy array..."
   ]
  },
  {
   "cell_type": "code",
   "execution_count": 99,
   "metadata": {},
   "outputs": [
    {
     "data": {
      "text/plain": [
       "scipy.sparse.lil.lil_matrix"
      ]
     },
     "execution_count": 99,
     "metadata": {},
     "output_type": "execute_result"
    }
   ],
   "source": [
    "type(predictions)"
   ]
  },
  {
   "cell_type": "code",
   "execution_count": 101,
   "metadata": {},
   "outputs": [
    {
     "data": {
      "text/plain": [
       "array([[0, 0, 0, ..., 0, 0, 0],\n",
       "       [0, 0, 0, ..., 0, 0, 0],\n",
       "       [0, 0, 0, ..., 0, 0, 0],\n",
       "       ...,\n",
       "       [0, 0, 0, ..., 0, 0, 0],\n",
       "       [0, 0, 0, ..., 0, 0, 0],\n",
       "       [0, 0, 0, ..., 0, 0, 0]])"
      ]
     },
     "execution_count": 101,
     "metadata": {},
     "output_type": "execute_result"
    }
   ],
   "source": [
    "predictions2 = np.array(predictions.todense())\n",
    "predictions2"
   ]
  },
  {
   "cell_type": "markdown",
   "metadata": {},
   "source": [
    "# By summing the columns of the multilabel outcome and prediction we can get a sense of what is going on and how the model is behaving...."
   ]
  },
  {
   "cell_type": "code",
   "execution_count": 117,
   "metadata": {},
   "outputs": [
    {
     "name": "stdout",
     "output_type": "stream",
     "text": [
      "[ 7060  8275  8554  8271 37375 14213  7396 25961  7069 23754 11316 46049\n",
      " 10615 13719 13604 13616  8756  8048  7210  9863  8248  7710  7395 10502\n",
      "  7906 20866 15349 16773  7616  9423]\n",
      "(402512, 30)\n"
     ]
    }
   ],
   "source": [
    "print(np.sum(ydev,axis=0))\n",
    "print(ydev.shape)"
   ]
  },
  {
   "cell_type": "code",
   "execution_count": 118,
   "metadata": {},
   "outputs": [
    {
     "name": "stdout",
     "output_type": "stream",
     "text": [
      "[    5    77     0     0 39975 36854   230 53788     0 27525  1480 46049\n",
      " 11011 10729 17396 43419  8871   314     0 19489  1903   407  7395  1634\n",
      "     0 19128 27996 22729  3824   284]\n",
      "(402512, 30)\n"
     ]
    }
   ],
   "source": [
    "\n",
    "print(np.sum(predictions2,axis=0))\n",
    "print(predictions2.shape)"
   ]
  },
  {
   "cell_type": "markdown",
   "metadata": {},
   "source": [
    "# And we calculate the accuracy using the score() function and/or the hamming score (see at the begining of the notebook)."
   ]
  },
  {
   "cell_type": "code",
   "execution_count": 105,
   "metadata": {},
   "outputs": [
    {
     "data": {
      "text/plain": [
       "0.39048773701156736"
      ]
     },
     "execution_count": 105,
     "metadata": {},
     "output_type": "execute_result"
    }
   ],
   "source": [
    "classifier.score(Xdev,ydev)\n",
    "\n",
    "#import ml_metrics as metrics\n",
    "\n",
    "#metrics.auc(ydev,predictions.todense())\n",
    "#accur(ydev,predictions2)"
   ]
  },
  {
   "cell_type": "code",
   "execution_count": 106,
   "metadata": {},
   "outputs": [
    {
     "data": {
      "text/plain": [
       "0.39048773701156736"
      ]
     },
     "execution_count": 106,
     "metadata": {},
     "output_type": "execute_result"
    }
   ],
   "source": [
    "hamming_score(ydev, predictions2)"
   ]
  },
  {
   "cell_type": "code",
   "execution_count": 119,
   "metadata": {},
   "outputs": [
    {
     "data": {
      "text/plain": [
       "1.0"
      ]
     },
     "execution_count": 119,
     "metadata": {},
     "output_type": "execute_result"
    }
   ],
   "source": [
    "## If we have a perfect match then we will get one!\n",
    "hamming_score(ydev, ydev)"
   ]
  },
  {
   "cell_type": "markdown",
   "metadata": {},
   "source": [
    "# Ridge - Logistic Regression with L2 regularization"
   ]
  },
  {
   "cell_type": "code",
   "execution_count": 61,
   "metadata": {},
   "outputs": [],
   "source": [
    "from sklearn.linear_model import RidgeClassifier, RidgeClassifierCV\n",
    "# Initialize the predictive model object\n",
    "#mod_logistic = LogisticRegression()\n"
   ]
  },
  {
   "cell_type": "markdown",
   "metadata": {},
   "source": [
    "# Please see that we envelope the model with the LabelPowerset() function!"
   ]
  },
  {
   "cell_type": "code",
   "execution_count": 107,
   "metadata": {},
   "outputs": [
    {
     "data": {
      "text/plain": [
       "LabelPowerset(classifier=RidgeClassifierCV(alphas=array([ 0.1,  1. , 10. ]), class_weight=None,\n",
       "         cv=None, fit_intercept=True, normalize=False, scoring=None,\n",
       "         store_cv_values=False),\n",
       "       require_dense=[True, True])"
      ]
     },
     "execution_count": 107,
     "metadata": {},
     "output_type": "execute_result"
    }
   ],
   "source": [
    "# Train the model using the training sets\n",
    "#mod_logistic.fit(X_train, y_train)\n",
    "mod = LabelPowerset(RidgeClassifierCV())\n",
    "mod.fit(Xdev, ydev)"
   ]
  },
  {
   "cell_type": "code",
   "execution_count": 108,
   "metadata": {},
   "outputs": [],
   "source": [
    "# Make predictions using the testing set\n",
    "pred = mod.predict(Xdev)"
   ]
  },
  {
   "cell_type": "code",
   "execution_count": 109,
   "metadata": {},
   "outputs": [
    {
     "name": "stdout",
     "output_type": "stream",
     "text": [
      "<class 'scipy.sparse.lil.lil_matrix'>\n",
      "(402512, 30)\n"
     ]
    }
   ],
   "source": [
    "print(type(pred))\n",
    "print(pred.shape)"
   ]
  },
  {
   "cell_type": "code",
   "execution_count": 110,
   "metadata": {},
   "outputs": [],
   "source": [
    "pred2 = np.array(pred.todense())"
   ]
  },
  {
   "cell_type": "code",
   "execution_count": 111,
   "metadata": {},
   "outputs": [
    {
     "name": "stdout",
     "output_type": "stream",
     "text": [
      "[     0      0      0      0 133373  11609      0  26672      0  34269\n",
      "      0  89350      0      0  28615    437      0      0      0    432\n",
      "      0      0      0      0      0  49718  21055   6982      0      0]\n",
      "(402512, 30)\n"
     ]
    }
   ],
   "source": [
    "#print(np.sum(pred2,axis=1))\n",
    "print(np.sum(pred2,axis=0))\n",
    "print(pred2.shape)"
   ]
  },
  {
   "cell_type": "code",
   "execution_count": 113,
   "metadata": {},
   "outputs": [
    {
     "data": {
      "text/plain": [
       "0.24100647930993363"
      ]
     },
     "execution_count": 113,
     "metadata": {},
     "output_type": "execute_result"
    }
   ],
   "source": [
    "mod.score(Xdev,ydev)"
   ]
  },
  {
   "cell_type": "code",
   "execution_count": null,
   "metadata": {},
   "outputs": [],
   "source": []
  }
 ],
 "metadata": {
  "kernelspec": {
   "display_name": "Python 3",
   "language": "python",
   "name": "python3"
  },
  "language_info": {
   "codemirror_mode": {
    "name": "ipython",
    "version": 3
   },
   "file_extension": ".py",
   "mimetype": "text/x-python",
   "name": "python",
   "nbconvert_exporter": "python",
   "pygments_lexer": "ipython3",
   "version": "3.5.4"
  }
 },
 "nbformat": 4,
 "nbformat_minor": 2
}
